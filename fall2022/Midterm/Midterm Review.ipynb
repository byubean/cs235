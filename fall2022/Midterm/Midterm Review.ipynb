{
 "cells": [
  {
   "cell_type": "markdown",
   "id": "b6b2d96c",
   "metadata": {
    "slideshow": {
     "slide_type": "slide"
    }
   },
   "source": [
    "# Midterm Review"
   ]
  },
  {
   "cell_type": "markdown",
   "id": "8f6b3f2f",
   "metadata": {
    "slideshow": {
     "slide_type": "slide"
    }
   },
   "source": [
    "## Midterm Rules\n",
    "- One 8.5x11 sheet of notes\n",
    "- No book, internet, consultant, etc.\n",
    "- Please close all other applications and tabs. Turn off your phone. \n",
    "- Take the midterm without interruption."
   ]
  },
  {
   "cell_type": "markdown",
   "id": "cd06e21e-88c9-402c-a333-8dcce7a3204b",
   "metadata": {
    "slideshow": {
     "slide_type": "slide"
    }
   },
   "source": [
    "## Record the lecture!"
   ]
  },
  {
   "cell_type": "markdown",
   "id": "4193e284-34ca-4889-bcce-5bff0afeab1a",
   "metadata": {
    "slideshow": {
     "slide_type": "slide"
    },
    "tags": []
   },
   "source": [
    "## ~Things you will want to review~ Review the class notes\n",
    "\n",
    "- Performance, behavior, and uses for:\n",
    "  - Queue\n",
    "  - Stack\n",
    "  - Priority Queue\n",
    "  - List vs vector vs deque\n",
    "  - Set / Unordered set\n",
    "  - Map / Unordered map\n",
    "  \n",
    "- Rules of recursion\n",
    "\n",
    "- Best, average, and worst performance for:\n",
    "  - Bubble sort\n",
    "  - Selection sort\n",
    "  - Insertion sort\n",
    "  - Merge sort\n",
    "  - Quick sort\n",
    "  \n",
    "- Algorithm implementation for:\n",
    "  - Insertion, merge, quick sorts\n",
    "  - Binary search\n",
    "\n",
    "- Big-O\n",
    "  - Nested loops\n",
    "  - `+` vs `*` in the loop step\n",
    "  "
   ]
  },
  {
   "cell_type": "markdown",
   "id": "e3b77b10-9326-44ac-97d5-4eab4f7a8774",
   "metadata": {
    "slideshow": {
     "slide_type": "slide"
    }
   },
   "source": [
    "## Binary Search"
   ]
  },
  {
   "cell_type": "code",
   "execution_count": 1,
   "id": "2cfd765f-6de5-4037-9aa1-888aebf7fb41",
   "metadata": {},
   "outputs": [],
   "source": [
    "#include <vector>\n",
    "#include <iostream>"
   ]
  },
  {
   "cell_type": "code",
   "execution_count": 2,
   "id": "5c3ab25b-4bce-410e-ba44-73c200cdb093",
   "metadata": {},
   "outputs": [],
   "source": [
    "using namespace std;"
   ]
  },
  {
   "cell_type": "code",
   "execution_count": 3,
   "id": "4a3afaec-2ca4-4809-80b0-32c419536a2b",
   "metadata": {},
   "outputs": [],
   "source": [
    "template<class T>\n",
    "int bsearch(T const& value, vector<T> const& list, int start, int end) {\n",
    "    cout << \"Searching for value \" << value << \" between positions \" << start << \" and \" << end << endl;\n",
    "    \n",
    "    if (end <= start) {\n",
    "        cout << \"Base case: end: \" << end << \" < start: \" << start << endl;\n",
    "        return -1;\n",
    "    }\n",
    "    \n",
    "    int middle = (start + end) / 2;\n",
    "    cout << \"Middle position is \" << middle << endl;\n",
    "    \n",
    "    if (list[middle] == value) {\n",
    "        cout << \"Found value \" << value << \" at position \" << middle << endl;\n",
    "        return middle;\n",
    "        \n",
    "    } else if (value < list[middle]) {\n",
    "        cout << value << \" is less than middle value of \" << list[middle] << \". Recurse on smaller half.\" << endl;\n",
    "        return bsearch(value, list, start, middle);\n",
    "        \n",
    "    } else {\n",
    "        cout << value << \" is greater than middle value of \" << list[middle] << \". Recurse on larger half.\" << endl;\n",
    "        return bsearch(value, list, middle+1, end);\n",
    "    }\n",
    "    cout << endl;\n",
    "}"
   ]
  },
  {
   "cell_type": "code",
   "execution_count": 4,
   "id": "21556548-9227-4b3f-8bed-6017e657a199",
   "metadata": {
    "slideshow": {
     "slide_type": "slide"
    }
   },
   "outputs": [],
   "source": [
    "vector<int> numbers = {1, 2, 3, 4, 5, 6, 7, 8, 9};"
   ]
  },
  {
   "cell_type": "code",
   "execution_count": 5,
   "id": "0f4c6afa-3747-4378-8acd-84494bca5eae",
   "metadata": {},
   "outputs": [
    {
     "name": "stdout",
     "output_type": "stream",
     "text": [
      "Searching for value 5 between positions 0 and 9\n",
      "Middle position is 4\n",
      "Found value 5 at position 4\n"
     ]
    },
    {
     "data": {
      "text/plain": [
       "5"
      ]
     },
     "execution_count": 5,
     "metadata": {},
     "output_type": "execute_result"
    }
   ],
   "source": [
    "int pos = bsearch(5, numbers, 0, numbers.size());\n",
    "numbers[pos]"
   ]
  },
  {
   "cell_type": "code",
   "execution_count": 6,
   "id": "f39bfe43-21b5-4e5f-8539-1489631c9115",
   "metadata": {},
   "outputs": [
    {
     "name": "stdout",
     "output_type": "stream",
     "text": [
      "Searching for value 2 between positions 0 and 9\n",
      "Middle position is 4\n",
      "2 is less than middle value of 5. Recurse on smaller half.\n",
      "Searching for value 2 between positions 0 and 4\n",
      "Middle position is 2\n",
      "2 is less than middle value of 3. Recurse on smaller half.\n",
      "Searching for value 2 between positions 0 and 2\n",
      "Middle position is 1\n",
      "Found value 2 at position 1\n"
     ]
    },
    {
     "data": {
      "text/plain": [
       "2"
      ]
     },
     "execution_count": 6,
     "metadata": {},
     "output_type": "execute_result"
    }
   ],
   "source": [
    "int pos = bsearch(2, numbers, 0, numbers.size());\n",
    "numbers[pos]"
   ]
  },
  {
   "cell_type": "code",
   "execution_count": 7,
   "id": "31012312-bb5f-452e-9fe2-1225003a5e21",
   "metadata": {},
   "outputs": [
    {
     "name": "stdout",
     "output_type": "stream",
     "text": [
      "Searching for value 4 between positions 0 and 9\n",
      "Middle position is 4\n",
      "4 is less than middle value of 5. Recurse on smaller half.\n",
      "Searching for value 4 between positions 0 and 4\n",
      "Middle position is 2\n",
      "4 is greater than middle value of 3. Recurse on larger half.\n",
      "Searching for value 4 between positions 3 and 4\n",
      "Middle position is 3\n",
      "Found value 4 at position 3\n"
     ]
    },
    {
     "data": {
      "text/plain": [
       "4"
      ]
     },
     "execution_count": 7,
     "metadata": {},
     "output_type": "execute_result"
    }
   ],
   "source": [
    "int pos = bsearch(4, numbers, 0, numbers.size());\n",
    "numbers[pos]"
   ]
  },
  {
   "cell_type": "code",
   "execution_count": 8,
   "id": "6bd8b3d7-ae38-44aa-86f2-6c40c379e000",
   "metadata": {},
   "outputs": [
    {
     "name": "stdout",
     "output_type": "stream",
     "text": [
      "Searching for value 50 between positions 0 and 9\n",
      "Middle position is 4\n",
      "50 is greater than middle value of 5. Recurse on larger half.\n",
      "Searching for value 50 between positions 5 and 9\n",
      "Middle position is 7\n",
      "50 is greater than middle value of 8. Recurse on larger half.\n",
      "Searching for value 50 between positions 8 and 9\n",
      "Middle position is 8\n",
      "50 is greater than middle value of 9. Recurse on larger half.\n",
      "Searching for value 50 between positions 9 and 9\n",
      "Base case: end: 9 < start: 9\n"
     ]
    },
    {
     "data": {
      "text/plain": [
       "-1"
      ]
     },
     "execution_count": 8,
     "metadata": {},
     "output_type": "execute_result"
    }
   ],
   "source": [
    "int pos = bsearch(50, numbers, 0, numbers.size());\n",
    "pos"
   ]
  },
  {
   "cell_type": "markdown",
   "id": "d867f273-6291-42ad-b727-790f48e25c51",
   "metadata": {
    "slideshow": {
     "slide_type": "slide"
    }
   },
   "source": [
    "## Quicksort"
   ]
  },
  {
   "cell_type": "markdown",
   "id": "dfe0e359-0f4e-4184-bcc4-352eac1da673",
   "metadata": {},
   "source": [
    "- Pick a pivot\n",
    "  - Median-of-three\n",
    "- Swap large values on the left with small values on the right\n",
    "  - Now all large values are on the right and all small values are on the left\n",
    "- Sort the small values\n",
    "- Sort the large values\n",
    "- Done!\n"
   ]
  },
  {
   "cell_type": "markdown",
   "id": "ae91da40-5473-469b-95ad-7a63388121c3",
   "metadata": {
    "slideshow": {
     "slide_type": "slide"
    }
   },
   "source": [
    "### Quicksort Recursion\n",
    "- What is the base case?\n",
    "  - Size of list is 1\n",
    "- Do we progress towards the base case?\n",
    "  - Yes, each time the size of the list gets smaller\n",
    "- Is the induction correct?\n",
    "  - At each iteration, the pivot gets put in its final place\n",
    "  - If the smaller values get sorted correctly and the larger values get sorted correctly, then the full list will be sorted\n",
    "  - After putting the pivot in place, we sort the smaller and larger values ✅"
   ]
  },
  {
   "cell_type": "markdown",
   "id": "3379909a-8fe5-4297-ad6c-9807b82b4ac9",
   "metadata": {
    "slideshow": {
     "slide_type": "slide"
    }
   },
   "source": [
    "### Partition Algorithm\n",
    "\n",
    "Notes: \n",
    "- `first` will be the index of the beginning of the partition.\n",
    "- `last` will be the index just outside the end of the partition.\n",
    "  - For example, for the very first iteration in the algorithm, `last` will be `table.size()`\n",
    "- `middle` will be `(first + last) / 2`\n",
    "\n",
    "0. Sort `table[first]`, `table[middle]`, and `table[last-1]`\n",
    "  0. `middle` = `(first + last) / 2`\n",
    "  1. Use bubblesort, or similar\n",
    "  2. Return `middle` (this becomes the pivot index)\n",
    "1. Swap `table[pivot]` with `table[first]`\n",
    "2. Initialize `up = first` and `down = last-1`\n",
    "3. While `up < down`:\n",
    "  1. Increment `up` until `table[up] > table[pivot]` or `up == last-1`\n",
    "  2. Decrement `down` until `table[down] <= table[pivot]` or `down == first`\n",
    "  3. If `up < down`\n",
    "    1. Swap `table[up]` and `table[down]`\n",
    "4. Swap `table[first]` and `table[down]`\n",
    "5. Return `down`"
   ]
  },
  {
   "cell_type": "markdown",
   "id": "df601855-7476-480b-8c2c-17776fe178be",
   "metadata": {
    "slideshow": {
     "slide_type": "slide"
    }
   },
   "source": [
    "```\n",
    "4 3 9 8 6 7 0 1 2 5\n",
    "```\n",
    "\n",
    "### Median-of-three\n",
    "\n",
    "Sort `front`, `middle`, and `last-1`\n",
    "\n",
    "```\n",
    "F = 0, last = 10, middle = 5\n",
    "\n",
    "4 3 9 8 6 7 0 1 2 5\n",
    "F         M         L\n",
    "\n",
    "4 3 9 8 6 5 0 1 2 7\n",
    "F         M         L\n",
    "```\n",
    "\n",
    "### Partition\n",
    "```\n",
    "pivot = 5 (came from median-of-three)\n",
    "up = 0 (first)\n",
    "down = 9 (last - 1)\n",
    "\n",
    "4 3 9 8 6 5 0 1 2 7\n",
    "F         p         L\n",
    "```\n",
    "\n",
    "#### swap pivot to front\n",
    "```\n",
    "5 3 9 8 6 4 0 1 2 7\n",
    "F         p         L\n",
    "```\n",
    "\n",
    "#### Now iterate!\n",
    "```\n",
    "5 3 9 8 6 4 0 1 2 7\n",
    "....u           d..\n",
    "\n",
    "5 3 2 8 6 4 0 1 9 7\n",
    "    u           d\n",
    "\n",
    "\n",
    "5 3 2 8 6 4 0 1 9 7\n",
    "    ..u       d..\n",
    "\n",
    "5 3 2 1 6 4 0 8 9 7\n",
    "      u       d  \n",
    "\n",
    "5 3 2 1 6 4 0 8 9 7\n",
    "      ..u   d..  \n",
    "\n",
    "5 3 2 1 0 4 6 8 9 7\n",
    "        u   d    \n",
    "\n",
    "5 3 2 1 0 4 6 8 9 7\n",
    "        ....u    \n",
    "          d..\n",
    "```\n",
    "`down` is less than `up`!\n",
    "\n",
    "#### Swap value at `front` with value at `down`\n",
    "```\n",
    "5 3 2 1 0 4 6 8 9 7\n",
    "F         d u    \n",
    "\n",
    "4 3 2 1 0 5 6 8 9 7\n",
    "F         d u    \n",
    "\n",
    "```\n",
    "\n",
    "#### Return `down`\n",
    "`down` was `5`"
   ]
  },
  {
   "cell_type": "markdown",
   "id": "3a5a163e-2297-4b74-8108-9f6f722b4721",
   "metadata": {
    "slideshow": {
     "slide_type": "slide"
    }
   },
   "source": [
    "## Recurse on lower half\n",
    "\n",
    "```\n",
    "Front = 0\n",
    "Last = 5 (pivot from last time)\n",
    "Middle = (0 + 5) / 2 = 2\n",
    "```\n",
    "\n",
    "### Median-of-three\n",
    "\n",
    "Sort `front`, `middle`, and `last-1` (NOT `last`)\n",
    "\n",
    "```\n",
    "4 3 2 1 0 5 6 8 9 7\n",
    "F   M     L      \n",
    "\n",
    "0 3 2 1 4 5 6 8 9 7\n",
    "F   M     L      \n",
    "```\n",
    "\n",
    "\n",
    "### Swap pivot with front\n",
    "```\n",
    "0 3 2 1 4 5 6 8 9 7\n",
    "F   p\n",
    "\n",
    "2 3 0 1 4 5 6 8 9 7\n",
    "F   p\n",
    "\n",
    "```\n",
    "\n",
    "### Iterate!\n",
    "\n",
    "```\n",
    "pivot = 2 (came from median-of-three, this refers to the index, not the value)\n",
    "up = 0 (first)\n",
    "down = 4 (last - 1; the index, not the value)\n",
    "\n",
    "2 3 0 1 4 5 6 8 9 7\n",
    "u       d\n",
    "\n",
    "2 3 0 1 4 5 6 8 9 7\n",
    "..u   d..\n",
    "\n",
    "2 1 0 3 4 5 6 8 9 7\n",
    "  u   d  \n",
    "\n",
    "2 1 0 3 4 5 6 8 9 7\n",
    "  ....u  \n",
    "    d..\n",
    "```\n",
    "\n",
    "`down < up`!\n",
    "\n",
    "### Swap pivot back from `front` position to `down`\n",
    "\n",
    "```\n",
    "2 1 0 3 4 5 6 8 9 7\n",
    "F   d u  \n",
    "\n",
    "0 1 2 3 4 5 6 8 9 7\n",
    "F   d u  \n",
    "```\n",
    "\n",
    "### Return `down`\n",
    "`down` is `2`"
   ]
  },
  {
   "cell_type": "markdown",
   "id": "c6d28a1b-c600-4060-8ae6-a08154d7b81a",
   "metadata": {
    "slideshow": {
     "slide_type": "slide"
    }
   },
   "source": [
    "## Mergesort"
   ]
  },
  {
   "cell_type": "markdown",
   "id": "fc6cb1d7-26dd-4a6f-b5aa-004e08db3c4b",
   "metadata": {},
   "source": [
    "```\n",
    "if the size of the List is at least 2    \n",
    "  split the List into the left half and the right half\n",
    "  recursively sort left\n",
    "  recursively sort right\n",
    "  merge left and right into one List\n",
    "end if\n",
    "```"
   ]
  },
  {
   "cell_type": "markdown",
   "id": "01cfb8a8-bade-420a-992b-74597e0be705",
   "metadata": {
    "slideshow": {
     "slide_type": "slide"
    }
   },
   "source": [
    "### Mergesort Recursion\n",
    "- What is the base case?\n",
    "  - Size of list is 1\n",
    "- Do we progress towards the base case?\n",
    "  - Yes, at each call we pass in half the list\n",
    "- Is the induction correct?\n",
    "  - Given the two smaller, **sorted** lists, I correctly merge them into a larger sorted list ✅"
   ]
  },
  {
   "cell_type": "markdown",
   "id": "0f3625d9-fa64-4fef-83cc-e1c8405fa857",
   "metadata": {
    "slideshow": {
     "slide_type": "slide"
    }
   },
   "source": [
    "```\n",
    "3 8 9 2 1 6 0 7 5 4\n",
    "```\n",
    "\n",
    "- Split into `left` and `right`\n",
    "  - Left: `3 8 9 2 1`\n",
    "  - Right: `6 0 7 5 4`\n",
    "-  Sort `left`: `3 8 9 2 1`\n",
    "  - Split into `left` and `right`\n",
    "    - Left: `3 8 9`\n",
    "    - Right: `2 1`\n",
    "  - Sort `left`: ` 3 8 9`\n",
    "    - Split into `left` and `right`\n",
    "      - Left: `3 8`\n",
    "      - Right: `9`\n",
    "    - Sort `left`: `3 8`\n",
    "      - Split into `left` and `right`\n",
    "        - Left: `3`\n",
    "        - Right: `8`\n",
    "      - Sort `left`: `3` ✅\n",
    "      - Sort `right`: `8` ✅\n",
    "      - Merge `left` (`3`) and `right` (`8`): `3 8`\n",
    "    - Sort `right`: `9` ✅\n",
    "    - Merge `left` (`3 8`) and `right` (`9`): `3 8 9`\n",
    "  - Sort `right`: `2 1`\n",
    "    - Split into `left` and `right`\n",
    "      - Left: `2`\n",
    "      - Right: `1`\n",
    "    - Sort `left`: `2` ✅\n",
    "    - Sort `right`: `1` ✅\n",
    "    - Merge `left` (`2`) and `right` (`1`): `1 2`\n",
    "  - Merge `left` (`3 8 9`) and `right` (`1 2`): `1 2 3 8 9`\n",
    "- Sort `right`: `6 0 7 8 4`\n",
    "  - Split into `left` and `right`\n",
    "    - Left: `6 0 7`\n",
    "    - Right: `8 4`\n",
    "  - Sort `left`: `6 0 7`\n",
    "    - Split into `left` and `right`\n",
    "      - Left: `6 0`\n",
    "      - Right: `7`\n",
    "    - Sort `left`: `6 0`\n",
    "      - Split into `left` and `right`:\n",
    "        - Left: `6`\n",
    "        - Right: `0`\n",
    "      - Sort `left`: `6` ✅\n",
    "      - Sort `right`: `0` ✅\n",
    "      - Merge `left` (`6`) and `right` (`0`): `0 6`\n",
    "    - Sort `right`: `7` ✅\n",
    "    - Merge `left` (`0 6`) and `right` (`7`): `0 6 7`\n",
    "  - Sort `right`: `8 4`\n",
    "    - Split into `left` and `right`\n",
    "      - Left: `8`\n",
    "      - Right: `4`\n",
    "    - Sort `left`: `8` ✅\n",
    "    - Sort `right`: `4` ✅\n",
    "    - Merge `left` (`8`) and `right` (`4`): `4 8`\n",
    "  - Merge `left` (`0 6 7`) and `right`(`4 8`): `0 4 6 7 8`\n",
    "- Merge `left` and `right`: `0 1 2 3 4 5 6 7 8 9`\n"
   ]
  },
  {
   "cell_type": "markdown",
   "id": "a2aaff3c-cc6c-4e87-ae9e-f9ac04d42b82",
   "metadata": {
    "slideshow": {
     "slide_type": "slide"
    }
   },
   "source": [
    "### Consolidated version\n",
    "\n",
    "```\n",
    "3 8 9 2 1 6 0 7 5 4\n",
    "\n",
    "3 8 9 2 1 ---- 6 0 7 5 4\n",
    "\n",
    "3 8 9 --- 2 1 ---- 6 0 7 --- 5 4\n",
    "\n",
    "3 8 -- 9 --- 2 -- 1 ---- 6 0 -- 7 --- 5 -- 4\n",
    "```\n",
    "```\n",
    "3 - 8 -- 9 --- 2 -- 1 ---- 6 - 0 -- 7 --- 5 -- 4\n",
    "\n",
    "3 8 -- 9 --- 2 -- 1 ---- 0 6 -- 7 --- 5 -- 4\n",
    "\n",
    "3 8 9 --- 1 2 ---- 0 6 7 --- 4 5\n",
    "\n",
    "1 2 3 8 9 ---- 0 4 5 6 7\n",
    "\n",
    "0 1 2 3 4 5 6 7 8 9\n",
    "```\n"
   ]
  },
  {
   "cell_type": "markdown",
   "id": "558756b7-795a-49d4-8d01-21a74cd9378e",
   "metadata": {
    "slideshow": {
     "slide_type": "slide"
    }
   },
   "source": [
    "## Big-O"
   ]
  },
  {
   "cell_type": "markdown",
   "id": "3b17b104-26e1-4c49-8716-deeb3598eb5e",
   "metadata": {
    "slideshow": {
     "slide_type": "slide"
    }
   },
   "source": [
    "### How do I determine $O$ from $T(n)$?\n",
    "- Drop all but the largest term\n",
    "- Drop all the constants\n",
    "\n",
    "$T(n) = 5n^4 + 2n^3 - n^2 + 10000 \\rightarrow O(n^4)$\n",
    "\n",
    "$T(n) = 60n^2 + 2 \\log n \\rightarrow O(n^2)$\n",
    "\n",
    "$T(n) = 3.5 n \\log n + 45n + 800 \\rightarrow O(n \\log n)$\n",
    "\n",
    "$T(n) = 50n + 7 \\log n \\rightarrow O(n)$\n",
    "\n",
    "$T(n) = 45 \\rightarrow O(1)$"
   ]
  },
  {
   "cell_type": "markdown",
   "id": "d66611ad-a0fe-470a-9cb9-3374d6c21249",
   "metadata": {
    "slideshow": {
     "slide_type": "slide"
    }
   },
   "source": [
    "### How do I determine $O$ from code?\n",
    "\n",
    "- An individual statement is constant $O(1)$\n",
    "- $O$ of a series of blocks is the maximum of the $O$ for each block\n",
    "- $O$ of a conditional block is the maximum of the $O$ for each branch\n",
    "- Blocks that run multiple times yield a $O$ of the block multiplied by the number of times it runs\n",
    "  - Loops\n",
    "  - Recursion\n",
    "  "
   ]
  },
  {
   "cell_type": "markdown",
   "id": "215f80db-c9e5-4028-ae61-19a7faae1f17",
   "metadata": {
    "slideshow": {
     "slide_type": "slide"
    }
   },
   "source": [
    "```\n",
    "for (i = 0; i < n; i++) \n",
    "  sum += i;\n",
    "```\n",
    "\n",
    "$O(n)$"
   ]
  },
  {
   "cell_type": "markdown",
   "id": "4cab20b6-a92d-4c96-84c5-b0eb8a880c71",
   "metadata": {},
   "source": [
    "```\n",
    "for (i = 0; i < n; i++) \n",
    "  for (j = i; j < n; j++)\n",
    "    sum += i + j;\n",
    "```\n",
    "\n",
    "$O(n^2)$"
   ]
  },
  {
   "cell_type": "markdown",
   "id": "3917d6d5-e7c9-449b-a9d6-bf4008ceff3a",
   "metadata": {},
   "source": [
    "```\n",
    "for (i = 0; i < n; i++) \n",
    "  for (j = i; j < n*n; j++)\n",
    "    sum += i + j;\n",
    "```\n",
    "\n",
    "$O(n^3)$"
   ]
  },
  {
   "cell_type": "markdown",
   "id": "7a5a5ab6-341e-4b0f-8090-0f1a4c620225",
   "metadata": {},
   "source": [
    "```\n",
    "for (i = 1; i < n; i *= 3) \n",
    "  sum += i;\n",
    "```\n",
    "\n",
    "$O(\\log n)$"
   ]
  },
  {
   "cell_type": "markdown",
   "id": "6bae4a18-0912-4dbc-99da-769b9363ae16",
   "metadata": {},
   "source": [
    "```\n",
    "for (i = 0; i < n; i++) \n",
    "  for (j = n; j > 1; j /= 2)\n",
    "    sum += i + j;\n",
    "```\n",
    "\n",
    "$O(n \\log n)$"
   ]
  }
 ],
 "metadata": {
  "celltoolbar": "Slideshow",
  "kernelspec": {
   "display_name": "C++11",
   "language": "C++11",
   "name": "xcpp11"
  },
  "language_info": {
   "codemirror_mode": "text/x-c++src",
   "file_extension": ".cpp",
   "mimetype": "text/x-c++src",
   "name": "c++",
   "version": "11"
  }
 },
 "nbformat": 4,
 "nbformat_minor": 5
}
