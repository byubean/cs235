{
 "cells": [
  {
   "cell_type": "code",
   "execution_count": 1,
   "id": "77d0df83",
   "metadata": {},
   "outputs": [],
   "source": [
    "import random\n",
    "\n",
    "def rand5():\n",
    "    return random.randint(0, 5)"
   ]
  },
  {
   "cell_type": "code",
   "execution_count": 13,
   "id": "1ff91438",
   "metadata": {},
   "outputs": [],
   "source": [
    "def rand7():\n",
    "    options = [(i, rand5()) for i in range(7)]\n",
    "    while len(options) > 1:\n",
    "        max_val = max(options, key=lambda x: x[1])[1]\n",
    "        options = [(opt[0], rand5()) for opt in options if opt[1] == max_val]\n",
    "    return options[0][0]"
   ]
  },
  {
   "cell_type": "code",
   "execution_count": 14,
   "id": "de928984",
   "metadata": {},
   "outputs": [
    {
     "data": {
      "text/plain": [
       "1"
      ]
     },
     "execution_count": 14,
     "metadata": {},
     "output_type": "execute_result"
    }
   ],
   "source": [
    "rand7()"
   ]
  },
  {
   "cell_type": "code",
   "execution_count": 19,
   "id": "2ac6e9e9",
   "metadata": {},
   "outputs": [],
   "source": [
    "counts = {i: 0 for i in range(7)}\n",
    "for _ in range(1000000):\n",
    "    counts[rand7()] += 1"
   ]
  },
  {
   "cell_type": "code",
   "execution_count": 20,
   "id": "293db176",
   "metadata": {},
   "outputs": [
    {
     "data": {
      "text/plain": [
       "{0: 142894, 1: 142460, 2: 143897, 3: 142410, 4: 143508, 5: 142204, 6: 142627}"
      ]
     },
     "execution_count": 20,
     "metadata": {},
     "output_type": "execute_result"
    }
   ],
   "source": [
    "counts"
   ]
  },
  {
   "cell_type": "code",
   "execution_count": null,
   "id": "6f018c2e",
   "metadata": {},
   "outputs": [],
   "source": []
  }
 ],
 "metadata": {
  "kernelspec": {
   "display_name": "Python 3 (ipykernel)",
   "language": "python",
   "name": "python3"
  },
  "language_info": {
   "codemirror_mode": {
    "name": "ipython",
    "version": 3
   },
   "file_extension": ".py",
   "mimetype": "text/x-python",
   "name": "python",
   "nbconvert_exporter": "python",
   "pygments_lexer": "ipython3",
   "version": "3.9.7"
  }
 },
 "nbformat": 4,
 "nbformat_minor": 5
}
