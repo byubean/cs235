{
 "cells": [
  {
   "cell_type": "markdown",
   "id": "52e0b31e",
   "metadata": {
    "slideshow": {
     "slide_type": "slide"
    }
   },
   "source": [
    "# More Python! 🐍 🐍"
   ]
  },
  {
   "cell_type": "markdown",
   "id": "77960f00",
   "metadata": {
    "slideshow": {
     "slide_type": "slide"
    }
   },
   "source": [
    "## Slices"
   ]
  },
  {
   "cell_type": "markdown",
   "id": "da095f7b",
   "metadata": {
    "slideshow": {
     "slide_type": "slide"
    }
   },
   "source": [
    "We have a list of numbers."
   ]
  },
  {
   "cell_type": "code",
   "execution_count": 1,
   "id": "a4b72a34",
   "metadata": {},
   "outputs": [
    {
     "data": {
      "text/plain": [
       "[0, 1, 2, 3, 4, 5, 6, 7, 8, 9]"
      ]
     },
     "execution_count": 1,
     "metadata": {},
     "output_type": "execute_result"
    }
   ],
   "source": [
    "numbers = list(range(10))\n",
    "numbers"
   ]
  },
  {
   "cell_type": "markdown",
   "id": "ded751af",
   "metadata": {
    "slideshow": {
     "slide_type": "slide"
    }
   },
   "source": [
    "We can use **slicing** to return a new list containing a subset of the first.\n",
    "\n",
    "For example, everything from the second position onward."
   ]
  },
  {
   "cell_type": "code",
   "execution_count": 2,
   "id": "8be63d51",
   "metadata": {},
   "outputs": [
    {
     "data": {
      "text/plain": [
       "[2, 3, 4, 5, 6, 7, 8, 9]"
      ]
     },
     "execution_count": 2,
     "metadata": {},
     "output_type": "execute_result"
    }
   ],
   "source": [
    "numbers[2:]"
   ]
  },
  {
   "cell_type": "markdown",
   "id": "1512344b",
   "metadata": {
    "slideshow": {
     "slide_type": "slide"
    }
   },
   "source": [
    "Or everything up to (but not including) the eighth item."
   ]
  },
  {
   "cell_type": "code",
   "execution_count": 3,
   "id": "00400729",
   "metadata": {},
   "outputs": [
    {
     "data": {
      "text/plain": [
       "[0, 1, 2, 3, 4, 5, 6, 7]"
      ]
     },
     "execution_count": 3,
     "metadata": {},
     "output_type": "execute_result"
    }
   ],
   "source": [
    "numbers[:8]"
   ]
  },
  {
   "cell_type": "markdown",
   "id": "99d6396a",
   "metadata": {
    "slideshow": {
     "slide_type": "slide"
    }
   },
   "source": [
    "Or everything starting at the second item until the ninth item with a step size of two."
   ]
  },
  {
   "cell_type": "code",
   "execution_count": 6,
   "id": "c1eb781c",
   "metadata": {},
   "outputs": [
    {
     "data": {
      "text/plain": [
       "[2, 4, 6, 8]"
      ]
     },
     "execution_count": 6,
     "metadata": {},
     "output_type": "execute_result"
    }
   ],
   "source": [
    "numbers[2::2]"
   ]
  },
  {
   "cell_type": "markdown",
   "id": "d385bc06",
   "metadata": {
    "slideshow": {
     "slide_type": "slide"
    }
   },
   "source": [
    "Or everything up to (but not including) the first item from the back."
   ]
  },
  {
   "cell_type": "code",
   "execution_count": 7,
   "id": "cbf9a168",
   "metadata": {},
   "outputs": [
    {
     "data": {
      "text/plain": [
       "[0, 1, 2, 3, 4, 5, 6, 7, 8]"
      ]
     },
     "execution_count": 7,
     "metadata": {},
     "output_type": "execute_result"
    }
   ],
   "source": [
    "numbers[:-1]"
   ]
  },
  {
   "cell_type": "markdown",
   "id": "5f813326",
   "metadata": {
    "slideshow": {
     "slide_type": "slide"
    }
   },
   "source": [
    "Or everything up to (but not including) the third item from the back."
   ]
  },
  {
   "cell_type": "code",
   "execution_count": 8,
   "id": "b9d3bf51",
   "metadata": {},
   "outputs": [
    {
     "data": {
      "text/plain": [
       "[0, 1, 2, 3, 4, 5, 6]"
      ]
     },
     "execution_count": 8,
     "metadata": {},
     "output_type": "execute_result"
    }
   ],
   "source": [
    "numbers[:-3]"
   ]
  },
  {
   "cell_type": "markdown",
   "id": "6db19977",
   "metadata": {
    "slideshow": {
     "slide_type": "slide"
    }
   },
   "source": [
    "Anything that supports random access indexing can use slices."
   ]
  },
  {
   "cell_type": "code",
   "execution_count": 10,
   "id": "d1d5e4db",
   "metadata": {},
   "outputs": [
    {
     "data": {
      "text/plain": [
       "'py'"
      ]
     },
     "execution_count": 10,
     "metadata": {},
     "output_type": "execute_result"
    }
   ],
   "source": [
    "'python'[:2]"
   ]
  },
  {
   "cell_type": "code",
   "execution_count": 11,
   "id": "d15aa115",
   "metadata": {
    "slideshow": {
     "slide_type": "slide"
    }
   },
   "outputs": [
    {
     "data": {
      "text/plain": [
       "'something interesting'"
      ]
     },
     "execution_count": 11,
     "metadata": {},
     "output_type": "execute_result"
    }
   ],
   "source": [
    "value = 'blah blah blah:something interesting'\n",
    "pos = value.index(':')\n",
    "value[pos+1:]"
   ]
  },
  {
   "cell_type": "markdown",
   "id": "61c38fa6",
   "metadata": {
    "slideshow": {
     "slide_type": "slide"
    }
   },
   "source": [
    "## Classes"
   ]
  },
  {
   "cell_type": "code",
   "execution_count": 12,
   "id": "4444e009",
   "metadata": {
    "slideshow": {
     "slide_type": "slide"
    }
   },
   "outputs": [],
   "source": [
    "class Node:\n",
    "    def __init__(self, value):\n",
    "        self.value = value\n",
    "        self.next = None\n",
    "        self.prev = None\n",
    "\n",
    "\n",
    "class _LinkedListIterator:\n",
    "    def __init__(self, current):\n",
    "        self.current = current\n",
    "        \n",
    "    def __next__(self):\n",
    "        if self.current is None:\n",
    "            raise StopIteration()\n",
    "            \n",
    "        tmp = self.current\n",
    "        self.current = self.current.next\n",
    "        return tmp.value\n",
    "    \n",
    "    \n",
    "class LinkedList:\n",
    "    def __init__(self, contents = None):\n",
    "        self.head = None\n",
    "        self.tail = None\n",
    "        self.size = 0\n",
    "        if contents:\n",
    "            for item in contents:\n",
    "                self.push(item)\n",
    "    \n",
    "    def push(self, item):\n",
    "        node = Node(item)\n",
    "        \n",
    "        if not self.head:\n",
    "            # If not head, then also not tail\n",
    "            self.head = node\n",
    "            self.tail = node\n",
    "        else:\n",
    "            self.tail.next = node\n",
    "            node.prev = self.tail\n",
    "            self.tail = node\n",
    "            \n",
    "        self.size += 1\n",
    "    \n",
    "    def first(self):\n",
    "        if self.head is None:\n",
    "            return None\n",
    "        return self.head.value\n",
    "    \n",
    "    def last(self):\n",
    "        if self.tail is None:\n",
    "            return None\n",
    "        return self.tail.value\n",
    "    \n",
    "    def pop(self):\n",
    "        if self.tail is None:\n",
    "            return\n",
    "        \n",
    "        self.tail = self.tail.prev\n",
    "        if self.tail is None:\n",
    "            self.head = None\n",
    "        else:\n",
    "            self.tail.next = None\n",
    "        \n",
    "        self.size -= 1\n",
    "        \n",
    "    def __len__(self):\n",
    "        return self.size\n",
    "    \n",
    "    def __iter__(self):\n",
    "        return _LinkedListIterator(self.head)\n",
    "    \n",
    "    def __str__(self):\n",
    "        return f\"LinkedList([{', '.join(str(item) for item in self)}])\"\n",
    "        \n",
    "    def __repr__(self):\n",
    "        return str(self)\n",
    "    \n",
    "    def __add__(self, more):\n",
    "        new_list = LinkedList(self)\n",
    "        for item in more:\n",
    "            new_list.push(item)\n",
    "        return new_list"
   ]
  },
  {
   "cell_type": "markdown",
   "id": "4a3e5dda",
   "metadata": {
    "slideshow": {
     "slide_type": "slide"
    }
   },
   "source": [
    "We can instantiate our class."
   ]
  },
  {
   "cell_type": "code",
   "execution_count": 13,
   "id": "104b707e",
   "metadata": {
    "slideshow": {
     "slide_type": "-"
    }
   },
   "outputs": [],
   "source": [
    "foo = LinkedList()"
   ]
  },
  {
   "cell_type": "markdown",
   "id": "ed4cbd84",
   "metadata": {
    "slideshow": {
     "slide_type": "slide"
    }
   },
   "source": [
    "We can call the methods on our class."
   ]
  },
  {
   "cell_type": "code",
   "execution_count": 14,
   "id": "dc47bce2",
   "metadata": {},
   "outputs": [
    {
     "data": {
      "text/plain": [
       "LinkedList([1, 2, 3])"
      ]
     },
     "execution_count": 14,
     "metadata": {},
     "output_type": "execute_result"
    }
   ],
   "source": [
    "foo.push(1)\n",
    "foo.push(2)\n",
    "foo.push(3)\n",
    "foo"
   ]
  },
  {
   "cell_type": "code",
   "execution_count": 15,
   "id": "c472b33b",
   "metadata": {},
   "outputs": [
    {
     "data": {
      "text/plain": [
       "LinkedList([1, 2, 3])"
      ]
     },
     "execution_count": 15,
     "metadata": {},
     "output_type": "execute_result"
    }
   ],
   "source": [
    "bar = LinkedList([1, 2, 3])\n",
    "bar"
   ]
  },
  {
   "cell_type": "code",
   "execution_count": 16,
   "id": "2c7386f2",
   "metadata": {
    "slideshow": {
     "slide_type": "-"
    }
   },
   "outputs": [
    {
     "data": {
      "text/plain": [
       "1"
      ]
     },
     "execution_count": 16,
     "metadata": {},
     "output_type": "execute_result"
    }
   ],
   "source": [
    "foo.first()"
   ]
  },
  {
   "cell_type": "code",
   "execution_count": 17,
   "id": "84203e52",
   "metadata": {},
   "outputs": [
    {
     "data": {
      "text/plain": [
       "3"
      ]
     },
     "execution_count": 17,
     "metadata": {},
     "output_type": "execute_result"
    }
   ],
   "source": [
    "foo.last()"
   ]
  },
  {
   "cell_type": "code",
   "execution_count": 18,
   "id": "484eccdd",
   "metadata": {
    "slideshow": {
     "slide_type": "-"
    }
   },
   "outputs": [
    {
     "data": {
      "text/plain": [
       "LinkedList([1, 2])"
      ]
     },
     "execution_count": 18,
     "metadata": {},
     "output_type": "execute_result"
    }
   ],
   "source": [
    "foo.pop()\n",
    "foo"
   ]
  },
  {
   "cell_type": "markdown",
   "id": "9e96567e",
   "metadata": {
    "slideshow": {
     "slide_type": "slide"
    }
   },
   "source": [
    "Implementing `__len__` lets us use the `len` function."
   ]
  },
  {
   "cell_type": "code",
   "execution_count": 19,
   "id": "c7fc9a9c",
   "metadata": {},
   "outputs": [
    {
     "data": {
      "text/plain": [
       "2"
      ]
     },
     "execution_count": 19,
     "metadata": {},
     "output_type": "execute_result"
    }
   ],
   "source": [
    "len(foo)"
   ]
  },
  {
   "cell_type": "markdown",
   "id": "2e89224e",
   "metadata": {
    "slideshow": {
     "slide_type": "slide"
    }
   },
   "source": [
    "Implementing `__iter__` lets us use our class in a for loop."
   ]
  },
  {
   "cell_type": "code",
   "execution_count": 20,
   "id": "d6b9a04d",
   "metadata": {
    "slideshow": {
     "slide_type": "-"
    }
   },
   "outputs": [
    {
     "name": "stdout",
     "output_type": "stream",
     "text": [
      "1\n",
      "2\n"
     ]
    }
   ],
   "source": [
    "for item in foo:\n",
    "    print(item)"
   ]
  },
  {
   "cell_type": "markdown",
   "id": "13aa7d30",
   "metadata": {
    "slideshow": {
     "slide_type": "slide"
    }
   },
   "source": [
    "Implementing `__add__` lets us add stuff to our list.\n",
    "\n",
    "We implemented `__add__` to expect another collection and return a new collection with the original and new items included."
   ]
  },
  {
   "cell_type": "code",
   "execution_count": 21,
   "id": "52e5da6a",
   "metadata": {
    "slideshow": {
     "slide_type": "-"
    }
   },
   "outputs": [
    {
     "data": {
      "text/plain": [
       "LinkedList([0, 10, 1, 2, 3])"
      ]
     },
     "execution_count": 21,
     "metadata": {},
     "output_type": "execute_result"
    }
   ],
   "source": [
    "LinkedList([0, 10]) + [1, 2, 3]"
   ]
  },
  {
   "cell_type": "markdown",
   "id": "a5935d17",
   "metadata": {
    "slideshow": {
     "slide_type": "slide"
    }
   },
   "source": [
    "## What if I have a list of lists?"
   ]
  },
  {
   "cell_type": "code",
   "execution_count": 24,
   "id": "2c2faa25",
   "metadata": {},
   "outputs": [
    {
     "data": {
      "text/plain": [
       "2"
      ]
     },
     "execution_count": 24,
     "metadata": {},
     "output_type": "execute_result"
    }
   ],
   "source": [
    "stuff = []\n",
    "stuff.append([1,2,3])\n",
    "stuff.append([4,5,6])\n",
    "stuff[0][1]"
   ]
  },
  {
   "cell_type": "markdown",
   "id": "4ea3f242",
   "metadata": {
    "slideshow": {
     "slide_type": "slide"
    }
   },
   "source": [
    "### Key Ideas\n",
    "\n",
    "- `class` syntax\n",
    "- `__init__` method instead of a constructor\n",
    "- no need to predeclare member variables\n",
    "- `self` refers to the class **instance** (similar to `this` in C++)\n",
    "- operator overloading happens through implementing **dunder** (double-underscore) methods\n",
    "  - `__str__` gets called when you pass your instance to `str`\n",
    "  - `__repr__` gets called when you return your instance on the python console\n",
    "  - `__iter__` returns an iterator and lets you pass your instance to `for` loops\n",
    "  - `__add__` implements the `+` operator\n",
    "- When instantiating a class, you do not call `new`"
   ]
  },
  {
   "cell_type": "markdown",
   "id": "e954edfb",
   "metadata": {
    "slideshow": {
     "slide_type": "slide"
    }
   },
   "source": [
    "## Generators"
   ]
  },
  {
   "cell_type": "code",
   "execution_count": 35,
   "id": "65951b0f",
   "metadata": {
    "slideshow": {
     "slide_type": "slide"
    }
   },
   "outputs": [],
   "source": [
    "import random\n",
    "\n",
    "def random_numbers(count):\n",
    "    for _ in range(count):\n",
    "        yield random.randint(0, 10)"
   ]
  },
  {
   "cell_type": "code",
   "execution_count": 36,
   "id": "388069ac",
   "metadata": {},
   "outputs": [
    {
     "name": "stdout",
     "output_type": "stream",
     "text": [
      "2\n",
      "9\n",
      "3\n",
      "3\n",
      "3\n"
     ]
    }
   ],
   "source": [
    "for number in random_numbers(5):\n",
    "    print(number)"
   ]
  },
  {
   "cell_type": "code",
   "execution_count": 37,
   "id": "02b8e4a4",
   "metadata": {
    "slideshow": {
     "slide_type": "slide"
    }
   },
   "outputs": [],
   "source": [
    "def noisy_generator():\n",
    "    print(\"Generator entered\")\n",
    "    yield \"first value\"\n",
    "    print(\"After the first value\")\n",
    "    yield \"second value\"\n",
    "    print(\"After the second value\")\n",
    "    "
   ]
  },
  {
   "cell_type": "code",
   "execution_count": 39,
   "id": "d1ca8d9c",
   "metadata": {},
   "outputs": [
    {
     "data": {
      "text/plain": [
       "<generator object noisy_generator at 0x105fa9c80>"
      ]
     },
     "execution_count": 39,
     "metadata": {},
     "output_type": "execute_result"
    }
   ],
   "source": [
    "foo = noisy_generator()\n",
    "foo"
   ]
  },
  {
   "cell_type": "code",
   "execution_count": 38,
   "id": "5d9d22a8",
   "metadata": {},
   "outputs": [
    {
     "name": "stdout",
     "output_type": "stream",
     "text": [
      "Generator entered\n",
      "> first value\n",
      "-----\n",
      "After the first value\n",
      "> second value\n",
      "-----\n",
      "After the second value\n"
     ]
    }
   ],
   "source": [
    "for item in noisy_generator():\n",
    "    print(\">\", item)\n",
    "    print(\"-----\")"
   ]
  },
  {
   "cell_type": "code",
   "execution_count": null,
   "id": "9dd93d2d",
   "metadata": {},
   "outputs": [],
   "source": [
    "def primes():\n",
    "    yield 1\n",
    "    yield 2\n",
    "    current = 3\n",
    "    while True:\n",
    "        if check_for_prime(current):\n",
    "            yield current\n",
    "        current +=1"
   ]
  },
  {
   "cell_type": "code",
   "execution_count": 40,
   "id": "a2d683e5",
   "metadata": {
    "slideshow": {
     "slide_type": "slide"
    }
   },
   "outputs": [],
   "source": [
    "def some_of_these(how_many, *items):\n",
    "    for _ in range(how_many):\n",
    "        yield random.choice(items)"
   ]
  },
  {
   "cell_type": "code",
   "execution_count": 49,
   "id": "26e3b58f",
   "metadata": {},
   "outputs": [
    {
     "name": "stdout",
     "output_type": "stream",
     "text": [
      "blah\n",
      "hello\n",
      "foobar\n",
      "world\n",
      "stuff\n",
      "world\n",
      "quux\n",
      "hello\n",
      "stuff\n",
      "word\n",
      "hello\n",
      "world\n",
      "foobar\n",
      "stuff\n"
     ]
    }
   ],
   "source": [
    "for item in some_of_these(14, \"word\", \"stuff\", \"blah\", \"hello\", \"world\", \"foobar\", \"quux\"):\n",
    "    print(item)"
   ]
  },
  {
   "cell_type": "code",
   "execution_count": 50,
   "id": "2d840182",
   "metadata": {
    "slideshow": {
     "slide_type": "slide"
    }
   },
   "outputs": [],
   "source": [
    "import time, random\n",
    "\n",
    "def forever():\n",
    "    statements = [\n",
    "        \"Hello?\",\n",
    "        \"Hello?\",\n",
    "        \"Hello?\",\n",
    "        \"Hello?\",\n",
    "        \"Is anybody there?\",\n",
    "        \"Hellooooo?\",\n",
    "        \"I feel lonely...\",\n",
    "        \"😞\",\n",
    "        \"Somebody? Anybody?\",\n",
    "        \"Can someone get me out of here?\"\n",
    "    ]\n",
    "    \n",
    "    while True:\n",
    "        yield random.choice(statements)\n",
    "        time.sleep(random.randint(1, 3)/1.5)"
   ]
  },
  {
   "cell_type": "code",
   "execution_count": 51,
   "id": "6df09a1d",
   "metadata": {},
   "outputs": [
    {
     "name": "stdout",
     "output_type": "stream",
     "text": [
      "I feel lonely...\n",
      "I feel lonely...\n",
      "Hello?\n",
      "Hello?\n",
      "Hello?\n",
      "Can someone get me out of here?\n",
      "I feel lonely...\n",
      "😞\n",
      "Hello?\n",
      "Hello?\n",
      "Somebody? Anybody?\n",
      "Somebody? Anybody?\n",
      "😞\n",
      "Hello?\n",
      "Hellooooo?\n",
      "I feel lonely...\n",
      "Can someone get me out of here?\n",
      "Hellooooo?\n"
     ]
    },
    {
     "ename": "KeyboardInterrupt",
     "evalue": "",
     "output_type": "error",
     "traceback": [
      "\u001b[0;31m---------------------------------------------------------------------------\u001b[0m",
      "\u001b[0;31mKeyboardInterrupt\u001b[0m                         Traceback (most recent call last)",
      "Input \u001b[0;32mIn [51]\u001b[0m, in \u001b[0;36m<cell line: 1>\u001b[0;34m()\u001b[0m\n\u001b[0;32m----> 1\u001b[0m \u001b[38;5;28;01mfor\u001b[39;00m message \u001b[38;5;129;01min\u001b[39;00m forever():\n\u001b[1;32m      2\u001b[0m     \u001b[38;5;28mprint\u001b[39m(message)\n",
      "Input \u001b[0;32mIn [50]\u001b[0m, in \u001b[0;36mforever\u001b[0;34m()\u001b[0m\n\u001b[1;32m     17\u001b[0m \u001b[38;5;28;01mwhile\u001b[39;00m \u001b[38;5;28;01mTrue\u001b[39;00m:\n\u001b[1;32m     18\u001b[0m     \u001b[38;5;28;01myield\u001b[39;00m random\u001b[38;5;241m.\u001b[39mchoice(statements)\n\u001b[0;32m---> 19\u001b[0m     \u001b[43mtime\u001b[49m\u001b[38;5;241;43m.\u001b[39;49m\u001b[43msleep\u001b[49m\u001b[43m(\u001b[49m\u001b[43mrandom\u001b[49m\u001b[38;5;241;43m.\u001b[39;49m\u001b[43mrandint\u001b[49m\u001b[43m(\u001b[49m\u001b[38;5;241;43m1\u001b[39;49m\u001b[43m,\u001b[49m\u001b[43m \u001b[49m\u001b[38;5;241;43m3\u001b[39;49m\u001b[43m)\u001b[49m\u001b[38;5;241;43m/\u001b[39;49m\u001b[38;5;241;43m1.5\u001b[39;49m\u001b[43m)\u001b[49m\n",
      "\u001b[0;31mKeyboardInterrupt\u001b[0m: "
     ]
    }
   ],
   "source": [
    "for message in forever():\n",
    "    print(message)"
   ]
  },
  {
   "cell_type": "markdown",
   "id": "2863c45f",
   "metadata": {
    "slideshow": {
     "slide_type": "slide"
    }
   },
   "source": [
    "### Key Ideas\n",
    "\n",
    "- Generators use the `yield` keyword instead of `return`\n",
    "  - The code in the function resumes after the `yield` when the next item is requested\n",
    "- Generators are an easy way to define your own custom sequence"
   ]
  },
  {
   "cell_type": "markdown",
   "id": "a53dcd2f",
   "metadata": {
    "slideshow": {
     "slide_type": "slide"
    }
   },
   "source": [
    "## Decorators"
   ]
  },
  {
   "cell_type": "markdown",
   "id": "87287298",
   "metadata": {
    "slideshow": {
     "slide_type": "slide"
    }
   },
   "source": [
    "We can define functions."
   ]
  },
  {
   "cell_type": "code",
   "execution_count": 52,
   "id": "a82cc962",
   "metadata": {},
   "outputs": [
    {
     "data": {
      "text/plain": [
       "7"
      ]
     },
     "execution_count": 52,
     "metadata": {},
     "output_type": "execute_result"
    }
   ],
   "source": [
    "def give_me_seven():\n",
    "    return 7\n",
    "\n",
    "give_me_seven()"
   ]
  },
  {
   "cell_type": "markdown",
   "id": "4c2da688",
   "metadata": {
    "slideshow": {
     "slide_type": "slide"
    }
   },
   "source": [
    "We can assign functions to variables."
   ]
  },
  {
   "cell_type": "code",
   "execution_count": 57,
   "id": "f1e8b4a0",
   "metadata": {},
   "outputs": [
    {
     "data": {
      "text/plain": [
       "7"
      ]
     },
     "execution_count": 57,
     "metadata": {},
     "output_type": "execute_result"
    }
   ],
   "source": [
    "get_a_number = give_me_seven\n",
    "\n",
    "get_a_number()"
   ]
  },
  {
   "cell_type": "markdown",
   "id": "ef0a7ac2",
   "metadata": {
    "slideshow": {
     "slide_type": "slide"
    }
   },
   "source": [
    "When a function is defined, it has access to the outer scope."
   ]
  },
  {
   "cell_type": "code",
   "execution_count": 60,
   "id": "3812b360",
   "metadata": {},
   "outputs": [
    {
     "data": {
      "text/plain": [
       "7"
      ]
     },
     "execution_count": 60,
     "metadata": {},
     "output_type": "execute_result"
    }
   ],
   "source": [
    "foop = 8\n",
    "the_number = 7\n",
    "\n",
    "def give_me_the_number():\n",
    "    return the_number\n",
    "\n",
    "give_me_the_number()"
   ]
  },
  {
   "cell_type": "code",
   "execution_count": 63,
   "id": "552fddb7",
   "metadata": {},
   "outputs": [
    {
     "data": {
      "text/plain": [
       "89"
      ]
     },
     "execution_count": 63,
     "metadata": {},
     "output_type": "execute_result"
    }
   ],
   "source": [
    "foobar = give_me_the_number\n",
    "foobar()"
   ]
  },
  {
   "cell_type": "code",
   "execution_count": 62,
   "id": "9ad746af",
   "metadata": {},
   "outputs": [
    {
     "data": {
      "text/plain": [
       "89"
      ]
     },
     "execution_count": 62,
     "metadata": {},
     "output_type": "execute_result"
    }
   ],
   "source": [
    "the_number = 89\n",
    "give_me_the_number()"
   ]
  },
  {
   "cell_type": "markdown",
   "id": "af044b2d",
   "metadata": {
    "slideshow": {
     "slide_type": "slide"
    }
   },
   "source": [
    "We can define functions **in** other functions and return them."
   ]
  },
  {
   "cell_type": "code",
   "execution_count": 64,
   "id": "4d9bebe8",
   "metadata": {},
   "outputs": [
    {
     "data": {
      "text/plain": [
       "7"
      ]
     },
     "execution_count": 64,
     "metadata": {},
     "output_type": "execute_result"
    }
   ],
   "source": [
    "def get_me_a_seven_giver():\n",
    "    def give_me_seven():\n",
    "        return 7\n",
    "    return give_me_seven\n",
    "\n",
    "get_a_number = get_me_a_seven_giver()\n",
    "get_a_number()"
   ]
  },
  {
   "cell_type": "markdown",
   "id": "179c3da5",
   "metadata": {
    "slideshow": {
     "slide_type": "slide"
    }
   },
   "source": [
    "A function defined inside another function has access to the outer function's scope."
   ]
  },
  {
   "cell_type": "code",
   "execution_count": 65,
   "id": "c2553371",
   "metadata": {},
   "outputs": [
    {
     "data": {
      "text/plain": [
       "(10, 20)"
      ]
     },
     "execution_count": 65,
     "metadata": {},
     "output_type": "execute_result"
    }
   ],
   "source": [
    "def make_a_number_giver(number):\n",
    "    def give_me_a_number():\n",
    "        return number\n",
    "    return give_me_a_number\n",
    "\n",
    "give_me_ten = make_a_number_giver(10)\n",
    "give_me_twenty = make_a_number_giver(20)\n",
    "\n",
    "give_me_ten(), give_me_twenty()"
   ]
  },
  {
   "cell_type": "markdown",
   "id": "a376b0f5",
   "metadata": {
    "slideshow": {
     "slide_type": "slide"
    }
   },
   "source": [
    "You can pass functions as arguments to other functions."
   ]
  },
  {
   "cell_type": "code",
   "execution_count": 66,
   "id": "2c9562a3",
   "metadata": {},
   "outputs": [
    {
     "data": {
      "text/plain": [
       "[8, 9, 10, 11, 12]"
      ]
     },
     "execution_count": 66,
     "metadata": {},
     "output_type": "execute_result"
    }
   ],
   "source": [
    "def apply(collection, transform):\n",
    "    return [transform(item) for item in collection]\n",
    "\n",
    "def add_seven(number):\n",
    "    return number + 7\n",
    "\n",
    "numbers = [1, 2, 3, 4, 5]\n",
    "\n",
    "apply(numbers, add_seven)"
   ]
  },
  {
   "cell_type": "markdown",
   "id": "9f3667c7",
   "metadata": {
    "slideshow": {
     "slide_type": "slide"
    }
   },
   "source": [
    "You can put it all together!"
   ]
  },
  {
   "cell_type": "code",
   "execution_count": 67,
   "id": "18758c34",
   "metadata": {
    "slideshow": {
     "slide_type": "slide"
    }
   },
   "outputs": [
    {
     "name": "stdout",
     "output_type": "stream",
     "text": [
      "Hello CS 235\n"
     ]
    }
   ],
   "source": [
    "def greet(name):\n",
    "    \"\"\"\n",
    "    Return a string salutation addressed to `name`\n",
    "    :param name: the person to address\n",
    "    \"\"\"\n",
    "    return f\"Hello {name}\"\n",
    "    \n",
    "print(greet(\"CS 235\"))"
   ]
  },
  {
   "cell_type": "code",
   "execution_count": 68,
   "id": "f0e4d2fa",
   "metadata": {
    "slideshow": {
     "slide_type": "slide"
    }
   },
   "outputs": [],
   "source": [
    "def wrap_in_box(greeter):\n",
    "    \"\"\"\n",
    "    Take a plain greeting function and return a new function that puts a box around the response\n",
    "    \n",
    "    :param greeter: a function that takes a name and returns a string\n",
    "    \"\"\"\n",
    "    def new_greeter(name):\n",
    "        result = greeter(name)\n",
    "        return \"----\" + \"-\" * len(result) + \"\\n| \" + result + \" |\\n\" + \"----\" + \"-\" * len(result)\n",
    "    \n",
    "    return new_greeter"
   ]
  },
  {
   "cell_type": "code",
   "execution_count": 69,
   "id": "5c63630e",
   "metadata": {},
   "outputs": [
    {
     "name": "stdout",
     "output_type": "stream",
     "text": [
      "----------------\n",
      "| Hello CS 235 |\n",
      "----------------\n"
     ]
    }
   ],
   "source": [
    "boxed_greet = wrap_in_box(greet)\n",
    "\n",
    "print(boxed_greet(\"CS 235\"))"
   ]
  },
  {
   "cell_type": "code",
   "execution_count": 79,
   "id": "61465270",
   "metadata": {
    "slideshow": {
     "slide_type": "slide"
    }
   },
   "outputs": [],
   "source": [
    "def say_something_random(name):\n",
    "    return f\"Hello, {name}, do you like {random.choice(['apples', 'programming', 'cheese', 'Python'])}?\""
   ]
  },
  {
   "cell_type": "code",
   "execution_count": 80,
   "id": "4958fb5a",
   "metadata": {},
   "outputs": [
    {
     "name": "stdout",
     "output_type": "stream",
     "text": [
      "Hello, Alan, do you like programming?\n"
     ]
    }
   ],
   "source": [
    "print(say_something_random(\"Alan\"))"
   ]
  },
  {
   "cell_type": "code",
   "execution_count": 81,
   "id": "3ae268af",
   "metadata": {
    "slideshow": {
     "slide_type": "slide"
    }
   },
   "outputs": [],
   "source": [
    "say_something_random = wrap_in_box(say_something_random)"
   ]
  },
  {
   "cell_type": "code",
   "execution_count": 82,
   "id": "d307aac0",
   "metadata": {
    "slideshow": {
     "slide_type": "slide"
    }
   },
   "outputs": [
    {
     "name": "stdout",
     "output_type": "stream",
     "text": [
      "----------------------------------------\n",
      "| Hello, Zedekiah, do you like Python? |\n",
      "----------------------------------------\n"
     ]
    }
   ],
   "source": [
    "print(say_something_random(\"Zedekiah\"))"
   ]
  },
  {
   "cell_type": "code",
   "execution_count": 95,
   "id": "0e360f58",
   "metadata": {
    "slideshow": {
     "slide_type": "slide"
    }
   },
   "outputs": [],
   "source": [
    "@wrap_in_box\n",
    "def say_something_random(name):\n",
    "    return f\"Hello, {name}, do you like {random.choice(['apples', 'programming', 'cheese', 'Python'])}?\""
   ]
  },
  {
   "cell_type": "code",
   "execution_count": 83,
   "id": "955b8af1",
   "metadata": {
    "slideshow": {
     "slide_type": "slide"
    }
   },
   "outputs": [],
   "source": [
    "def say_something_random(name):\n",
    "    return f\"Hello, {name}, do you like {random.choice(['apples', 'programming', 'cheese', 'Python'])}?\"\n",
    "\n",
    "say_something_random = wrap_in_box(say_something_random)"
   ]
  },
  {
   "cell_type": "code",
   "execution_count": 93,
   "id": "25ca5ef4",
   "metadata": {},
   "outputs": [
    {
     "name": "stdout",
     "output_type": "stream",
     "text": [
      "-------------------------------------\n",
      "| Hello, Nancy, do you like cheese? |\n",
      "-------------------------------------\n"
     ]
    }
   ],
   "source": [
    "print(say_something_random(\"Nancy\"))"
   ]
  },
  {
   "cell_type": "code",
   "execution_count": 98,
   "id": "5cf12117",
   "metadata": {
    "slideshow": {
     "slide_type": "slide"
    }
   },
   "outputs": [],
   "source": [
    "def wrap_in_box(make_a_string):\n",
    "    \"\"\"\n",
    "    Take a function that returns a string and return a new function that puts a box around the response\n",
    "    \n",
    "    :param greeter: a function that takes any number of arguments and returns a string\n",
    "    \"\"\"\n",
    "    def new_function(*args, **kwargs):\n",
    "        result = make_a_string(*args, **kwargs)\n",
    "        return \"----\" + \"-\" * len(result) + \"\\n| \" + result + \" |\\n\" + \"----\" + \"-\" * len(result)\n",
    "    return new_function"
   ]
  },
  {
   "cell_type": "code",
   "execution_count": 99,
   "id": "294d4dd8",
   "metadata": {
    "slideshow": {
     "slide_type": "slide"
    }
   },
   "outputs": [
    {
     "name": "stdout",
     "output_type": "stream",
     "text": [
      "-----\n",
      "| m |\n",
      "-----\n",
      "-----\n",
      "| r |\n",
      "-----\n",
      "-----\n",
      "| q |\n",
      "-----\n",
      "-----\n",
      "| g |\n",
      "-----\n",
      "-----\n",
      "| b |\n",
      "-----\n"
     ]
    }
   ],
   "source": [
    "@wrap_in_box\n",
    "def random_letter():\n",
    "    return random.choice('abcdefghijklmnopqrstuvwxyz')\n",
    "\n",
    "for _ in range(5):\n",
    "    print(random_letter())"
   ]
  },
  {
   "cell_type": "code",
   "execution_count": 100,
   "id": "2db7a5f8",
   "metadata": {
    "slideshow": {
     "slide_type": "slide"
    }
   },
   "outputs": [
    {
     "name": "stdout",
     "output_type": "stream",
     "text": [
      "---------------\n",
      "| foo bar baz |\n",
      "---------------\n"
     ]
    }
   ],
   "source": [
    "@wrap_in_box\n",
    "def join_with_spaces(collection):\n",
    "    return ' '.join(collection)\n",
    "\n",
    "print(join_with_spaces([\"foo\", \"bar\", \"baz\"]))"
   ]
  },
  {
   "cell_type": "code",
   "execution_count": 101,
   "id": "de8cfb6b",
   "metadata": {
    "slideshow": {
     "slide_type": "slide"
    }
   },
   "outputs": [],
   "source": [
    "def verbose(function):\n",
    "    \"\"\"\n",
    "    Log the function name, arguments, and result\n",
    "    \"\"\"\n",
    "    global function_id\n",
    "    function_id = 0\n",
    "\n",
    "    def verbose_function(*args, **kwargs):\n",
    "        global function_id  # the \"global\" keyword tells python that we want to use function_id from the outer scope\n",
    "        current_id = function_id\n",
    "        function_id += 1\n",
    "        print(f\"Calling {function.__name__} ({current_id}) with arguments {args} and key-word arguments {kwargs}\")\n",
    "        result = function(*args, **kwargs)\n",
    "        print(f\"Function {function.__name__} ({current_id}) returned: {result}\")\n",
    "        return result\n",
    "\n",
    "    return verbose_function"
   ]
  },
  {
   "cell_type": "code",
   "execution_count": 102,
   "id": "91a389f3",
   "metadata": {
    "slideshow": {
     "slide_type": "slide"
    }
   },
   "outputs": [],
   "source": [
    "@verbose\n",
    "def fib(n):\n",
    "    \"\"\"\n",
    "    Compute the fibonacci number for `n`\n",
    "    \"\"\"\n",
    "    if n == 1:\n",
    "        return 1\n",
    "    elif n == 0:\n",
    "        return 0\n",
    "    else:\n",
    "        return fib(n-1) + fib(n-2)"
   ]
  },
  {
   "cell_type": "code",
   "execution_count": 103,
   "id": "2d131c46",
   "metadata": {},
   "outputs": [
    {
     "name": "stdout",
     "output_type": "stream",
     "text": [
      "Calling fib (0) with arguments (5,) and key-word arguments {}\n",
      "Calling fib (1) with arguments (4,) and key-word arguments {}\n",
      "Calling fib (2) with arguments (3,) and key-word arguments {}\n",
      "Calling fib (3) with arguments (2,) and key-word arguments {}\n",
      "Calling fib (4) with arguments (1,) and key-word arguments {}\n",
      "Function fib (4) returned: 1\n",
      "Calling fib (5) with arguments (0,) and key-word arguments {}\n",
      "Function fib (5) returned: 0\n",
      "Function fib (3) returned: 1\n",
      "Calling fib (6) with arguments (1,) and key-word arguments {}\n",
      "Function fib (6) returned: 1\n",
      "Function fib (2) returned: 2\n",
      "Calling fib (7) with arguments (2,) and key-word arguments {}\n",
      "Calling fib (8) with arguments (1,) and key-word arguments {}\n",
      "Function fib (8) returned: 1\n",
      "Calling fib (9) with arguments (0,) and key-word arguments {}\n",
      "Function fib (9) returned: 0\n",
      "Function fib (7) returned: 1\n",
      "Function fib (1) returned: 3\n",
      "Calling fib (10) with arguments (3,) and key-word arguments {}\n",
      "Calling fib (11) with arguments (2,) and key-word arguments {}\n",
      "Calling fib (12) with arguments (1,) and key-word arguments {}\n",
      "Function fib (12) returned: 1\n",
      "Calling fib (13) with arguments (0,) and key-word arguments {}\n",
      "Function fib (13) returned: 0\n",
      "Function fib (11) returned: 1\n",
      "Calling fib (14) with arguments (1,) and key-word arguments {}\n",
      "Function fib (14) returned: 1\n",
      "Function fib (10) returned: 2\n",
      "Function fib (0) returned: 5\n"
     ]
    },
    {
     "data": {
      "text/plain": [
       "5"
      ]
     },
     "execution_count": 103,
     "metadata": {},
     "output_type": "execute_result"
    }
   ],
   "source": [
    "fib(5)"
   ]
  },
  {
   "cell_type": "code",
   "execution_count": 104,
   "id": "e9ed8029",
   "metadata": {
    "slideshow": {
     "slide_type": "slide"
    }
   },
   "outputs": [],
   "source": [
    "import datetime\n",
    "\n",
    "history = []\n",
    "\n",
    "def historical(function):\n",
    "    \"\"\"\n",
    "    Add invocations of function to the history\n",
    "    \"\"\"\n",
    "    def new_function(*args, **kwargs):\n",
    "        result = function(*args, **kwargs)\n",
    "        history.append({\n",
    "            \"name\": function.__name__,\n",
    "            \"args\": args,\n",
    "            \"kwargs\": kwargs,\n",
    "            \"result\": result,\n",
    "            \"timestamp\": datetime.datetime.now()\n",
    "        })\n",
    "        return result\n",
    "    \n",
    "    return new_function"
   ]
  },
  {
   "cell_type": "code",
   "execution_count": 105,
   "id": "6a9c280a",
   "metadata": {
    "slideshow": {
     "slide_type": "slide"
    }
   },
   "outputs": [],
   "source": [
    "@historical\n",
    "def salute(name):\n",
    "    return f\"Hello {name}\"\n",
    "\n",
    "@historical\n",
    "def many_times(value):\n",
    "    return value * random.randint(2, 4)"
   ]
  },
  {
   "cell_type": "code",
   "execution_count": 106,
   "id": "90f6d965",
   "metadata": {},
   "outputs": [
    {
     "data": {
      "text/plain": [
       "'Hello John'"
      ]
     },
     "execution_count": 106,
     "metadata": {},
     "output_type": "execute_result"
    }
   ],
   "source": [
    "salute(\"John\")"
   ]
  },
  {
   "cell_type": "code",
   "execution_count": 107,
   "id": "e791dd71",
   "metadata": {},
   "outputs": [
    {
     "data": {
      "text/plain": [
       "'Hello SusanSusan'"
      ]
     },
     "execution_count": 107,
     "metadata": {},
     "output_type": "execute_result"
    }
   ],
   "source": [
    "salute(many_times(\"Susan\"))"
   ]
  },
  {
   "cell_type": "code",
   "execution_count": 108,
   "id": "474393af",
   "metadata": {},
   "outputs": [
    {
     "data": {
      "text/plain": [
       "'Hello KatherineKatherine'"
      ]
     },
     "execution_count": 108,
     "metadata": {},
     "output_type": "execute_result"
    }
   ],
   "source": [
    "salute(many_times(\"Katherine\"))"
   ]
  },
  {
   "cell_type": "code",
   "execution_count": 109,
   "id": "a3e17ce3",
   "metadata": {},
   "outputs": [
    {
     "data": {
      "text/plain": [
       "'Hello CS 235'"
      ]
     },
     "execution_count": 109,
     "metadata": {},
     "output_type": "execute_result"
    }
   ],
   "source": [
    "salute(\"CS 235\")"
   ]
  },
  {
   "cell_type": "code",
   "execution_count": 110,
   "id": "3e8e8a0a",
   "metadata": {
    "slideshow": {
     "slide_type": "slide"
    }
   },
   "outputs": [
    {
     "data": {
      "text/plain": [
       "[{'name': 'salute',\n",
       "  'args': ('John',),\n",
       "  'kwargs': {},\n",
       "  'result': 'Hello John',\n",
       "  'timestamp': datetime.datetime(2022, 3, 31, 10, 43, 1, 910951)},\n",
       " {'name': 'many_times',\n",
       "  'args': ('Susan',),\n",
       "  'kwargs': {},\n",
       "  'result': 'SusanSusan',\n",
       "  'timestamp': datetime.datetime(2022, 3, 31, 10, 43, 2, 334183)},\n",
       " {'name': 'salute',\n",
       "  'args': ('SusanSusan',),\n",
       "  'kwargs': {},\n",
       "  'result': 'Hello SusanSusan',\n",
       "  'timestamp': datetime.datetime(2022, 3, 31, 10, 43, 2, 334191)},\n",
       " {'name': 'many_times',\n",
       "  'args': ('Katherine',),\n",
       "  'kwargs': {},\n",
       "  'result': 'KatherineKatherine',\n",
       "  'timestamp': datetime.datetime(2022, 3, 31, 10, 43, 2, 760099)},\n",
       " {'name': 'salute',\n",
       "  'args': ('KatherineKatherine',),\n",
       "  'kwargs': {},\n",
       "  'result': 'Hello KatherineKatherine',\n",
       "  'timestamp': datetime.datetime(2022, 3, 31, 10, 43, 2, 760110)},\n",
       " {'name': 'salute',\n",
       "  'args': ('CS 235',),\n",
       "  'kwargs': {},\n",
       "  'result': 'Hello CS 235',\n",
       "  'timestamp': datetime.datetime(2022, 3, 31, 10, 43, 3, 176252)}]"
      ]
     },
     "execution_count": 110,
     "metadata": {},
     "output_type": "execute_result"
    }
   ],
   "source": [
    "history"
   ]
  },
  {
   "cell_type": "code",
   "execution_count": 111,
   "id": "7a350c53",
   "metadata": {
    "slideshow": {
     "slide_type": "slide"
    }
   },
   "outputs": [
    {
     "name": "stdout",
     "output_type": "stream",
     "text": [
      "On 2022-03-31 10:43:01.910951\n",
      "  you called 'salute'\n",
      "  with arguments ('John',) and {}\n",
      "  which returned Hello John\n",
      "\n",
      "On 2022-03-31 10:43:02.334183\n",
      "  you called 'many_times'\n",
      "  with arguments ('Susan',) and {}\n",
      "  which returned SusanSusan\n",
      "\n",
      "On 2022-03-31 10:43:02.334191\n",
      "  you called 'salute'\n",
      "  with arguments ('SusanSusan',) and {}\n",
      "  which returned Hello SusanSusan\n",
      "\n",
      "On 2022-03-31 10:43:02.760099\n",
      "  you called 'many_times'\n",
      "  with arguments ('Katherine',) and {}\n",
      "  which returned KatherineKatherine\n",
      "\n",
      "On 2022-03-31 10:43:02.760110\n",
      "  you called 'salute'\n",
      "  with arguments ('KatherineKatherine',) and {}\n",
      "  which returned Hello KatherineKatherine\n",
      "\n",
      "On 2022-03-31 10:43:03.176252\n",
      "  you called 'salute'\n",
      "  with arguments ('CS 235',) and {}\n",
      "  which returned Hello CS 235\n",
      "\n"
     ]
    }
   ],
   "source": [
    "for record in history:\n",
    "    print(f\"On {record['timestamp']}\")\n",
    "    print(f\"  you called '{record['name']}'\")\n",
    "    print(f\"  with arguments {record['args']} and {record['kwargs']}\")\n",
    "    print(f\"  which returned {record['result']}\")\n",
    "    print()"
   ]
  },
  {
   "cell_type": "markdown",
   "id": "3e8c4423",
   "metadata": {
    "slideshow": {
     "slide_type": "slide"
    }
   },
   "source": [
    "### Key Ideas\n",
    "\n",
    "- Decorators are functions that modify a provided function to create a new function\n",
    "- The `@` syntax simplifies this process\n",
    "\n",
    "```python\n",
    "@foo\n",
    "def bar():\n",
    "    pass\n",
    "```\n",
    "Is the same as\n",
    "```python\n",
    "def bar():\n",
    "    pass\n",
    "bar = foo(bar)\n",
    "```"
   ]
  },
  {
   "cell_type": "code",
   "execution_count": null,
   "id": "6b899400",
   "metadata": {
    "slideshow": {
     "slide_type": "slide"
    }
   },
   "outputs": [],
   "source": [
    "def return_in_list(function):\n",
    "    def new_function(*args, **kwargs):\n",
    "        return [function(*args, **kwargs)]\n",
    "    return new_function\n",
    "\n",
    "@return_in_list\n",
    "def foo():\n",
    "    return 7\n",
    "\n",
    "foo()"
   ]
  },
  {
   "cell_type": "code",
   "execution_count": null,
   "id": "a25a090f",
   "metadata": {},
   "outputs": [],
   "source": [
    "def evaluate_and_print(function):\n",
    "    result = function()\n",
    "    print(f\"You just got: {result}\")\n",
    "    return result\n",
    "\n",
    "@evaluate_and_print\n",
    "def foo():\n",
    "    return 7\n",
    "\n",
    "foo"
   ]
  },
  {
   "cell_type": "code",
   "execution_count": null,
   "id": "3845a19e",
   "metadata": {},
   "outputs": [],
   "source": [
    "def none_check(function):\n",
    "    def new_function(*args, **kwargs):\n",
    "        if any(arg is None for arg in args):\n",
    "            return None\n",
    "        if any(value is None for value in kwargs.values()):\n",
    "            return None\n",
    "        return function(*args, **kwargs)\n",
    "    return new_function\n",
    "        \n",
    "@none_check\n",
    "def foo(x):\n",
    "    return x + 1\n",
    "\n",
    "print(foo(2))\n",
    "\n",
    "print(foo(None))"
   ]
  },
  {
   "cell_type": "markdown",
   "id": "028d4a37",
   "metadata": {
    "slideshow": {
     "slide_type": "slide"
    }
   },
   "source": [
    "## Exceptions"
   ]
  },
  {
   "cell_type": "code",
   "execution_count": null,
   "id": "b80a2786",
   "metadata": {},
   "outputs": [],
   "source": [
    "def foo():\n",
    "    print(\"before\")\n",
    "    raise Exception(\"Blaeeeeh\")\n",
    "    print(\"after\")\n",
    "    \n",
    "foo()\n"
   ]
  },
  {
   "cell_type": "code",
   "execution_count": null,
   "id": "945778e7",
   "metadata": {},
   "outputs": [],
   "source": [
    "def foo():\n",
    "    print(\"before\")\n",
    "    raise Exception(\"Blaeeeeh\")\n",
    "    print(\"after\")\n",
    "    \n",
    "try:\n",
    "    foo()\n",
    "except Exception as ex:\n",
    "    print(f\"This got raised: {ex}, and I don't know what to do.\")\n"
   ]
  },
  {
   "cell_type": "code",
   "execution_count": null,
   "id": "3e6143fd",
   "metadata": {},
   "outputs": [],
   "source": [
    "def foo():\n",
    "    print(\"before\")\n",
    "    raise Exception(\"Blaeeeeh\")\n",
    "    print(\"after\")\n",
    "    \n",
    "try:\n",
    "    foo()\n",
    "except KeyError as ex:\n",
    "    print(f\"This got raised: {ex}\")\n",
    "#except Exception as ex:\n",
    "#    print(f\"This got raised: {ex}, and I don't know what to do.\")\n",
    "#except:\n",
    "#    print(\"Ooops\")\n",
    "finally:\n",
    "    print(\"finally!\")"
   ]
  },
  {
   "cell_type": "code",
   "execution_count": null,
   "id": "c178dc40",
   "metadata": {},
   "outputs": [],
   "source": [
    "foo()"
   ]
  },
  {
   "cell_type": "code",
   "execution_count": null,
   "id": "f179351a",
   "metadata": {},
   "outputs": [],
   "source": []
  }
 ],
 "metadata": {
  "celltoolbar": "Slideshow",
  "kernelspec": {
   "display_name": "Python 3 (ipykernel)",
   "language": "python",
   "name": "python3"
  },
  "language_info": {
   "codemirror_mode": {
    "name": "ipython",
    "version": 3
   },
   "file_extension": ".py",
   "mimetype": "text/x-python",
   "name": "python",
   "nbconvert_exporter": "python",
   "pygments_lexer": "ipython3",
   "version": "3.9.7"
  }
 },
 "nbformat": 4,
 "nbformat_minor": 5
}
