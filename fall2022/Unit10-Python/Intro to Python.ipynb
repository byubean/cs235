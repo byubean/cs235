{
 "cells": [
  {
   "cell_type": "markdown",
   "id": "b36b2e88",
   "metadata": {
    "slideshow": {
     "slide_type": "slide"
    }
   },
   "source": [
    "# Python 🐍"
   ]
  },
  {
   "cell_type": "markdown",
   "id": "7f5a4838",
   "metadata": {
    "slideshow": {
     "slide_type": "slide"
    }
   },
   "source": [
    "Your objective in today's lecture is not to learn all the content.\n",
    "\n",
    "Instead, get the gist of the syntax and a general awareness of how things are done in python.\n",
    "\n",
    "Your project will be to spend time trying out python, and today's lecture should give you some ideas of where to start.\n",
    "\n",
    "Feel free to ask questions as we go. Engage the exploration process!"
   ]
  },
  {
   "cell_type": "markdown",
   "id": "b559ea34",
   "metadata": {
    "slideshow": {
     "slide_type": "slide"
    }
   },
   "source": [
    "## Getting Started\n",
    "\n",
    "- Download python 3.9\n",
    "- Download PyCharm\n",
    "\n"
   ]
  },
  {
   "cell_type": "markdown",
   "id": "419eb707",
   "metadata": {
    "slideshow": {
     "slide_type": "slide"
    }
   },
   "source": [
    "## Hello World"
   ]
  },
  {
   "cell_type": "code",
   "execution_count": 1,
   "id": "a5a45ade",
   "metadata": {},
   "outputs": [
    {
     "name": "stdout",
     "output_type": "stream",
     "text": [
      "Hello world!\n"
     ]
    }
   ],
   "source": [
    "print(\"Hello world!\")"
   ]
  },
  {
   "cell_type": "markdown",
   "id": "5923d5ff",
   "metadata": {
    "slideshow": {
     "slide_type": "slide"
    }
   },
   "source": [
    "## Interpreted vs Compiled\n",
    "\n",
    "Python is an **interpreted** language. \n",
    "\n",
    "You don't compile binary executables that will only run in the operating system they are compiled in.\n",
    "\n",
    "You install the python interpreter, and it interprets and executes the source code. "
   ]
  },
  {
   "cell_type": "code",
   "execution_count": null,
   "id": "2aad4e84",
   "metadata": {
    "slideshow": {
     "slide_type": "slide"
    }
   },
   "outputs": [],
   "source": [
    "def foobar():\n",
    "    return bar()\n",
    "\n",
    "def bar():\n",
    "    return 78"
   ]
  },
  {
   "cell_type": "markdown",
   "id": "f9b3fd58",
   "metadata": {},
   "source": [
    "To run a python script, you pass the script path to the `python` executable:\n",
    "\n",
    "```bash\n",
    "python my_script.py\n",
    "```"
   ]
  },
  {
   "cell_type": "markdown",
   "id": "20180e77",
   "metadata": {
    "slideshow": {
     "slide_type": "slide"
    }
   },
   "source": [
    "## Shell\n",
    "\n",
    "Python comes with a **REPL** shell.\n",
    "\n",
    "REPL stands for Read-Evaluate-Print-Loop."
   ]
  },
  {
   "cell_type": "markdown",
   "id": "a233bcf3",
   "metadata": {
    "slideshow": {
     "slide_type": "slide"
    }
   },
   "source": [
    "## Syntax"
   ]
  },
  {
   "cell_type": "markdown",
   "id": "df2a8e3a",
   "metadata": {
    "slideshow": {
     "slide_type": "slide"
    }
   },
   "source": [
    "### Variables"
   ]
  },
  {
   "cell_type": "code",
   "execution_count": 2,
   "id": "a348138a",
   "metadata": {},
   "outputs": [
    {
     "data": {
      "text/plain": [
       "7"
      ]
     },
     "execution_count": 2,
     "metadata": {},
     "output_type": "execute_result"
    }
   ],
   "source": [
    "foo = 7\n",
    "foo"
   ]
  },
  {
   "cell_type": "code",
   "execution_count": 3,
   "id": "321f2336",
   "metadata": {},
   "outputs": [
    {
     "data": {
      "text/plain": [
       "'Woot'"
      ]
     },
     "execution_count": 3,
     "metadata": {},
     "output_type": "execute_result"
    }
   ],
   "source": [
    "foo = 'Woot'\n",
    "foo"
   ]
  },
  {
   "cell_type": "code",
   "execution_count": 4,
   "id": "60faea8c",
   "metadata": {},
   "outputs": [
    {
     "data": {
      "text/plain": [
       "'Woot'"
      ]
     },
     "execution_count": 4,
     "metadata": {},
     "output_type": "execute_result"
    }
   ],
   "source": [
    "foo = \"Woot\"\n",
    "foo"
   ]
  },
  {
   "cell_type": "markdown",
   "id": "2d976978",
   "metadata": {
    "slideshow": {
     "slide_type": "slide"
    }
   },
   "source": [
    "What is the different between using `\"` and `'`?"
   ]
  },
  {
   "cell_type": "markdown",
   "id": "57a0ff30",
   "metadata": {
    "slideshow": {
     "slide_type": "fragment"
    }
   },
   "source": [
    "Nothing.\n",
    "\n",
    "Although there appears to be a slight preference for `'`. "
   ]
  },
  {
   "cell_type": "markdown",
   "id": "3c5708ad",
   "metadata": {
    "slideshow": {
     "slide_type": "slide"
    }
   },
   "source": [
    "Variables in python are not explicitly typed.\n",
    "\n",
    "The data has a type, but the variable does not declare it.\n",
    "\n",
    "If you try to do something to a variable that the underlying type does not support, you get a type error."
   ]
  },
  {
   "cell_type": "code",
   "execution_count": 8,
   "id": "83ff343f",
   "metadata": {},
   "outputs": [
    {
     "data": {
      "text/plain": [
       "2.0"
      ]
     },
     "execution_count": 8,
     "metadata": {},
     "output_type": "execute_result"
    }
   ],
   "source": [
    "foo = 7.5\n",
    "foo // 3"
   ]
  },
  {
   "cell_type": "code",
   "execution_count": 9,
   "id": "501f912c",
   "metadata": {},
   "outputs": [
    {
     "ename": "TypeError",
     "evalue": "unsupported operand type(s) for /: 'str' and 'int'",
     "output_type": "error",
     "traceback": [
      "\u001b[0;31m---------------------------------------------------------------------------\u001b[0m",
      "\u001b[0;31mTypeError\u001b[0m                                 Traceback (most recent call last)",
      "Input \u001b[0;32mIn [9]\u001b[0m, in \u001b[0;36m<cell line: 2>\u001b[0;34m()\u001b[0m\n\u001b[1;32m      1\u001b[0m foo \u001b[38;5;241m=\u001b[39m \u001b[38;5;124m\"\u001b[39m\u001b[38;5;124mwoot\u001b[39m\u001b[38;5;124m\"\u001b[39m\n\u001b[0;32m----> 2\u001b[0m \u001b[43mfoo\u001b[49m\u001b[43m \u001b[49m\u001b[38;5;241;43m/\u001b[39;49m\u001b[43m \u001b[49m\u001b[38;5;241;43m3\u001b[39;49m\n",
      "\u001b[0;31mTypeError\u001b[0m: unsupported operand type(s) for /: 'str' and 'int'"
     ]
    }
   ],
   "source": [
    "foo = \"woot\"\n",
    "foo / 3"
   ]
  },
  {
   "cell_type": "markdown",
   "id": "7004aa99",
   "metadata": {
    "slideshow": {
     "slide_type": "slide"
    }
   },
   "source": [
    "### References\n",
    "\n",
    "Every variable in python is a **reference**. A python reference is like a pointer: it points to an object on the heap. \n",
    "\n",
    "Everything in python is an object, including the \"primitive\" types like `int` and `bool`. \n",
    "\n",
    "In python, you don't get access to the actual bytes. You just have references to objects."
   ]
  },
  {
   "cell_type": "markdown",
   "id": "3c30306d",
   "metadata": {
    "slideshow": {
     "slide_type": "slide"
    }
   },
   "source": [
    "### Built-in Types\n",
    "\n",
    "`int`, `float`, `bool`, `str`, `None`"
   ]
  },
  {
   "cell_type": "code",
   "execution_count": 10,
   "id": "c84a61ab",
   "metadata": {},
   "outputs": [
    {
     "data": {
      "text/plain": [
       "2"
      ]
     },
     "execution_count": 10,
     "metadata": {},
     "output_type": "execute_result"
    }
   ],
   "source": [
    "1 + 1"
   ]
  },
  {
   "cell_type": "code",
   "execution_count": 11,
   "id": "b2c23efc",
   "metadata": {},
   "outputs": [
    {
     "data": {
      "text/plain": [
       "2.0"
      ]
     },
     "execution_count": 11,
     "metadata": {},
     "output_type": "execute_result"
    }
   ],
   "source": [
    "1.0 + 1"
   ]
  },
  {
   "cell_type": "code",
   "execution_count": 12,
   "id": "17c1d03e",
   "metadata": {},
   "outputs": [
    {
     "data": {
      "text/plain": [
       "True"
      ]
     },
     "execution_count": 12,
     "metadata": {},
     "output_type": "execute_result"
    }
   ],
   "source": [
    "True or False"
   ]
  },
  {
   "cell_type": "code",
   "execution_count": 13,
   "id": "859b54d4",
   "metadata": {},
   "outputs": [
    {
     "data": {
      "text/plain": [
       "'11'"
      ]
     },
     "execution_count": 13,
     "metadata": {},
     "output_type": "execute_result"
    }
   ],
   "source": [
    "\"1\" + \"1\""
   ]
  },
  {
   "cell_type": "markdown",
   "id": "ab7de37b",
   "metadata": {
    "slideshow": {
     "slide_type": "slide"
    }
   },
   "source": [
    "## `None`\n",
    "\n",
    "`None` is like `nullptr`. It means \"nothing\"."
   ]
  },
  {
   "cell_type": "code",
   "execution_count": 14,
   "id": "b6f82ede",
   "metadata": {},
   "outputs": [],
   "source": [
    "None"
   ]
  },
  {
   "cell_type": "code",
   "execution_count": 15,
   "id": "d5f1e153",
   "metadata": {},
   "outputs": [
    {
     "data": {
      "text/plain": [
       "NoneType"
      ]
     },
     "execution_count": 15,
     "metadata": {},
     "output_type": "execute_result"
    }
   ],
   "source": [
    "type(None)"
   ]
  },
  {
   "cell_type": "code",
   "execution_count": 16,
   "id": "0100e789",
   "metadata": {},
   "outputs": [
    {
     "data": {
      "text/plain": [
       "False"
      ]
     },
     "execution_count": 16,
     "metadata": {},
     "output_type": "execute_result"
    }
   ],
   "source": [
    "None.__bool__()"
   ]
  },
  {
   "cell_type": "markdown",
   "id": "83ae5ef0",
   "metadata": {},
   "source": [
    "### Strings"
   ]
  },
  {
   "cell_type": "code",
   "execution_count": 17,
   "id": "c5b9ec87",
   "metadata": {},
   "outputs": [
    {
     "data": {
      "text/plain": [
       "'a string that is longer'"
      ]
     },
     "execution_count": 17,
     "metadata": {},
     "output_type": "execute_result"
    }
   ],
   "source": [
    "'a string' + ' that is longer'"
   ]
  },
  {
   "cell_type": "code",
   "execution_count": 18,
   "id": "702ccbd5",
   "metadata": {},
   "outputs": [
    {
     "data": {
      "text/plain": [
       "'win!win!win!win!win!win!win!'"
      ]
     },
     "execution_count": 18,
     "metadata": {},
     "output_type": "execute_result"
    }
   ],
   "source": [
    "'win!' * 7"
   ]
  },
  {
   "cell_type": "code",
   "execution_count": 19,
   "id": "71f11995",
   "metadata": {},
   "outputs": [
    {
     "data": {
      "text/plain": [
       "'I love Python 🐍!'"
      ]
     },
     "execution_count": 19,
     "metadata": {},
     "output_type": "execute_result"
    }
   ],
   "source": [
    "language = 'Python 🐍'\n",
    "f'I love {language}!'"
   ]
  },
  {
   "cell_type": "code",
   "execution_count": 20,
   "id": "9a6ec29f",
   "metadata": {},
   "outputs": [
    {
     "data": {
      "text/plain": [
       "True"
      ]
     },
     "execution_count": 20,
     "metadata": {},
     "output_type": "execute_result"
    }
   ],
   "source": [
    "'y' in 'python'"
   ]
  },
  {
   "cell_type": "code",
   "execution_count": 21,
   "id": "15efa126",
   "metadata": {},
   "outputs": [
    {
     "data": {
      "text/plain": [
       "False"
      ]
     },
     "execution_count": 21,
     "metadata": {},
     "output_type": "execute_result"
    }
   ],
   "source": [
    "'y' in 'c++'"
   ]
  },
  {
   "cell_type": "code",
   "execution_count": 22,
   "id": "c83976dd",
   "metadata": {},
   "outputs": [
    {
     "data": {
      "text/plain": [
       "True"
      ]
     },
     "execution_count": 22,
     "metadata": {},
     "output_type": "execute_result"
    }
   ],
   "source": [
    "'++' in 'C++'"
   ]
  },
  {
   "cell_type": "code",
   "execution_count": 23,
   "id": "7d721ff3",
   "metadata": {},
   "outputs": [
    {
     "data": {
      "text/plain": [
       "True"
      ]
     },
     "execution_count": 23,
     "metadata": {},
     "output_type": "execute_result"
    }
   ],
   "source": [
    "'python'.startswith('py')"
   ]
  },
  {
   "cell_type": "code",
   "execution_count": 24,
   "id": "84bb7e2b",
   "metadata": {},
   "outputs": [
    {
     "data": {
      "text/plain": [
       "'PYTHON'"
      ]
     },
     "execution_count": 24,
     "metadata": {},
     "output_type": "execute_result"
    }
   ],
   "source": [
    "'python'.upper()"
   ]
  },
  {
   "cell_type": "code",
   "execution_count": 25,
   "id": "97433d39",
   "metadata": {},
   "outputs": [
    {
     "data": {
      "text/plain": [
       "['foo', 'bar', 'baz', 'quux']"
      ]
     },
     "execution_count": 25,
     "metadata": {},
     "output_type": "execute_result"
    }
   ],
   "source": [
    "'foo,bar,baz,quux'.split(',')"
   ]
  },
  {
   "cell_type": "code",
   "execution_count": 1,
   "id": "921de7b0",
   "metadata": {},
   "outputs": [
    {
     "data": {
      "text/plain": [
       "'Python 🐍 looks 🐍 very 🐍 useful'"
      ]
     },
     "execution_count": 1,
     "metadata": {},
     "output_type": "execute_result"
    }
   ],
   "source": [
    "' 🐍 '.join(['Python','looks','very','useful'])"
   ]
  },
  {
   "cell_type": "code",
   "execution_count": 2,
   "id": "6e473f23",
   "metadata": {},
   "outputs": [
    {
     "data": {
      "text/plain": [
       "6"
      ]
     },
     "execution_count": 2,
     "metadata": {},
     "output_type": "execute_result"
    }
   ],
   "source": [
    "len(\"foobar\")\n",
    "\n",
    "\n",
    "\n",
    "\n",
    "\n",
    "\n",
    "\n",
    "\n",
    "\n",
    "\n",
    "\n",
    "\n",
    "\n",
    "\n",
    "\n",
    "\n",
    "\n"
   ]
  },
  {
   "cell_type": "markdown",
   "id": "ac487350",
   "metadata": {
    "slideshow": {
     "slide_type": "slide"
    }
   },
   "source": [
    "### Functions"
   ]
  },
  {
   "cell_type": "code",
   "execution_count": 8,
   "id": "afd31d2b",
   "metadata": {},
   "outputs": [],
   "source": [
    "def say_it_with_exuberance(message, punctuation=\"!!!\"):\n",
    "    print(message + punctuation)\n",
    "    print(\"foo\")"
   ]
  },
  {
   "cell_type": "code",
   "execution_count": 12,
   "id": "a18f55d9",
   "metadata": {},
   "outputs": [
    {
     "name": "stdout",
     "output_type": "stream",
     "text": [
      "I love CS235#\n",
      "foo\n"
     ]
    }
   ],
   "source": [
    "say_it_with_exuberance(\"I love CS235\", \"#\")"
   ]
  },
  {
   "cell_type": "markdown",
   "id": "f66323fa",
   "metadata": {
    "slideshow": {
     "slide_type": "fragment"
    }
   },
   "source": [
    "**Note the indentation**.\n",
    "\n",
    "In C++, code blocks are controled by `{ }`.\n",
    "\n",
    "In python, code blocks are controled by indentation."
   ]
  },
  {
   "cell_type": "markdown",
   "id": "31c8bd43",
   "metadata": {
    "slideshow": {
     "slide_type": "slide"
    }
   },
   "source": [
    "### Loops"
   ]
  },
  {
   "cell_type": "code",
   "execution_count": 13,
   "id": "69871a2c",
   "metadata": {},
   "outputs": [
    {
     "name": "stdout",
     "output_type": "stream",
     "text": [
      "0\n",
      "1\n",
      "2\n",
      "3\n",
      "4\n",
      "5\n",
      "6\n",
      "7\n",
      "8\n",
      "9\n",
      "done\n"
     ]
    }
   ],
   "source": [
    "x = 0\n",
    "while x < 10:\n",
    "    print(x)\n",
    "    x += 1\n",
    "print(\"done\")"
   ]
  },
  {
   "cell_type": "code",
   "execution_count": 14,
   "id": "811f8a9f",
   "metadata": {
    "slideshow": {
     "slide_type": "slide"
    }
   },
   "outputs": [
    {
     "name": "stdout",
     "output_type": "stream",
     "text": [
      "0\n",
      "1\n",
      "2\n",
      "3\n",
      "4\n",
      "5\n",
      "6\n",
      "7\n",
      "8\n",
      "9\n"
     ]
    }
   ],
   "source": [
    "# for (int i = 0; i < 7; i++) { cout  << i << endl; }\n",
    "\n",
    "# for (int i : {0, 1, 2, 3, 4, 5, 6}) { cout << i << endl; }\n",
    "\n",
    "\n",
    "for x in range(10):\n",
    "    print(x)"
   ]
  },
  {
   "cell_type": "code",
   "execution_count": 16,
   "id": "ee63a64f",
   "metadata": {
    "slideshow": {
     "slide_type": "slide"
    }
   },
   "outputs": [
    {
     "name": "stdout",
     "output_type": "stream",
     "text": [
      "0 0 0\n",
      "0 1 0\n",
      "0 2 0\n",
      "0 3 0\n",
      "1 0 0\n",
      "1 1 1\n",
      "1 2 2\n",
      "1 3 3\n",
      "2 0 0\n",
      "2 1 2\n",
      "2 2 4\n",
      "2 3 6\n",
      "3 0 0\n",
      "3 1 3\n",
      "3 2 6\n",
      "3 3 9\n"
     ]
    }
   ],
   "source": [
    "for x in range(4):\n",
    "    for y in range(4):\n",
    "        print(x, y, x*y)"
   ]
  },
  {
   "cell_type": "markdown",
   "id": "57d8098e",
   "metadata": {},
   "source": [
    "Python `for` loops are **foreach** loops.\n",
    "\n",
    "You provide a sequence to the loop, and it iterates over each item in the sequence.\n",
    "\n",
    "If you want to do something more complicated, you either use a `while` loop or you build a custom sequence."
   ]
  },
  {
   "cell_type": "markdown",
   "id": "bc533774",
   "metadata": {
    "slideshow": {
     "slide_type": "slide"
    }
   },
   "source": [
    "### Conditionals"
   ]
  },
  {
   "cell_type": "code",
   "execution_count": 17,
   "id": "197a2479",
   "metadata": {},
   "outputs": [
    {
     "name": "stdout",
     "output_type": "stream",
     "text": [
      "i < 3\n",
      "i < 3\n",
      "i < 3\n",
      "3 <= i < 7\n",
      "3 <= i < 7\n",
      "3 <= i < 7\n",
      "3 <= i < 7\n",
      "Big\n",
      "Big\n",
      "Big\n"
     ]
    }
   ],
   "source": [
    "for i in range(10):\n",
    "    if i < 3:\n",
    "        print(\"i < 3\")\n",
    "    elif i < 7:\n",
    "        print(\"3 <= i < 7\")\n",
    "    else:\n",
    "        print(\"Big\")"
   ]
  },
  {
   "cell_type": "markdown",
   "id": "b5dc35d7",
   "metadata": {
    "slideshow": {
     "slide_type": "slide"
    }
   },
   "source": [
    "### Truthiness"
   ]
  },
  {
   "cell_type": "markdown",
   "id": "1fe7aa6d",
   "metadata": {},
   "source": [
    "In python, you can pass almost anything to `if`. "
   ]
  },
  {
   "cell_type": "code",
   "execution_count": 18,
   "id": "a035ca90",
   "metadata": {},
   "outputs": [
    {
     "name": "stdout",
     "output_type": "stream",
     "text": [
      "This is the thing:  True <class 'bool'>\n",
      "It evaluates to True\n",
      "\n",
      "This is the thing:  False <class 'bool'>\n",
      "It evaluates to False\n",
      "\n",
      "This is the thing:  0 <class 'int'>\n",
      "It evaluates to False\n",
      "\n",
      "This is the thing:  1 <class 'int'>\n",
      "It evaluates to True\n",
      "\n",
      "This is the thing:  7 <class 'int'>\n",
      "It evaluates to True\n",
      "\n",
      "This is the thing:  0.0 <class 'float'>\n",
      "It evaluates to False\n",
      "\n",
      "This is the thing:  7.0 <class 'float'>\n",
      "It evaluates to True\n",
      "\n",
      "This is the thing:  -2 <class 'int'>\n",
      "It evaluates to True\n",
      "\n",
      "This is the thing:  yep <class 'str'>\n",
      "It evaluates to True\n",
      "\n",
      "This is the thing:  0 <class 'str'>\n",
      "It evaluates to True\n",
      "\n",
      "This is the thing:  False <class 'str'>\n",
      "It evaluates to True\n",
      "\n",
      "This is the thing:   <class 'str'>\n",
      "It evaluates to False\n",
      "\n",
      "This is the thing:    <class 'str'>\n",
      "It evaluates to True\n",
      "\n",
      "This is the thing:  [1, 2] <class 'list'>\n",
      "It evaluates to True\n",
      "\n",
      "This is the thing:  [] <class 'list'>\n",
      "It evaluates to False\n",
      "\n",
      "This is the thing:  {1: 2} <class 'dict'>\n",
      "It evaluates to True\n",
      "\n",
      "This is the thing:  {} <class 'dict'>\n",
      "It evaluates to False\n",
      "\n",
      "This is the thing:  None <class 'NoneType'>\n",
      "It evaluates to False\n",
      "\n"
     ]
    }
   ],
   "source": [
    "for thing in [True, False, 0, 1, 7, 0.0, 7.0, -2, \"yep\", \"0\", \"False\", \"\", \" \", [1, 2], [], {1: 2}, {}, None]:\n",
    "    print(\"This is the thing: \", thing, type(thing))\n",
    "    if thing:\n",
    "        print(\"It evaluates to True\")\n",
    "    else:\n",
    "        print(\"It evaluates to False\")\n",
    "    print()"
   ]
  },
  {
   "cell_type": "markdown",
   "id": "87f57852",
   "metadata": {
    "slideshow": {
     "slide_type": "slide"
    }
   },
   "source": [
    "### Lists and Sequences\n",
    "\n",
    "A python `list` is like a C++ vector."
   ]
  },
  {
   "cell_type": "code",
   "execution_count": 19,
   "id": "18377ac6",
   "metadata": {},
   "outputs": [
    {
     "name": "stdout",
     "output_type": "stream",
     "text": [
      "1\n",
      "2\n",
      "3\n",
      "4\n",
      "5\n"
     ]
    }
   ],
   "source": [
    "numbers = [1, 2, 3, 4, 5]\n",
    "for number in numbers:\n",
    "    print(number)"
   ]
  },
  {
   "cell_type": "code",
   "execution_count": 21,
   "id": "a339f696",
   "metadata": {
    "slideshow": {
     "slide_type": "slide"
    }
   },
   "outputs": [
    {
     "name": "stdout",
     "output_type": "stream",
     "text": [
      "A word: a\n",
      "A word: bunch\n",
      "A word: of\n",
      "A word: words\n"
     ]
    }
   ],
   "source": [
    "for word in ['a', 'bunch', 'of', 'words']:\n",
    "    print(f\"A word: {word}\")"
   ]
  },
  {
   "cell_type": "code",
   "execution_count": 22,
   "id": "7c58e1d5",
   "metadata": {
    "slideshow": {
     "slide_type": "slide"
    }
   },
   "outputs": [
    {
     "data": {
      "text/plain": [
       "4"
      ]
     },
     "execution_count": 22,
     "metadata": {},
     "output_type": "execute_result"
    }
   ],
   "source": [
    "len([1, 2, 3, 4])"
   ]
  },
  {
   "cell_type": "code",
   "execution_count": 23,
   "id": "9cc0652e",
   "metadata": {
    "slideshow": {
     "slide_type": "slide"
    }
   },
   "outputs": [
    {
     "data": {
      "text/plain": [
       "range(0, 5)"
      ]
     },
     "execution_count": 23,
     "metadata": {},
     "output_type": "execute_result"
    }
   ],
   "source": [
    "range(5)"
   ]
  },
  {
   "cell_type": "code",
   "execution_count": 24,
   "id": "8e44ec72",
   "metadata": {},
   "outputs": [
    {
     "data": {
      "text/plain": [
       "[0, 1, 2, 3, 4]"
      ]
     },
     "execution_count": 24,
     "metadata": {},
     "output_type": "execute_result"
    }
   ],
   "source": [
    "list(range(5))"
   ]
  },
  {
   "cell_type": "code",
   "execution_count": 27,
   "id": "ea2f35c1",
   "metadata": {
    "slideshow": {
     "slide_type": "slide"
    }
   },
   "outputs": [
    {
     "name": "stdout",
     "output_type": "stream",
     "text": [
      "fffffff\n",
      "<class 'str'>\n",
      "ooooooo\n",
      "<class 'str'>\n",
      "ooooooo\n",
      "<class 'str'>\n",
      "bbbbbbb\n",
      "<class 'str'>\n",
      "aaaaaaa\n",
      "<class 'str'>\n",
      "rrrrrrr\n",
      "<class 'str'>\n"
     ]
    }
   ],
   "source": [
    "for letter in 'foobar':\n",
    "    print(letter*7)\n",
    "    print(type(letter))"
   ]
  },
  {
   "cell_type": "code",
   "execution_count": 28,
   "id": "016c8521",
   "metadata": {
    "slideshow": {
     "slide_type": "slide"
    }
   },
   "outputs": [
    {
     "data": {
      "text/plain": [
       "['f', 'o', 'o', 'b', 'a', 'r']"
      ]
     },
     "execution_count": 28,
     "metadata": {},
     "output_type": "execute_result"
    }
   ],
   "source": [
    "list('foobar')"
   ]
  },
  {
   "cell_type": "markdown",
   "id": "8ac79454",
   "metadata": {
    "slideshow": {
     "slide_type": "slide"
    }
   },
   "source": [
    "Lists are mutable.\n"
   ]
  },
  {
   "cell_type": "code",
   "execution_count": 29,
   "id": "cad1fbdf",
   "metadata": {},
   "outputs": [
    {
     "data": {
      "text/plain": [
       "[0, 1, 4, 9, 16, 25, 36]"
      ]
     },
     "execution_count": 29,
     "metadata": {},
     "output_type": "execute_result"
    }
   ],
   "source": [
    "foo = []\n",
    "for a in range(7):\n",
    "    foo.append(a**2)\n",
    "foo"
   ]
  },
  {
   "cell_type": "code",
   "execution_count": 30,
   "id": "618c1378",
   "metadata": {},
   "outputs": [
    {
     "data": {
      "text/plain": [
       "[-5, 1, 4, 9, 16, 25, 36]"
      ]
     },
     "execution_count": 30,
     "metadata": {},
     "output_type": "execute_result"
    }
   ],
   "source": [
    "foo[0] = -5\n",
    "foo"
   ]
  },
  {
   "cell_type": "markdown",
   "id": "90d94163",
   "metadata": {
    "slideshow": {
     "slide_type": "slide"
    }
   },
   "source": [
    "### Tuples\n",
    "\n",
    "Tuples are like lists, but they are not mutable."
   ]
  },
  {
   "cell_type": "code",
   "execution_count": 31,
   "id": "22a6f786",
   "metadata": {},
   "outputs": [
    {
     "ename": "TypeError",
     "evalue": "'tuple' object does not support item assignment",
     "output_type": "error",
     "traceback": [
      "\u001b[0;31m---------------------------------------------------------------------------\u001b[0m",
      "\u001b[0;31mTypeError\u001b[0m                                 Traceback (most recent call last)",
      "Input \u001b[0;32mIn [31]\u001b[0m, in \u001b[0;36m<cell line: 2>\u001b[0;34m()\u001b[0m\n\u001b[1;32m      1\u001b[0m foo \u001b[38;5;241m=\u001b[39m (\u001b[38;5;241m1\u001b[39m, \u001b[38;5;241m2\u001b[39m, \u001b[38;5;241m3\u001b[39m)\n\u001b[0;32m----> 2\u001b[0m foo[\u001b[38;5;241m0\u001b[39m] \u001b[38;5;241m=\u001b[39m \u001b[38;5;241m-\u001b[39m\u001b[38;5;241m5\u001b[39m\n",
      "\u001b[0;31mTypeError\u001b[0m: 'tuple' object does not support item assignment"
     ]
    }
   ],
   "source": [
    "foo = (1, 2, 3)\n",
    "foo[0] = -5"
   ]
  },
  {
   "cell_type": "markdown",
   "id": "144245c4",
   "metadata": {
    "slideshow": {
     "slide_type": "slide"
    }
   },
   "source": [
    "### Unpacking\n",
    "\n",
    "You can turn any sequence of a fixed length into a multivariable assignment."
   ]
  },
  {
   "cell_type": "code",
   "execution_count": 33,
   "id": "74d2869b",
   "metadata": {},
   "outputs": [
    {
     "name": "stdout",
     "output_type": "stream",
     "text": [
      "1\n",
      "2\n"
     ]
    }
   ],
   "source": [
    "a, b = (1, 2)\n",
    "print(a)\n",
    "print(b)"
   ]
  },
  {
   "cell_type": "markdown",
   "id": "cd4a47ab",
   "metadata": {
    "slideshow": {
     "slide_type": "slide"
    }
   },
   "source": [
    "You can use tuples and unpacking to return multiple things from a function."
   ]
  },
  {
   "cell_type": "code",
   "execution_count": 34,
   "id": "97aec9a5",
   "metadata": {
    "slideshow": {
     "slide_type": "-"
    }
   },
   "outputs": [
    {
     "name": "stdout",
     "output_type": "stream",
     "text": [
      "Students grow on food.\n",
      "Birds grow on books.\n",
      "Birds grow on the ground.\n",
      "Trees eat books.\n",
      "Birds grow on grass.\n",
      "Students study the ground.\n",
      "Birds eat grass.\n",
      "Birds study food.\n",
      "Birds eat grass.\n",
      "Birds eat books.\n"
     ]
    }
   ],
   "source": [
    "import random\n",
    "\n",
    "subjects = ['trees', 'birds', 'students']\n",
    "verbs = ['grow on', 'eat', 'study']\n",
    "topics = ['food', 'grass', 'books', 'the ground']\n",
    "\n",
    "\n",
    "def get_words():\n",
    "    return random.choice(subjects), random.choice(verbs), random.choice(topics)\n",
    "\n",
    "\n",
    "for _ in range(10):\n",
    "    subject, verb, topic = get_words()\n",
    "    print(f\"{subject.title()} {verb} {topic}.\")"
   ]
  },
  {
   "cell_type": "markdown",
   "id": "47ca7f1b",
   "metadata": {
    "slideshow": {
     "slide_type": "slide"
    }
   },
   "source": [
    "You can also use unpacking to iterate through multiple sequences at the same time."
   ]
  },
  {
   "cell_type": "code",
   "execution_count": 35,
   "id": "374a9469",
   "metadata": {},
   "outputs": [
    {
     "name": "stdout",
     "output_type": "stream",
     "text": [
      "(0, 'one')\n",
      "(1, 'two')\n",
      "(2, 'three')\n"
     ]
    }
   ],
   "source": [
    "for thing in enumerate(['one', 'two', 'three']):\n",
    "    print(thing)"
   ]
  },
  {
   "cell_type": "code",
   "execution_count": 36,
   "id": "9f487455",
   "metadata": {},
   "outputs": [
    {
     "name": "stdout",
     "output_type": "stream",
     "text": [
      "0: one\n",
      "1: two\n",
      "2: three\n"
     ]
    }
   ],
   "source": [
    "for index, thing in enumerate(['one', 'two', 'three']):\n",
    "    print(f\"{index}: {thing}\")"
   ]
  },
  {
   "cell_type": "code",
   "execution_count": 38,
   "id": "8e799918",
   "metadata": {},
   "outputs": [
    {
     "name": "stdout",
     "output_type": "stream",
     "text": [
      "a x\n",
      "b y\n",
      "c z\n",
      "d !\n"
     ]
    }
   ],
   "source": [
    "for a, b in zip('abcd', 'xyz!?'):\n",
    "    print( a, b)"
   ]
  },
  {
   "cell_type": "markdown",
   "id": "6d4f2e1e",
   "metadata": {
    "slideshow": {
     "slide_type": "slide"
    }
   },
   "source": [
    "### Dictionaries\n",
    "\n",
    "A **dictionary** is the same thing as a map in C++.\n",
    "\n",
    "A python dictionary is implemented with a hashtable + vector, so it preserves insertion order!\n",
    "\n",
    "<img src=\"https://softwaremaniacs.org/media/blog/hash-entries.png\" />\n",
    "\n",
    "Credit: https://softwaremaniacs.org/blog/2020/02/05/dicts-ordered/"
   ]
  },
  {
   "cell_type": "code",
   "execution_count": 39,
   "id": "2ee59155",
   "metadata": {},
   "outputs": [
    {
     "data": {
      "text/plain": [
       "{'Programming': 'A', 'Music': 'A', 'History': 'A', 'Interpretive Dance': 'D-'}"
      ]
     },
     "execution_count": 39,
     "metadata": {},
     "output_type": "execute_result"
    }
   ],
   "source": [
    "grades = {\n",
    "    \"Programming\": \"A\",\n",
    "    \"Music\": \"A\",\n",
    "    \"History\": \"A\",\n",
    "    \"Interpretive Dance\": \"D-\"\n",
    "}\n",
    "grades"
   ]
  },
  {
   "cell_type": "code",
   "execution_count": 40,
   "id": "3f41c0c6",
   "metadata": {},
   "outputs": [
    {
     "data": {
      "text/plain": [
       "'A'"
      ]
     },
     "execution_count": 40,
     "metadata": {},
     "output_type": "execute_result"
    }
   ],
   "source": [
    "grades['Programming']"
   ]
  },
  {
   "cell_type": "code",
   "execution_count": 43,
   "id": "f2fc2a3a",
   "metadata": {},
   "outputs": [
    {
     "ename": "KeyError",
     "evalue": "'Basket Weaving'",
     "output_type": "error",
     "traceback": [
      "\u001b[0;31m---------------------------------------------------------------------------\u001b[0m",
      "\u001b[0;31mKeyError\u001b[0m                                  Traceback (most recent call last)",
      "Input \u001b[0;32mIn [43]\u001b[0m, in \u001b[0;36m<cell line: 1>\u001b[0;34m()\u001b[0m\n\u001b[0;32m----> 1\u001b[0m \u001b[43mgrades\u001b[49m\u001b[43m[\u001b[49m\u001b[38;5;124;43m'\u001b[39;49m\u001b[38;5;124;43mBasket Weaving\u001b[39;49m\u001b[38;5;124;43m'\u001b[39;49m\u001b[43m]\u001b[49m\n",
      "\u001b[0;31mKeyError\u001b[0m: 'Basket Weaving'"
     ]
    }
   ],
   "source": [
    "grades['Basket Weaving']"
   ]
  },
  {
   "cell_type": "code",
   "execution_count": 41,
   "id": "03df4348",
   "metadata": {},
   "outputs": [
    {
     "data": {
      "text/plain": [
       "{'Programming': 'A',\n",
       " 'Music': 'A',\n",
       " 'History': 'A',\n",
       " 'Interpretive Dance': 'D-',\n",
       " 'Math': 'A'}"
      ]
     },
     "execution_count": 41,
     "metadata": {},
     "output_type": "execute_result"
    }
   ],
   "source": [
    "grades['Math'] = 'A'\n",
    "grades"
   ]
  },
  {
   "cell_type": "code",
   "execution_count": 42,
   "id": "1cab3776",
   "metadata": {},
   "outputs": [
    {
     "name": "stdout",
     "output_type": "stream",
     "text": [
      "Programming: A\n",
      "Music: A\n",
      "History: A\n",
      "Interpretive Dance: D-\n",
      "Math: A\n"
     ]
    }
   ],
   "source": [
    "for course, grade in grades.items():\n",
    "    print(f\"{course}: {grade}\")"
   ]
  },
  {
   "cell_type": "markdown",
   "id": "57e53268",
   "metadata": {
    "slideshow": {
     "slide_type": "slide"
    }
   },
   "source": [
    "### Comprehensions\n",
    "\n",
    "The pattern of transforming each item in a sequence to get a new sequence is fairly common."
   ]
  },
  {
   "cell_type": "code",
   "execution_count": 44,
   "id": "c6a00faf",
   "metadata": {},
   "outputs": [
    {
     "data": {
      "text/plain": [
       "[0, 1, 2, 3, 4, 5, 6, 7, 8, 9]"
      ]
     },
     "execution_count": 44,
     "metadata": {},
     "output_type": "execute_result"
    }
   ],
   "source": [
    "numbers = list(range(10))\n",
    "numbers"
   ]
  },
  {
   "cell_type": "code",
   "execution_count": 45,
   "id": "85e3d6cb",
   "metadata": {},
   "outputs": [
    {
     "data": {
      "text/plain": [
       "[10, 11, 12, 13, 14, 15, 16, 17, 18, 19]"
      ]
     },
     "execution_count": 45,
     "metadata": {},
     "output_type": "execute_result"
    }
   ],
   "source": [
    "bigger_numbers = []\n",
    "for number in numbers:\n",
    "    bigger_numbers.append(number + 10)\n",
    "bigger_numbers"
   ]
  },
  {
   "cell_type": "markdown",
   "id": "9a2b08d2",
   "metadata": {
    "slideshow": {
     "slide_type": "slide"
    }
   },
   "source": [
    "Python makes this easy."
   ]
  },
  {
   "cell_type": "code",
   "execution_count": 53,
   "id": "b4a63d61",
   "metadata": {},
   "outputs": [
    {
     "data": {
      "text/plain": [
       "[10, 11, 12, 13, 14, 15, 16, 17, 18, 19]"
      ]
     },
     "execution_count": 53,
     "metadata": {},
     "output_type": "execute_result"
    }
   ],
   "source": [
    "def make_it_bigger(number):\n",
    "    return number + 10\n",
    "\n",
    "#bigger_numbers = [make_it_bigger(number) for number in numbers]\n",
    "# bigger_numbers = [number + 10 for number in numbers]\n",
    "bigger_numbers = list(number + 10 for number in numbers)\n",
    "bigger_numbers"
   ]
  },
  {
   "cell_type": "markdown",
   "id": "b0639a5e",
   "metadata": {
    "slideshow": {
     "slide_type": "-"
    }
   },
   "source": [
    "We call this a **list comprehension**."
   ]
  },
  {
   "cell_type": "markdown",
   "id": "f92b4b88",
   "metadata": {
    "slideshow": {
     "slide_type": "slide"
    }
   },
   "source": [
    "You can also make **dictionary comprehensions**"
   ]
  },
  {
   "cell_type": "code",
   "execution_count": 54,
   "id": "1cfaef88",
   "metadata": {},
   "outputs": [
    {
     "data": {
      "text/plain": [
       "{'Programming': 'A',\n",
       " 'Music': 'A',\n",
       " 'History': 'A',\n",
       " 'Interpretive Dance': 'D-',\n",
       " 'Math': 'A'}"
      ]
     },
     "execution_count": 54,
     "metadata": {},
     "output_type": "execute_result"
    }
   ],
   "source": [
    "grades"
   ]
  },
  {
   "cell_type": "code",
   "execution_count": 58,
   "id": "df034143",
   "metadata": {},
   "outputs": [
    {
     "data": {
      "text/plain": [
       "{0: 'a',\n",
       " 1: 'b',\n",
       " 2: 'c',\n",
       " 3: 'd',\n",
       " 4: 'e',\n",
       " 5: 'f',\n",
       " 6: 'g',\n",
       " 7: 'h',\n",
       " 8: 'i',\n",
       " 9: 'j',\n",
       " 10: 'k',\n",
       " 11: 'l',\n",
       " 12: 'm',\n",
       " 13: 'n',\n",
       " 14: 'o',\n",
       " 15: 'p',\n",
       " 16: 'q',\n",
       " 17: 'r',\n",
       " 18: 's',\n",
       " 19: 't',\n",
       " 20: 'u',\n",
       " 21: 'v',\n",
       " 22: 'w',\n",
       " 23: 'x',\n",
       " 24: 'y',\n",
       " 25: 'z'}"
      ]
     },
     "execution_count": 58,
     "metadata": {},
     "output_type": "execute_result"
    }
   ],
   "source": [
    "alpha_map = {index: letter for index, letter in enumerate('abcdefghijklmnopqrstuvwxyz')}\n",
    "alpha_map"
   ]
  },
  {
   "cell_type": "code",
   "execution_count": 59,
   "id": "92c09dbd",
   "metadata": {},
   "outputs": [
    {
     "data": {
      "text/plain": [
       "{'a': 0,\n",
       " 'b': 1,\n",
       " 'c': 2,\n",
       " 'd': 3,\n",
       " 'e': 4,\n",
       " 'f': 5,\n",
       " 'g': 6,\n",
       " 'h': 7,\n",
       " 'i': 8,\n",
       " 'j': 9,\n",
       " 'k': 10,\n",
       " 'l': 11,\n",
       " 'm': 12,\n",
       " 'n': 13,\n",
       " 'o': 14,\n",
       " 'p': 15,\n",
       " 'q': 16,\n",
       " 'r': 17,\n",
       " 's': 18,\n",
       " 't': 19,\n",
       " 'u': 20,\n",
       " 'v': 21,\n",
       " 'w': 22,\n",
       " 'x': 23,\n",
       " 'y': 24,\n",
       " 'z': 25}"
      ]
     },
     "execution_count": 59,
     "metadata": {},
     "output_type": "execute_result"
    }
   ],
   "source": [
    "{v: k for k, v in alpha_map.items()}"
   ]
  },
  {
   "cell_type": "code",
   "execution_count": 55,
   "id": "9eb86591",
   "metadata": {},
   "outputs": [
    {
     "data": {
      "text/plain": [
       "{'Programming': 'AA',\n",
       " 'Music': 'AA',\n",
       " 'History': 'AA',\n",
       " 'Interpretive Dance': 'D-D-',\n",
       " 'Math': 'AA'}"
      ]
     },
     "execution_count": 55,
     "metadata": {},
     "output_type": "execute_result"
    }
   ],
   "source": [
    "def double_grades(grades):\n",
    "    return {course: grade*2 for course, grade in grades.items()}\n",
    "\n",
    "def double_grades2(grades):\n",
    "    new_grades = {}\n",
    "    for course, grade in grades.items():\n",
    "        new_grades[course] = grade * 2\n",
    "    return new_grades\n",
    "\n",
    "double_grades(grades)"
   ]
  },
  {
   "cell_type": "markdown",
   "id": "9ba552ae",
   "metadata": {
    "slideshow": {
     "slide_type": "slide"
    }
   },
   "source": [
    "## Modules"
   ]
  },
  {
   "cell_type": "markdown",
   "id": "66210543",
   "metadata": {},
   "source": [
    "A single python file (i.e. a file ending in `.py`) is called a **module**.\n",
    "\n",
    "Modules can be bundled together in a package.\n",
    "\n",
    "There are many built-in modules: `random`, `math`, `re`, `sys`, `os`, etc.\n",
    "\n",
    "There are even more third-party modules: `numpy`, `pandas`, `matplotlib`, `beautifulsoup`, `seaborn`, `tkinter`, `jupyter`, `scipy`, etc."
   ]
  },
  {
   "cell_type": "markdown",
   "id": "bfc90565",
   "metadata": {
    "slideshow": {
     "slide_type": "slide"
    }
   },
   "source": [
    "### Pip\n",
    "\n",
    "You can install a third-party python package with `pip`:\n",
    "\n",
    "```bash\n",
    "pip install pandas\n",
    "```\n"
   ]
  },
  {
   "cell_type": "markdown",
   "id": "ab5b340d",
   "metadata": {},
   "source": [
    "Python packages can have dependencies on other packages. Sometimes two packages will depend on different versions of a third package.\n",
    "\n",
    "To keep things moving, python developers use **environments** to create multiple installations of python with different dependencies.\n",
    "\n",
    "**Miniconda** is a popular third-party python environment manager. **Virtual environments** is the standard, built-in environment manager."
   ]
  },
  {
   "cell_type": "markdown",
   "id": "3a13bc0b",
   "metadata": {
    "slideshow": {
     "slide_type": "slide"
    }
   },
   "source": [
    "## File IO"
   ]
  },
  {
   "cell_type": "code",
   "execution_count": 60,
   "id": "e48c6163",
   "metadata": {},
   "outputs": [],
   "source": [
    "with open('demo-file.txt', 'wt') as file:\n",
    "    for i in range(10):\n",
    "        file.write(f\"{i} is a number.\\n\")"
   ]
  },
  {
   "cell_type": "code",
   "execution_count": 61,
   "id": "9699c3e8",
   "metadata": {},
   "outputs": [
    {
     "name": "stdout",
     "output_type": "stream",
     "text": [
      "0 is a number.\r\n",
      "1 is a number.\r\n",
      "2 is a number.\r\n",
      "3 is a number.\r\n",
      "4 is a number.\r\n",
      "5 is a number.\r\n",
      "6 is a number.\r\n",
      "7 is a number.\r\n",
      "8 is a number.\r\n",
      "9 is a number.\r\n"
     ]
    }
   ],
   "source": [
    "! cat demo-file.txt"
   ]
  },
  {
   "cell_type": "code",
   "execution_count": 62,
   "id": "f352e944",
   "metadata": {},
   "outputs": [
    {
     "name": "stdout",
     "output_type": "stream",
     "text": [
      "0 is a number.\n",
      "7\n",
      "1 is a number.\n",
      "8\n",
      "2 is a number.\n",
      "9\n",
      "3 is a number.\n",
      "10\n",
      "4 is a number.\n",
      "11\n",
      "5 is a number.\n",
      "12\n",
      "6 is a number.\n",
      "13\n",
      "7 is a number.\n",
      "14\n",
      "8 is a number.\n",
      "15\n",
      "9 is a number.\n",
      "16\n"
     ]
    }
   ],
   "source": [
    "with open('demo-file.txt', 'rt') as file:\n",
    "    for line in file:\n",
    "        print(line.strip(\"\\n\"))\n",
    "        number, _, __, ___ = line.split()\n",
    "        print(int(number) + 7)"
   ]
  },
  {
   "cell_type": "markdown",
   "id": "ccb6e96d",
   "metadata": {
    "slideshow": {
     "slide_type": "slide"
    }
   },
   "source": [
    "## Terminal Input"
   ]
  },
  {
   "cell_type": "code",
   "execution_count": null,
   "id": "dab22bad",
   "metadata": {
    "slideshow": {
     "slide_type": "-"
    }
   },
   "outputs": [],
   "source": [
    "counts = {}\n",
    "while True:\n",
    "    word = input(\"Enter a pet: \")\n",
    "\n",
    "    if not word:\n",
    "        break\n",
    "    \n",
    "    if word not in counts:\n",
    "        counts[word] = 0\n",
    "    counts[word] += 1\n",
    "counts"
   ]
  },
  {
   "cell_type": "code",
   "execution_count": 63,
   "id": "3c978fb6",
   "metadata": {
    "slideshow": {
     "slide_type": "slide"
    }
   },
   "outputs": [
    {
     "name": "stdout",
     "output_type": "stream",
     "text": [
      "Enter a pet: dog\n",
      "Enter a pet: bird\n",
      "Enter a pet: dog\n",
      "Enter a pet: cat\n",
      "Enter a pet: dog\n",
      "Enter a pet: walrus\n",
      "Enter a pet: lizards\n",
      "Enter a pet: fish\n",
      "Enter a pet: fish\n",
      "Enter a pet: dog\n",
      "Enter a pet: \n"
     ]
    },
    {
     "data": {
      "text/plain": [
       "{'dog': 4, 'bird': 1, 'cat': 1, 'walrus': 1, 'lizards': 1, 'fish': 2}"
      ]
     },
     "execution_count": 63,
     "metadata": {},
     "output_type": "execute_result"
    }
   ],
   "source": [
    "counts = {}\n",
    "\n",
    "while (word := input(\"Enter a pet: \")):\n",
    "    if word not in counts:\n",
    "        counts[word] = 0\n",
    "    counts[word] += 1\n",
    "\n",
    "counts"
   ]
  },
  {
   "cell_type": "code",
   "execution_count": null,
   "id": "a6e893ad",
   "metadata": {
    "slideshow": {
     "slide_type": "slide"
    }
   },
   "outputs": [],
   "source": [
    "from collections import defaultdict\n",
    "\n",
    "counts = defaultdict(int)\n",
    "\n",
    "while (word := input(\"Enter a pet: \")):\n",
    "    counts[word] += 1\n",
    "\n",
    "counts"
   ]
  },
  {
   "cell_type": "markdown",
   "id": "d1c8413f",
   "metadata": {
    "slideshow": {
     "slide_type": "slide"
    }
   },
   "source": [
    "## Key Ideas\n",
    "\n",
    "- No curly braces; scope defined by indentation\n",
    "- **Everything** is an object\n",
    "- Truthy conditionals\n",
    "- Iteration on sequences; no classic `for` loops\n",
    "  - Though you do have `while`\n",
    "- `list` and `dict` are built-in\n",
    "- Comprehensions are concise transforms on a sequence"
   ]
  },
  {
   "cell_type": "code",
   "execution_count": null,
   "id": "e168afc9",
   "metadata": {
    "slideshow": {
     "slide_type": "slide"
    }
   },
   "outputs": [],
   "source": [
    "def say_many_things(*words, foo=8, **other_stuff):\n",
    "    print(\" \".join(words))\n",
    "    print(other_stuff)\n",
    "\n",
    "say_many_things(\"hello\", \"my\", \"name\", \"is\", \"inigo\", more=\"stuff\", foo=7)\n",
    "\n",
    "\n",
    "stuff = ['abc', '123', 'xyz', '456', '890']\n",
    "list(zip(*stuff))\n",
    "\n",
    "\n",
    "\n",
    "\n",
    "\n",
    "\n",
    "\n"
   ]
  },
  {
   "cell_type": "code",
   "execution_count": 70,
   "id": "28bbe406",
   "metadata": {},
   "outputs": [
    {
     "data": {
      "text/plain": [
       "[0.0,\n",
       " 0.3333333333333333,\n",
       " 0.6666666666666666,\n",
       " 1.0,\n",
       " 1.3333333333333333,\n",
       " 1.6666666666666667,\n",
       " 2.0,\n",
       " 2.3333333333333335,\n",
       " 2.6666666666666665,\n",
       " 3.0]"
      ]
     },
     "execution_count": 70,
     "metadata": {},
     "output_type": "execute_result"
    }
   ],
   "source": [
    "[i/3 for i in range(10)]"
   ]
  },
  {
   "cell_type": "code",
   "execution_count": 73,
   "id": "96c4b9d7",
   "metadata": {},
   "outputs": [
    {
     "data": {
      "text/plain": [
       "False"
      ]
     },
     "execution_count": 73,
     "metadata": {},
     "output_type": "execute_result"
    }
   ],
   "source": [
    "None.__bool__()"
   ]
  },
  {
   "cell_type": "code",
   "execution_count": 82,
   "id": "7db0107f",
   "metadata": {},
   "outputs": [],
   "source": [
    "def get_foo(bar):\n",
    "    def foo():\n",
    "        bar()\n",
    "        print(\"foo!\")\n",
    "        \n",
    "    return foo\n"
   ]
  },
  {
   "cell_type": "code",
   "execution_count": 86,
   "id": "1cca47a3",
   "metadata": {},
   "outputs": [
    {
     "name": "stdout",
     "output_type": "stream",
     "text": [
      "7\n",
      "foo!\n"
     ]
    }
   ],
   "source": [
    "def bar():\n",
    "    print(\"bar!!\")\n",
    "\n",
    "foo = get_foo(lambda: print(7))\n",
    "foo()"
   ]
  },
  {
   "cell_type": "code",
   "execution_count": 85,
   "id": "816f96f3",
   "metadata": {},
   "outputs": [
    {
     "name": "stdout",
     "output_type": "stream",
     "text": [
      "foo!\n"
     ]
    }
   ],
   "source": [
    "foo = lambda: print(\"foo!\")\n",
    "foo()"
   ]
  },
  {
   "cell_type": "code",
   "execution_count": null,
   "id": "30c8414e",
   "metadata": {},
   "outputs": [],
   "source": []
  }
 ],
 "metadata": {
  "celltoolbar": "Slideshow",
  "kernelspec": {
   "display_name": "Python 3 (ipykernel)",
   "language": "python",
   "name": "python3"
  },
  "language_info": {
   "codemirror_mode": {
    "name": "ipython",
    "version": 3
   },
   "file_extension": ".py",
   "mimetype": "text/x-python",
   "name": "python",
   "nbconvert_exporter": "python",
   "pygments_lexer": "ipython3",
   "version": "3.9.7"
  }
 },
 "nbformat": 4,
 "nbformat_minor": 5
}
