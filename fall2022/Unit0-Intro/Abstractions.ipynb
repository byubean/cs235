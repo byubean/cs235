{
 "cells": [
  {
   "cell_type": "markdown",
   "id": "3141bc08",
   "metadata": {
    "slideshow": {
     "slide_type": "slide"
    }
   },
   "source": [
    "### What is a car?"
   ]
  },
  {
   "cell_type": "markdown",
   "id": "14545868",
   "metadata": {
    "slideshow": {
     "slide_type": "fragment"
    }
   },
   "source": [
    "<div class=\"big centered\"> 🚗 🚙 🏎 🚃 🚠</div>"
   ]
  },
  {
   "cell_type": "markdown",
   "id": "61fcc053",
   "metadata": {
    "slideshow": {
     "slide_type": "slide"
    }
   },
   "source": [
    "## Abstractions"
   ]
  },
  {
   "cell_type": "markdown",
   "id": "de16dd5d",
   "metadata": {
    "slideshow": {
     "slide_type": "fragment"
    }
   },
   "source": [
    "Ideas. Concepts.\n",
    "\n",
    "An abstraction has a contract: the rules that define the abstraction.\n",
    "\n",
    "The contract informs our expectations about concrete things the abstraction represents.\n",
    "\n",
    "When we use abstractions, we work within the contract that defines that abstraction."
   ]
  },
  {
   "cell_type": "markdown",
   "id": "faef8fa5",
   "metadata": {
    "slideshow": {
     "slide_type": "fragment"
    }
   },
   "source": [
    "Abstractions allow us to function. They save us from detail overload."
   ]
  },
  {
   "cell_type": "markdown",
   "id": "baaa9b40",
   "metadata": {
    "slideshow": {
     "slide_type": "fragment"
    }
   },
   "source": [
    "Abstractions allow us to generalize. We can solve many problems at the same time. "
   ]
  },
  {
   "cell_type": "markdown",
   "id": "30a6d9d4",
   "metadata": {
    "slideshow": {
     "slide_type": "slide"
    }
   },
   "source": [
    "> All models are wrong, but some are useful.\n",
    ">\n",
    ">  —*George Box*"
   ]
  },
  {
   "cell_type": "markdown",
   "id": "594496d0",
   "metadata": {},
   "source": [
    "Abstractions are not perfect—they're not intended to be perfect!\n",
    "\n",
    "They are intended to be useful within the bounds of their contracts. "
   ]
  },
  {
   "cell_type": "markdown",
   "id": "3b15d2bd",
   "metadata": {
    "slideshow": {
     "slide_type": "fragment"
    }
   },
   "source": [
    "**When the implementation of an abstraction violates the intent or contract of an abstraction, we have problems.**"
   ]
  },
  {
   "cell_type": "markdown",
   "id": "703814f1",
   "metadata": {
    "slideshow": {
     "slide_type": "slide"
    }
   },
   "source": [
    "## Abstractions in Computer Science"
   ]
  },
  {
   "cell_type": "markdown",
   "id": "01ef66b2",
   "metadata": {
    "slideshow": {
     "slide_type": "fragment"
    }
   },
   "source": [
    "Variables, functions, and even programs are abstractions."
   ]
  },
  {
   "cell_type": "code",
   "execution_count": null,
   "id": "0960585a",
   "metadata": {
    "slideshow": {
     "slide_type": "slide"
    }
   },
   "outputs": [],
   "source": [
    "int sizeOfFamily;"
   ]
  },
  {
   "cell_type": "markdown",
   "id": "d0e18d27",
   "metadata": {
    "slideshow": {
     "slide_type": "fragment"
    }
   },
   "source": [
    "The language guarantees `int` - i.e. 64 bits that can be interpreted as an integer.\n",
    "\n",
    "But the name of the variable communicates an *abstraction*: this value represents the size of a family."
   ]
  },
  {
   "cell_type": "code",
   "execution_count": null,
   "id": "bd9d5e64",
   "metadata": {
    "slideshow": {
     "slide_type": "fragment"
    }
   },
   "outputs": [],
   "source": [
    "sizeOfFamily = -37; // what!?"
   ]
  },
  {
   "cell_type": "markdown",
   "id": "42dea8a3",
   "metadata": {
    "slideshow": {
     "slide_type": "fragment"
    }
   },
   "source": [
    "<div class=\"big\" align=\"center\">😶</div>"
   ]
  },
  {
   "cell_type": "markdown",
   "id": "e0f156f0",
   "metadata": {
    "slideshow": {
     "slide_type": "fragment"
    }
   },
   "source": [
    "What is the contract of this abstraction?"
   ]
  },
  {
   "cell_type": "code",
   "execution_count": null,
   "id": "19173859",
   "metadata": {
    "slideshow": {
     "slide_type": "fragment"
    }
   },
   "outputs": [],
   "source": [
    "int addNumbers(int a, int b);"
   ]
  },
  {
   "cell_type": "markdown",
   "id": "e80090a4",
   "metadata": {
    "slideshow": {
     "slide_type": "fragment"
    }
   },
   "source": [
    "The language guarantees that if you give `addNumbers` two `int`s, you'll get another `int`.\n",
    "\n",
    "But the name of the variable communicates an *abstraction*: we're expecting a specific arithmetic operation to occur."
   ]
  },
  {
   "cell_type": "code",
   "execution_count": 1,
   "id": "6c9ff6c9",
   "metadata": {
    "slideshow": {
     "slide_type": "fragment"
    }
   },
   "outputs": [],
   "source": [
    "int addNumbers(int a, int b) {\n",
    "    return 7;\n",
    "}"
   ]
  },
  {
   "cell_type": "code",
   "execution_count": 2,
   "id": "b7bbdf36",
   "metadata": {},
   "outputs": [
    {
     "data": {
      "text/plain": [
       "7"
      ]
     },
     "execution_count": 2,
     "metadata": {},
     "output_type": "execute_result"
    }
   ],
   "source": [
    "addNumbers(1, 3)"
   ]
  },
  {
   "cell_type": "markdown",
   "id": "903e0292",
   "metadata": {
    "slideshow": {
     "slide_type": "fragment"
    }
   },
   "source": [
    "<div class=\"big\" align=\"center\">🤨</div>"
   ]
  },
  {
   "cell_type": "markdown",
   "id": "a95be235",
   "metadata": {
    "slideshow": {
     "slide_type": "fragment"
    }
   },
   "source": [
    "What is the contract of this abstraction?"
   ]
  },
  {
   "cell_type": "markdown",
   "id": "62bf392c",
   "metadata": {
    "slideshow": {
     "slide_type": "slide"
    }
   },
   "source": [
    "**Remember**: When our code—the implementation of an abstraction—fails to fulfill the promised contract, we have a problem."
   ]
  },
  {
   "cell_type": "markdown",
   "id": "cb5bac2b",
   "metadata": {
    "slideshow": {
     "slide_type": "fragment"
    }
   },
   "source": [
    "**Defining, implementing, and using abstractions are critical to building successful software.**"
   ]
  },
  {
   "cell_type": "markdown",
   "id": "4c8bf151",
   "metadata": {
    "slideshow": {
     "slide_type": "slide"
    }
   },
   "source": [
    "## What is this class about?"
   ]
  },
  {
   "cell_type": "markdown",
   "id": "9cb0eb35",
   "metadata": {
    "slideshow": {
     "slide_type": "fragment"
    }
   },
   "source": [
    "You'll learn the contracts of tried-and-true computer science abstractions, including data structures like Lists, Sets, and Maps, as well as algorithmic abstractions such as recursion. "
   ]
  },
  {
   "cell_type": "markdown",
   "id": "1687a2b4",
   "metadata": {
    "slideshow": {
     "slide_type": "fragment"
    }
   },
   "source": [
    "But I hope that in this course, you'll also learn how to reason about abstractions, define useful abstractions, and implement abstractions accurately. "
   ]
  },
  {
   "attachments": {
    "image.png": {
     "image/png": "[encoded data removed]"
    }
   },
   "cell_type": "markdown",
   "id": "8ecb661a",
   "metadata": {
    "slideshow": {
     "slide_type": "slide"
    }
   },
   "source": [
    "## Homework\n",
    "- Install **Docker Desktop** (just google it)\n",
    "\n",
    "![image.png](attachment:image.png)"
   ]
  }
 ],
 "metadata": {
  "celltoolbar": "Slideshow",
  "kernelspec": {
   "display_name": "C++11",
   "language": "C++11",
   "name": "xcpp11"
  },
  "language_info": {
   "codemirror_mode": "text/x-c++src",
   "file_extension": ".cpp",
   "mimetype": "text/x-c++src",
   "name": "c++",
   "version": "11"
  }
 },
 "nbformat": 4,
 "nbformat_minor": 5
}
