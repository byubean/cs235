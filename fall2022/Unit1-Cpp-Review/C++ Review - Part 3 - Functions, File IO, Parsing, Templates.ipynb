{
 "cells": [
  {
   "cell_type": "markdown",
   "id": "db1a5b82",
   "metadata": {
    "slideshow": {
     "slide_type": "slide"
    }
   },
   "source": [
    "- 🙏🏻\n",
    "- Do review the online content in Canvas\n",
    "  - If you know it already, great!\n",
    "  - If you don't, treat it like homework and learn the content\n",
    "  - You are welcome to ask questions in class about the online content\n",
    "- Linux tip\n",
    "- Lab 1 assigned today (will discuss more later in class), due next Thursday (we will pass it off in class)"
   ]
  },
  {
   "cell_type": "markdown",
   "id": "3f13fee3",
   "metadata": {
    "slideshow": {
     "slide_type": "slide"
    }
   },
   "source": [
    "# C++ Review - Functions, File IO, Parsing, Templates"
   ]
  },
  {
   "cell_type": "markdown",
   "id": "ac900311",
   "metadata": {
    "slideshow": {
     "slide_type": "slide"
    }
   },
   "source": [
    "## Functions"
   ]
  },
  {
   "cell_type": "code",
   "execution_count": 1,
   "id": "7fc7244b",
   "metadata": {},
   "outputs": [],
   "source": [
    "#include <string>\n",
    "#include <vector>\n",
    "\n",
    "#include <iostream>\n",
    "#include <fstream>\n",
    "#include <sstream>\n",
    "\n",
    "using namespace std;"
   ]
  },
  {
   "cell_type": "code",
   "execution_count": 2,
   "id": "f6c92e62",
   "metadata": {
    "slideshow": {
     "slide_type": "fragment"
    }
   },
   "outputs": [],
   "source": [
    "void print(string message) {\n",
    "    cout << message << endl;\n",
    "}"
   ]
  },
  {
   "cell_type": "code",
   "execution_count": 3,
   "id": "a284804c",
   "metadata": {},
   "outputs": [
    {
     "name": "stdout",
     "output_type": "stream",
     "text": [
      "hi\n"
     ]
    }
   ],
   "source": [
    "print(\"hi\")"
   ]
  },
  {
   "cell_type": "code",
   "execution_count": 4,
   "id": "e9c80a2c",
   "metadata": {
    "slideshow": {
     "slide_type": "fragment"
    }
   },
   "outputs": [],
   "source": [
    "int add(int a, int b) {\n",
    "    return a + b;\n",
    "}"
   ]
  },
  {
   "cell_type": "code",
   "execution_count": 5,
   "id": "2452ef20",
   "metadata": {},
   "outputs": [
    {
     "data": {
      "text/plain": [
       "15"
      ]
     },
     "execution_count": 5,
     "metadata": {},
     "output_type": "execute_result"
    }
   ],
   "source": [
    "add(7, 8)"
   ]
  },
  {
   "cell_type": "markdown",
   "id": "62610c88",
   "metadata": {
    "slideshow": {
     "slide_type": "slide"
    }
   },
   "source": [
    "### Passing arguments\n",
    "When a function is evaluated, the values of the arguments need to be provided to the function code. \n",
    "\n",
    "These values can be passed \"by value\" or \"by reference\". "
   ]
  },
  {
   "cell_type": "code",
   "execution_count": 6,
   "id": "388a71ed",
   "metadata": {
    "slideshow": {
     "slide_type": "fragment"
    }
   },
   "outputs": [],
   "source": [
    "int addStuff(int a, int b) {\n",
    "    printf(\"(addStuff) &a: %p, &b: %p\\n\", &a, &b);\n",
    "    return a + b;\n",
    "}"
   ]
  },
  {
   "cell_type": "code",
   "execution_count": 7,
   "id": "2548d1c8",
   "metadata": {},
   "outputs": [
    {
     "name": "stdout",
     "output_type": "stream",
     "text": [
      "(addStuff) &a: 0xffffe669ad9c, &b: 0xffffe669ad98\n"
     ]
    },
    {
     "data": {
      "text/plain": [
       "15"
      ]
     },
     "execution_count": 7,
     "metadata": {},
     "output_type": "execute_result"
    }
   ],
   "source": [
    "addStuff(7, 8)"
   ]
  },
  {
   "cell_type": "code",
   "execution_count": 8,
   "id": "966ad2ad",
   "metadata": {},
   "outputs": [
    {
     "name": "stdout",
     "output_type": "stream",
     "text": [
      "(Ouside)   &a: 0xffffad87302c, &b: 0xffffad873030\n",
      "(addStuff) &a: 0xffffe669ad7c, &b: 0xffffe669ad78\n"
     ]
    },
    {
     "data": {
      "text/plain": [
       "15"
      ]
     },
     "execution_count": 8,
     "metadata": {},
     "output_type": "execute_result"
    }
   ],
   "source": [
    "int a = 7;\n",
    "int b = 8;\n",
    "printf(\"(Ouside)   &a: %p, &b: %p\\n\", &a, &b);\n",
    "addStuff(a, b)"
   ]
  },
  {
   "cell_type": "code",
   "execution_count": 17,
   "id": "8ed63d80",
   "metadata": {},
   "outputs": [],
   "source": [
    "int addStuffRef(int const& a, int const& b) {\n",
    "    printf(\"(addStuffRef) &a: %p, &b: %p\\n\", &a, &b);\n",
    "    return a + b;\n",
    "}"
   ]
  },
  {
   "cell_type": "code",
   "execution_count": 21,
   "id": "140afeef",
   "metadata": {},
   "outputs": [
    {
     "name": "stdout",
     "output_type": "stream",
     "text": [
      "(Ouside)      &a: 0xffffa41d1020, &b: 0xffffa41d1024\n",
      "(addStuffRef) &a: 0xffffa41d1020, &b: 0xffffa41d1024\n"
     ]
    },
    {
     "data": {
      "text/plain": [
       "15"
      ]
     },
     "execution_count": 21,
     "metadata": {},
     "output_type": "execute_result"
    }
   ],
   "source": [
    "const int a = 7;\n",
    "const int b = 8;\n",
    "printf(\"(Ouside)      &a: %p, &b: %p\\n\", &a, &b);\n",
    "addStuffRef(a, b)"
   ]
  },
  {
   "cell_type": "markdown",
   "id": "69585ba7",
   "metadata": {
    "slideshow": {
     "slide_type": "fragment"
    }
   },
   "source": [
    "What is the difference between `addStuff` and `addStuffRef`?\n",
    "\n",
    "What does it mean to pass things \"by value\"? What about \"by reference\"?"
   ]
  },
  {
   "cell_type": "markdown",
   "id": "2d20fd84",
   "metadata": {
    "slideshow": {
     "slide_type": "fragment"
    }
   },
   "source": [
    "When you pass an argument \"by reference\", you are make the argument name an alias for the original variable.\n",
    "\n",
    "Nothing gets copied. \n",
    "\n",
    "**Both the original variable and the function argument refer to the same slot in memory.**"
   ]
  },
  {
   "cell_type": "markdown",
   "id": "b843fa06",
   "metadata": {
    "slideshow": {
     "slide_type": "slide"
    }
   },
   "source": [
    "## File Input/Output (IO)"
   ]
  },
  {
   "cell_type": "code",
   "execution_count": 22,
   "id": "fbc1b89e",
   "metadata": {
    "slideshow": {
     "slide_type": "slide"
    }
   },
   "outputs": [],
   "source": [
    "string filename = \"./a-demo-file.txt\";\n",
    "ofstream outFile(filename);\n",
    "if (outFile.is_open()) {\n",
    "    outFile << \"Bean 7\" << endl;\n",
    "    outFile << \"Smith 54\" << endl;\n",
    "    outFile << \"Schwartz 0\" << endl;\n",
    "    outFile << \"Spencer 3\" << endl;\n",
    "    outFile << \"Tyler 3\" << endl;\n",
    "    outFile.close();\n",
    "    \n",
    "} else {\n",
    "    cerr << \"Hmm - we didn't open the file for writing...\" << endl;\n",
    "}"
   ]
  },
  {
   "cell_type": "code",
   "execution_count": 23,
   "id": "7747e9ee",
   "metadata": {
    "slideshow": {
     "slide_type": "slide"
    }
   },
   "outputs": [
    {
     "name": "stdout",
     "output_type": "stream",
     "text": [
      "Reading the file ./a-demo-file.txt: \n",
      "Bean 7\n",
      "Smith 54\n",
      "Schwartz 0\n",
      "Spencer 3\n",
      "Tyler 3\n",
      "\n"
     ]
    }
   ],
   "source": [
    "ifstream inFile(filename); \n",
    "if (inFile.is_open()) {\n",
    "    cout << \"Reading the file \" << filename << \": \" << endl;\n",
    "    \n",
    "    string line;\n",
    "    while (!inFile.eof()) {\n",
    "        getline(inFile, line);\n",
    "        cout << line << endl;\n",
    "    }\n",
    "\n",
    "    inFile.close();\n",
    "    \n",
    "} else {\n",
    "    // If the file open didnt work, print out an error\n",
    "    cerr << \"Hmm - we didn't open the file for reading...\" << endl;\n",
    "}"
   ]
  },
  {
   "cell_type": "code",
   "execution_count": 24,
   "id": "17ed23a3",
   "metadata": {
    "slideshow": {
     "slide_type": "fragment"
    }
   },
   "outputs": [
    {
     "name": "stdout",
     "output_type": "stream",
     "text": [
      "a-demo-file.txt\n",
      "Bean 7\n",
      "Smith 54\n",
      "Schwartz 0\n",
      "Spencer 3\n",
      "Tyler 3\n"
     ]
    }
   ],
   "source": [
    "! ls a-demo-file.txt && cat a-demo-file.txt"
   ]
  },
  {
   "cell_type": "code",
   "execution_count": 27,
   "id": "7496b27b",
   "metadata": {
    "slideshow": {
     "slide_type": "slide"
    }
   },
   "outputs": [
    {
     "name": "stdout",
     "output_type": "stream",
     "text": [
      "foo: Gordon bar: Bean baz: 0\n"
     ]
    }
   ],
   "source": [
    "stringstream foostream(\"Gordon    Bean something\"); // \"Foo\", \"Bar\", \"7\"\n",
    "\n",
    "string foo;\n",
    "string bar;\n",
    "int baz;\n",
    "\n",
    "foostream >> foo >> bar >> baz;\n",
    "\n",
    "cout << \"foo: \" << foo << \" bar: \" << bar << \" baz: \" << baz << endl;"
   ]
  },
  {
   "cell_type": "code",
   "execution_count": 41,
   "id": "eae04a07",
   "metadata": {},
   "outputs": [
    {
     "name": "stderr",
     "output_type": "stream",
     "text": [
      "failed to parse baz\n",
      "failed to parse bar\n"
     ]
    },
    {
     "name": "stdout",
     "output_type": "stream",
     "text": [
      "foo: Foo bar:  baz: 0\n"
     ]
    }
   ],
   "source": [
    "stringstream foostream(\"Foo Bar 7\");\n",
    "string foo;\n",
    "string bar;\n",
    "int baz;\n",
    "\n",
    "/*\n",
    "if (fooStream >> foo >> bar >> baz) {\n",
    "    cout << \"foo: \" << foo << \" bar: \" << bar << \" baz: \" << baz << endl;    \n",
    "} else {\n",
    "    cerr << \"The parsing didn't work\" << endl;\n",
    "}\n",
    " \n",
    " */\n",
    "\n",
    "bool fooWorked = !!(foostream >> foo);\n",
    "\n",
    "if (!fooWorked) {\n",
    "    cerr << \"failed to parse foo\" << endl;\n",
    "}\n",
    "\n",
    "if (!(foostream >> baz)) {\n",
    "    cerr << \"failed to parse baz\" << endl;\n",
    "}\n",
    "\n",
    "if (!(foostream >> bar)) {\n",
    "    cerr << \"failed to parse bar\" << endl;\n",
    "}\n",
    "\n",
    "cout << \"foo: \" << foo << \" bar: \" << bar << \" baz: \" << baz << endl;"
   ]
  },
  {
   "cell_type": "code",
   "execution_count": 35,
   "id": "ede12217",
   "metadata": {},
   "outputs": [
    {
     "name": "stderr",
     "output_type": "stream",
     "text": [
      "input_line_54:5:20: warning: expression with side effects will be evaluated despite being used as an operand to 'typeid' [-Wpotentially-evaluated-expression]\n",
      "typeid(foos >> foo >> bar).name()\n",
      "                   ^\n"
     ]
    },
    {
     "data": {
      "text/plain": [
       "\"NSt7__cxx1118basic_stringstreamIcSt11char_traitsIcESaIcEEE\""
      ]
     },
     "execution_count": 35,
     "metadata": {},
     "output_type": "execute_result"
    }
   ],
   "source": [
    "// What exactly is return from `foos >> foo >> bar`?\n",
    "stringstream foos(\"Foo bar\");\n",
    "string foo, bar;\n",
    "typeid(foos >> foo >> bar).name()"
   ]
  },
  {
   "cell_type": "code",
   "execution_count": 39,
   "id": "927b3484",
   "metadata": {
    "slideshow": {
     "slide_type": "slide"
    }
   },
   "outputs": [
    {
     "name": "stdout",
     "output_type": "stream",
     "text": [
      "Reading the file ./a-demo-file.txt: \n",
      "Word: Bean; number: 7 number+1: 8\n",
      "Word: Smith; number: 54 number+1: 55\n",
      "Word: Schwartz; number: 0 number+1: 1\n",
      "Word: Spencer; number: 3 number+1: 4\n",
      "Word: Tyler; number: 3 number+1: 4\n"
     ]
    },
    {
     "name": "stderr",
     "output_type": "stream",
     "text": [
      "Bad line: \n"
     ]
    }
   ],
   "source": [
    "ifstream inFile(filename); \n",
    "string line;\n",
    "\n",
    "if (inFile.is_open()) {\n",
    "    cout << \"Reading the file \" << filename << \": \" << endl;\n",
    "    while (!inFile.eof()) {\n",
    "        \n",
    "        getline(inFile, line);\n",
    "        \n",
    "        string word;\n",
    "        int number;\n",
    "        stringstream tempstream(line);\n",
    "        if (tempstream >> word >> number) {\n",
    "            cout << \"Word: \" << word << \"; number: \" << number << \" number+1: \" << number +1 << endl;            \n",
    "        } else {\n",
    "            cerr << \"Bad line: \" << line << endl;\n",
    "        }\n",
    "    }\n",
    "\n",
    "    inFile.close();\n",
    "    \n",
    "} else {\n",
    "    // If the file open didn't work, print out an error\n",
    "    cerr << \"Hmm - we didn't open the file for reading...\" << endl;\n",
    "}"
   ]
  },
  {
   "cell_type": "markdown",
   "id": "34c1e09d",
   "metadata": {
    "slideshow": {
     "slide_type": "slide"
    }
   },
   "source": [
    "## Read a file of words into a list"
   ]
  },
  {
   "cell_type": "code",
   "execution_count": null,
   "id": "a9b24f71",
   "metadata": {},
   "outputs": [],
   "source": [
    "%%file words.txt\n",
    "these\n",
    "are\n",
    "some\n",
    "words"
   ]
  },
  {
   "cell_type": "code",
   "execution_count": 42,
   "id": "7b11c379",
   "metadata": {},
   "outputs": [],
   "source": [
    "ofstream out(\"words.txt\");\n",
    "if (out.is_open()) {\n",
    "    out << \"these\" << endl << \"are\" << endl << \"some\" << endl << \"words\" << endl;\n",
    "    out.close();\n",
    "} else {\n",
    "    cerr << \"Couldn't open file\" << endl;\n",
    "}"
   ]
  },
  {
   "cell_type": "code",
   "execution_count": 44,
   "id": "7d511012",
   "metadata": {},
   "outputs": [
    {
     "name": "stdout",
     "output_type": "stream",
     "text": [
      "these\n",
      "are\n",
      "some\n",
      "words\n",
      "\n",
      ">>these<<\n",
      ">>are<<\n",
      ">>some<<\n",
      ">>words<<\n",
      ">><<\n"
     ]
    }
   ],
   "source": [
    "vector<string> words;\n",
    "ifstream in(\"words.txt\");\n",
    "if (in.is_open()) {\n",
    "    while (!in.eof()) {\n",
    "        string line;\n",
    "        getline(in, line);\n",
    "        words.push_back(line);\n",
    "    }\n",
    "    in.close();\n",
    "} else {\n",
    "    cerr << \"Couldn't open file\" << endl;\n",
    "}\n",
    "\n",
    "for (int i = 0; i < words.size(); i++) {\n",
    "    cout << words.at(i) << endl;\n",
    "}\n",
    "\n",
    "for (auto it = words.begin(); it!=words.end(); it++) {\n",
    "    cout << \">>\" << *it << \"<<\" << endl;\n",
    "}"
   ]
  },
  {
   "cell_type": "markdown",
   "id": "8ac20a10",
   "metadata": {},
   "source": [
    "Empty line at the end!"
   ]
  },
  {
   "cell_type": "markdown",
   "id": "bf1f06d5",
   "metadata": {},
   "source": [
    "### Sort the words"
   ]
  },
  {
   "cell_type": "code",
   "execution_count": 45,
   "id": "10b8e32e",
   "metadata": {},
   "outputs": [],
   "source": [
    "#include <algorithm>"
   ]
  },
  {
   "cell_type": "code",
   "execution_count": 46,
   "id": "3cbd648f",
   "metadata": {},
   "outputs": [],
   "source": [
    "sort(words.begin(), words.end());"
   ]
  },
  {
   "cell_type": "code",
   "execution_count": 47,
   "id": "8f4bc82c",
   "metadata": {},
   "outputs": [
    {
     "name": "stdout",
     "output_type": "stream",
     "text": [
      ">><<\n",
      ">>are<<\n",
      ">>some<<\n",
      ">>these<<\n",
      ">>words<<\n"
     ]
    }
   ],
   "source": [
    "for (vector<string>::iterator it = words.begin(); it!=words.end(); it++) {\n",
    "    cout << \">>\" << *it << \"<<\" << endl;\n",
    "}"
   ]
  },
  {
   "cell_type": "markdown",
   "id": "ebb9f760",
   "metadata": {
    "slideshow": {
     "slide_type": "slide"
    }
   },
   "source": [
    "## Inheritance\n",
    "\n",
    "*At least...all you need to know for Lab 1. :)*"
   ]
  },
  {
   "cell_type": "code",
   "execution_count": null,
   "id": "a6c0a494",
   "metadata": {
    "slideshow": {
     "slide_type": "fragment"
    }
   },
   "outputs": [],
   "source": [
    "// TodoListInterface.h\n",
    "\n",
    "#include <iostream>\n",
    "#include <string>\n",
    "\n",
    "using namespace std;\n",
    "\n",
    "class TodoListInterface {\n",
    "public:\n",
    "    TodoListInterface() {}\n",
    "    virtual ~TodoListInterface() {}\n",
    "\n",
    "    /*\n",
    "    *   Adds an item to the todo list with the data specified \n",
    "    *   by the string \"_duedate\" and the task specified by \"_task\"\n",
    "    */\n",
    "    virtual void add(string _duedate, string _task) = 0;\n",
    "\n",
    "    /*\n",
    "    *   Removes an item from the todo list with the specified task name\n",
    "    *\n",
    "    *   Returns 1 if it removes an item, 0 otherwise\n",
    "    */\n",
    "    virtual int remove(string _task) = 0;\n",
    "\n",
    "    /*\n",
    "    *   Prints out the full todo list to the console\n",
    "    */\n",
    "    virtual void printTodoList() = 0;\n",
    "    \n",
    "    /*\n",
    "    *   Prints out all items of a todo list with a particular due date (specified by _duedate)\n",
    "    */\n",
    "    virtual void printDaysTasks(string _date) = 0;\n",
    "};\n"
   ]
  },
  {
   "cell_type": "markdown",
   "id": "1301585e",
   "metadata": {
    "slideshow": {
     "slide_type": "slide"
    }
   },
   "source": [
    "Make a file named `TodoList.h`\n",
    "\n",
    "In it, make class `TodoList` that inherits from `TodoListInterface`"
   ]
  },
  {
   "cell_type": "code",
   "execution_count": null,
   "id": "5a41e5fa",
   "metadata": {},
   "outputs": [],
   "source": [
    "// TodoList.h\n",
    "\n",
    "#include <iostream>\n",
    "#include <string>\n",
    "#include \"TodoListInterface.h\"\n",
    "\n",
    "using namespace std;\n",
    "\n",
    "class TodoList: public TodoListInterface {\n",
    "private:\n",
    "    // Private fields go here\n",
    "    \n",
    "public:\n",
    "    TodoList() { \n",
    "        cout << \"Constructor\" << endl;\n",
    "    }\n",
    "    ~TodoList() {\n",
    "        cout << \"Destructor\" << endl;\n",
    "    }\n",
    "\n",
    "    /*\n",
    "    *   Adds an item to the todo list with the data specified \n",
    "    *   by the string \"_duedate\" and the task specified by \"_task\"\n",
    "    */\n",
    "    void add(string _duedate, string _task) {\n",
    "        cout << \"add \" << _duedate << \" \" << _task << endl;\n",
    "    }\n",
    "\n",
    "    /*\n",
    "    *   Removes an item from the todo list with the specified task name\n",
    "    *\n",
    "    *   Returns 1 if it removes an item, 0 otherwise\n",
    "    */\n",
    "    int remove(string _task) {\n",
    "        cout << \"remove \" << _task << endl;\n",
    "    }\n",
    "\n",
    "    /*\n",
    "    *   Prints out the full todo list to the console\n",
    "    */\n",
    "    void printTodoList() {\n",
    "        cout << \"printTodoList\" << endl;\n",
    "    }\n",
    "    \n",
    "    /*\n",
    "    *   Prints out all items of a todo list with a particular due date (specified by _duedate)\n",
    "    */\n",
    "    void printDaysTasks(string _date) {\n",
    "        cout << \"printDaysTask \" << _date << endl;\n",
    "    }\n",
    "};\n",
    "\n"
   ]
  },
  {
   "cell_type": "markdown",
   "id": "ff8257eb",
   "metadata": {
    "slideshow": {
     "slide_type": "slide"
    }
   },
   "source": [
    "Make a `main.cpp` that `#include`s `\"TodoList.h\"`"
   ]
  },
  {
   "cell_type": "code",
   "execution_count": null,
   "id": "06ed8019",
   "metadata": {},
   "outputs": [],
   "source": [
    "// main.cpp\n",
    "\n",
    "#include <iostream>\n",
    "#include \"TodoList.h\"\n",
    "\n",
    "void different() {\n",
    "    cout << \"different\" << endl;\n",
    "    TodoList other;\n",
    "}\n",
    "\n",
    "int main(int argc, char* argv[]) {\n",
    "    std::cout << \"Hello, World!\" << std::endl;\n",
    "    TodoList list;\n",
    "    different();\n",
    "    return 0;\n",
    "}\n"
   ]
  },
  {
   "cell_type": "markdown",
   "id": "93cf49f2",
   "metadata": {
    "slideshow": {
     "slide_type": "slide"
    }
   },
   "source": [
    "### Compile and Run\n",
    "- Demo with CLion\n",
    "- Demo with terminal"
   ]
  },
  {
   "cell_type": "markdown",
   "id": "586c31a6",
   "metadata": {},
   "source": [
    "### With terminal\n",
    "\n",
    "In your CS235 docker, navigate to the Lab1 folder and run:\n",
    "\n",
    "```in-docker\n",
    "g++ -o main main.cpp\n",
    "./main\n",
    "```"
   ]
  },
  {
   "cell_type": "markdown",
   "id": "50fd1547",
   "metadata": {
    "slideshow": {
     "slide_type": "slide"
    }
   },
   "source": [
    "## Homework\n",
    "- Start Lab 1!\n"
   ]
  },
  {
   "cell_type": "markdown",
   "id": "5dc04d74",
   "metadata": {
    "slideshow": {
     "slide_type": "slide"
    }
   },
   "source": [
    "## Templates"
   ]
  },
  {
   "cell_type": "code",
   "execution_count": null,
   "id": "736d2ccc",
   "metadata": {},
   "outputs": [],
   "source": [
    "void print(string const& word) {\n",
    "    cout << word << endl;\n",
    "}"
   ]
  },
  {
   "cell_type": "code",
   "execution_count": null,
   "id": "a14c8b54",
   "metadata": {},
   "outputs": [],
   "source": [
    "print(\"word\")"
   ]
  },
  {
   "cell_type": "code",
   "execution_count": null,
   "id": "0e914a31",
   "metadata": {},
   "outputs": [],
   "source": [
    "print(1)"
   ]
  },
  {
   "cell_type": "code",
   "execution_count": null,
   "id": "76d024e7",
   "metadata": {
    "slideshow": {
     "slide_type": "slide"
    }
   },
   "outputs": [],
   "source": [
    "template<class T>\n",
    "void print(T item) {\n",
    "    cout << item << endl;\n",
    "}"
   ]
  },
  {
   "cell_type": "code",
   "execution_count": null,
   "id": "8a9d8e15",
   "metadata": {},
   "outputs": [],
   "source": [
    "print(\"string\")"
   ]
  },
  {
   "cell_type": "code",
   "execution_count": null,
   "id": "bdbaf576",
   "metadata": {},
   "outputs": [],
   "source": [
    "print(1)"
   ]
  },
  {
   "cell_type": "code",
   "execution_count": null,
   "id": "919830dc",
   "metadata": {},
   "outputs": [],
   "source": [
    "print('b')"
   ]
  }
 ],
 "metadata": {
  "celltoolbar": "Slideshow",
  "kernelspec": {
   "display_name": "C++11",
   "language": "C++11",
   "name": "xcpp11"
  },
  "language_info": {
   "codemirror_mode": "text/x-c++src",
   "file_extension": ".cpp",
   "mimetype": "text/x-c++src",
   "name": "c++",
   "version": "11"
  }
 },
 "nbformat": 4,
 "nbformat_minor": 5
}
