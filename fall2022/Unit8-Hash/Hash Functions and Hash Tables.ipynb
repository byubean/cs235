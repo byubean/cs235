{
 "cells": [
  {
   "cell_type": "markdown",
   "id": "89f64815",
   "metadata": {
    "slideshow": {
     "slide_type": "slide"
    }
   },
   "source": [
    "# Hash"
   ]
  },
  {
   "cell_type": "code",
   "execution_count": 1,
   "id": "50aa8137",
   "metadata": {
    "slideshow": {
     "slide_type": "slide"
    }
   },
   "outputs": [],
   "source": [
    "#include <string>\n",
    "#include <sstream>\n",
    "#include <iostream>\n",
    "#include <vector>\n",
    "#include <list>\n",
    "#include <algorithm>  // find\n",
    "using namespace std;"
   ]
  },
  {
   "cell_type": "markdown",
   "id": "bdf88a51",
   "metadata": {
    "slideshow": {
     "slide_type": "slide"
    }
   },
   "source": [
    "## The Table"
   ]
  },
  {
   "cell_type": "code",
   "execution_count": 2,
   "id": "20452ab4",
   "metadata": {
    "slideshow": {
     "slide_type": "-"
    }
   },
   "outputs": [],
   "source": [
    "string table[10];"
   ]
  },
  {
   "cell_type": "code",
   "execution_count": 3,
   "id": "5717b42d",
   "metadata": {
    "slideshow": {
     "slide_type": "-"
    }
   },
   "outputs": [],
   "source": [
    "void reset_table() {\n",
    "    for (int i = 0; i < 10; i++) {\n",
    "        table[i] = \"\";\n",
    "    }    \n",
    "}"
   ]
  },
  {
   "cell_type": "code",
   "execution_count": 4,
   "id": "73d7e31b",
   "metadata": {},
   "outputs": [],
   "source": [
    "void print_table() {\n",
    "    for (int i = 0; i < 10; i++) {\n",
    "        cout << i << \": \" << table[i] << endl;\n",
    "    }\n",
    "}"
   ]
  },
  {
   "cell_type": "code",
   "execution_count": 5,
   "id": "b28701eb",
   "metadata": {},
   "outputs": [
    {
     "name": "stdout",
     "output_type": "stream",
     "text": [
      "0: \n",
      "1: \n",
      "2: \n",
      "3: \n",
      "4: \n",
      "5: \n",
      "6: \n",
      "7: \n",
      "8: \n",
      "9: \n"
     ]
    }
   ],
   "source": [
    "reset_table();\n",
    "print_table()"
   ]
  },
  {
   "cell_type": "markdown",
   "id": "abe4ed83",
   "metadata": {
    "slideshow": {
     "slide_type": "slide"
    }
   },
   "source": [
    "## The Hash Function"
   ]
  },
  {
   "cell_type": "code",
   "execution_count": 6,
   "id": "d88ae11e",
   "metadata": {
    "slideshow": {
     "slide_type": "-"
    }
   },
   "outputs": [],
   "source": [
    "int string_hash(string const& value) {\n",
    "    int result = 0;\n",
    "    for (auto c : value) {\n",
    "        result += int(c);\n",
    "    }\n",
    "    return result;\n",
    "}"
   ]
  },
  {
   "cell_type": "code",
   "execution_count": 7,
   "id": "591f1131",
   "metadata": {},
   "outputs": [
    {
     "data": {
      "text/plain": [
       "633"
      ]
     },
     "execution_count": 7,
     "metadata": {},
     "output_type": "execute_result"
    }
   ],
   "source": [
    "string_hash(\"foobar\")"
   ]
  },
  {
   "cell_type": "code",
   "execution_count": 8,
   "id": "05384569",
   "metadata": {},
   "outputs": [
    {
     "data": {
      "text/plain": [
       "976"
      ]
     },
     "execution_count": 8,
     "metadata": {},
     "output_type": "execute_result"
    }
   ],
   "source": [
    "string_hash(\"I love cs235!\")"
   ]
  },
  {
   "cell_type": "markdown",
   "id": "0bc9f1da",
   "metadata": {
    "slideshow": {
     "slide_type": "slide"
    }
   },
   "source": [
    "## Table + Hash Function"
   ]
  },
  {
   "cell_type": "code",
   "execution_count": 16,
   "id": "e3082bd2",
   "metadata": {
    "slideshow": {
     "slide_type": "slide"
    }
   },
   "outputs": [],
   "source": [
    "void add_item(string const& item, int (*the_function)(string const&)) {\n",
    "    table[the_function(item) % 10] = item;\n",
    "}"
   ]
  },
  {
   "cell_type": "code",
   "execution_count": 17,
   "id": "95e028b7",
   "metadata": {},
   "outputs": [],
   "source": [
    "int another_hash(string const& item) {\n",
    "    return int(item[0]);\n",
    "}"
   ]
  },
  {
   "cell_type": "code",
   "execution_count": 18,
   "id": "971780ad",
   "metadata": {},
   "outputs": [
    {
     "data": {
      "text/plain": [
       "784"
      ]
     },
     "execution_count": 18,
     "metadata": {},
     "output_type": "execute_result"
    }
   ],
   "source": [
    "string_hash(\"bazquux\")"
   ]
  },
  {
   "cell_type": "code",
   "execution_count": 19,
   "id": "b37da284",
   "metadata": {},
   "outputs": [
    {
     "name": "stdout",
     "output_type": "stream",
     "text": [
      "0: \n",
      "1: \n",
      "2: foobar\n",
      "3: \n",
      "4: \n",
      "5: \n",
      "6: \n",
      "7: \n",
      "8: bazquux\n",
      "9: win!\n"
     ]
    }
   ],
   "source": [
    "reset_table();\n",
    "add_item(\"foobar\", &another_hash);\n",
    "add_item(\"bazquux\", &another_hash);\n",
    "add_item(\"win!\", &another_hash);\n",
    "print_table()"
   ]
  },
  {
   "cell_type": "code",
   "execution_count": 25,
   "id": "79e74b73",
   "metadata": {},
   "outputs": [
    {
     "name": "stdout",
     "output_type": "stream",
     "text": [
      "0: \n",
      "1: \n",
      "2: \n",
      "3: foobar\n",
      "4: bazquux\n",
      "5: \n",
      "6: \n",
      "7: win!\n",
      "8: \n",
      "9: \n"
     ]
    }
   ],
   "source": [
    "reset_table();\n",
    "add_item(\"foobar\", &string_hash);\n",
    "add_item(\"foobar\", &string_hash);\n",
    "add_item(\"bazquux\", &string_hash);\n",
    "add_item(\"win!\", &string_hash);\n",
    "print_table()"
   ]
  },
  {
   "cell_type": "code",
   "execution_count": 22,
   "id": "751a5de6",
   "metadata": {
    "slideshow": {
     "slide_type": "slide"
    }
   },
   "outputs": [],
   "source": [
    "bool has_item(string const& item, int (*hash)(string const&)) {\n",
    "    return table[hash(item) % 10] == item;\n",
    "}"
   ]
  },
  {
   "cell_type": "code",
   "execution_count": 23,
   "id": "91ae7f34",
   "metadata": {},
   "outputs": [
    {
     "data": {
      "text/plain": [
       "true"
      ]
     },
     "execution_count": 23,
     "metadata": {},
     "output_type": "execute_result"
    }
   ],
   "source": [
    "has_item(\"foobar\", &string_hash)"
   ]
  },
  {
   "cell_type": "code",
   "execution_count": 24,
   "id": "e8339eb9",
   "metadata": {},
   "outputs": [
    {
     "data": {
      "text/plain": [
       "false"
      ]
     },
     "execution_count": 24,
     "metadata": {},
     "output_type": "execute_result"
    }
   ],
   "source": [
    "has_item(\"frobnicate\", &string_hash)"
   ]
  },
  {
   "cell_type": "code",
   "execution_count": 26,
   "id": "a27640d3",
   "metadata": {
    "slideshow": {
     "slide_type": "slide"
    }
   },
   "outputs": [],
   "source": [
    "void remove_item(string const& item, int (*hash)(string const&)) {\n",
    "    table[hash(item) % 10] = \"\";\n",
    "}"
   ]
  },
  {
   "cell_type": "code",
   "execution_count": 27,
   "id": "629098eb",
   "metadata": {},
   "outputs": [
    {
     "name": "stdout",
     "output_type": "stream",
     "text": [
      "0: \n",
      "1: \n",
      "2: \n",
      "3: \n",
      "4: bazquux\n",
      "5: \n",
      "6: \n",
      "7: win!\n",
      "8: \n",
      "9: \n"
     ]
    }
   ],
   "source": [
    "remove_item(\"foobar\", &string_hash);\n",
    "print_table()"
   ]
  },
  {
   "cell_type": "markdown",
   "id": "16741fbf",
   "metadata": {
    "slideshow": {
     "slide_type": "slide"
    }
   },
   "source": [
    "## Introducing: The HashTable"
   ]
  },
  {
   "cell_type": "markdown",
   "id": "f5395e95",
   "metadata": {},
   "source": [
    "- A **hash function** converts a value into an integer\n",
    "- A **hash table** uses a hash function to determine the location in which to store the value"
   ]
  },
  {
   "cell_type": "markdown",
   "id": "7d377817",
   "metadata": {
    "slideshow": {
     "slide_type": "slide"
    }
   },
   "source": [
    "What is the big-O complexity to add, remove, or lookup a value?"
   ]
  },
  {
   "cell_type": "markdown",
   "id": "ad3ba7ad",
   "metadata": {
    "slideshow": {
     "slide_type": "fragment"
    }
   },
   "source": [
    "- The time it takes to convert a value into an index is $O(1)$\n",
    "- Add, remove, or lookup are just additional constant operations.\n",
    "\n",
    "$O(1)$!"
   ]
  },
  {
   "cell_type": "markdown",
   "id": "9a1c3dde",
   "metadata": {
    "slideshow": {
     "slide_type": "slide"
    }
   },
   "source": [
    "## Hash Functions: *Revisited*"
   ]
  },
  {
   "cell_type": "code",
   "execution_count": 28,
   "id": "1b61e761",
   "metadata": {},
   "outputs": [],
   "source": [
    "int hash_7(string const& value) {\n",
    "    return 7;\n",
    "}"
   ]
  },
  {
   "cell_type": "code",
   "execution_count": 30,
   "id": "997b9827",
   "metadata": {},
   "outputs": [],
   "source": [
    "int rand_hash(string const& value) {\n",
    "    return rand();\n",
    "}"
   ]
  },
  {
   "cell_type": "code",
   "execution_count": 31,
   "id": "8adbe1e5",
   "metadata": {},
   "outputs": [
    {
     "data": {
      "text/plain": [
       "7"
      ]
     },
     "execution_count": 31,
     "metadata": {},
     "output_type": "execute_result"
    }
   ],
   "source": [
    "hash_7(\"foo\")"
   ]
  },
  {
   "cell_type": "code",
   "execution_count": 32,
   "id": "01a1b5da",
   "metadata": {},
   "outputs": [
    {
     "data": {
      "text/plain": [
       "674016736"
      ]
     },
     "execution_count": 32,
     "metadata": {},
     "output_type": "execute_result"
    }
   ],
   "source": [
    "rand_hash(\"bar\")"
   ]
  },
  {
   "cell_type": "code",
   "execution_count": 33,
   "id": "26947f06",
   "metadata": {},
   "outputs": [
    {
     "data": {
      "text/plain": [
       "1181762074"
      ]
     },
     "execution_count": 33,
     "metadata": {},
     "output_type": "execute_result"
    }
   ],
   "source": [
    "rand_hash(\"bar\")"
   ]
  },
  {
   "cell_type": "markdown",
   "id": "859a1645",
   "metadata": {
    "slideshow": {
     "slide_type": "slide"
    }
   },
   "source": [
    "### Hash Function Qualities\n",
    "\n",
    "The choice of hash function matters. What kind of function do we want?"
   ]
  },
  {
   "cell_type": "markdown",
   "id": "eb7ebd75",
   "metadata": {
    "slideshow": {
     "slide_type": "fragment"
    }
   },
   "source": [
    "- **Determinism**: the same value will ALWAYS yield the same hashcode\n",
    "  - No `rand` in the hash function!\n",
    "  \n",
    "- **Efficiency**: the hashcode can be computed quickly.\n",
    "  - If it takes longer to compute the hashcode than to insert into a BST, that's no good.\n",
    " \n",
    "- **Defined range**: the distribution covers the full defined range\n",
    "  - If my array is 1000 slots long, but my hash function only produces values between 0..10, that's no good.\n",
    "\n",
    "- **Uniformity**: the hashcodes are uniformly distributed across the full possible space\n",
    "  - If my hash function tends to output even numbers but not odd numbers, that's no good.\n",
    "\n"
   ]
  },
  {
   "cell_type": "markdown",
   "id": "5dd128c0",
   "metadata": {
    "slideshow": {
     "slide_type": "slide"
    }
   },
   "source": [
    "## Hash Tables: *Revisited*"
   ]
  },
  {
   "cell_type": "code",
   "execution_count": 34,
   "id": "1bdc0257",
   "metadata": {},
   "outputs": [
    {
     "name": "stdout",
     "output_type": "stream",
     "text": [
      "0: \n",
      "1: \n",
      "2: \n",
      "3: \n",
      "4: \n",
      "5: \n",
      "6: \n",
      "7: \n",
      "8: \n",
      "9: \n"
     ]
    }
   ],
   "source": [
    "reset_table();\n",
    "print_table();"
   ]
  },
  {
   "cell_type": "code",
   "execution_count": 35,
   "id": "6d90d338",
   "metadata": {},
   "outputs": [
    {
     "name": "stdout",
     "output_type": "stream",
     "text": [
      "0: \n",
      "1: \n",
      "2: \n",
      "3: \n",
      "4: oof\n",
      "5: \n",
      "6: \n",
      "7: \n",
      "8: \n",
      "9: \n"
     ]
    }
   ],
   "source": [
    "add_item(\"foo\", &string_hash);\n",
    "add_item(\"oof\", &string_hash);\n",
    "print_table();"
   ]
  },
  {
   "cell_type": "markdown",
   "id": "8164d32e",
   "metadata": {
    "slideshow": {
     "slide_type": "slide"
    }
   },
   "source": [
    "Is it possible to build a hash function that will never produce collisions?"
   ]
  },
  {
   "cell_type": "markdown",
   "id": "1e6f696c",
   "metadata": {
    "slideshow": {
     "slide_type": "fragment"
    }
   },
   "source": [
    "We will always need to handle collisions. \n",
    "\n",
    "How should we do it?"
   ]
  },
  {
   "cell_type": "markdown",
   "id": "4f2f0635",
   "metadata": {
    "slideshow": {
     "slide_type": "slide"
    }
   },
   "source": [
    "## HashTable Collisions"
   ]
  },
  {
   "cell_type": "markdown",
   "id": "a0fe9e4c",
   "metadata": {},
   "source": [
    "One strategy is to use \"probing\".\n",
    "\n",
    "If the slot an item is assigned is occupied, you follow a deterministic algorithm to find another slot. "
   ]
  },
  {
   "cell_type": "markdown",
   "id": "55180e30",
   "metadata": {
    "slideshow": {
     "slide_type": "fragment"
    }
   },
   "source": [
    "This gets complicated. Don't use probing."
   ]
  },
  {
   "cell_type": "markdown",
   "id": "a73f2d66",
   "metadata": {},
   "source": [
    "### Chaining"
   ]
  },
  {
   "cell_type": "markdown",
   "id": "19e64dae",
   "metadata": {},
   "source": [
    "Instead of storing the items directly, each slot stores a list of items. \n",
    "\n",
    "First determine the slot an item should go in, then search the list in that slot. \n",
    "\n",
    "As long as the number of items assigned to the same slot stays small, the performance doesn't degrade.\n",
    "\n",
    "When the number of items gets closer to the capacity of the array, it's time to grow the array."
   ]
  },
  {
   "cell_type": "markdown",
   "id": "7b5666ae",
   "metadata": {},
   "source": [
    "```\n",
    "0: foo, quux\n",
    "1:\n",
    "2: bar\n",
    "3: baz, zip\n",
    "4: \n",
    "5:\n",
    "6: win\n",
    "7: win!\n",
    "8: cs235\n",
    "9: abc\n",
    "```"
   ]
  },
  {
   "cell_type": "markdown",
   "id": "e6752031",
   "metadata": {
    "slideshow": {
     "slide_type": "slide"
    }
   },
   "source": [
    "### Growing"
   ]
  },
  {
   "cell_type": "markdown",
   "id": "91dea9f5",
   "metadata": {},
   "source": [
    "- Create a new array\n",
    "- Re-add each item to the table"
   ]
  },
  {
   "cell_type": "markdown",
   "id": "cdaf79d4",
   "metadata": {
    "slideshow": {
     "slide_type": "fragment"
    }
   },
   "source": [
    "Why not simply copy the lists over to the new array? Why do we need to re-add each item individually?"
   ]
  },
  {
   "cell_type": "markdown",
   "id": "42a5d61a",
   "metadata": {
    "slideshow": {
     "slide_type": "slide"
    }
   },
   "source": [
    "Assume an array size of 10. The hashcodes `1812` and `7502` will end up in the same slot:"
   ]
  },
  {
   "cell_type": "code",
   "execution_count": 36,
   "id": "77934351",
   "metadata": {},
   "outputs": [
    {
     "data": {
      "text/plain": [
       "2"
      ]
     },
     "execution_count": 36,
     "metadata": {},
     "output_type": "execute_result"
    }
   ],
   "source": [
    "1812 % 10"
   ]
  },
  {
   "cell_type": "code",
   "execution_count": 37,
   "id": "66d39200",
   "metadata": {},
   "outputs": [
    {
     "data": {
      "text/plain": [
       "2"
      ]
     },
     "execution_count": 37,
     "metadata": {},
     "output_type": "execute_result"
    }
   ],
   "source": [
    "7502 % 10"
   ]
  },
  {
   "cell_type": "markdown",
   "id": "e1b0e2d0",
   "metadata": {
    "slideshow": {
     "slide_type": "fragment"
    }
   },
   "source": [
    "But when I increase the array size to 20, these same hashcodes now fall in different slots:"
   ]
  },
  {
   "cell_type": "code",
   "execution_count": 38,
   "id": "9ec316b9",
   "metadata": {},
   "outputs": [
    {
     "data": {
      "text/plain": [
       "12"
      ]
     },
     "execution_count": 38,
     "metadata": {},
     "output_type": "execute_result"
    }
   ],
   "source": [
    "1812 % 20"
   ]
  },
  {
   "cell_type": "code",
   "execution_count": 39,
   "id": "60ca7329",
   "metadata": {},
   "outputs": [
    {
     "data": {
      "text/plain": [
       "2"
      ]
     },
     "execution_count": 39,
     "metadata": {},
     "output_type": "execute_result"
    }
   ],
   "source": [
    "7502 % 20"
   ]
  },
  {
   "cell_type": "code",
   "execution_count": 40,
   "id": "404de570",
   "metadata": {
    "slideshow": {
     "slide_type": "slide"
    }
   },
   "outputs": [],
   "source": [
    "template<class T>\n",
    "class HashSet {\n",
    "    int capacity;\n",
    "    int size;\n",
    "    list<T>* table;\n",
    "    int (*hash)(string const&);\n",
    "    \n",
    "    public:\n",
    "\n",
    "    HashSet(int (*hash)(string const&)) : capacity(10), size(0), hash(hash) {\n",
    "        // Each slot is initialized with default value of list<T>\n",
    "        //  which is an empty list\n",
    "        table = new list<T>[capacity];\n",
    "    }\n",
    "    ~HashSet() {\n",
    "        delete[] table;\n",
    "    }\n",
    "    \n",
    "    string to_string() const {\n",
    "        stringstream ss;\n",
    "        for (int i = 0; i < capacity; i++) {\n",
    "            ss << i << \": \";\n",
    "            for (auto item : table[i]) {\n",
    "                ss << item << \",\";\n",
    "            }\n",
    "            ss << endl;\n",
    "        }\n",
    "        return ss.str();\n",
    "    }\n",
    "    \n",
    "    void print() const {\n",
    "        cout << to_string() << endl;\n",
    "    }\n",
    "    \n",
    "    bool add(string const& value) {\n",
    "        if (size > capacity * 0.8) {\n",
    "            _grow();\n",
    "        }\n",
    "        \n",
    "        int pos = hash(value) % capacity;\n",
    "\n",
    "        // Is this item already in the table?\n",
    "        list<T> &bucket = table[pos];\n",
    "        bool found = (std::find(bucket.begin(), bucket.end(), value) != bucket.end());\n",
    "\n",
    "        if (found) {\n",
    "            return false;\n",
    "        }\n",
    "        \n",
    "        bucket.push_back(value);\n",
    "        size++;\n",
    "        return true;\n",
    "    }\n",
    "    \n",
    "    bool remove(string const& value) {\n",
    "        int pos = hash(value) % capacity;\n",
    "        \n",
    "        auto &bucket = table[pos];\n",
    "        \n",
    "        auto iter = std::find(bucket.begin(), bucket.end(), value);\n",
    "\n",
    "        if (iter == bucket.end()) {\n",
    "            return false;\n",
    "        }\n",
    "        \n",
    "        bucket.erase(iter);\n",
    "        size--;\n",
    "        return true;\n",
    "    }\n",
    "    \n",
    "    bool contains(string const& value) {\n",
    "        int pos = hash(value) % capacity;\n",
    "\n",
    "        // Is this item already in the table?\n",
    "        auto &bucket = table[pos];\n",
    "        return (std::find(bucket.begin(), bucket.end(), value) != bucket.end());\n",
    "    }\n",
    "    \n",
    "    void _grow() {\n",
    "        auto old_table = table;\n",
    "        auto old_capacity = capacity;\n",
    "        capacity *= 2;\n",
    "        table = new list<T>[capacity];\n",
    "        size = 0;\n",
    "        for (int i = 0; i < old_capacity; i++) {\n",
    "            for (auto item : old_table[i]) {\n",
    "                add(item);\n",
    "            }\n",
    "        }\n",
    "        delete[] old_table;\n",
    "    }\n",
    "};"
   ]
  },
  {
   "cell_type": "code",
   "execution_count": 41,
   "id": "4b2858a8",
   "metadata": {},
   "outputs": [],
   "source": [
    "HashSet<string> set(string_hash);"
   ]
  },
  {
   "cell_type": "code",
   "execution_count": 42,
   "id": "ac252891",
   "metadata": {},
   "outputs": [],
   "source": [
    "for (auto word : {\"foo\", \"bar\", \"quux\", \"win\", \"stuff\"}) {\n",
    "    set.add(word);\n",
    "}"
   ]
  },
  {
   "cell_type": "code",
   "execution_count": 46,
   "id": "1f532421",
   "metadata": {},
   "outputs": [
    {
     "data": {
      "text/plain": [
       "334"
      ]
     },
     "execution_count": 46,
     "metadata": {},
     "output_type": "execute_result"
    }
   ],
   "source": [
    "string_hash(\"win\")"
   ]
  },
  {
   "cell_type": "code",
   "execution_count": 44,
   "id": "1416f0fb",
   "metadata": {},
   "outputs": [
    {
     "name": "stdout",
     "output_type": "stream",
     "text": [
      "0: \n",
      "1: \n",
      "2: stuff,\n",
      "3: \n",
      "4: foo,win,\n",
      "5: \n",
      "6: \n",
      "7: quux,\n",
      "8: \n",
      "9: bar,\n",
      "\n"
     ]
    }
   ],
   "source": [
    "set.print()"
   ]
  },
  {
   "cell_type": "code",
   "execution_count": 47,
   "id": "84ab7b36",
   "metadata": {},
   "outputs": [],
   "source": [
    "for (auto word : {\"abc\", \"bcd\", \"cde\", \"def\"}) {\n",
    "    set.add(word);\n",
    "}"
   ]
  },
  {
   "cell_type": "code",
   "execution_count": 48,
   "id": "5451331d",
   "metadata": {},
   "outputs": [
    {
     "name": "stdout",
     "output_type": "stream",
     "text": [
      "0: cde,\n",
      "1: \n",
      "2: stuff,\n",
      "3: def,\n",
      "4: foo,win,abc,\n",
      "5: \n",
      "6: \n",
      "7: quux,bcd,\n",
      "8: \n",
      "9: bar,\n",
      "\n"
     ]
    }
   ],
   "source": [
    "set.print()"
   ]
  },
  {
   "cell_type": "code",
   "execution_count": 49,
   "id": "4a851726",
   "metadata": {},
   "outputs": [],
   "source": [
    "for (auto word : {\"efg\"}) {\n",
    "    set.add(word);\n",
    "}"
   ]
  },
  {
   "cell_type": "code",
   "execution_count": 50,
   "id": "28fefcf8",
   "metadata": {},
   "outputs": [
    {
     "name": "stdout",
     "output_type": "stream",
     "text": [
      "0: cde,\n",
      "1: \n",
      "2: \n",
      "3: def,\n",
      "4: foo,\n",
      "5: \n",
      "6: efg,\n",
      "7: quux,\n",
      "8: \n",
      "9: bar,\n",
      "10: \n",
      "11: \n",
      "12: stuff,\n",
      "13: \n",
      "14: win,abc,\n",
      "15: \n",
      "16: \n",
      "17: bcd,\n",
      "18: \n",
      "19: \n",
      "\n"
     ]
    }
   ],
   "source": [
    "set.print()"
   ]
  },
  {
   "cell_type": "code",
   "execution_count": 51,
   "id": "5b4b1538",
   "metadata": {},
   "outputs": [
    {
     "data": {
      "text/plain": [
       "true"
      ]
     },
     "execution_count": 51,
     "metadata": {},
     "output_type": "execute_result"
    }
   ],
   "source": [
    "set.remove(\"abc\")"
   ]
  },
  {
   "cell_type": "code",
   "execution_count": 53,
   "id": "f2b8a65b",
   "metadata": {},
   "outputs": [
    {
     "data": {
      "text/plain": [
       "294"
      ]
     },
     "execution_count": 53,
     "metadata": {},
     "output_type": "execute_result"
    }
   ],
   "source": [
    "string_hash(\"abc\")"
   ]
  },
  {
   "cell_type": "code",
   "execution_count": 52,
   "id": "f5de7200",
   "metadata": {},
   "outputs": [
    {
     "name": "stdout",
     "output_type": "stream",
     "text": [
      "0: cde,\n",
      "1: \n",
      "2: \n",
      "3: def,\n",
      "4: foo,\n",
      "5: \n",
      "6: efg,\n",
      "7: quux,\n",
      "8: \n",
      "9: bar,\n",
      "10: \n",
      "11: \n",
      "12: stuff,\n",
      "13: \n",
      "14: win,\n",
      "15: \n",
      "16: \n",
      "17: bcd,\n",
      "18: \n",
      "19: \n",
      "\n"
     ]
    }
   ],
   "source": [
    "set.print()"
   ]
  },
  {
   "cell_type": "markdown",
   "id": "0d30b47e",
   "metadata": {
    "slideshow": {
     "slide_type": "slide"
    }
   },
   "source": [
    "## Iteration order"
   ]
  },
  {
   "cell_type": "markdown",
   "id": "36ebec72",
   "metadata": {},
   "source": [
    "When you iterate through the values of a hash table, what order to they come out?"
   ]
  },
  {
   "cell_type": "code",
   "execution_count": 54,
   "id": "c07d7208",
   "metadata": {},
   "outputs": [
    {
     "name": "stdout",
     "output_type": "stream",
     "text": [
      "0: cde,\n",
      "1: \n",
      "2: \n",
      "3: def,\n",
      "4: foo,\n",
      "5: \n",
      "6: efg,\n",
      "7: quux,\n",
      "8: \n",
      "9: bar,\n",
      "10: \n",
      "11: \n",
      "12: stuff,\n",
      "13: \n",
      "14: win,\n",
      "15: \n",
      "16: \n",
      "17: bcd,\n",
      "18: \n",
      "19: \n",
      "\n"
     ]
    }
   ],
   "source": [
    "set.print()"
   ]
  },
  {
   "cell_type": "markdown",
   "id": "5bbc7134",
   "metadata": {
    "slideshow": {
     "slide_type": "slide"
    }
   },
   "source": [
    "## Big O"
   ]
  },
  {
   "cell_type": "markdown",
   "id": "05632eef",
   "metadata": {},
   "source": [
    "What is the big-O for add, remove, and contains?"
   ]
  },
  {
   "cell_type": "markdown",
   "id": "6f082642",
   "metadata": {
    "slideshow": {
     "slide_type": "fragment"
    }
   },
   "source": [
    "- Computing the position is $O(1)$\n",
    "- Finding the bucket is $O(1)$\n",
    "- Assuming the hash function uniformly distributes the data, then the probability that there is a collision will be small\n",
    "  - You can tune the grow parameter to improve performance\n",
    "- Growing adds $n$ items over again, but it only happens once every $n$ items, so the amortized complexity is $O(1)$\n",
    "- All together: $O(1)$"
   ]
  },
  {
   "cell_type": "markdown",
   "id": "e7f8d929",
   "metadata": {
    "slideshow": {
     "slide_type": "fragment"
    }
   },
   "source": [
    "What are the pathological cases for a hashtable?"
   ]
  },
  {
   "cell_type": "markdown",
   "id": "4d2fd273",
   "metadata": {
    "slideshow": {
     "slide_type": "fragment"
    }
   },
   "source": [
    "- All the items end up in the same bucket: $O(n)$"
   ]
  },
  {
   "cell_type": "markdown",
   "id": "a6f1a293",
   "metadata": {
    "slideshow": {
     "slide_type": "slide"
    }
   },
   "source": [
    "## Hash Maps"
   ]
  },
  {
   "cell_type": "markdown",
   "id": "de56651a",
   "metadata": {},
   "source": [
    "To turn a set into a map, you store key-value-pairs instead of just values."
   ]
  },
  {
   "cell_type": "code",
   "execution_count": 55,
   "id": "0ab06fa2",
   "metadata": {
    "slideshow": {
     "slide_type": "slide"
    }
   },
   "outputs": [],
   "source": [
    "template<class T>\n",
    "ostream& operator<<(ostream& stream, list<T> things) {\n",
    "    for (auto thing : things) {\n",
    "        stream << thing << \" \";\n",
    "    }\n",
    "    return stream;\n",
    "}"
   ]
  },
  {
   "cell_type": "code",
   "execution_count": 58,
   "id": "1294a7e7",
   "metadata": {},
   "outputs": [
    {
     "name": "stdout",
     "output_type": "stream",
     "text": [
      "foo bar baz \n"
     ]
    }
   ],
   "source": [
    "list<string> stuff = {\"foo\", \"bar\", \"baz\"};\n",
    "cout << stuff << endl;"
   ]
  },
  {
   "cell_type": "code",
   "execution_count": null,
   "id": "ab905a0f",
   "metadata": {},
   "outputs": [],
   "source": [
    "/*\n",
    "map<string, string> foo;\n",
    "foo.add(\"key\", \"something\");\n",
    "foo[\"key\"] = \"value\";\n",
    "// \"something\" = \"value\"\n",
    "*/"
   ]
  },
  {
   "cell_type": "code",
   "execution_count": 60,
   "id": "563e619f",
   "metadata": {},
   "outputs": [],
   "source": [
    "template<class K, class V>\n",
    "class HashMap {\n",
    "    struct KeyValue {\n",
    "        K key;\n",
    "        V value;\n",
    "        KeyValue(K key, V value) : key(key), value(value) {}\n",
    "        bool operator==(KeyValue const& other) {\n",
    "            // We'll say two key-values are the same if their keys are the same\n",
    "            return key == other.key;\n",
    "        }\n",
    "    };\n",
    "    \n",
    "    int capacity;\n",
    "    int size;\n",
    "    list<KeyValue>* table;\n",
    "    int (*hash)(K const&);\n",
    "    \n",
    "    public:\n",
    "    HashMap(int (*hash)(K const&)) : capacity(10), size(0), hash(hash) {\n",
    "        table = new list<KeyValue>[capacity];\n",
    "    }\n",
    "    ~HashMap() { delete[] table; }\n",
    "    \n",
    "    string to_string() const {\n",
    "        stringstream ss;\n",
    "        for (int i = 0; i < capacity; i++) {\n",
    "            ss << i << \": \";\n",
    "            for (auto kv : table[i]) {\n",
    "                ss << kv.key << \":\" << kv.value << \", \";\n",
    "            }\n",
    "            ss << endl;\n",
    "        }\n",
    "        return ss.str();\n",
    "    }\n",
    "    \n",
    "    void print() const {\n",
    "        cout << to_string() << endl;\n",
    "    }\n",
    "    \n",
    "    list<KeyValue>& _get_bucket(K const& key) {\n",
    "        int pos = hash(key) % capacity;        \n",
    "        return table[pos];\n",
    "    }\n",
    "    \n",
    "    bool add(K key, V value) {\n",
    "        if (size > capacity * 0.8) {\n",
    "            _grow();\n",
    "        }\n",
    "        \n",
    "        KeyValue kv(key, value);\n",
    "        auto &bucket = _get_bucket(key);\n",
    "        auto iter = std::find(bucket.begin(), bucket.end(), kv);\n",
    "\n",
    "        if (iter != bucket.end()) {\n",
    "            // The is already a KV with the same key\n",
    "            // Is the value the same?\n",
    "            if (iter->value == value) {\n",
    "                // Yes, same value.\n",
    "                // So return false.\n",
    "                return false;\n",
    "            } else {\n",
    "                // No, different value.\n",
    "                // So replace the value and return true\n",
    "                iter->value = value;\n",
    "                return true;\n",
    "            }\n",
    "        }\n",
    "        \n",
    "        // The key is not already in the table\n",
    "        // So add the KV to the assigned bucket\n",
    "        bucket.push_back(kv);\n",
    "        size++;\n",
    "        return true;\n",
    "    }\n",
    "    \n",
    "    V& operator[](K const& key) {\n",
    "        if (size > capacity * 0.8) { _grow(); }\n",
    "        \n",
    "        // Use default value V() for now\n",
    "        KeyValue kv(key, V());\n",
    "        \n",
    "        auto &bucket = _get_bucket(key);\n",
    "        auto iter = std::find(bucket.begin(), bucket.end(), kv);\n",
    "\n",
    "        if (iter != bucket.end()) {\n",
    "            return iter->value;\n",
    "            \n",
    "        } else {\n",
    "            // The key is not already in the table\n",
    "            // So add the KV to the assigned bucket\n",
    "            iter = bucket.insert(iter, kv);\n",
    "            size++;\n",
    "            return iter->value;\n",
    "        }\n",
    "    }\n",
    "    \n",
    "    void _grow() {\n",
    "        auto old_table = table;\n",
    "        auto old_capacity = capacity;\n",
    "        capacity *= 2;\n",
    "        table = new list<KeyValue>[capacity];\n",
    "        size = 0;\n",
    "        for (int i = 0; i < old_capacity; i++) {\n",
    "            for (auto key_value : old_table[i]) {\n",
    "                add(key_value.key, key_value.value);\n",
    "            }\n",
    "        }\n",
    "        delete[] old_table;\n",
    "    }\n",
    "};"
   ]
  },
  {
   "cell_type": "code",
   "execution_count": 61,
   "id": "ed95e529",
   "metadata": {
    "slideshow": {
     "slide_type": "slide"
    }
   },
   "outputs": [],
   "source": [
    "HashMap<string, int> my_map(&string_hash);"
   ]
  },
  {
   "cell_type": "code",
   "execution_count": 64,
   "id": "33670d5d",
   "metadata": {},
   "outputs": [
    {
     "data": {
      "text/plain": [
       "true"
      ]
     },
     "execution_count": 64,
     "metadata": {},
     "output_type": "execute_result"
    }
   ],
   "source": [
    "my_map.add(\"foo\", 7)"
   ]
  },
  {
   "cell_type": "code",
   "execution_count": 65,
   "id": "fc5d2b21",
   "metadata": {},
   "outputs": [
    {
     "name": "stdout",
     "output_type": "stream",
     "text": [
      "0: \n",
      "1: \n",
      "2: \n",
      "3: \n",
      "4: foo:7, \n",
      "5: \n",
      "6: \n",
      "7: \n",
      "8: \n",
      "9: \n",
      "\n"
     ]
    }
   ],
   "source": [
    "my_map.print()"
   ]
  },
  {
   "cell_type": "code",
   "execution_count": 66,
   "id": "8c14307a",
   "metadata": {
    "slideshow": {
     "slide_type": "slide"
    }
   },
   "outputs": [
    {
     "data": {
      "text/plain": [
       "12"
      ]
     },
     "execution_count": 66,
     "metadata": {},
     "output_type": "execute_result"
    }
   ],
   "source": [
    "my_map[\"quux\"] = 12"
   ]
  },
  {
   "cell_type": "code",
   "execution_count": 67,
   "id": "a22aae28",
   "metadata": {},
   "outputs": [
    {
     "data": {
      "text/plain": [
       "0"
      ]
     },
     "execution_count": 67,
     "metadata": {},
     "output_type": "execute_result"
    }
   ],
   "source": [
    "my_map[\"bar\"]"
   ]
  },
  {
   "cell_type": "code",
   "execution_count": 68,
   "id": "aca6c60e",
   "metadata": {},
   "outputs": [
    {
     "name": "stdout",
     "output_type": "stream",
     "text": [
      "0: \n",
      "1: \n",
      "2: \n",
      "3: \n",
      "4: foo:7, \n",
      "5: \n",
      "6: \n",
      "7: quux:12, \n",
      "8: \n",
      "9: bar:0, \n",
      "\n"
     ]
    }
   ],
   "source": [
    "my_map.print()"
   ]
  },
  {
   "cell_type": "code",
   "execution_count": 69,
   "id": "dfb9a009",
   "metadata": {
    "slideshow": {
     "slide_type": "slide"
    }
   },
   "outputs": [
    {
     "data": {
      "text/plain": [
       "8"
      ]
     },
     "execution_count": 69,
     "metadata": {},
     "output_type": "execute_result"
    }
   ],
   "source": [
    "my_map[\"foo\"] = 8"
   ]
  },
  {
   "cell_type": "code",
   "execution_count": 70,
   "id": "dc6ccb72",
   "metadata": {},
   "outputs": [
    {
     "name": "stdout",
     "output_type": "stream",
     "text": [
      "0: \n",
      "1: \n",
      "2: \n",
      "3: \n",
      "4: foo:8, \n",
      "5: \n",
      "6: \n",
      "7: quux:12, \n",
      "8: \n",
      "9: bar:0, \n",
      "\n"
     ]
    }
   ],
   "source": [
    "my_map.print()"
   ]
  },
  {
   "cell_type": "code",
   "execution_count": 71,
   "id": "be553fb7",
   "metadata": {},
   "outputs": [],
   "source": [
    "my_map[\"bar\"] = 7;\n",
    "my_map[\"quux\"] = 9;\n",
    "my_map[\"stuff\"] = 3;"
   ]
  },
  {
   "cell_type": "code",
   "execution_count": 73,
   "id": "906a1ea6",
   "metadata": {},
   "outputs": [
    {
     "name": "stdout",
     "output_type": "stream",
     "text": [
      "0: \n",
      "1: \n",
      "2: stuff:3, \n",
      "3: \n",
      "4: foo:8, \n",
      "5: \n",
      "6: \n",
      "7: quux:9, \n",
      "8: \n",
      "9: bar:7, \n",
      "\n"
     ]
    }
   ],
   "source": [
    "my_map.print()"
   ]
  },
  {
   "cell_type": "code",
   "execution_count": 74,
   "id": "f4f92084",
   "metadata": {
    "slideshow": {
     "slide_type": "slide"
    }
   },
   "outputs": [],
   "source": [
    "int char_hash(char const& c) {\n",
    "    return int(c);\n",
    "}"
   ]
  },
  {
   "cell_type": "code",
   "execution_count": 75,
   "id": "554c5b34",
   "metadata": {},
   "outputs": [],
   "source": [
    "HashMap<char, list<string>> stuff(&char_hash);"
   ]
  },
  {
   "cell_type": "code",
   "execution_count": 76,
   "id": "3b27fa76",
   "metadata": {},
   "outputs": [],
   "source": [
    "for (auto word : {\"some\", \"words\", \"and\", \"stuff\", \"to\", \"include\", \"when\", \"that\", \"makes\", \"sense\"}) {\n",
    "    stuff[word[0]].push_back(word);\n",
    "}"
   ]
  },
  {
   "cell_type": "code",
   "execution_count": 77,
   "id": "f901b2d4",
   "metadata": {},
   "outputs": [
    {
     "name": "stdout",
     "output_type": "stream",
     "text": [
      "0: \n",
      "1: \n",
      "2: \n",
      "3: \n",
      "4: \n",
      "5: s:some stuff sense , i:include , \n",
      "6: t:to that , \n",
      "7: a:and , \n",
      "8: \n",
      "9: w:words when , m:makes , \n",
      "\n"
     ]
    }
   ],
   "source": [
    "stuff.print()"
   ]
  },
  {
   "cell_type": "code",
   "execution_count": 78,
   "id": "4fa7fdc1",
   "metadata": {},
   "outputs": [
    {
     "data": {
      "text/plain": [
       "{ \"some\", \"stuff\", \"sense\" }"
      ]
     },
     "execution_count": 78,
     "metadata": {},
     "output_type": "execute_result"
    }
   ],
   "source": [
    "stuff['s']"
   ]
  },
  {
   "cell_type": "code",
   "execution_count": 79,
   "id": "00f0e996",
   "metadata": {},
   "outputs": [
    {
     "data": {
      "text/plain": [
       "{ \"and\" }"
      ]
     },
     "execution_count": 79,
     "metadata": {},
     "output_type": "execute_result"
    }
   ],
   "source": [
    "stuff['a']"
   ]
  },
  {
   "cell_type": "code",
   "execution_count": 80,
   "id": "9c29d15d",
   "metadata": {},
   "outputs": [
    {
     "data": {
      "text/plain": [
       "{ \"include\" }"
      ]
     },
     "execution_count": 80,
     "metadata": {},
     "output_type": "execute_result"
    }
   ],
   "source": [
    "stuff['i']"
   ]
  },
  {
   "cell_type": "markdown",
   "id": "9553af54",
   "metadata": {
    "slideshow": {
     "slide_type": "slide"
    }
   },
   "source": [
    "## How to Hash Anything"
   ]
  },
  {
   "cell_type": "code",
   "execution_count": 81,
   "id": "83544a7b",
   "metadata": {},
   "outputs": [],
   "source": [
    "template <typename T>\n",
    "int hashme(T const& param) {\n",
    "    unsigned char *ptr = (unsigned char *)&param;\n",
    "    int sum = 0;\n",
    "    for(int i = 0; i < sizeof(param); i++) {\n",
    "        sum += ptr[i];\n",
    "    }\n",
    "    return sum;\n",
    "}"
   ]
  },
  {
   "cell_type": "code",
   "execution_count": 82,
   "id": "305e9838",
   "metadata": {},
   "outputs": [
    {
     "data": {
      "text/plain": [
       "532"
      ]
     },
     "execution_count": 82,
     "metadata": {},
     "output_type": "execute_result"
    }
   ],
   "source": [
    "hashme(\"hello\")"
   ]
  },
  {
   "cell_type": "code",
   "execution_count": 83,
   "id": "60b5aaaf",
   "metadata": {},
   "outputs": [
    {
     "data": {
      "text/plain": [
       "4"
      ]
     },
     "execution_count": 83,
     "metadata": {},
     "output_type": "execute_result"
    }
   ],
   "source": [
    "sizeof(8)"
   ]
  },
  {
   "cell_type": "code",
   "execution_count": 84,
   "id": "7b7b0c20",
   "metadata": {},
   "outputs": [
    {
     "data": {
      "text/plain": [
       "111"
      ]
     },
     "execution_count": 84,
     "metadata": {},
     "output_type": "execute_result"
    }
   ],
   "source": [
    "hashme(876)"
   ]
  },
  {
   "cell_type": "code",
   "execution_count": 85,
   "id": "379fddc5",
   "metadata": {},
   "outputs": [
    {
     "data": {
      "text/plain": [
       "1403"
      ]
     },
     "execution_count": 85,
     "metadata": {},
     "output_type": "execute_result"
    }
   ],
   "source": [
    "struct Foo {\n",
    "    int foo;\n",
    "    string bar;\n",
    "    Foo(int foo, string bar) : foo(foo), bar(bar) {}\n",
    "};\n",
    "Foo foo(7, \"world\");\n",
    "hashme(foo)"
   ]
  },
  {
   "cell_type": "markdown",
   "id": "d1007971",
   "metadata": {
    "slideshow": {
     "slide_type": "slide"
    }
   },
   "source": [
    "## Key Ideas\n",
    "\n",
    "- Hash functions convert a value into an integer\n",
    "- Hash tables use hash functions to store values in $O(1)$ time\n",
    "- Hash maps use hash tables to store key-value pairs. "
   ]
  }
 ],
 "metadata": {
  "celltoolbar": "Slideshow",
  "kernelspec": {
   "display_name": "C++11",
   "language": "C++11",
   "name": "xcpp11"
  },
  "language_info": {
   "codemirror_mode": "text/x-c++src",
   "file_extension": ".cpp",
   "mimetype": "text/x-c++src",
   "name": "c++",
   "version": "11"
  }
 },
 "nbformat": 4,
 "nbformat_minor": 5
}
