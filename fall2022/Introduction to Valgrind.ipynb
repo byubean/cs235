{
 "cells": [
  {
   "cell_type": "markdown",
   "id": "1343b3ef",
   "metadata": {
    "slideshow": {
     "slide_type": "slide"
    }
   },
   "source": [
    "## Valgrind\n",
    "\n",
    "When you allocate memory on the heap (`new`), but don't free it (`delete`), then you have a *memory leak*. "
   ]
  },
  {
   "cell_type": "markdown",
   "id": "82596efa",
   "metadata": {
    "slideshow": {
     "slide_type": "fragment"
    }
   },
   "source": [
    "When your application leaks memory, it still things the memory is used, and so won't use it for anything else. Over time, you use up more and more memory doing...nothing."
   ]
  },
  {
   "cell_type": "markdown",
   "id": "ac45475a",
   "metadata": {
    "slideshow": {
     "slide_type": "fragment"
    }
   },
   "source": [
    "<div class='big centered'>🤦🏻‍♂️</div>"
   ]
  },
  {
   "cell_type": "markdown",
   "id": "c04b6c19",
   "metadata": {
    "slideshow": {
     "slide_type": "slide"
    }
   },
   "source": [
    "`valgrind` runs your program and ensures that you didn't have any *memory leaks*. "
   ]
  },
  {
   "cell_type": "markdown",
   "id": "0092aff7",
   "metadata": {
    "slideshow": {
     "slide_type": "fragment"
    }
   },
   "source": [
    "Excellent answer to \"How do I run Valgrind?\"\n",
    "\n",
    "https://stackoverflow.com/a/44989219/2288986"
   ]
  },
  {
   "cell_type": "code",
   "execution_count": null,
   "id": "d40d81af",
   "metadata": {
    "slideshow": {
     "slide_type": "fragment"
    }
   },
   "outputs": [],
   "source": [
    "%%file foo.cpp\n",
    "int main() {\n",
    "    int* foo = new int(7);\n",
    "}"
   ]
  },
  {
   "cell_type": "markdown",
   "id": "faf5c9b4",
   "metadata": {
    "slideshow": {
     "slide_type": "fragment"
    }
   },
   "source": [
    "```bash\n",
    "g++ -o foo foo.cpp\n",
    "```"
   ]
  },
  {
   "cell_type": "markdown",
   "id": "7bf7f7a0",
   "metadata": {
    "slideshow": {
     "slide_type": "fragment"
    }
   },
   "source": [
    "```bash\n",
    "valgrind --leak-check=full \\\n",
    "         --show-leak-kinds=all \\\n",
    "         --track-origins=yes \\\n",
    "         --verbose \\\n",
    "         --log-file=valgrind-out.txt \\\n",
    "         ./foo\n",
    "```"
   ]
  },
  {
   "cell_type": "markdown",
   "id": "cde8bf58",
   "metadata": {
    "slideshow": {
     "slide_type": "slide"
    }
   },
   "source": [
    "Sometimes you need more details about where the problem happened. \n",
    "\n",
    "You can include `-ggdb3` when you compile to include debugger information in your executable.\n",
    "\n",
    "The executable will be bigger, but for small programs that shouldn't be an issue.\n",
    "\n",
    "```bash\n",
    "g++ -o foo -ggdb3 foo.cpp\n",
    "```"
   ]
  },
  {
   "cell_type": "markdown",
   "id": "1c6edca4",
   "metadata": {
    "slideshow": {
     "slide_type": "fragment"
    }
   },
   "source": [
    "```bash\n",
    "valgrind --leak-check=full \\\n",
    "         --show-leak-kinds=all \\\n",
    "         --track-origins=yes \\\n",
    "         --verbose \\\n",
    "         --log-file=valgrind-out.txt \\\n",
    "         ./foo\n",
    "```"
   ]
  }
 ],
 "metadata": {
  "celltoolbar": "Slideshow",
  "kernelspec": {
   "display_name": "C++11",
   "language": "C++11",
   "name": "xcpp11"
  },
  "language_info": {
   "codemirror_mode": "text/x-c++src",
   "file_extension": ".cpp",
   "mimetype": "text/x-c++src",
   "name": "c++",
   "version": "11"
  }
 },
 "nbformat": 4,
 "nbformat_minor": 5
}
