{
 "cells": [
  {
   "cell_type": "markdown",
   "id": "96f56134",
   "metadata": {
    "slideshow": {
     "slide_type": "slide"
    }
   },
   "source": [
    "# CS 235 Course Overview"
   ]
  },
  {
   "cell_type": "markdown",
   "id": "fb9b0b35",
   "metadata": {
    "slideshow": {
     "slide_type": "slide"
    }
   },
   "source": [
    "- Learn how the magic works\n",
    "- Appreciate the work of those that have come before you\n",
    "- Establish a foundation to build upon throughout your career\n",
    "- Expand your mind and grow in wisdom\n",
    "- Develop your faith"
   ]
  },
  {
   "cell_type": "markdown",
   "id": "7f804a4a",
   "metadata": {
    "slideshow": {
     "slide_type": "slide"
    }
   },
   "source": [
    "## Syllabus"
   ]
  },
  {
   "cell_type": "markdown",
   "id": "16c86921",
   "metadata": {
    "slideshow": {
     "slide_type": "slide"
    }
   },
   "source": [
    "### Office hours\n",
    "\n",
    "**TMCB 2252, W/Th 3:30 - 4:30, or by appointment**"
   ]
  },
  {
   "cell_type": "markdown",
   "id": "3180cd4f",
   "metadata": {
    "slideshow": {
     "slide_type": "slide"
    }
   },
   "source": [
    "## TA Office\n",
    "\n",
    "**1160 TMCB**"
   ]
  },
  {
   "cell_type": "markdown",
   "id": "ab640487",
   "metadata": {
    "slideshow": {
     "slide_type": "slide"
    }
   },
   "source": [
    "### Honesty\n",
    "- Don't cheat\n",
    "- Your grade should be a reflection of what you can do and what you know\n",
    "- Follow your conscience: you know what is expected. Do it.\n",
    "- If you do something you don't feel good about, come talk to me."
   ]
  },
  {
   "cell_type": "markdown",
   "id": "2b2e1d0e",
   "metadata": {
    "slideshow": {
     "slide_type": "slide"
    }
   },
   "source": [
    "### Is this course online?\n",
    "\n",
    "The online and in-person sections share the same Canvas course.\n",
    "\n",
    "You have access to everything the online students do. You are welcome to read/watch it all.\n"
   ]
  },
  {
   "cell_type": "markdown",
   "id": "73bbcc15",
   "metadata": {
    "slideshow": {
     "slide_type": "slide"
    }
   },
   "source": [
    "## Canvas"
   ]
  },
  {
   "cell_type": "markdown",
   "id": "02b2fa70",
   "metadata": {
    "slideshow": {
     "slide_type": "slide"
    }
   },
   "source": [
    "## What you do in this class\n",
    "\n",
    "- Come to lecture\n",
    "- Do the reading quizzes in Canvas\n",
    "- Do the projects\n",
    "  - Some are Canvas quizzes\n",
    "  - Some are turned in by Gradescope\n",
    "- Pay attention to due dates in Canvas\n",
    "- Stay curious, work hard, have faith, and get help when you need it"
   ]
  }
 ],
 "metadata": {
  "celltoolbar": "Slideshow",
  "kernelspec": {
   "display_name": "C++14",
   "language": "C++14",
   "name": "xcpp14"
  },
  "language_info": {
   "codemirror_mode": "text/x-c++src",
   "file_extension": ".cpp",
   "mimetype": "text/x-c++src",
   "name": "c++",
   "version": "14"
  }
 },
 "nbformat": 4,
 "nbformat_minor": 5
}
