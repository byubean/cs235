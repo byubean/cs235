{
 "cells": [
  {
   "cell_type": "markdown",
   "id": "36881df9",
   "metadata": {
    "slideshow": {
     "slide_type": "slide"
    }
   },
   "source": [
    "# Intro: Docker"
   ]
  },
  {
   "cell_type": "markdown",
   "id": "40ce39bb",
   "metadata": {
    "slideshow": {
     "slide_type": "slide"
    }
   },
   "source": [
    "**Download Docker Desktop**: https://www.docker.com/products/docker-desktop "
   ]
  },
  {
   "cell_type": "markdown",
   "id": "b97cb691",
   "metadata": {
    "slideshow": {
     "slide_type": "slide"
    }
   },
   "source": [
    "## What is Docker?\n",
    "\n",
    "Docker is a powerful platform for running and managing *containers*. Containers are like virtual machines—they simulate a virtual runtime inside another operating system. \n",
    "\n",
    "Docker does many things, most of which are outside the scope of how we will use it in this course. We'll use some examples to demonstrate how docker will be used.\n",
    "\n",
    "```terminal\n",
    "Commands you should run in your terminal will \n",
    "  look like this.\n",
    "```\n",
    "\n",
    "```in-docker\n",
    "Commands you should run in the docker container will \n",
    "  look like this.\n",
    "```"
   ]
  },
  {
   "cell_type": "markdown",
   "id": "dbcef80b",
   "metadata": {
    "slideshow": {
     "slide_type": "slide"
    }
   },
   "source": [
    "## Pull an image\n",
    "\n",
    "```terminal\n",
    "docker pull byubean/cs235-env:latest\n",
    "```\n",
    "\n",
    "What do the different parts of this command mean?\n",
    "\n",
    "What happens when you run it?"
   ]
  },
  {
   "cell_type": "markdown",
   "id": "9c590a3e",
   "metadata": {
    "slideshow": {
     "slide_type": "slide"
    }
   },
   "source": [
    "## Run a container\n",
    "\n",
    "```terminal\n",
    "docker run -it --rm byubean/cs235-env:latest bash\n",
    "```\n",
    "\n",
    "What do the different parts of this command mean?\n",
    "\n",
    "What happens when you run it?"
   ]
  },
  {
   "cell_type": "markdown",
   "id": "368e1a56",
   "metadata": {
    "slideshow": {
     "slide_type": "fragment"
    }
   },
   "source": [
    "<div class=\"big\">🏃🏻‍♂️</div>"
   ]
  },
  {
   "cell_type": "markdown",
   "id": "e9d14e2c",
   "metadata": {
    "slideshow": {
     "slide_type": "slide"
    }
   },
   "source": [
    "## `byubean/cs235-env`\n",
    "\n",
    "What is in this docker image?\n",
    "```terminal\n",
    "docker run -it --rm byubean/cs235-env:latest bash\n",
    "```\n",
    "\n",
    "and then:\n",
    "\n",
    "```in-docker\n",
    "ls\n",
    "```\n",
    "\n",
    "```in-docker\n",
    "which g++\n",
    "g++ --version\n",
    "```\n",
    "\n",
    "```in-docker\n",
    "which valgrind\n",
    "valgrind --version\n",
    "```\n",
    "\n",
    "```in-docker\n",
    "cat /etc/os-release\n",
    "```"
   ]
  },
  {
   "cell_type": "markdown",
   "id": "37404f0d",
   "metadata": {
    "slideshow": {
     "slide_type": "slide"
    }
   },
   "source": [
    "## File System\n",
    "\n",
    "Inside the `cs235-env` image:\n",
    "\n",
    "```in-docker\n",
    "echo \"hello world!\" > message.txt\n",
    "ls\n",
    "cat message.txt\n",
    "exit\n",
    "```\n",
    "\n",
    "When you exit the docker image, what happens?"
   ]
  },
  {
   "cell_type": "markdown",
   "id": "191e6101",
   "metadata": {
    "slideshow": {
     "slide_type": "fragment"
    }
   },
   "source": [
    "Let's run it again:\n",
    "```terminal\n",
    "docker run -it --rm byubean/cs235-env:latest bash\n",
    "```\n",
    "and then\n",
    "```in-docker\n",
    "ls\n",
    "```"
   ]
  },
  {
   "cell_type": "markdown",
   "id": "25cbfdc8",
   "metadata": {
    "slideshow": {
     "slide_type": "fragment"
    }
   },
   "source": [
    "Where is `message.txt`!?"
   ]
  },
  {
   "cell_type": "markdown",
   "id": "e6df32a4",
   "metadata": {
    "slideshow": {
     "slide_type": "slide"
    }
   },
   "source": [
    "### Mounting folders inside a container\n",
    "\n",
    "```terminal\n",
    "docker run -it --rm -v /Users/gbean/demo:/data byubean/cs235-env:latest bash\n",
    "```\n",
    "\n",
    "Now:\n",
    "```in-docker\n",
    "ls /data\n",
    "```\n",
    "\n",
    "What do you see?"
   ]
  },
  {
   "cell_type": "markdown",
   "id": "999f53b1",
   "metadata": {
    "slideshow": {
     "slide_type": "fragment"
    }
   },
   "source": [
    "```in-docker\n",
    "echo \"hello world!\" > /data/message.txt\n",
    "```\n",
    "Can you see `message.txt` in your file browser?"
   ]
  },
  {
   "cell_type": "markdown",
   "id": "1e46a3a9",
   "metadata": {
    "slideshow": {
     "slide_type": "slide"
    }
   },
   "source": [
    "## Using docker to build and run code\n",
    "In the folder you mounted in docker (e.g. `/Users/gbean/demo`), write a file named `hello.cpp` with the following contents:\n",
    "\n",
    "```c++\n",
    "#include <iostream>\n",
    "int main() { std::cout << \"hello docker!\" << std::endl; }\n",
    "```\n",
    "\n",
    "Then\n",
    "```terminal\n",
    "docker run -it --rm -v /Users/gbean/demo:/data byubean/cs235-env:latest bash\n",
    "```\n",
    "and\n",
    "```in-docker\n",
    "g++ -o hello /data/hello.cpp && ./hello\n",
    "```\n",
    "\n",
    "What do you get?"
   ]
  },
  {
   "cell_type": "markdown",
   "id": "4fc884d3",
   "metadata": {
    "slideshow": {
     "slide_type": "slide"
    }
   },
   "source": [
    "## Homework\n",
    "- Install Docker Desktop\n",
    "- `docker pull byubean/cs235-env`\n",
    "- Run `bash` inside the docker\n",
    "- Run the docker with a mounted directory\n",
    "- Write code outside the docker container; mount the folder containing the code; compile and run the code inside the container"
   ]
  }
 ],
 "metadata": {
  "celltoolbar": "Slideshow",
  "kernelspec": {
   "display_name": "Python 3 (ipykernel)",
   "language": "python",
   "name": "python3"
  },
  "language_info": {
   "codemirror_mode": {
    "name": "ipython",
    "version": 3
   },
   "file_extension": ".py",
   "mimetype": "text/x-python",
   "name": "python",
   "nbconvert_exporter": "python",
   "pygments_lexer": "ipython3",
   "version": "3.9.5"
  }
 },
 "nbformat": 4,
 "nbformat_minor": 5
}
