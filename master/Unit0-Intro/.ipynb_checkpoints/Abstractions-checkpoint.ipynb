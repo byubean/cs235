{
 "cells": [
  {
   "cell_type": "markdown",
   "id": "3141bc08",
   "metadata": {
    "slideshow": {
     "slide_type": "slide"
    }
   },
   "source": [
    "### What is a car?"
   ]
  },
  {
   "cell_type": "markdown",
   "id": "14545868",
   "metadata": {
    "slideshow": {
     "slide_type": "fragment"
    }
   },
   "source": [
    "<div class=\"big center\">🚗🚙🏎🚃🚠</div>"
   ]
  },
  {
   "cell_type": "markdown",
   "id": "61fcc053",
   "metadata": {
    "slideshow": {
     "slide_type": "slide"
    }
   },
   "source": [
    "## Abstractions"
   ]
  },
  {
   "cell_type": "markdown",
   "id": "30a6d9d4",
   "metadata": {
    "slideshow": {
     "slide_type": "fragment"
    }
   },
   "source": [
    "> All models are wrong, but some are useful.\n",
    ">\n",
    ">  —*George Box*"
   ]
  },
  {
   "cell_type": "markdown",
   "id": "85b440de",
   "metadata": {
    "slideshow": {
     "slide_type": "fragment"
    }
   },
   "source": [
    "What are examples of abstractions you find useful?"
   ]
  },
  {
   "cell_type": "markdown",
   "id": "9eecf0a5",
   "metadata": {
    "slideshow": {
     "slide_type": "fragment"
    }
   },
   "source": [
    "What examples do you have of abstractions that were not useful? "
   ]
  },
  {
   "cell_type": "markdown",
   "id": "3b15d2bd",
   "metadata": {
    "slideshow": {
     "slide_type": "fragment"
    }
   },
   "source": [
    "**When the implementation of an abstraction violates the intent of an abstraction, we have problems.**"
   ]
  },
  {
   "cell_type": "markdown",
   "id": "703814f1",
   "metadata": {
    "slideshow": {
     "slide_type": "slide"
    }
   },
   "source": [
    "## Abstractions in Computer Science"
   ]
  },
  {
   "cell_type": "markdown",
   "id": "01ef66b2",
   "metadata": {
    "slideshow": {
     "slide_type": "slide"
    }
   },
   "source": [
    "Variables are abstractions."
   ]
  },
  {
   "cell_type": "code",
   "execution_count": null,
   "id": "0960585a",
   "metadata": {
    "slideshow": {
     "slide_type": "fragment"
    }
   },
   "outputs": [],
   "source": [
    "int sizeOfFamily;"
   ]
  },
  {
   "cell_type": "markdown",
   "id": "17d074d9",
   "metadata": {
    "slideshow": {
     "slide_type": "fragment"
    }
   },
   "source": [
    "The language guarantees `int` - i.e. 64 bits that can be interpreted as an integer.\n",
    "\n",
    "But the name of the variable communicates an *abstraction*: this value represents the size of a family."
   ]
  },
  {
   "cell_type": "code",
   "execution_count": null,
   "id": "bd9d5e64",
   "metadata": {
    "slideshow": {
     "slide_type": "fragment"
    }
   },
   "outputs": [],
   "source": [
    "sizeOfFamily = -37; // what!?"
   ]
  },
  {
   "cell_type": "markdown",
   "id": "42dea8a3",
   "metadata": {
    "slideshow": {
     "slide_type": "fragment"
    }
   },
   "source": [
    "<div class=\"big\" align=\"center\">😶</div>"
   ]
  },
  {
   "cell_type": "markdown",
   "id": "d0c4db0a",
   "metadata": {
    "slideshow": {
     "slide_type": "slide"
    }
   },
   "source": [
    "Functions are abstractions."
   ]
  },
  {
   "cell_type": "code",
   "execution_count": null,
   "id": "19173859",
   "metadata": {
    "slideshow": {
     "slide_type": "fragment"
    }
   },
   "outputs": [],
   "source": [
    "int addNumbers(int a, int b);"
   ]
  },
  {
   "cell_type": "markdown",
   "id": "e80090a4",
   "metadata": {
    "slideshow": {
     "slide_type": "fragment"
    }
   },
   "source": [
    "The language guarantees that if you give `addNumbers` two `int`s, you'll get another `int`.\n",
    "\n",
    "But the name of the variable communicates an *abstraction*: we're expecting a specific arithmetic operation to occur."
   ]
  },
  {
   "cell_type": "code",
   "execution_count": null,
   "id": "6c9ff6c9",
   "metadata": {
    "slideshow": {
     "slide_type": "fragment"
    }
   },
   "outputs": [],
   "source": [
    "int addNumbers(int a, int b) {\n",
    "    return 7;\n",
    "}"
   ]
  },
  {
   "cell_type": "code",
   "execution_count": null,
   "id": "b7bbdf36",
   "metadata": {},
   "outputs": [],
   "source": [
    "addNumbers(1, 3)"
   ]
  },
  {
   "cell_type": "markdown",
   "id": "903e0292",
   "metadata": {
    "slideshow": {
     "slide_type": "fragment"
    }
   },
   "source": [
    "<div class=\"big\" align=\"center\">🤨</div>"
   ]
  },
  {
   "cell_type": "markdown",
   "id": "62bf392c",
   "metadata": {
    "slideshow": {
     "slide_type": "fragment"
    }
   },
   "source": [
    "**Remember**: When our code fails to fulfill the promised abstraction, we have a problem."
   ]
  },
  {
   "cell_type": "markdown",
   "id": "77e7f2ba",
   "metadata": {
    "slideshow": {
     "slide_type": "slide"
    }
   },
   "source": [
    "*Programs* are abstractions."
   ]
  },
  {
   "cell_type": "markdown",
   "id": "cb5bac2b",
   "metadata": {
    "slideshow": {
     "slide_type": "fragment"
    }
   },
   "source": [
    "**Creating, implementing, and using abstractions is critical in building successful software.**"
   ]
  },
  {
   "cell_type": "markdown",
   "id": "4c8bf151",
   "metadata": {
    "slideshow": {
     "slide_type": "slide"
    }
   },
   "source": [
    "## What is this class about?"
   ]
  },
  {
   "cell_type": "markdown",
   "id": "24c0fe16",
   "metadata": {
    "slideshow": {
     "slide_type": "fragment"
    }
   },
   "source": [
    "Learn how to create, implement, and use abstractions to solve real problems. "
   ]
  },
  {
   "cell_type": "markdown",
   "id": "1687a2b4",
   "metadata": {
    "slideshow": {
     "slide_type": "fragment"
    }
   },
   "source": [
    "I hope that in this course, you'll not only learn some powerful abstractions, but that you'll learn how to reason about abstractions, create useful abstractions, and implement abstractions accurately. "
   ]
  },
  {
   "cell_type": "markdown",
   "id": "8ecb661a",
   "metadata": {
    "slideshow": {
     "slide_type": "slide"
    }
   },
   "source": [
    "## Homework\n",
    "- Install **Docker Desktop** (just google it)"
   ]
  }
 ],
 "metadata": {
  "celltoolbar": "Slideshow",
  "kernelspec": {
   "display_name": "C++11",
   "language": "C++11",
   "name": "xcpp11"
  },
  "language_info": {
   "codemirror_mode": "text/x-c++src",
   "file_extension": ".cpp",
   "mimetype": "text/x-c++src",
   "name": "c++",
   "version": "11"
  }
 },
 "nbformat": 4,
 "nbformat_minor": 5
}
