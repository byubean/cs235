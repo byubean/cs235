{
 "cells": [
  {
   "cell_type": "markdown",
   "id": "4787c92a",
   "metadata": {
    "slideshow": {
     "slide_type": "slide"
    }
   },
   "source": [
    "# C++ Introduction - Operator Overloading"
   ]
  },
  {
   "cell_type": "code",
   "execution_count": 1,
   "id": "d2259302",
   "metadata": {
    "slideshow": {
     "slide_type": "slide"
    }
   },
   "outputs": [],
   "source": [
    "#include <iostream>\n",
    "using namespace std;"
   ]
  },
  {
   "cell_type": "code",
   "execution_count": 2,
   "id": "16cfe1fd",
   "metadata": {},
   "outputs": [],
   "source": [
    "class NoisyInt {\n",
    "    int value;\n",
    "    \n",
    "    public:\n",
    "    NoisyInt(int value) : value(value) {\n",
    "        cout << \"Regular constructor called on \" << value << endl;\n",
    "    }\n",
    "    \n",
    "    NoisyInt(NoisyInt const& other) : value(other.value) {\n",
    "        cout << \"The copy constructor has been called on \" << other << endl;\n",
    "    }\n",
    "    \n",
    "    NoisyInt& operator=(NoisyInt const& other) {\n",
    "        cout << \"The assignment operator has been called on \" << other << endl;\n",
    "        this->value = other.value;\n",
    "        return *this;\n",
    "    }\n",
    "    \n",
    "    NoisyInt operator+(int other) const {\n",
    "        cout << this->value << \" is being added to \" << other << endl;\n",
    "        return NoisyInt(other + this->value);\n",
    "    }\n",
    "    \n",
    "    operator int() const {\n",
    "        cout << \"NoisyInt \" << this->value << \" is being implicitly cast to int!\" << endl;\n",
    "        return this->value;\n",
    "    }\n",
    "    \n",
    "    int getValue() const { return value; }\n",
    "\n",
    "    friend ostream& operator<<(ostream& stream, NoisyInt const& ni) {\n",
    "        stream << \"NoisyInt(\" << ni.getValue() << \")\";\n",
    "        return stream;\n",
    "    }\n",
    "}"
   ]
  },
  {
   "cell_type": "code",
   "execution_count": 3,
   "id": "6dd8b4a2",
   "metadata": {
    "slideshow": {
     "slide_type": "slide"
    }
   },
   "outputs": [
    {
     "name": "stdout",
     "output_type": "stream",
     "text": [
      "Regular constructor called on 7\n",
      "7 is being added to 8\n",
      "Regular constructor called on 15\n",
      "NoisyInt(15)\n"
     ]
    }
   ],
   "source": [
    "NoisyInt seven(7);\n",
    "NoisyInt fifteen = seven + 8;\n",
    "cout << fifteen << endl;"
   ]
  },
  {
   "cell_type": "code",
   "execution_count": 4,
   "id": "c6568f58",
   "metadata": {
    "slideshow": {
     "slide_type": "slide"
    }
   },
   "outputs": [
    {
     "name": "stdout",
     "output_type": "stream",
     "text": [
      "The copy constructor has been called on NoisyInt(15)\n"
     ]
    }
   ],
   "source": [
    "NoisyInt another = fifteen;"
   ]
  },
  {
   "cell_type": "code",
   "execution_count": 5,
   "id": "ed6d0b95",
   "metadata": {
    "slideshow": {
     "slide_type": "fragment"
    }
   },
   "outputs": [
    {
     "name": "stdout",
     "output_type": "stream",
     "text": [
      "The assignment operator has been called on NoisyInt(15)\n"
     ]
    }
   ],
   "source": [
    "another = fifteen;"
   ]
  },
  {
   "cell_type": "code",
   "execution_count": 6,
   "id": "d7f9d571",
   "metadata": {
    "slideshow": {
     "slide_type": "slide"
    }
   },
   "outputs": [
    {
     "name": "stdout",
     "output_type": "stream",
     "text": [
      "15 is being added to 10\n",
      "Regular constructor called on 25\n",
      "NoisyInt(25)\n"
     ]
    }
   ],
   "source": [
    "cout << fifteen + 10 << endl;"
   ]
  },
  {
   "cell_type": "code",
   "execution_count": 7,
   "id": "d5c759d3",
   "metadata": {
    "slideshow": {
     "slide_type": "slide"
    }
   },
   "outputs": [
    {
     "name": "stdout",
     "output_type": "stream",
     "text": [
      "NoisyInt 15 is being implicitly cast to int!\n",
      "25\n"
     ]
    }
   ],
   "source": [
    "cout << 10 + fifteen << endl;"
   ]
  },
  {
   "cell_type": "markdown",
   "id": "bf877426",
   "metadata": {
    "slideshow": {
     "slide_type": "fragment"
    }
   },
   "source": [
    "Why didn't it print `NoisyInt(25)`?"
   ]
  },
  {
   "cell_type": "code",
   "execution_count": 8,
   "id": "e2e04c56",
   "metadata": {
    "slideshow": {
     "slide_type": "slide"
    }
   },
   "outputs": [
    {
     "name": "stdout",
     "output_type": "stream",
     "text": [
      "NoisyInt 7 is being implicitly cast to int!\n",
      "15 is being added to 7\n",
      "Regular constructor called on 22\n",
      "NoisyInt(22)\n"
     ]
    }
   ],
   "source": [
    "cout << fifteen + seven << endl;"
   ]
  },
  {
   "cell_type": "code",
   "execution_count": 9,
   "id": "70cea39e",
   "metadata": {
    "slideshow": {
     "slide_type": "slide"
    }
   },
   "outputs": [],
   "source": [
    "int add(int const& a, int const& b) {\n",
    "    return a + b;\n",
    "}"
   ]
  },
  {
   "cell_type": "code",
   "execution_count": 10,
   "id": "ed03251c",
   "metadata": {},
   "outputs": [
    {
     "name": "stdout",
     "output_type": "stream",
     "text": [
      "NoisyInt 7 is being implicitly cast to int!\n",
      "NoisyInt 15 is being implicitly cast to int!\n"
     ]
    },
    {
     "data": {
      "text/plain": [
       "22"
      ]
     },
     "execution_count": 10,
     "metadata": {},
     "output_type": "execute_result"
    }
   ],
   "source": [
    "add(seven, fifteen)"
   ]
  },
  {
   "cell_type": "markdown",
   "id": "31b4cd52",
   "metadata": {
    "slideshow": {
     "slide_type": "slide"
    }
   },
   "source": [
    "### Notes\n",
    "\n",
    "- `operator+` defines what happens when `NoisyInt + int` is encountered\n",
    "  - this is not the same as `int + NoisyInt`\n",
    "  - for this we'd need a `friend` function like we did for `operator<<`\n",
    "- `operator<<(ostream& os,...)` defines what happens when we call `ostream << NoisyInt`\n",
    "  - `friend` is needed because we are actually defining a function on the `ostream` class and giving that function access to our object's private members (e.g. `this->value`)\n",
    "- When there is no matching function for what you want, e.g. `NoisyInt + NoisyInt`, C++ checks if there are implicit casts defined that can get you to a valid option, e.g. `NoisyInt + int`"
   ]
  }
 ],
 "metadata": {
  "celltoolbar": "Slideshow",
  "kernelspec": {
   "display_name": "C++14",
   "language": "C++14",
   "name": "xcpp14"
  },
  "language_info": {
   "codemirror_mode": "text/x-c++src",
   "file_extension": ".cpp",
   "mimetype": "text/x-c++src",
   "name": "c++",
   "version": "14"
  }
 },
 "nbformat": 4,
 "nbformat_minor": 5
}
