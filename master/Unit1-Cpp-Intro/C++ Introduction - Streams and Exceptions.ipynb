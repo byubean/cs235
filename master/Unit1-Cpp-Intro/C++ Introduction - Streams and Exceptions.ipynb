{
 "cells": [
  {
   "cell_type": "markdown",
   "id": "27a1d0e9",
   "metadata": {
    "slideshow": {
     "slide_type": "slide"
    }
   },
   "source": [
    "# C++ Introduction - Streams and Exceptions"
   ]
  },
  {
   "cell_type": "markdown",
   "id": "a670f911",
   "metadata": {
    "slideshow": {
     "slide_type": "slide"
    }
   },
   "source": [
    "## File Streams"
   ]
  },
  {
   "cell_type": "code",
   "execution_count": null,
   "id": "19c7d7f6",
   "metadata": {
    "slideshow": {
     "slide_type": "skip"
    }
   },
   "outputs": [],
   "source": [
    "%%file example.txt\n",
    "This file has some text in it.\n",
    "In fact, it has TWO lines of text."
   ]
  },
  {
   "cell_type": "code",
   "execution_count": 1,
   "id": "a683dc29",
   "metadata": {
    "slideshow": {
     "slide_type": "slide"
    }
   },
   "outputs": [
    {
     "name": "stdout",
     "output_type": "stream",
     "text": [
      "This file has some text in it.\n",
      "In fact, it has TWO lines of text.\n"
     ]
    }
   ],
   "source": [
    "! cat example.txt"
   ]
  },
  {
   "cell_type": "code",
   "execution_count": 2,
   "id": "2870d71c",
   "metadata": {
    "slideshow": {
     "slide_type": "slide"
    }
   },
   "outputs": [],
   "source": [
    "#include <fstream>\n",
    "#include <iostream>\n",
    "#include <string>\n",
    "using namespace std;"
   ]
  },
  {
   "cell_type": "code",
   "execution_count": 3,
   "id": "b0d5f77e",
   "metadata": {
    "slideshow": {
     "slide_type": "slide"
    }
   },
   "outputs": [
    {
     "name": "stdout",
     "output_type": "stream",
     "text": [
      "Line: This file has some text in it.\n",
      "Line: In fact, it has TWO lines of text.\n"
     ]
    }
   ],
   "source": [
    "std::ifstream in;\n",
    "in.open(\"example.txt\");\n",
    "\n",
    "if (!in.is_open()) {\n",
    "    cerr << \"Failed to open file!\" << endl;\n",
    "    \n",
    "} else {\n",
    "    string line;\n",
    "    while (getline(in, line)) {\n",
    "        cout << \"Line: \" << line << endl;\n",
    "    }    \n",
    "}\n",
    "\n",
    "in.close();"
   ]
  },
  {
   "cell_type": "markdown",
   "id": "6823d4a0",
   "metadata": {
    "slideshow": {
     "slide_type": "slide"
    }
   },
   "source": [
    "Be sure to check that the file openned successfully before you start reading..."
   ]
  },
  {
   "cell_type": "code",
   "execution_count": 4,
   "id": "69354047",
   "metadata": {
    "slideshow": {
     "slide_type": "slide"
    }
   },
   "outputs": [
    {
     "name": "stderr",
     "output_type": "stream",
     "text": [
      "Failed to open file!\n"
     ]
    }
   ],
   "source": [
    "std::ifstream in;\n",
    "in.open(\"this-file-definitely-does-not-exist.txt\");\n",
    "\n",
    "if (!in.is_open()) {\n",
    "    cerr << \"Failed to open file!\" << endl;\n",
    "    \n",
    "} else {\n",
    "    string line;\n",
    "    while (getline(in, line)) {\n",
    "        cout << \"Line: \" << line << endl;\n",
    "    }    \n",
    "}\n",
    "\n",
    "in.close();"
   ]
  },
  {
   "cell_type": "code",
   "execution_count": 13,
   "id": "3110496c",
   "metadata": {
    "slideshow": {
     "slide_type": "slide"
    }
   },
   "outputs": [],
   "source": [
    "std::ofstream out;\n",
    "out.open(\"example567.txt\");\n",
    "\n",
    "if (!out.is_open()) {\n",
    "    cerr << \"Failed to open file!\" << endl;\n",
    "    \n",
    "} else {\n",
    "    for (int i = 0; i < 5; i++) {\n",
    "        out << i << endl;\n",
    "        out << \"anything you want\" << endl;\n",
    "    }\n",
    "}\n",
    "\n",
    "out.close();"
   ]
  },
  {
   "cell_type": "code",
   "execution_count": 14,
   "id": "2132cfa2",
   "metadata": {
    "slideshow": {
     "slide_type": "fragment"
    }
   },
   "outputs": [
    {
     "name": "stdout",
     "output_type": "stream",
     "text": [
      "0\n",
      "anything you want\n",
      "1\n",
      "anything you want\n",
      "2\n",
      "anything you want\n",
      "3\n",
      "anything you want\n",
      "4\n",
      "anything you want\n"
     ]
    }
   ],
   "source": [
    "! cat example567.txt"
   ]
  },
  {
   "cell_type": "markdown",
   "id": "abd258fc",
   "metadata": {
    "slideshow": {
     "slide_type": "slide"
    }
   },
   "source": [
    "## String Streams"
   ]
  },
  {
   "cell_type": "code",
   "execution_count": 15,
   "id": "a52f16cf",
   "metadata": {
    "slideshow": {
     "slide_type": "slide"
    }
   },
   "outputs": [],
   "source": [
    "#include <sstream>\n",
    "using namespace std;"
   ]
  },
  {
   "cell_type": "code",
   "execution_count": 16,
   "id": "396b3693",
   "metadata": {
    "slideshow": {
     "slide_type": "-"
    }
   },
   "outputs": [
    {
     "name": "stdout",
     "output_type": "stream",
     "text": [
      "foo 7 bar\n"
     ]
    }
   ],
   "source": [
    "ostringstream outs;\n",
    "outs << \"foo \" << 7 << \" bar\";\n",
    "\n",
    "// Don't forget the .str() !\n",
    "cout << outs.str() << endl;"
   ]
  },
  {
   "cell_type": "code",
   "execution_count": 24,
   "id": "d149615b",
   "metadata": {
    "slideshow": {
     "slide_type": "slide"
    }
   },
   "outputs": [
    {
     "name": "stdout",
     "output_type": "stream",
     "text": [
      "7\n",
      "8\n",
      "9\n"
     ]
    }
   ],
   "source": [
    "istringstream inss(\"7 8 9 10\");\n",
    "int num;\n",
    "while (inss >> num) {\n",
    "    cout << num << endl;\n",
    "}"
   ]
  },
  {
   "cell_type": "markdown",
   "id": "024b7ff6",
   "metadata": {
    "slideshow": {
     "slide_type": "slide"
    }
   },
   "source": [
    "## Exceptions"
   ]
  },
  {
   "cell_type": "code",
   "execution_count": 25,
   "id": "a18d8741",
   "metadata": {},
   "outputs": [],
   "source": [
    "#include <stdexcept>"
   ]
  },
  {
   "cell_type": "code",
   "execution_count": 34,
   "id": "ee46e451",
   "metadata": {},
   "outputs": [],
   "source": [
    "void ornery_function(int should_be_seven) {\n",
    "    if (should_be_seven != 7) {\n",
    "//         throw 42;\n",
    "        throw std::invalid_argument(\"should_be_seven\");\n",
    "    }\n",
    "    cout << \"This is seven: \" << should_be_seven << endl;\n",
    "}"
   ]
  },
  {
   "cell_type": "code",
   "execution_count": 39,
   "id": "bb294569",
   "metadata": {},
   "outputs": [
    {
     "name": "stdout",
     "output_type": "stream",
     "text": [
      "This is seven: 7\n"
     ]
    }
   ],
   "source": [
    "ornery_function(7)"
   ]
  },
  {
   "cell_type": "code",
   "execution_count": 37,
   "id": "36e829b5",
   "metadata": {
    "slideshow": {
     "slide_type": "-"
    }
   },
   "outputs": [
    {
     "name": "stderr",
     "output_type": "stream",
     "text": [
      "Exception: should_be_seven\n"
     ]
    }
   ],
   "source": [
    "try {\n",
    "    ornery_function(8);\n",
    "    \n",
    "} catch (std::exception &ex2) {\n",
    "    cerr << \"Exception: \" << ex2.what() << endl;\n",
    "    \n",
    "} catch (std::invalid_argument &ex) {\n",
    "    cerr << \"this argument had issues: \" << ex.what() << endl;\n",
    "    \n",
    "} catch (int &flying_number) {\n",
    "    cerr << \"I found this: \" << flying_number << endl;\n",
    "    \n",
    "} catch (...) {\n",
    "    cerr << \"ummm....\" << endl;\n",
    "}\n"
   ]
  },
  {
   "cell_type": "code",
   "execution_count": 30,
   "id": "7e854ac0",
   "metadata": {
    "slideshow": {
     "slide_type": "slide"
    }
   },
   "outputs": [
    {
     "name": "stderr",
     "output_type": "stream",
     "text": [
      "Something when wrong: should_be_seven\n"
     ]
    }
   ],
   "source": [
    "try {\n",
    "    ornery_function(10);\n",
    "} catch (std::exception &the_thing_flying_by) {\n",
    "    cerr << \"Something when wrong: \" << the_thing_flying_by.what() << endl;\n",
    "}"
   ]
  },
  {
   "cell_type": "code",
   "execution_count": null,
   "id": "a5134c65",
   "metadata": {
    "slideshow": {
     "slide_type": "slide"
    }
   },
   "outputs": [],
   "source": [
    "try {\n",
    "    ornery_function(10);\n",
    "} catch (...) {\n",
    "    cerr << \"Something when wrong.\" << endl;\n",
    "}"
   ]
  },
  {
   "cell_type": "markdown",
   "id": "3504b428",
   "metadata": {
    "slideshow": {
     "slide_type": "slide"
    }
   },
   "source": [
    "### Exception Guidance\n",
    "\n",
    "- Try to catch the specific exceptions.\n",
    "  - Only use `std::exception` as a last resort.\n",
    "  - Only use `catch (...)` as a LAST last resort.\n",
    "- Throw exceptions when unexpected things happen\n",
    "  - Document the exceptions you throw (and the reasons for throwing them)\n",
    "- **NEVER** throw an exception in a destructor\n",
    "  - But of course, this is C++, and there are plenty of opinions...."
   ]
  }
 ],
 "metadata": {
  "celltoolbar": "Slideshow",
  "kernelspec": {
   "display_name": "C++14",
   "language": "C++14",
   "name": "xcpp14"
  },
  "language_info": {
   "codemirror_mode": "text/x-c++src",
   "file_extension": ".cpp",
   "mimetype": "text/x-c++src",
   "name": "c++",
   "version": "14"
  }
 },
 "nbformat": 4,
 "nbformat_minor": 5
}
