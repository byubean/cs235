{
 "cells": [
  {
   "cell_type": "markdown",
   "id": "f36f9b5f",
   "metadata": {
    "slideshow": {
     "slide_type": "slide"
    }
   },
   "source": [
    "# C++ Introduction - Classes"
   ]
  },
  {
   "cell_type": "markdown",
   "id": "c33d4754",
   "metadata": {
    "slideshow": {
     "slide_type": "skip"
    }
   },
   "source": [
    "### Terms\n",
    "- **mutator**: a method that mutates (changes) class state\n",
    "- **accessor**: a method that returns class state (should typically be declared `const`)\n",
    "- **private helper**: a `private` method (and thus that can only be called within the class)"
   ]
  },
  {
   "cell_type": "code",
   "execution_count": 1,
   "id": "ad988cb8",
   "metadata": {
    "slideshow": {
     "slide_type": "slide"
    }
   },
   "outputs": [],
   "source": [
    "#include <string>\n",
    "#include <iostream>\n",
    "#include <sstream>\n",
    "using namespace std;"
   ]
  },
  {
   "cell_type": "code",
   "execution_count": 2,
   "id": "0685aa2e",
   "metadata": {
    "slideshow": {
     "slide_type": "slide"
    }
   },
   "outputs": [],
   "source": [
    "/*\n",
    "  This function prints out all the bytes of the thing you pass in.\n",
    "  At some point you'll know about all the parts of this function,\n",
    "    but if you don't yet, that's ok.\n",
    "*/\n",
    "template <class T> void printBytes(T const& thing) {\n",
    "    char* addr = (char*)&thing;\n",
    "    for (int i = 0; i < sizeof(T); i++) {\n",
    "        printf(\"%02X \", addr[i]);\n",
    "    }\n",
    "    printf(\"\\n\");\n",
    "}"
   ]
  },
  {
   "cell_type": "markdown",
   "id": "aef3a8a2",
   "metadata": {},
   "source": [
    "## `sizeof`"
   ]
  },
  {
   "cell_type": "code",
   "execution_count": 3,
   "id": "34c08b22",
   "metadata": {
    "slideshow": {
     "slide_type": "slide"
    }
   },
   "outputs": [],
   "source": [
    "int number;"
   ]
  },
  {
   "cell_type": "code",
   "execution_count": 4,
   "id": "64a405ca",
   "metadata": {},
   "outputs": [
    {
     "name": "stdout",
     "output_type": "stream",
     "text": [
      "00 00 00 00 \n"
     ]
    }
   ],
   "source": [
    "printBytes(number);"
   ]
  },
  {
   "cell_type": "code",
   "execution_count": 5,
   "id": "afe27a22",
   "metadata": {},
   "outputs": [
    {
     "name": "stdout",
     "output_type": "stream",
     "text": [
      "07 00 00 00 \n"
     ]
    }
   ],
   "source": [
    "number = 7;\n",
    "printBytes(number);"
   ]
  },
  {
   "cell_type": "code",
   "execution_count": 6,
   "id": "6b5ebb10",
   "metadata": {},
   "outputs": [
    {
     "name": "stdout",
     "output_type": "stream",
     "text": [
      "D2 02 96 49 \n"
     ]
    }
   ],
   "source": [
    "number = 1234567890;\n",
    "printBytes(number);"
   ]
  },
  {
   "cell_type": "code",
   "execution_count": 7,
   "id": "ae491042",
   "metadata": {
    "slideshow": {
     "slide_type": "slide"
    }
   },
   "outputs": [
    {
     "data": {
      "text/plain": [
       "4"
      ]
     },
     "execution_count": 7,
     "metadata": {},
     "output_type": "execute_result"
    }
   ],
   "source": [
    "sizeof(int)"
   ]
  },
  {
   "cell_type": "markdown",
   "id": "1447a308",
   "metadata": {
    "slideshow": {
     "slide_type": "slide"
    }
   },
   "source": [
    "## `struct`"
   ]
  },
  {
   "cell_type": "code",
   "execution_count": 8,
   "id": "fa091add",
   "metadata": {
    "slideshow": {
     "slide_type": "slide"
    }
   },
   "outputs": [],
   "source": [
    "struct TwoInts {\n",
    "    int first;\n",
    "    int second;\n",
    "}"
   ]
  },
  {
   "cell_type": "code",
   "execution_count": 9,
   "id": "57ec1130",
   "metadata": {},
   "outputs": [],
   "source": [
    "TwoInts foo;\n",
    "TwoInts bar;"
   ]
  },
  {
   "cell_type": "code",
   "execution_count": 10,
   "id": "9a70f82c",
   "metadata": {},
   "outputs": [
    {
     "data": {
      "text/plain": [
       "8"
      ]
     },
     "execution_count": 10,
     "metadata": {},
     "output_type": "execute_result"
    }
   ],
   "source": [
    "sizeof(TwoInts)"
   ]
  },
  {
   "cell_type": "code",
   "execution_count": 11,
   "id": "3d50cc8d",
   "metadata": {
    "slideshow": {
     "slide_type": "slide"
    }
   },
   "outputs": [
    {
     "name": "stdout",
     "output_type": "stream",
     "text": [
      "00 00 00 00 00 00 00 00 \n"
     ]
    }
   ],
   "source": [
    "printBytes(foo);"
   ]
  },
  {
   "cell_type": "code",
   "execution_count": 12,
   "id": "892e8ef5",
   "metadata": {},
   "outputs": [
    {
     "name": "stdout",
     "output_type": "stream",
     "text": [
      "FF 00 00 00 07 00 00 00 \n"
     ]
    }
   ],
   "source": [
    "foo.first = 255;\n",
    "foo.second = 7;\n",
    "printBytes(foo)"
   ]
  },
  {
   "cell_type": "markdown",
   "id": "ba154e82",
   "metadata": {
    "slideshow": {
     "slide_type": "slide"
    }
   },
   "source": [
    "A **struct** is a simple structuring of memory. It packs the member variables next to each other and keeps track of which is which.\n",
    "\n",
    "Just like in Python, `.` is the **member access operator**. "
   ]
  },
  {
   "cell_type": "markdown",
   "id": "7c247225",
   "metadata": {
    "slideshow": {
     "slide_type": "slide"
    }
   },
   "source": [
    "## `class`"
   ]
  },
  {
   "cell_type": "code",
   "execution_count": 13,
   "id": "e0ed0910",
   "metadata": {
    "slideshow": {
     "slide_type": "slide"
    }
   },
   "outputs": [],
   "source": [
    "class TwoNumbers {\n",
    "    double first;\n",
    "    double second;\n",
    "}"
   ]
  },
  {
   "cell_type": "code",
   "execution_count": 14,
   "id": "7cdd6313",
   "metadata": {},
   "outputs": [
    {
     "data": {
      "text/plain": [
       "8"
      ]
     },
     "execution_count": 14,
     "metadata": {},
     "output_type": "execute_result"
    }
   ],
   "source": [
    "sizeof(double)"
   ]
  },
  {
   "cell_type": "code",
   "execution_count": 15,
   "id": "7bc89c0c",
   "metadata": {},
   "outputs": [
    {
     "data": {
      "text/plain": [
       "16"
      ]
     },
     "execution_count": 15,
     "metadata": {},
     "output_type": "execute_result"
    }
   ],
   "source": [
    "sizeof(TwoNumbers)"
   ]
  },
  {
   "cell_type": "code",
   "execution_count": 16,
   "id": "fc85d5e7",
   "metadata": {
    "slideshow": {
     "slide_type": "slide"
    }
   },
   "outputs": [
    {
     "name": "stdout",
     "output_type": "stream",
     "text": [
      "00 00 00 00 00 00 00 00 00 00 00 00 00 00 00 00 \n"
     ]
    }
   ],
   "source": [
    "TwoNumbers doubles;\n",
    "printBytes(doubles)"
   ]
  },
  {
   "cell_type": "code",
   "execution_count": 17,
   "id": "0e8ae991",
   "metadata": {
    "slideshow": {
     "slide_type": "slide"
    }
   },
   "outputs": [
    {
     "name": "stderr",
     "output_type": "stream",
     "text": [
      "input_line_30:3:9: error: 'first' is a private member of '__cling_N515::TwoNumbers'\n",
      "doubles.first = 1.234e134;\n",
      "        ^\n",
      "input_line_24:2:12: note: implicitly declared private here\n",
      "    double first;\n",
      "           ^\n"
     ]
    },
    {
     "ename": "Interpreter Error",
     "evalue": "",
     "output_type": "error",
     "traceback": [
      "Interpreter Error: "
     ]
    }
   ],
   "source": [
    "TwoNumbers doubles;\n",
    "doubles.first = 1.234e134;\n",
    "printBytes(doubles)"
   ]
  },
  {
   "cell_type": "markdown",
   "id": "0a6ffed0",
   "metadata": {
    "slideshow": {
     "slide_type": "slide"
    }
   },
   "source": [
    "Members of a **class** are **private** by default.\n",
    "\n",
    "Members of a **struct** are **public** by default.\n",
    "\n",
    "Private members cannot by accessed by anything but the object itself (or declared *friends* of the class).\n",
    "\n",
    "Public members are accessible by everyone."
   ]
  },
  {
   "cell_type": "code",
   "execution_count": 18,
   "id": "2364af10",
   "metadata": {
    "slideshow": {
     "slide_type": "slide"
    }
   },
   "outputs": [],
   "source": [
    "class TwoNumbers {\n",
    "    public:\n",
    "    double first;\n",
    "    double second;\n",
    "}"
   ]
  },
  {
   "cell_type": "code",
   "execution_count": 19,
   "id": "0d4b604a",
   "metadata": {},
   "outputs": [
    {
     "name": "stdout",
     "output_type": "stream",
     "text": [
      "4B BC A8 F3 3A BB C5 5B 00 00 00 00 00 00 F0 3F \n"
     ]
    }
   ],
   "source": [
    "TwoNumbers doubles;\n",
    "doubles.first = 1.234e134;\n",
    "doubles.second = 1.0;\n",
    "printBytes(doubles)"
   ]
  },
  {
   "cell_type": "markdown",
   "id": "111631f6",
   "metadata": {
    "slideshow": {
     "slide_type": "slide"
    }
   },
   "source": [
    "## Member Access"
   ]
  },
  {
   "cell_type": "code",
   "execution_count": 20,
   "id": "7d6d7d1b",
   "metadata": {
    "slideshow": {
     "slide_type": "slide"
    }
   },
   "outputs": [],
   "source": [
    "TwoNumbers* moreNumbers = new TwoNumbers;"
   ]
  },
  {
   "cell_type": "code",
   "execution_count": 21,
   "id": "3f2438a2",
   "metadata": {},
   "outputs": [
    {
     "name": "stderr",
     "output_type": "stream",
     "text": [
      "input_line_34:2:13: error: member reference type '__cling_N522::TwoNumbers *' is a pointer; did you mean to use '->'?\n",
      " moreNumbers.first = 7.1234556\n",
      " ~~~~~~~~~~~^\n",
      "            ->\n"
     ]
    },
    {
     "ename": "Interpreter Error",
     "evalue": "",
     "output_type": "error",
     "traceback": [
      "Interpreter Error: "
     ]
    }
   ],
   "source": [
    "moreNumbers.first = 7.1234556"
   ]
  },
  {
   "cell_type": "code",
   "execution_count": 22,
   "id": "d0f54de4",
   "metadata": {
    "slideshow": {
     "slide_type": "fragment"
    }
   },
   "outputs": [],
   "source": [
    "(*moreNumbers).first = 7.12345;"
   ]
  },
  {
   "cell_type": "code",
   "execution_count": 23,
   "id": "ed60a9cd",
   "metadata": {
    "slideshow": {
     "slide_type": "fragment"
    }
   },
   "outputs": [],
   "source": [
    "moreNumbers->second = 2346.080809;"
   ]
  },
  {
   "cell_type": "code",
   "execution_count": 24,
   "id": "1b03a3fc",
   "metadata": {
    "slideshow": {
     "slide_type": "slide"
    }
   },
   "outputs": [],
   "source": [
    "class TwoNumbers {\n",
    "    private:\n",
    "    double first;\n",
    "    double second;\n",
    "    public:\n",
    "    double getFirst() { return this->first; }\n",
    "    double getSecond() { return this->second; }\n",
    "}"
   ]
  },
  {
   "cell_type": "markdown",
   "id": "770fe2d7",
   "metadata": {
    "slideshow": {
     "slide_type": "fragment"
    }
   },
   "source": [
    "What is `this`?"
   ]
  },
  {
   "cell_type": "markdown",
   "id": "d5abab3f",
   "metadata": {
    "slideshow": {
     "slide_type": "fragment"
    }
   },
   "source": [
    "A pointer to the object instance!\n",
    "\n",
    "`this` is effectively the same thing as `self` in Python."
   ]
  },
  {
   "cell_type": "code",
   "execution_count": 25,
   "id": "ad6c77c6",
   "metadata": {
    "slideshow": {
     "slide_type": "slide"
    }
   },
   "outputs": [],
   "source": [
    "class GPS {\n",
    "    public:\n",
    "    void whereAmI() {\n",
    "        printf(\"%p\\n\", this);\n",
    "    }\n",
    "}"
   ]
  },
  {
   "cell_type": "code",
   "execution_count": 26,
   "id": "e2a38d05",
   "metadata": {},
   "outputs": [
    {
     "name": "stdout",
     "output_type": "stream",
     "text": [
      "0xffff8bb09068\n",
      "0xffff8bb09068\n"
     ]
    }
   ],
   "source": [
    "GPS gps;\n",
    "gps.whereAmI();\n",
    "printf(\"%p\\n\", &gps);"
   ]
  },
  {
   "cell_type": "markdown",
   "id": "82e18701",
   "metadata": {
    "slideshow": {
     "slide_type": "slide"
    }
   },
   "source": [
    "## Constructors"
   ]
  },
  {
   "cell_type": "code",
   "execution_count": null,
   "id": "57ad5cf6",
   "metadata": {
    "slideshow": {
     "slide_type": "slide"
    }
   },
   "outputs": [],
   "source": [
    "class TwoNumbers {\n",
    "    private:\n",
    "    double first;\n",
    "    double second;\n",
    "    public:\n",
    "    double getFirst() { return this->first; }\n",
    "    double getSecond() { return this->second; }\n",
    "}"
   ]
  },
  {
   "cell_type": "markdown",
   "id": "9ce2e89c",
   "metadata": {},
   "source": [
    "How do I set the values for `first` and `second`?"
   ]
  },
  {
   "cell_type": "markdown",
   "id": "8391524e",
   "metadata": {
    "slideshow": {
     "slide_type": "fragment"
    }
   },
   "source": [
    "<div class='big centered'>🤨</div>"
   ]
  },
  {
   "cell_type": "markdown",
   "id": "da2d316b",
   "metadata": {
    "slideshow": {
     "slide_type": "slide"
    }
   },
   "source": [
    "A pattern you will often see (especially in C++), is to make member variables private, but then provide **setter** methods to access them."
   ]
  },
  {
   "cell_type": "code",
   "execution_count": 27,
   "id": "696ba2ff",
   "metadata": {
    "slideshow": {
     "slide_type": "slide"
    }
   },
   "outputs": [],
   "source": [
    "class HasADouble {\n",
    "    private:\n",
    "    double cantTouchThis;\n",
    "    \n",
    "    public:\n",
    "    void setDouble(double const& value) {\n",
    "        this->cantTouchThis = value;\n",
    "    }\n",
    "    double getDouble() {\n",
    "        return this->cantTouchThis;\n",
    "    }\n",
    "}"
   ]
  },
  {
   "cell_type": "code",
   "execution_count": 28,
   "id": "7d7671a1",
   "metadata": {},
   "outputs": [
    {
     "name": "stdout",
     "output_type": "stream",
     "text": [
      "3.14\n"
     ]
    }
   ],
   "source": [
    "HasADouble hasDouble;\n",
    "hasDouble.setDouble(3.14);\n",
    "cout << hasDouble.getDouble() << endl;"
   ]
  },
  {
   "cell_type": "markdown",
   "id": "bd7934ef",
   "metadata": {
    "slideshow": {
     "slide_type": "slide"
    }
   },
   "source": [
    "But if you're going to make setter and getter methods, why not make the variable public?"
   ]
  },
  {
   "cell_type": "markdown",
   "id": "224f29bd",
   "metadata": {
    "slideshow": {
     "slide_type": "fragment"
    }
   },
   "source": [
    "<div class='big centered'>🤔 🤨 🤪 🫠</div>"
   ]
  },
  {
   "cell_type": "markdown",
   "id": "94e9a992",
   "metadata": {
    "slideshow": {
     "slide_type": "slide"
    }
   },
   "source": [
    "So instead, avoid setter methods and instantiate everything in the constructor."
   ]
  },
  {
   "cell_type": "markdown",
   "id": "46f0b73a",
   "metadata": {
    "slideshow": {
     "slide_type": "slide"
    }
   },
   "source": [
    "When you instantiate a class, the compiler calls the class constructor.\n",
    "\n",
    "The **constructor** is very similar to the **`__init__`** method in python.\n",
    "\n",
    "The constructor is *always* named after the class name (required by compiler). \n",
    "\n",
    "If you don't specify a constructor in your class declaration, C++ makes one for you.\n",
    "\n",
    "The *default constructor* is a no-argument, no-logic method. E.g.:\n",
    "\n",
    "```\n",
    "HasADouble() {}\n",
    "```"
   ]
  },
  {
   "cell_type": "markdown",
   "id": "727dbffc",
   "metadata": {
    "slideshow": {
     "slide_type": "slide"
    }
   },
   "source": [
    "The constructor's job is to make sure all the member variables of the class are initialized correctly."
   ]
  },
  {
   "cell_type": "code",
   "execution_count": 29,
   "id": "c31d0d60",
   "metadata": {
    "slideshow": {
     "slide_type": "slide"
    }
   },
   "outputs": [],
   "source": [
    "class HasADouble2 {\n",
    "    private:\n",
    "    double cantTouchThis;\n",
    "    \n",
    "    public:\n",
    "    HasADouble2(double const& value) {  // Constructor\n",
    "        this->cantTouchThis = value;\n",
    "    }\n",
    "    \n",
    "    double getDouble() {\n",
    "        return this->cantTouchThis;\n",
    "    }\n",
    "}"
   ]
  },
  {
   "cell_type": "code",
   "execution_count": 30,
   "id": "80eee8d9",
   "metadata": {},
   "outputs": [
    {
     "name": "stdout",
     "output_type": "stream",
     "text": [
      "3.14\n"
     ]
    }
   ],
   "source": [
    "HasADouble2 hasDouble(3.14);\n",
    "cout << hasDouble.getDouble() << endl;"
   ]
  },
  {
   "cell_type": "markdown",
   "id": "ab549a65",
   "metadata": {
    "slideshow": {
     "slide_type": "slide"
    }
   },
   "source": [
    "When all the constructor needs to do is assign values, then you should use the **initializer list** instead."
   ]
  },
  {
   "cell_type": "code",
   "execution_count": 32,
   "id": "142b1e7b",
   "metadata": {},
   "outputs": [],
   "source": [
    "class HasADouble3 {\n",
    "    private:\n",
    "    double cantTouchThis;\n",
    "    \n",
    "    public:\n",
    "    HasADouble3(double const& value) : cantTouchThis(value) { }\n",
    "    \n",
    "    double getDouble() const {\n",
    "        return this->cantTouchThis;\n",
    "    }\n",
    "}"
   ]
  },
  {
   "cell_type": "markdown",
   "id": "85afa3ef",
   "metadata": {},
   "source": [
    "Use the initializer list to initialize member variables.\n",
    "\n",
    "Put any other necessary logic in the constructor. It's OK for it to be empty."
   ]
  },
  {
   "cell_type": "markdown",
   "id": "10df163d",
   "metadata": {
    "slideshow": {
     "slide_type": "slide"
    }
   },
   "source": [
    "Now, consider the following two blocks of code. \n",
    "\n",
    "Let's assume it is **really** important that the object be initialized with a value before it is used."
   ]
  },
  {
   "cell_type": "code",
   "execution_count": 33,
   "id": "6d207982",
   "metadata": {
    "slideshow": {
     "slide_type": "slide"
    }
   },
   "outputs": [
    {
     "name": "stdout",
     "output_type": "stream",
     "text": [
      "3.14\n"
     ]
    }
   ],
   "source": [
    "HasADouble first;\n",
    "first.setDouble(3.14);\n",
    "cout << first.getDouble() << endl;"
   ]
  },
  {
   "cell_type": "markdown",
   "id": "f9ebfe92",
   "metadata": {
    "slideshow": {
     "slide_type": "fragment"
    }
   },
   "source": [
    "Is it possible to get this example right?\n",
    "\n",
    "I.e. can you make sure that `setDouble` is called before you do anything else?"
   ]
  },
  {
   "cell_type": "markdown",
   "id": "d383112c",
   "metadata": {
    "slideshow": {
     "slide_type": "fragment"
    }
   },
   "source": [
    "Can you get it wrong?"
   ]
  },
  {
   "cell_type": "code",
   "execution_count": 34,
   "id": "c452a843",
   "metadata": {
    "slideshow": {
     "slide_type": "slide"
    }
   },
   "outputs": [
    {
     "name": "stdout",
     "output_type": "stream",
     "text": [
      "3.14159\n"
     ]
    }
   ],
   "source": [
    "HasADouble3 second(3.14159);\n",
    "cout << second.getDouble() << endl;"
   ]
  },
  {
   "cell_type": "markdown",
   "id": "d84bde4e",
   "metadata": {
    "slideshow": {
     "slide_type": "fragment"
    }
   },
   "source": [
    "Is it possible to get this example right?\n",
    "\n",
    "I.e. can you make sure that the object is instantiated correctly?"
   ]
  },
  {
   "cell_type": "markdown",
   "id": "60775733",
   "metadata": {
    "slideshow": {
     "slide_type": "fragment"
    }
   },
   "source": [
    "Can you get it wrong?"
   ]
  },
  {
   "cell_type": "markdown",
   "id": "86c7b351",
   "metadata": {
    "slideshow": {
     "slide_type": "slide"
    }
   },
   "source": [
    "<div class='alert alert-info'>The question is not <br/><br/> \n",
    "    <div style='font-size: 24px'><i>Can I get it right?</i></div>\n",
    "    <br/><br/> \n",
    "    but rather <br/><br/> \n",
    "    <div style='font-size: 48px'><b>Is it impossible to get wrong?</b></div>\n",
    "</div>"
   ]
  },
  {
   "cell_type": "markdown",
   "id": "426a28ce",
   "metadata": {
    "slideshow": {
     "slide_type": "slide"
    }
   },
   "source": [
    "<div class='alert alert-info'>If you write code you can't mess up, you won't mess it up.</div>\n",
    "\n",
    "<div class='big centered'>🧐</div>"
   ]
  },
  {
   "cell_type": "code",
   "execution_count": 35,
   "id": "3e3c83bb",
   "metadata": {
    "slideshow": {
     "slide_type": "slide"
    }
   },
   "outputs": [],
   "source": [
    "class Noisy {\n",
    "    public:\n",
    "    Noisy() {\n",
    "        cout << \"A new Noisy has come into existence!\" << endl;\n",
    "    }\n",
    "}"
   ]
  },
  {
   "cell_type": "code",
   "execution_count": 36,
   "id": "0f8d906f",
   "metadata": {},
   "outputs": [
    {
     "name": "stdout",
     "output_type": "stream",
     "text": [
      "A new Noisy has come into existence!\n"
     ]
    }
   ],
   "source": [
    "Noisy noisy;"
   ]
  },
  {
   "cell_type": "markdown",
   "id": "39587519",
   "metadata": {
    "slideshow": {
     "slide_type": "slide"
    }
   },
   "source": [
    "## Destructors"
   ]
  },
  {
   "cell_type": "code",
   "execution_count": 37,
   "id": "e99e5ecd",
   "metadata": {},
   "outputs": [],
   "source": [
    "class Noisy {\n",
    "    public:\n",
    "    Noisy() {\n",
    "        cout << \"A new Noisy has come into existence!\" << endl;\n",
    "    }\n",
    "    ~Noisy() {\n",
    "        cout << \"One more Noisy is departing this world. Adieu.\" << endl;\n",
    "    }\n",
    "}"
   ]
  },
  {
   "cell_type": "code",
   "execution_count": 38,
   "id": "ba26e87b",
   "metadata": {
    "slideshow": {
     "slide_type": "slide"
    }
   },
   "outputs": [],
   "source": [
    "void doSomethingNoisy() {\n",
    "    Noisy noisy;\n",
    "}"
   ]
  },
  {
   "cell_type": "code",
   "execution_count": 39,
   "id": "663dc848",
   "metadata": {},
   "outputs": [
    {
     "name": "stdout",
     "output_type": "stream",
     "text": [
      "A new Noisy has come into existence!\n",
      "One more Noisy is departing this world. Adieu.\n"
     ]
    }
   ],
   "source": [
    "doSomethingNoisy()"
   ]
  },
  {
   "cell_type": "code",
   "execution_count": 40,
   "id": "79f610f4",
   "metadata": {
    "slideshow": {
     "slide_type": "slide"
    }
   },
   "outputs": [
    {
     "name": "stdout",
     "output_type": "stream",
     "text": [
      "A new Noisy has come into existence!\n"
     ]
    }
   ],
   "source": [
    "Noisy* noisy = new Noisy;"
   ]
  },
  {
   "cell_type": "code",
   "execution_count": 41,
   "id": "bd7b983b",
   "metadata": {},
   "outputs": [
    {
     "name": "stdout",
     "output_type": "stream",
     "text": [
      "One more Noisy is departing this world. Adieu.\n"
     ]
    }
   ],
   "source": [
    "delete noisy;"
   ]
  },
  {
   "cell_type": "markdown",
   "id": "65beeaf4",
   "metadata": {
    "slideshow": {
     "slide_type": "slide"
    }
   },
   "source": [
    "When a class is deleted (either through the stack frame being reclaimed or `delete` being called), the class **destructor** is called.\n",
    "\n",
    "Destructors are named after the class, but with a `~` in front.\n",
    "\n",
    "If you don't specify one, the compiler makes one for you (e.g. `~Noisy() {}`)"
   ]
  },
  {
   "cell_type": "markdown",
   "id": "c7d41907",
   "metadata": {
    "slideshow": {
     "slide_type": "slide"
    }
   },
   "source": [
    "## `const` and `class`"
   ]
  },
  {
   "cell_type": "code",
   "execution_count": 42,
   "id": "56d9a769",
   "metadata": {
    "slideshow": {
     "slide_type": "slide"
    }
   },
   "outputs": [],
   "source": [
    "class OneNumber {\n",
    "    private:\n",
    "    double first;\n",
    "    public:\n",
    "    double getFirst() { return this->first; }\n",
    "}"
   ]
  },
  {
   "cell_type": "code",
   "execution_count": 43,
   "id": "74893c9e",
   "metadata": {},
   "outputs": [
    {
     "name": "stderr",
     "output_type": "stream",
     "text": [
      "input_line_56:2:18: error: default initialization of an object of const type 'const __cling_N545::OneNumber' without a user-provided default constructor\n",
      " const OneNumber one;\n",
      "                 ^\n",
      "                    {}\n",
      "input_line_56:3:1: error: member function 'getFirst' not viable: 'this' argument has type 'const __cling_N545::OneNumber', but function is not marked const\n",
      "one.getFirst()\n",
      "^~~\n",
      "input_line_55:5:12: note: 'getFirst' declared here\n",
      "    double getFirst() { return this->first; }\n",
      "           ^\n"
     ]
    },
    {
     "ename": "Interpreter Error",
     "evalue": "",
     "output_type": "error",
     "traceback": [
      "Interpreter Error: "
     ]
    }
   ],
   "source": [
    "const OneNumber one;\n",
    "one.getFirst()"
   ]
  },
  {
   "cell_type": "markdown",
   "id": "de919ef0",
   "metadata": {
    "slideshow": {
     "slide_type": "fragment"
    }
   },
   "source": [
    "What are these errors saying?\n",
    "\n",
    "- You can't have a `const` object instance unless the class has a user-provided default constructor.\n",
    "- You can't call a method on a `const` instance unless the method is marked `const`"
   ]
  },
  {
   "cell_type": "code",
   "execution_count": 50,
   "id": "cb121c6e",
   "metadata": {
    "slideshow": {
     "slide_type": "slide"
    }
   },
   "outputs": [],
   "source": [
    "class SomeNumber {\n",
    "    private:\n",
    "    double first;\n",
    "    public:\n",
    "    SomeNumber() : first(7.0) { }\n",
    "    double getFirst() const { return this->first; }\n",
    "}"
   ]
  },
  {
   "cell_type": "code",
   "execution_count": 51,
   "id": "ff703691",
   "metadata": {},
   "outputs": [
    {
     "data": {
      "text/plain": [
       "7.0000000"
      ]
     },
     "execution_count": 51,
     "metadata": {},
     "output_type": "execute_result"
    }
   ],
   "source": [
    "const SomeNumber one;\n",
    "one.getFirst()"
   ]
  },
  {
   "cell_type": "code",
   "execution_count": 46,
   "id": "addac05a",
   "metadata": {
    "slideshow": {
     "slide_type": "slide"
    }
   },
   "outputs": [
    {
     "name": "stderr",
     "output_type": "stream",
     "text": [
      "input_line_60:2:22: warning: empty parentheses interpreted as a function declaration [-Wvexing-parse]\n",
      " const SomeNumber one();\n",
      "                     ^~\n",
      "input_line_60:2:22: note: remove parentheses to declare a variable\n",
      " const SomeNumber one();\n",
      "                     ^~\n",
      "input_line_60:3:1: error: base of member reference is a function; perhaps you meant to call it with no arguments?\n",
      "one.getFirst()\n",
      "^~~\n",
      "   ()\n"
     ]
    },
    {
     "ename": "Interpreter Error",
     "evalue": "",
     "output_type": "error",
     "traceback": [
      "Interpreter Error: "
     ]
    }
   ],
   "source": [
    "const SomeNumber one();\n",
    "one.getFirst()"
   ]
  },
  {
   "cell_type": "markdown",
   "id": "a90b0dec",
   "metadata": {
    "slideshow": {
     "slide_type": "fragment"
    }
   },
   "source": [
    "To call the default constructor, **don't use parentheses!**\n",
    "\n",
    "Just state that your object exists, and it will."
   ]
  },
  {
   "cell_type": "markdown",
   "id": "dbb9b12e",
   "metadata": {
    "slideshow": {
     "slide_type": "slide"
    }
   },
   "source": [
    "## A concession"
   ]
  },
  {
   "cell_type": "code",
   "execution_count": 52,
   "id": "cc9aee8f",
   "metadata": {
    "slideshow": {
     "slide_type": "slide"
    }
   },
   "outputs": [],
   "source": [
    "class HasADouble3 {\n",
    "    private:\n",
    "    double cantTouchThis;\n",
    "    \n",
    "    public:\n",
    "    HasADouble3(double const& value) : cantTouchThis(value) { }\n",
    "    \n",
    "    double getDouble() const {\n",
    "        return this->cantTouchThis;\n",
    "    }\n",
    "}"
   ]
  },
  {
   "cell_type": "code",
   "execution_count": 53,
   "id": "b8a9a704",
   "metadata": {},
   "outputs": [
    {
     "name": "stderr",
     "output_type": "stream",
     "text": [
      "input_line_68:2:27: error: no matching constructor for initialization of '__cling_N557::HasADouble3 [5]'\n",
      " HasADouble3* array = new HasADouble3[5];\n",
      "                          ^\n",
      "input_line_67:6:5: note: candidate constructor not viable: requires single argument 'value', but no arguments were provided\n",
      "    HasADouble3(double const& value) : cantTouchThis(value) { }\n",
      "    ^\n",
      "input_line_67:1:7: note: candidate constructor (the implicit copy constructor) not viable: requires 1 argument, but 0 were provided\n",
      "class HasADouble3 {\n",
      "      ^\n",
      "input_line_67:1:7: note: candidate constructor (the implicit move constructor) not viable: requires 1 argument, but 0 were provided\n"
     ]
    },
    {
     "ename": "Interpreter Error",
     "evalue": "",
     "output_type": "error",
     "traceback": [
      "Interpreter Error: "
     ]
    }
   ],
   "source": [
    "HasADouble3* array = new HasADouble3[5];"
   ]
  },
  {
   "cell_type": "markdown",
   "id": "250e64b4",
   "metadata": {
    "slideshow": {
     "slide_type": "slide"
    }
   },
   "source": [
    "I can't initialize an array of things unless that thing has a default (i.e. parameterless) constructor. \n",
    "\n",
    "So, to store an array of things you must either:\n",
    "\n",
    "- Make those things mutable (initialize them with dummy data, then call setters to post-initialize the values)\n",
    "  - <div style=\"font-size: 24px\">😱</div>\n",
    "- Store an array of pointers\n",
    "  - <div style=\"font-size: 24px\">🙃</div>"
   ]
  },
  {
   "cell_type": "markdown",
   "id": "bc175372",
   "metadata": {
    "slideshow": {
     "slide_type": "slide"
    }
   },
   "source": [
    "## Class Organization\n",
    "\n",
    "- headers and cpp files\n",
    "- `#include` header\n",
    "- include `.cpp` for the executable in `CMakeLists.txt`"
   ]
  },
  {
   "cell_type": "markdown",
   "id": "0556d9f7",
   "metadata": {
    "slideshow": {
     "slide_type": "-"
    }
   },
   "source": [
    "### `book.h`\n",
    "\n",
    "### `book.cpp`"
   ]
  },
  {
   "cell_type": "markdown",
   "id": "2f388b6f",
   "metadata": {
    "slideshow": {
     "slide_type": "slide"
    }
   },
   "source": [
    "## Copying Objects"
   ]
  },
  {
   "cell_type": "code",
   "execution_count": 2,
   "id": "9eae80b8",
   "metadata": {
    "slideshow": {
     "slide_type": "slide"
    }
   },
   "outputs": [],
   "source": [
    "class Book {\n",
    "    private:\n",
    "    string title;\n",
    "    string author;\n",
    "    int year;\n",
    "    \n",
    "    public:\n",
    "    Book(string title, string author, int year) : title(title), author(author), year(year) {}\n",
    "    \n",
    "    string getTitle() const { return this->title; }\n",
    "    string getAuthor() const { return this->author; }\n",
    "    int getYear() const { return this->year; }\n",
    "    \n",
    "    string str() const {\n",
    "        stringstream ss;\n",
    "        ss << this->title << \" by \" << this->author << \" (\" << this->year << \")\";\n",
    "        return ss.str();\n",
    "    }\n",
    "}"
   ]
  },
  {
   "cell_type": "code",
   "execution_count": 3,
   "id": "7c4ed315",
   "metadata": {
    "slideshow": {
     "slide_type": "slide"
    }
   },
   "outputs": [],
   "source": [
    "class Bookshelf {\n",
    "    private:\n",
    "    Book** shelf;\n",
    "    const unsigned int capacity;\n",
    "    public:\n",
    "    Bookshelf(unsigned int capacity) : capacity(capacity), shelf(new Book*[capacity]) {\n",
    "        for (int i = 0; i < capacity; i++) {\n",
    "            this->shelf[i] = nullptr;  // Why is this important?\n",
    "        }\n",
    "    }\n",
    "    ~Bookshelf() { \n",
    "        // We only delete the shelf here. Whoever put the books on the shelf should delete the books.\n",
    "        delete[] this->shelf; \n",
    "    }\n",
    "    bool addBook(Book* book, unsigned int position) {\n",
    "        if (position < this->capacity) {\n",
    "            this->shelf[position] = book;\n",
    "            cout << \"Added \" << book->str() << \" to slot \" << position << endl;\n",
    "            return true;\n",
    "        } else {\n",
    "            return false;\n",
    "        }\n",
    "    }\n",
    "    Book* getBook(unsigned int position) const {\n",
    "        if (position < capacity) {\n",
    "            return this->shelf[position];\n",
    "        } else {\n",
    "            return nullptr;\n",
    "        }\n",
    "    }\n",
    "    void printBooks() const {\n",
    "        for (int i = 0; i < this->capacity; i++) {\n",
    "            cout << i << \": \";\n",
    "            if (this->shelf[i] != nullptr) {\n",
    "                cout << this->shelf[i]->str();\n",
    "            }\n",
    "            cout << endl;\n",
    "        }\n",
    "    }\n",
    "}"
   ]
  },
  {
   "cell_type": "code",
   "execution_count": 4,
   "id": "6a1de16e",
   "metadata": {},
   "outputs": [
    {
     "name": "stdout",
     "output_type": "stream",
     "text": [
      "Added The Hobbit by JRR Tolkien (1937) to slot 1\n",
      "Added WTF by Tim O'Reilly (2017) to slot 4\n",
      "0: \n",
      "1: The Hobbit by JRR Tolkien (1937)\n",
      "2: \n",
      "3: \n",
      "4: WTF by Tim O'Reilly (2017)\n"
     ]
    }
   ],
   "source": [
    "Bookshelf shelf(5);\n",
    "Book* book1 = new Book(\"The Hobbit\", \"JRR Tolkien\", 1937);\n",
    "Book* book2 = new Book(\"WTF\", \"Tim O'Reilly\", 2017);\n",
    "shelf.addBook(book1, 1);\n",
    "shelf.addBook(book2, 4);\n",
    "shelf.printBooks();"
   ]
  },
  {
   "cell_type": "markdown",
   "id": "63d0258c",
   "metadata": {
    "slideshow": {
     "slide_type": "slide"
    }
   },
   "source": [
    "### Shallow Copies"
   ]
  },
  {
   "cell_type": "code",
   "execution_count": 5,
   "id": "d6d40e6a",
   "metadata": {},
   "outputs": [
    {
     "name": "stdout",
     "output_type": "stream",
     "text": [
      "0: \n",
      "1: The Hobbit by JRR Tolkien (1937)\n",
      "2: \n",
      "3: \n",
      "4: WTF by Tim O'Reilly (2017)\n"
     ]
    }
   ],
   "source": [
    "Bookshelf otherShelf = shelf;\n",
    "otherShelf.printBooks();"
   ]
  },
  {
   "cell_type": "code",
   "execution_count": 6,
   "id": "a14a7382",
   "metadata": {},
   "outputs": [
    {
     "name": "stdout",
     "output_type": "stream",
     "text": [
      "Added A Short History of Nearly Everything by Bill Bryson (2003) to slot 0\n"
     ]
    }
   ],
   "source": [
    "Book* book3 = new Book(\"A Short History of Nearly Everything\", \"Bill Bryson\", 2003);\n",
    "\n",
    "otherShelf.addBook(book3, 0);"
   ]
  },
  {
   "cell_type": "code",
   "execution_count": 7,
   "id": "31aae925",
   "metadata": {
    "slideshow": {
     "slide_type": "fragment"
    }
   },
   "outputs": [
    {
     "name": "stdout",
     "output_type": "stream",
     "text": [
      "0: A Short History of Nearly Everything by Bill Bryson (2003)\n",
      "1: The Hobbit by JRR Tolkien (1937)\n",
      "2: \n",
      "3: \n",
      "4: WTF by Tim O'Reilly (2017)\n"
     ]
    }
   ],
   "source": [
    "shelf.printBooks();"
   ]
  },
  {
   "cell_type": "markdown",
   "id": "72f04318",
   "metadata": {
    "slideshow": {
     "slide_type": "slide"
    }
   },
   "source": [
    "Why did `shelf` get modified when we added a book to `otherShelf`?"
   ]
  },
  {
   "cell_type": "markdown",
   "id": "0d41b645",
   "metadata": {
    "slideshow": {
     "slide_type": "slide"
    }
   },
   "source": [
    "You make a copy of an object through *initialization*\n",
    "```c++\n",
    "Bookshelf otherShelf(shelf);\n",
    "``` \n",
    "or through *assignment*\n",
    "```c++\n",
    "Bookshelf otherShelf = shelf;\n",
    "```\n",
    "\n",
    "If you didn't specify a **copy constructor** or an **assignment operator**, then C++ makes default ones for you.\n",
    "\n",
    "The default versions does a simple copy of all the member variables. \n"
   ]
  },
  {
   "cell_type": "markdown",
   "id": "ecc21203",
   "metadata": {
    "slideshow": {
     "slide_type": "slide"
    }
   },
   "source": [
    "### Deep copies"
   ]
  },
  {
   "cell_type": "code",
   "execution_count": 9,
   "id": "e78fc548",
   "metadata": {
    "slideshow": {
     "slide_type": "slide"
    }
   },
   "outputs": [],
   "source": [
    "class Book {\n",
    "    private:\n",
    "    string title;\n",
    "    string author;\n",
    "    int year;\n",
    "    \n",
    "    public:\n",
    "    Book(string title, string author, int year) : title(title), author(author), year(year) {}\n",
    "    Book(Book const& other) : title(other.title), author(other.author), year(other.year) { }\n",
    "    Book & operator=(Book const& other) {\n",
    "        this->title = other.title;\n",
    "        this->author = other.author;\n",
    "        this->year = other.year;\n",
    "        return *this;\n",
    "    }\n",
    "    \n",
    "    string getTitle() const { return this->title; }\n",
    "    string getAuthor() const { return this->author; }\n",
    "    int getYear() const { return this->year; }\n",
    "    \n",
    "    string str() const {\n",
    "        stringstream ss;\n",
    "        ss << this->title << \" by \" << this->author << \" (\" << this->year << \")\";\n",
    "        return ss.str();\n",
    "    }\n",
    "}"
   ]
  },
  {
   "cell_type": "code",
   "execution_count": 10,
   "id": "dfe1ade7",
   "metadata": {
    "slideshow": {
     "slide_type": "slide"
    }
   },
   "outputs": [],
   "source": [
    "class Bookshelf {\n",
    "    private:\n",
    "    Book** shelf;\n",
    "    const unsigned int capacity;\n",
    "    void initShelf() {\n",
    "        for (int i = 0; i < capacity; i++) {\n",
    "            this->shelf[i] = nullptr;  // Why is this important?\n",
    "        }\n",
    "    }\n",
    "    void copyOther(Bookshelf const& other) {\n",
    "        for (int i = 0; i < this->capacity; i++) {\n",
    "            if (other.shelf[i] != nullptr) {\n",
    "                this->shelf[i] = new Book(*(other.shelf[i]));                \n",
    "            }\n",
    "        }\n",
    "    }\n",
    "    public:\n",
    "    // Bookshelf shelf(7);\n",
    "    Bookshelf(unsigned int const& capacity) : capacity(capacity), shelf(new Book*[capacity]) {\n",
    "        this->initShelf();\n",
    "    }\n",
    "    // Bookshelf other(shelf);\n",
    "    Bookshelf(Bookshelf const& other) : capacity(other.capacity), shelf(new Book*[other.capacity]) {\n",
    "        this->initShelf();\n",
    "        this->copyOther(other);\n",
    "    }\n",
    "    Bookshelf & operator=(Bookshelf const& other) {\n",
    "        this->copyOther(other);\n",
    "        return *this;\n",
    "    }\n",
    "    ~Bookshelf() { \n",
    "        // We only delete the shelf here. Whoever owns this shelf should delete the books first.\n",
    "        delete[] this->shelf; \n",
    "    }\n",
    "    bool addBook(Book* const& book, unsigned int const& position) {\n",
    "        if (position < this->capacity) {\n",
    "            this->shelf[position] = book;\n",
    "            cout << \"Added \" << book->str() << \" to slot \" << position << endl;\n",
    "            return true;\n",
    "        } else {\n",
    "            return false;\n",
    "        }\n",
    "    }\n",
    "    Book* getBook(unsigned int const& position) const {\n",
    "        return this->shelf[position];\n",
    "    }\n",
    "    void printBooks() const {\n",
    "        for (int i = 0; i < this->capacity; i++) {\n",
    "            cout << i << \": \";\n",
    "            if (this->shelf[i] != nullptr) {\n",
    "                cout << this->shelf[i]->str();\n",
    "            }\n",
    "            cout << endl;\n",
    "        }\n",
    "    }\n",
    "}"
   ]
  },
  {
   "cell_type": "code",
   "execution_count": 11,
   "id": "478ac4fa",
   "metadata": {
    "slideshow": {
     "slide_type": "slide"
    }
   },
   "outputs": [
    {
     "name": "stdout",
     "output_type": "stream",
     "text": [
      "Added The Hobbit by JRR Tolkien (1937) to slot 1\n",
      "Added WTF by Tim O'Reilly (2017) to slot 4\n",
      "0: \n",
      "1: The Hobbit by JRR Tolkien (1937)\n",
      "2: \n",
      "3: \n",
      "4: WTF by Tim O'Reilly (2017)\n"
     ]
    }
   ],
   "source": [
    "Bookshelf shelf(5);\n",
    "Book* book1 = new Book(\"The Hobbit\", \"JRR Tolkien\", 1937);\n",
    "Book* book2 = new Book(\"WTF\", \"Tim O'Reilly\", 2017);\n",
    "shelf.addBook(book1, 1);\n",
    "shelf.addBook(book2, 4);\n",
    "shelf.printBooks();"
   ]
  },
  {
   "cell_type": "code",
   "execution_count": 12,
   "id": "b3cf5f21",
   "metadata": {},
   "outputs": [
    {
     "name": "stdout",
     "output_type": "stream",
     "text": [
      "Added A Short History of Nearly Everything by Bill Bryson (2003) to slot 3\n",
      "0: \n",
      "1: The Hobbit by JRR Tolkien (1937)\n",
      "2: \n",
      "3: A Short History of Nearly Everything by Bill Bryson (2003)\n",
      "4: WTF by Tim O'Reilly (2017)\n"
     ]
    }
   ],
   "source": [
    "Bookshelf otherShelf = shelf;\n",
    "Book* book3 = new Book(\"A Short History of Nearly Everything\", \"Bill Bryson\", 2003);\n",
    "otherShelf.addBook(book3, 3);otherShelf.printBooks();"
   ]
  },
  {
   "cell_type": "code",
   "execution_count": 13,
   "id": "9a9b1050",
   "metadata": {
    "slideshow": {
     "slide_type": "fragment"
    }
   },
   "outputs": [
    {
     "name": "stdout",
     "output_type": "stream",
     "text": [
      "0: \n",
      "1: The Hobbit by JRR Tolkien (1937)\n",
      "2: \n",
      "3: \n",
      "4: WTF by Tim O'Reilly (2017)\n"
     ]
    }
   ],
   "source": [
    "shelf.printBooks();"
   ]
  },
  {
   "cell_type": "markdown",
   "id": "5bcdb97e",
   "metadata": {
    "slideshow": {
     "slide_type": "slide"
    }
   },
   "source": [
    "### Rule of Three\n",
    "\n",
    "The **destructor**, **copy constructor**, and **assignment operator** are all related.\n",
    "\n",
    "You only need them if your class dynamically allocates memory.\n",
    "\n",
    "But if you implement one of them, you should probably implement all three."
   ]
  },
  {
   "cell_type": "markdown",
   "id": "32969b9e",
   "metadata": {
    "slideshow": {
     "slide_type": "slide"
    }
   },
   "source": [
    "## Key Ideas\n",
    "- `struct` and `class`\n",
    "  - `private` vs `public`\n",
    "  - `this`\n",
    "  - `->` vs `.`\n",
    "  - `const`\n",
    "- Class lifecycle management\n",
    "  - Default constructor\n",
    "  - User-defined constructor\n",
    "  - Initialization list\n",
    "  - Copy constructor\n",
    "  - Assignment operator\n",
    "  - Destructor\n",
    "  - Rule of Three"
   ]
  }
 ],
 "metadata": {
  "celltoolbar": "Slideshow",
  "kernelspec": {
   "display_name": "C++14",
   "language": "C++14",
   "name": "xcpp14"
  },
  "language_info": {
   "codemirror_mode": "text/x-c++src",
   "file_extension": ".cpp",
   "mimetype": "text/x-c++src",
   "name": "c++",
   "version": "14"
  }
 },
 "nbformat": 4,
 "nbformat_minor": 5
}
