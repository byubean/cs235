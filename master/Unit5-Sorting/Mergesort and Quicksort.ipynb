{
 "cells": [
  {
   "cell_type": "markdown",
   "id": "68e3b84a",
   "metadata": {
    "slideshow": {
     "slide_type": "slide"
    }
   },
   "source": [
    "# Mergesort and Quicksort"
   ]
  },
  {
   "cell_type": "markdown",
   "id": "e2d645f5",
   "metadata": {
    "slideshow": {
     "slide_type": "slide"
    }
   },
   "source": [
    "Selection-sort and insertion-sort were $O(n^2)$ in the average case.\n",
    "\n",
    "As always in our quest for faster and better algorithms, we ask once again:\n",
    "\n",
    "> Can we do better?\n"
   ]
  },
  {
   "cell_type": "markdown",
   "id": "c10ebc9d",
   "metadata": {
    "slideshow": {
     "slide_type": "slide"
    }
   },
   "source": [
    "## Mergesort"
   ]
  },
  {
   "cell_type": "markdown",
   "id": "0e98ea98",
   "metadata": {},
   "source": [
    "```\n",
    "if the size of the List is at least 2    \n",
    "  split the List into the left half and the right half\n",
    "  recursively sort left\n",
    "  recursively sort right\n",
    "  merge left and right into one List\n",
    "end if\n",
    "```"
   ]
  },
  {
   "cell_type": "markdown",
   "id": "e8501bc6",
   "metadata": {},
   "source": [
    "What are the contents of `left` and `right` after each recursive call?\n",
    "\n",
    "```\n",
    "8 5 2 7 7 6 3 4\n",
    "```"
   ]
  },
  {
   "cell_type": "markdown",
   "id": "354ce459",
   "metadata": {},
   "source": [
    "```\n",
    "list: 8 5 2 7 7 6 3 4\n",
    "left: 8 5 2 7 \n",
    "right:        7 6 3 4\n",
    "```"
   ]
  },
  {
   "cell_type": "markdown",
   "id": "94fd3713",
   "metadata": {},
   "source": [
    "```\n",
    "list: 8 5 2 7 \n",
    "left: 8 5\n",
    "right:    2 7\n",
    "```"
   ]
  },
  {
   "cell_type": "markdown",
   "id": "88c5d86a",
   "metadata": {},
   "source": [
    "```\n",
    "list: 8 5\n",
    "left: 8\n",
    "right:  5\n",
    "```"
   ]
  },
  {
   "cell_type": "markdown",
   "id": "1b35ccd3",
   "metadata": {},
   "source": [
    "We'll assume we divided the right side the same way."
   ]
  },
  {
   "cell_type": "markdown",
   "id": "3c689320",
   "metadata": {},
   "source": [
    "#### How do you merge two sorted halves?\n",
    "\n",
    "```\n",
    "left: 8\n",
    "right: 5\n",
    "merged: 5 8\n",
    "```"
   ]
  },
  {
   "cell_type": "markdown",
   "id": "72c9bbfb",
   "metadata": {},
   "source": [
    "```\n",
    "left: 5 8\n",
    "right: 2 7\n",
    "merged: 2 5 7 8 \n",
    "```"
   ]
  },
  {
   "cell_type": "markdown",
   "id": "da6d056b",
   "metadata": {},
   "source": [
    "```\n",
    "left: 2 5 7 8\n",
    "right: 3 4 6 7\n",
    "merged: 2 3 4 5 6 7 7 8\n",
    "```"
   ]
  },
  {
   "cell_type": "markdown",
   "id": "237370a6",
   "metadata": {},
   "source": [
    "### Activity\n",
    "\n",
    "Work with a partner. Show each step of mergesort on the following list:\n",
    "\n",
    "```\n",
    "8 5 4 6 2 3 4 1\n",
    "```"
   ]
  },
  {
   "cell_type": "markdown",
   "id": "c6f4bcf4",
   "metadata": {
    "slideshow": {
     "slide_type": "slide"
    }
   },
   "source": [
    "### Mergesort Pseudo-code\n",
    "\n",
    "```\n",
    "mergeSort ( list ) {\n",
    "  if ( list.size > 1 ) {\n",
    "    split( list, left, right );\n",
    "    mergeSort( left );\n",
    "    mergeSort( right );\n",
    "    merge( left, right, list );\n",
    "  }\n",
    "}\n",
    "```\n",
    "```\n",
    "split ( list, left, right ) {\n",
    "  for each item in the left half of list\n",
    "    add the item to left\n",
    "  for each item in the right half of list\n",
    "    add the item to right\n",
    "}\n",
    "```\n",
    "```\n",
    "merge( left, right, list ) {\n",
    "  while both left and right have more items\n",
    "    if the left item is less than the right item\n",
    "      add the left item to list\n",
    "    else\n",
    "      add the right item to list\n",
    "  while left has more items\n",
    "    add the left item to list\n",
    "  while right has more items\n",
    "    add the right item to list\n",
    "}\n",
    "```"
   ]
  },
  {
   "cell_type": "markdown",
   "id": "def5b51b",
   "metadata": {},
   "source": [
    "- What is the base case?\n",
    "- What is the running time for `split`?\n",
    "- What is the running time for `merge`?\n",
    "- How many times do `split` and `merge` get called?\n",
    "- What is the runtime complexity of `mergeSort`?"
   ]
  },
  {
   "cell_type": "markdown",
   "id": "707f94e8",
   "metadata": {},
   "source": [
    "- Does the running time of mergesort depend on the kind of input you give it?\n",
    "  - Sorted?\n",
    "  - Reversed?\n",
    "  - Random?"
   ]
  },
  {
   "cell_type": "markdown",
   "id": "dc601cd4",
   "metadata": {},
   "source": [
    "- How much space does mergesort need?"
   ]
  },
  {
   "cell_type": "markdown",
   "id": "b9c3522e",
   "metadata": {},
   "source": [
    "### Visualizing Mergesort\n",
    "\n",
    "```\n",
    "5 4 2 3 6 1\n",
    "5 4 2|3 6 1\n",
    "5|4 2|3|6 1\n",
    "5|4|2|3|6|1\n",
    "4 5|2|3 6|1\n",
    "2 4 5|1 3 6\n",
    "1 2 3 4 5 6\n",
    "```\n",
    "\n",
    "- At each layer, how much work does mergesort do to split?\n",
    "  - Copy each item into its respective `left` or `right` list. $O(n)$\n",
    "- At each layer, how much work does mergesort do to merge?\n",
    "  - Copy each item from its respective `left` or `right` list into the respective merged list. $O(n)$\n",
    "- How many layers are there?\n",
    "  - How many times can I halve the list? $O(\\log n)$\n",
    "- Total runtime: $O(n) \\cdot O(\\log n) = O(n \\log n)$"
   ]
  },
  {
   "cell_type": "markdown",
   "id": "5474bbd2",
   "metadata": {},
   "source": [
    "### Mergesort\n",
    "\n",
    "- $O(n \\log n)$ running time\n",
    "  - Even if the input is sorted, reversed, or random\n",
    "- $O(n)$ space, but needs to store the left and right copies\n"
   ]
  },
  {
   "cell_type": "code",
   "execution_count": 1,
   "id": "8661085b",
   "metadata": {
    "slideshow": {
     "slide_type": "slide"
    }
   },
   "outputs": [],
   "source": [
    "#include <vector>\n",
    "#include <iostream>\n",
    "using namespace std;"
   ]
  },
  {
   "cell_type": "code",
   "execution_count": 2,
   "id": "62acffa7",
   "metadata": {
    "slideshow": {
     "slide_type": "-"
    }
   },
   "outputs": [],
   "source": [
    "template<class T>\n",
    "void print(T list) {\n",
    "    for (auto item : list) {\n",
    "        cout << item << \" \";\n",
    "    }\n",
    "    cout << endl;\n",
    "}\n",
    "\n",
    "template<class T>\n",
    "void merge(vector<T> const& A, vector<T> const& B, vector<T>& AB) {\n",
    "    // Iterate through both lists, \n",
    "    // adding the minimum between each lists' items\n",
    "    // to the combined list\n",
    "    auto a_it = A.begin();\n",
    "    auto b_it = B.begin();\n",
    "    while (a_it != A.end() && b_it != B.end()) {\n",
    "        auto& min_it = (*a_it < *b_it) ? a_it : b_it;\n",
    "        AB.push_back(*min_it);\n",
    "        min_it++;\n",
    "    }\n",
    "    \n",
    "    // Which list still has unadded items?\n",
    "    auto extra_it = (a_it != A.end()) ? a_it : b_it;\n",
    "    const auto end_it = (a_it != A.end()) ? A.end() : B.end();\n",
    "    while (extra_it != end_it) {\n",
    "        AB.push_back(*extra_it);\n",
    "        extra_it++;\n",
    "    }\n",
    "\n",
    "    cout << \"merge:\" << endl;\n",
    "    print(A);\n",
    "    print(B);\n",
    "    print(AB);\n",
    "    cout << endl;\n",
    "\n",
    "}\n",
    "\n",
    "template<class T>\n",
    "void split(vector<T> const& source, vector<T>& left, vector<T>& right) {\n",
    "    int split = source.size() / 2;\n",
    "    for (int i = 0; i < split; i++) {\n",
    "        left.push_back(source.at(i));\n",
    "    }\n",
    "    for (int i = split; i < source.size(); i++) {\n",
    "        right.push_back(source.at(i));\n",
    "    }\n",
    "    cout << \"split:\" << endl;\n",
    "    print(source);\n",
    "    print(left);\n",
    "    print(right);\n",
    "    cout << endl;\n",
    "}\n",
    "\n",
    "template<class T>\n",
    "void merge_sort(vector<T>& things) {\n",
    "    \n",
    "    if (things.size() == 1) {\n",
    "        return;\n",
    "    }\n",
    "    \n",
    "    vector<T> left;\n",
    "    vector<T> right;\n",
    "    \n",
    "    split(things, left, right);\n",
    "    \n",
    "    merge_sort(left);\n",
    "    merge_sort(right);\n",
    "    \n",
    "    things.clear();\n",
    "    merge(left, right, things);\n",
    "}"
   ]
  },
  {
   "cell_type": "code",
   "execution_count": 7,
   "id": "7bcab495",
   "metadata": {
    "slideshow": {
     "slide_type": "slide"
    }
   },
   "outputs": [],
   "source": [
    "vector<int> numbers = {1, 3, 4, 2, 7, 9, 5, 0, 8, 6};"
   ]
  },
  {
   "cell_type": "code",
   "execution_count": 8,
   "id": "cf1bf9b0",
   "metadata": {},
   "outputs": [
    {
     "name": "stdout",
     "output_type": "stream",
     "text": [
      "split:\n",
      "1 3 4 2 7 9 5 0 8 6 \n",
      "1 3 4 2 7 \n",
      "9 5 0 8 6 \n",
      "\n",
      "split:\n",
      "1 3 4 2 7 \n",
      "1 3 \n",
      "4 2 7 \n",
      "\n",
      "split:\n",
      "1 3 \n",
      "1 \n",
      "3 \n",
      "\n",
      "merge:\n",
      "1 \n",
      "3 \n",
      "1 3 \n",
      "\n",
      "split:\n",
      "4 2 7 \n",
      "4 \n",
      "2 7 \n",
      "\n",
      "split:\n",
      "2 7 \n",
      "2 \n",
      "7 \n",
      "\n",
      "merge:\n",
      "2 \n",
      "7 \n",
      "2 7 \n",
      "\n",
      "merge:\n",
      "4 \n",
      "2 7 \n",
      "2 4 7 \n",
      "\n",
      "merge:\n",
      "1 3 \n",
      "2 4 7 \n",
      "1 2 3 4 7 \n",
      "\n",
      "split:\n",
      "9 5 0 8 6 \n",
      "9 5 \n",
      "0 8 6 \n",
      "\n",
      "split:\n",
      "9 5 \n",
      "9 \n",
      "5 \n",
      "\n",
      "merge:\n",
      "9 \n",
      "5 \n",
      "5 9 \n",
      "\n",
      "split:\n",
      "0 8 6 \n",
      "0 \n",
      "8 6 \n",
      "\n",
      "split:\n",
      "8 6 \n",
      "8 \n",
      "6 \n",
      "\n",
      "merge:\n",
      "8 \n",
      "6 \n",
      "6 8 \n",
      "\n",
      "merge:\n",
      "0 \n",
      "6 8 \n",
      "0 6 8 \n",
      "\n",
      "merge:\n",
      "5 9 \n",
      "0 6 8 \n",
      "0 5 6 8 9 \n",
      "\n",
      "merge:\n",
      "1 2 3 4 7 \n",
      "0 5 6 8 9 \n",
      "0 1 2 3 4 5 6 7 8 9 \n",
      "\n"
     ]
    }
   ],
   "source": [
    "merge_sort(numbers)"
   ]
  },
  {
   "cell_type": "markdown",
   "id": "14e02033",
   "metadata": {
    "slideshow": {
     "slide_type": "slide"
    }
   },
   "source": [
    "## Quicksort"
   ]
  },
  {
   "cell_type": "markdown",
   "id": "8a921203",
   "metadata": {
    "slideshow": {
     "slide_type": "fragment"
    }
   },
   "source": [
    "```\n",
    "if the size of the List is at least 2\n",
    "  select an item in the List to use as the pivot\n",
    "  partition the List into small, equal, large Lists\n",
    "    (small, equal, large compared to pivot)\n",
    "  recursively sort small\n",
    "  recursively sort large\n",
    "  concatenate small, equal, and large into one list\n",
    "end if\n",
    "```"
   ]
  },
  {
   "cell_type": "markdown",
   "id": "9d04226f",
   "metadata": {},
   "source": [
    "There are many ways to pick a pivot. For now, we'll just use the middle item as the pivot."
   ]
  },
  {
   "cell_type": "markdown",
   "id": "7dfe7db1",
   "metadata": {
    "slideshow": {
     "slide_type": "slide"
    }
   },
   "source": [
    "```\n",
    "9 8 1 6 4 3 7 5 2\n",
    "```"
   ]
  },
  {
   "cell_type": "markdown",
   "id": "86622f4d",
   "metadata": {
    "slideshow": {
     "slide_type": "fragment"
    }
   },
   "source": [
    "```\n",
    "list: 9 8 1 6 4 3 7 5 2\n",
    "pivot: 4\n",
    "small: 1 3 2\n",
    "equal: 4\n",
    "large: 9 8 6 7 5\n",
    "```"
   ]
  },
  {
   "cell_type": "markdown",
   "id": "8b9d60b3",
   "metadata": {
    "slideshow": {
     "slide_type": "fragment"
    }
   },
   "source": [
    "```\n",
    "list: 1 3 2\n",
    "pivot: 3\n",
    "small: 1 2\n",
    "equal: 3\n",
    "large: \n",
    "```"
   ]
  },
  {
   "cell_type": "markdown",
   "id": "32290c51",
   "metadata": {
    "slideshow": {
     "slide_type": "fragment"
    }
   },
   "source": [
    "```\n",
    "list: 1 2\n",
    "pivot: 2\n",
    "small: 1\n",
    "equal: 2\n",
    "large: \n",
    "return: 1 2\n",
    "```"
   ]
  },
  {
   "cell_type": "markdown",
   "id": "af093cb8",
   "metadata": {
    "slideshow": {
     "slide_type": "fragment"
    }
   },
   "source": [
    "```\n",
    "list: 1 3 2\n",
    "small: 1 2\n",
    "equal: 3\n",
    "large: \n",
    "return: 1 2 3\n",
    "```"
   ]
  },
  {
   "cell_type": "markdown",
   "id": "a4b98cdd",
   "metadata": {
    "slideshow": {
     "slide_type": "fragment"
    }
   },
   "source": [
    "```\n",
    "list: 9 8 6 7 5\n",
    "pivot: 6\n",
    "small: 5\n",
    "equal: 6\n",
    "large: 9 8 7\n",
    "```"
   ]
  },
  {
   "cell_type": "markdown",
   "id": "8ddeed6a",
   "metadata": {
    "slideshow": {
     "slide_type": "fragment"
    }
   },
   "source": [
    "```\n",
    "list: 9 8 7\n",
    "pivot: 8\n",
    "small: 7\n",
    "equal: 8\n",
    "large: 9\n",
    "return: 7 8 9\n",
    "```"
   ]
  },
  {
   "cell_type": "markdown",
   "id": "dcf0b6ea",
   "metadata": {
    "slideshow": {
     "slide_type": "fragment"
    }
   },
   "source": [
    "```\n",
    "list: 9 8 6 7 5\n",
    "small: 5\n",
    "equal: 6\n",
    "large: 7 8 9\n",
    "return: 5 6 7 8 9\n",
    "```"
   ]
  },
  {
   "cell_type": "markdown",
   "id": "fa5d42ca",
   "metadata": {
    "slideshow": {
     "slide_type": "fragment"
    }
   },
   "source": [
    "```\n",
    "list: 9 8 1 6 4 3 7 5 2\n",
    "small: 1 2 3\n",
    "equal: 4\n",
    "large: 5 6 7 8 9\n",
    "return: 1 2 3 4 5 6 7 8 9\n",
    "```"
   ]
  },
  {
   "cell_type": "markdown",
   "id": "a00100c3",
   "metadata": {
    "slideshow": {
     "slide_type": "slide"
    }
   },
   "source": [
    "### Activity\n",
    "\n",
    "Sort this list using quicksort. Write out the partitions at each step. Use the middle item as the pivot.\n",
    "\n",
    "```\n",
    "4 7 2 3 5 8 1 2 9\n",
    "```"
   ]
  },
  {
   "cell_type": "markdown",
   "id": "01e4f624",
   "metadata": {
    "slideshow": {
     "slide_type": "slide"
    }
   },
   "source": [
    "### Quicksort Pseudo-code\n",
    "\n",
    "```\n",
    "quickSort ( list ) {\n",
    "  if ( list.size > 1 ) {\n",
    "    partition( list, small, equal, large );\n",
    "    quickSort( small );\n",
    "    quickSort( large );\n",
    "    concat( small, equal, large, list );\n",
    "  }\n",
    "}\n",
    "```\n",
    "```\n",
    "partition( list, small, equal, large ) {\n",
    "  pivot = item in middle position of list\n",
    "  for each item in list\n",
    "    if item is smaller than pivot\n",
    "      add item to small\n",
    "    else \n",
    "      if item is larger than pivot\n",
    "        add item to large\n",
    "      else\n",
    "        add item to equal\n",
    "}\n",
    "```\n",
    "```\n",
    "concat( small, equal, large, list ) {\n",
    "  for each item in small\n",
    "    add item to list\n",
    "  for each item in equal\n",
    "    add item to list\n",
    "  for each item in large\n",
    "    add item to list\n",
    "}\n",
    "```"
   ]
  },
  {
   "cell_type": "markdown",
   "id": "49a9561d",
   "metadata": {
    "slideshow": {
     "slide_type": "fragment"
    }
   },
   "source": [
    "- What is the running time for `partition`?\n",
    "- What is the running time for `concat`?\n",
    "- What is the running time for `quickSort`?\n",
    "- Does the running time depend on the kind of input?\n",
    "  - Sorted?\n",
    "    - `1 2 3 4 5`\n",
    "  - Reversed?\n",
    "    - `5 4 3 2 1`\n",
    "  - Random?\n",
    "    - `3 4 1 5 2`\n"
   ]
  },
  {
   "cell_type": "markdown",
   "id": "9979fe25",
   "metadata": {
    "slideshow": {
     "slide_type": "fragment"
    }
   },
   "source": [
    "- Does the running time depend on the kind of input?\n",
    "  - Sorted: $O(n \\log n)$\n",
    "  - Reversed:  $O(n \\log n)$\n",
    "  - Random:  $O(n \\log n)$\n",
    "  - Pathological?"
   ]
  },
  {
   "cell_type": "markdown",
   "id": "2bd4ad2e",
   "metadata": {
    "slideshow": {
     "slide_type": "fragment"
    }
   },
   "source": [
    "<div class='big centered'> 🤨</div>"
   ]
  },
  {
   "cell_type": "markdown",
   "id": "b1181c69",
   "metadata": {
    "slideshow": {
     "slide_type": "slide"
    }
   },
   "source": [
    "### Picking the Pivot"
   ]
  },
  {
   "cell_type": "markdown",
   "id": "72acd1b8",
   "metadata": {
    "slideshow": {
     "slide_type": "slide"
    }
   },
   "source": [
    "```\n",
    "7 5 3 1 2 4 6\n",
    "pivot: 1\n",
    "small:\n",
    "equal: 1\n",
    "large: 7 5 3 2 4 6\n",
    "\n",
    "pivot: 3\n",
    "small:\n",
    "equal: 3\n",
    "large: 7 5 2 4 6\n",
    "\n",
    "pivot: 2\n",
    "small:\n",
    "equal: 2\n",
    "large: 7 5 4 6\n",
    "\n",
    "pivot: 4\n",
    "small:\n",
    "equal: 4\n",
    "large: 7 5 6\n",
    "\n",
    "pivot: 5\n",
    "small:\n",
    "equal: 5\n",
    "large: 7 6\n",
    "\n",
    "pivot: 6\n",
    "small:\n",
    "equal: 6\n",
    "large: 7\n",
    "\n",
    "pivot: 7\n",
    "small:\n",
    "equal: 7\n",
    "large: \n",
    "```"
   ]
  },
  {
   "cell_type": "markdown",
   "id": "84ed6f80",
   "metadata": {
    "slideshow": {
     "slide_type": "slide"
    }
   },
   "source": [
    "- $O(n)$ steps to copy the values to `small`, `equal`, and `large`.\n",
    "- $O(n)$ total iterations until I reached the only base-case.\n",
    "- $O(n^2)$ total complexity!"
   ]
  },
  {
   "cell_type": "markdown",
   "id": "948b9bc9",
   "metadata": {
    "slideshow": {
     "slide_type": "fragment"
    }
   },
   "source": [
    "<div class=\"big centered\"> 😱 🤨 😧 😫 😶‍🌫️ 😴 </div>"
   ]
  },
  {
   "cell_type": "markdown",
   "id": "e07caeae",
   "metadata": {
    "slideshow": {
     "slide_type": "slide"
    }
   },
   "source": [
    "Do we care?\n",
    "\n",
    "Well, kind of.\n",
    "\n",
    "Quicksort has been demonstrated repeatably to perform faster than mergesort in real-world data.\n",
    "\n",
    "BUT, you should always remember that $O(n^2)$ is lurking.\n",
    "\n",
    "What is it that triggers $O(n^2)$ performance?"
   ]
  },
  {
   "cell_type": "markdown",
   "id": "5a2a695e",
   "metadata": {
    "slideshow": {
     "slide_type": "fragment"
    }
   },
   "source": [
    "**The selection of the pivot**\n",
    "\n",
    "So, if you can be smart about your pivot, then it will be very unlikely that you run into $O(n^2)$."
   ]
  },
  {
   "cell_type": "markdown",
   "id": "edfd406d",
   "metadata": {
    "slideshow": {
     "slide_type": "slide"
    }
   },
   "source": [
    "- What if you use the first item as your pivot? What scenario would trigger $O(n^2)$?\n",
    "- What if you use the last item as your pivot? What scenario would trigger $O(n^2)$?\n",
    "- What if you use the middle item?\n",
    "- So...is there a better way?"
   ]
  },
  {
   "cell_type": "markdown",
   "id": "a2cf7412",
   "metadata": {
    "slideshow": {
     "slide_type": "slide"
    }
   },
   "source": [
    "### Median-of-three\n",
    "\n",
    "What is the median of a list of numbers?\n",
    "\n",
    "Could you estimate the median of the list to pick for the pivot?\n",
    "\n",
    "What would be the time complexity of getting the median..."
   ]
  },
  {
   "cell_type": "markdown",
   "id": "b0ef84e2",
   "metadata": {
    "slideshow": {
     "slide_type": "slide"
    }
   },
   "source": [
    "How about just taking the median of the first, middle, and last items.\n",
    "\n",
    "Not as robust as the actual median, but works just fine in practice. "
   ]
  },
  {
   "cell_type": "markdown",
   "id": "67acda5e",
   "metadata": {
    "slideshow": {
     "slide_type": "slide"
    }
   },
   "source": [
    "Find the median-of-three for each list:\n",
    "\n",
    "```\n",
    "8 5 4 6 2 3 1\n",
    "4 9 3 5 7 6 2\n",
    "```"
   ]
  },
  {
   "cell_type": "markdown",
   "id": "01246c42",
   "metadata": {
    "slideshow": {
     "slide_type": "fragment"
    }
   },
   "source": [
    "median(8, 6, 1) = 6\n",
    "\n",
    "median(4, 5, 2) = 4"
   ]
  },
  {
   "cell_type": "markdown",
   "id": "dfa61efa",
   "metadata": {
    "slideshow": {
     "slide_type": "slide"
    }
   },
   "source": [
    "## Quicksort Partitioning\n",
    "*The REAL algorithm*"
   ]
  },
  {
   "cell_type": "markdown",
   "id": "99fb8345",
   "metadata": {},
   "source": [
    "0. Sort `table[first]`, `table[middle]`, and `table[last-1]`\n",
    "  0. `middle` = `(first + last) / 2`\n",
    "  1. Use bubblesort, or similar\n",
    "  2. Return `middle` (this becomes the pivot index)\n",
    "1. Swap `table[pivot]` with `table[first]`\n",
    "2. Initialize `up = first` and `down = last-1`\n",
    "3. While `up < down`:\n",
    "  1. Increment `up` until `table[up] > table[pivot]` or `up == last-1`\n",
    "  2. Decrement `down` until `table[down] <= table[pivot]` or `down == first`\n",
    "  3. If `up < down`\n",
    "    1. Swap `table[up]` and `table[down]`\n",
    "4. Swap `table[first]` and `table[down]`\n",
    "5. Return `down`"
   ]
  },
  {
   "cell_type": "markdown",
   "id": "ae8f3e5f",
   "metadata": {},
   "source": [
    "<div class='big centered'> 😵 </div>"
   ]
  },
  {
   "cell_type": "markdown",
   "id": "de7218e3",
   "metadata": {},
   "source": [
    "```\n",
    "4 8 5 9 6 3 7 2 1\n",
    "```\n",
    "\n",
    "```\n",
    "first = 0\n",
    "last = 8\n",
    "middle = 4\n",
    "```\n",
    "\n",
    "Sort `table[first]`, `table[middle]`, and `table[last-1]`. Return `middle` as the pivot index.\n",
    "```\n",
    "F       M       L    \n",
    "5 8 4 9 6 3 7 2 1\n",
    "\n",
    "F       M       L    \n",
    "1 8 4 9 5 3 7 2 6\n",
    "0 1 2 3 4\n",
    "\n",
    "pivot index = 4\n",
    "```\n",
    "\n",
    "Swap `table[pivot]` with `table[first]`\n",
    "```\n",
    "1 8 4 9 5 3 7 2 6\n",
    "f       p\n",
    "\n",
    "5 8 4 9 1 3 7 2 6\n",
    "```\n",
    "\n",
    "Initialize `up = first` and `down = last-1`\n",
    "```\n",
    "5 8 4 9 1 3 7 2 6\n",
    "u               d\n",
    "```\n",
    "\n",
    "While `up < down`:\n",
    "\n",
    "1. Increment `up` until `table[up]` > `table[pivot]` (or `up == last - 1`)\n",
    "    ```\n",
    "    5 8 4 9 1 3 7 2 6\n",
    "      u             d\n",
    "    ```\n",
    "\n",
    "2. Decrement `down` until `table[down] <= table[pivot]` (or `down == first`)\n",
    "    ```\n",
    "    5 8 4 9 1 3 7 2 6\n",
    "      u           d  \n",
    "    ```\n",
    "\n",
    "3. If `up < down`, swap `table[up]` and `table[down]`\n",
    "    ```\n",
    "    5 2 4 9 1 3 7 8 6\n",
    "      u           d  \n",
    "    ```\n",
    "\n",
    "While `up < down`:\n",
    "\n",
    "1. Increment `up` until `table[up]` > `table[pivot]` (or `up == last - 1`)\n",
    "    ```\n",
    "    5 2 4 9 1 3 7 8 6\n",
    "          u       d  \n",
    "    ```\n",
    "    \n",
    "2. Decrement `down` until `table[down] <= table[pivot]` (or `down == first`)\n",
    "    ```\n",
    "    5 2 4 9 1 3 7 8 6\n",
    "          u   d      \n",
    "    ```\n",
    "\n",
    "3. If `up < down`, swap `table[up]` and `table[down]`\n",
    "    ```\n",
    "    5 2 4 3 1 9 7 8 6\n",
    "          u   d      \n",
    "    ```\n",
    "\n",
    "While `up < down`:\n",
    "\n",
    "1. Increment `up` until `table[up]` > `table[pivot]` (or `up == last - 1`)\n",
    "    ```\n",
    "    5 2 4 3 1 9 7 8 6\n",
    "              ud      \n",
    "    ```\n",
    "    \n",
    "2. Decrement `down` until `table[down] <= table[pivot]` (or `down == first`)\n",
    "    ```\n",
    "    5 2 4 3 1 9 7 8 6\n",
    "            d u      \n",
    "    ```\n",
    "\n",
    "3. If `up < down`...false. So don't swap and exit `while` loop.\n",
    "\n",
    "\n",
    "Swap `table[first]` and `table[down]`\n",
    "```\n",
    "5 2 4 3 1 9 7 8 6\n",
    "F       d u\n",
    "\n",
    "1 2 4 3 5 9 7 8 6\n",
    "        d u\n",
    "```\n",
    "\n",
    "Return `down`\n",
    "```\n",
    "down = 4\n",
    "```\n"
   ]
  },
  {
   "cell_type": "markdown",
   "id": "57d9abbe",
   "metadata": {},
   "source": [
    "```\n",
    "1 9 4 4 6 7 2 4\n",
    "```\n",
    "\n",
    "```\n",
    "first = 0\n",
    "last = 7\n",
    "middle = 3\n",
    "```\n",
    "\n",
    "Sort `table[first]`, `table[middle]`, and `table[last-1]`. Return `middle` as the pivot index.\n",
    "```\n",
    "F     M       L    \n",
    "1 9 4 4 6 7 2 4\n",
    "\n",
    "F     M       L    \n",
    "1 9 4 4 6 7 2 4\n",
    "\n",
    "pivot index = 3\n",
    "```\n",
    "\n",
    "Swap `table[pivot]` with `table[first]`\n",
    "```\n",
    "1 9 4 4 6 7 2 4\n",
    "f     p\n",
    "\n",
    "4 9 4 1 6 7 2 4\n",
    "```\n",
    "\n",
    "Initialize `up = first` and `down = last-1`\n",
    "```\n",
    "4 9 4 1 6 7 2 4\n",
    "u             d\n",
    "```\n",
    "\n",
    "While `up < down`:\n",
    "\n",
    "1. Increment `up` until `table[up]` > `table[pivot]` (or `up == last - 1`)\n",
    "    ```\n",
    "    4 9 4 1 6 7 2 4\n",
    "      u           d\n",
    "    ```\n",
    "\n",
    "2. Decrement `down` until `table[down] <= table[pivot]` (or `down == first`)\n",
    "    ```\n",
    "    4 9 4 1 6 7 2 4\n",
    "      u           d\n",
    "    ```\n",
    "\n",
    "3. If `up < down`, swap `table[up]` and `table[down]`\n",
    "    ```\n",
    "    4 4 4 1 6 7 2 9\n",
    "      u           d\n",
    "    ```\n",
    "\n",
    "While `up < down`:\n",
    "\n",
    "1. Increment `up` until `table[up]` > `table[pivot]` (or `up == last - 1`)\n",
    "    ```\n",
    "    4 4 4 1 6 7 2 9\n",
    "            u     d\n",
    "    ```\n",
    "\n",
    "2. Decrement `down` until `table[down] <= table[pivot]` (or `down == first`)\n",
    "    ```\n",
    "    4 4 4 1 6 7 2 9\n",
    "            u   d  \n",
    "    ```\n",
    "\n",
    "3. If `up < down`, swap `table[up]` and `table[down]`\n",
    "    ```\n",
    "    4 4 4 1 2 7 6 9\n",
    "            u   d  \n",
    "    ```\n",
    "\n",
    "While `up < down`:\n",
    "\n",
    "1. Increment `up` until `table[up]` > `table[pivot]` (or `up == last - 1`)\n",
    "    ```\n",
    "    4 4 4 1 2 7 6 9\n",
    "              u d  \n",
    "    ```\n",
    "\n",
    "2. Decrement `down` until `table[down] <= table[pivot]` (or `down == first`)\n",
    "    ```\n",
    "    4 4 4 1 2 7 6 9\n",
    "            d u   \n",
    "    ```\n",
    "\n",
    "3. If `up < down`...false! So don't swap, and exit the `while` loop.\n",
    "    ```\n",
    "    4 4 4 1 2 7 6 9\n",
    "            d u   \n",
    "    ```\n",
    "\n",
    "Swap `table[first]` and `table[down]`\n",
    "```\n",
    "4 4 4 1 2 7 6 9\n",
    "F       d u   \n",
    "\n",
    "2 4 4 1 4 7 6 9\n",
    "F       d u\n",
    "---------------\n",
    "0 1 2 3 4 5 6 7\n",
    "```\n",
    "\n",
    "Return `down` (the index, not `table[down]`)\n",
    "```\n",
    "down = 4\n",
    "```"
   ]
  },
  {
   "cell_type": "markdown",
   "id": "3d1fb169",
   "metadata": {
    "slideshow": {
     "slide_type": "slide"
    }
   },
   "source": [
    "### Activity\n",
    "\n",
    "Work with a partner. Partition the follow list using the quicksort partition:\n",
    "\n",
    "```\n",
    "2 7 2 5 8 9 1 2 3\n",
    "```\n"
   ]
  },
  {
   "cell_type": "markdown",
   "id": "0edb9bcb",
   "metadata": {},
   "source": [
    "0. Sort `table[first]`, `table[middle]`, and `table[last-1]`\n",
    "  0. `middle` = `(first + last) / 2`\n",
    "  1. Use bubblesort, or similar\n",
    "  2. Return `middle` (this becomes the pivot index)\n",
    "1. Swap `table[pivot]` with `table[first]`\n",
    "2. Initialize `up = first` and `down = last-1`\n",
    "3. While `up < down`:\n",
    "  1. Increment `up` until `table[up] > table[pivot]` or `up == last-1`\n",
    "  2. Decrement `down` until `table[down] <= table[pivot]` or `down == first`\n",
    "  3. If `up < down`\n",
    "    1. Swap `table[up]` and `table[down]`\n",
    "4. Swap `table[first]` and `table[down]`\n",
    "5. Return `down`"
   ]
  },
  {
   "cell_type": "markdown",
   "id": "870a56c7",
   "metadata": {
    "slideshow": {
     "slide_type": "slide"
    }
   },
   "source": [
    "```\n",
    "2 7 2 5 8 9 1 2 3\n",
    "\n",
    "2 7 2 5 3 9 1 2 8\n",
    "\n",
    "3 7 2 5 2 9 1 2 8\n",
    "\n",
    "3 2 2 5 2 9 1 7 8\n",
    "\n",
    "3 2 2 1 2 9 5 7 8\n",
    "\n",
    "2 2 2 1 3 9 5 7 8\n",
    "\n",
    "return 4\n",
    "```"
   ]
  },
  {
   "cell_type": "markdown",
   "id": "ecbf96f9",
   "metadata": {
    "slideshow": {
     "slide_type": "slide"
    }
   },
   "source": [
    "## Key Ideas\n",
    " \n",
    "- Quicksort uses a pivot\n",
    "- The partition step guarantees that the pivot is in its final position\n",
    "  - all items to the left are smaller\n",
    "  - all items to the right are larger\n",
    "- You the recurse to sort right and left\n",
    "- No extra storage is necessary—**the sorting happens in place**\n",
    "- $O(n \\log n)$ performance\n",
    "  - Unless the pivot is pathological, in which case you can get $O(n^2)$\n",
    "    - But if you pick a smart pivot (e.g. \"median-of-three\"), getting a bad pivot will be rare."
   ]
  },
  {
   "cell_type": "markdown",
   "id": "af7f25c2",
   "metadata": {
    "slideshow": {
     "slide_type": "slide"
    }
   },
   "source": [
    "## Code for Quicksort"
   ]
  },
  {
   "cell_type": "markdown",
   "id": "ee11c049",
   "metadata": {
    "slideshow": {
     "slide_type": "fragment"
    }
   },
   "source": [
    "*__You__ get to write!*\n",
    "\n",
    "Lab 5 is now assigned. 😁"
   ]
  },
  {
   "cell_type": "markdown",
   "id": "a15147d2",
   "metadata": {
    "slideshow": {
     "slide_type": "slide"
    }
   },
   "source": [
    "## Mergesort vs Quicksort\n",
    "\n",
    "- Both are $O(n \\log n)$, but quicksort has smaller overhead than mergesort, so it's typically faster.\n",
    "- Quicksort does work in-place, while mergesort needs $2n$ space. \n",
    "- Quicksort does have $O(n^2)$ worst-case performance, while mergesort is always $O(n \\log n)$\n"
   ]
  },
  {
   "cell_type": "markdown",
   "id": "025d48f8",
   "metadata": {
    "slideshow": {
     "slide_type": "slide"
    }
   },
   "source": [
    "> Insert is quick.  \n",
    "> Merging is quicker.  \n",
    "> But quicksort is quickest.  \n",
    "> So it gets the sticker. ⭐️"
   ]
  },
  {
   "cell_type": "markdown",
   "id": "6f359f44",
   "metadata": {
    "slideshow": {
     "slide_type": "slide"
    }
   },
   "source": [
    "Can you do better than quicksort...?"
   ]
  },
  {
   "cell_type": "markdown",
   "id": "0c0049d6",
   "metadata": {
    "slideshow": {
     "slide_type": "fragment"
    }
   },
   "source": [
    "https://en.wikipedia.org/wiki/Timsort"
   ]
  },
  {
   "cell_type": "markdown",
   "id": "24ed1551",
   "metadata": {
    "slideshow": {
     "slide_type": "slide"
    }
   },
   "source": [
    "## Appendix: A slightly different way of thinking about the partition algorithm\n",
    "\n",
    "0. Select a pivot (one of the elements in the list)\n",
    "\n",
    "1. Swap the pivot with the first item\n",
    "\n",
    "2. Start two iterators\n",
    "  1. One pointing at the beginning (we'll call it `front`)\n",
    "  2. One pointing at the end (we'll call it `back`)\n",
    "\n",
    "3. Start incrementing `front`\n",
    "  1. If you encounter an item that is LARGER than the pivot:\n",
    "    1. Start decrementing `back` until you find an item that is SMALLER than the pivot\n",
    "    2. Swap the LARGER item with the SMALLER item\n",
    "\n",
    "4. Once `front == back`,\n",
    "  1. Stop incrementing `front` (or decrementing `back`)\n",
    "  2. Decrement `back` until the item is SMALLER than the pivot\n",
    "    1. Swap the pivot with this item\n",
    "\n",
    "**Gist**:\n",
    "- In one pass on the list:\n",
    "  - Get the pivot into its final position\n",
    "    - all items smaller than pivot are on the left\n",
    "    - all items larger than pivot are on the right"
   ]
  }
 ],
 "metadata": {
  "celltoolbar": "Slideshow",
  "kernelspec": {
   "display_name": "C++11",
   "language": "C++11",
   "name": "xcpp11"
  },
  "language_info": {
   "codemirror_mode": "text/x-c++src",
   "file_extension": ".cpp",
   "mimetype": "text/x-c++src",
   "name": "c++",
   "version": "11"
  }
 },
 "nbformat": 4,
 "nbformat_minor": 5
}
