{
 "cells": [
  {
   "cell_type": "markdown",
   "id": "72f50d37",
   "metadata": {
    "slideshow": {
     "slide_type": "slide"
    }
   },
   "source": [
    "# C++ Introduction - Conditionals"
   ]
  },
  {
   "cell_type": "code",
   "execution_count": 10,
   "id": "3b29a0a9",
   "metadata": {
    "slideshow": {
     "slide_type": "slide"
    }
   },
   "outputs": [],
   "source": [
    "#include <iostream>\n",
    "#include <string>\n",
    "using std::cout; using std::endl; using std::cerr; using std::cin; using std::string;"
   ]
  },
  {
   "cell_type": "markdown",
   "id": "1de7ae1f",
   "metadata": {
    "slideshow": {
     "slide_type": "slide"
    }
   },
   "source": [
    "## Comparison operators \n",
    "\n",
    "Just like in Python, the comparison operators are:\n",
    "\n",
    "### `==    >    <    >=    <=`  "
   ]
  },
  {
   "cell_type": "markdown",
   "id": "54e54556",
   "metadata": {
    "slideshow": {
     "slide_type": "slide"
    }
   },
   "source": [
    "### Comparing strings\n",
    "\n",
    "Just like in Python, comparing `string`s describes alphabetical ordering."
   ]
  },
  {
   "cell_type": "code",
   "execution_count": 9,
   "id": "4d3f97f6",
   "metadata": {},
   "outputs": [
    {
     "data": {
      "text/plain": [
       "true"
      ]
     },
     "execution_count": 9,
     "metadata": {},
     "output_type": "execute_result"
    }
   ],
   "source": [
    "string a = \"abacus\";\n",
    "string b = \"zebra\";\n",
    "a < b"
   ]
  },
  {
   "cell_type": "markdown",
   "id": "68b19bf2",
   "metadata": {
    "slideshow": {
     "slide_type": "slide"
    }
   },
   "source": [
    "## `if`/`else`/`else if`"
   ]
  },
  {
   "cell_type": "code",
   "execution_count": 15,
   "id": "78df73b8",
   "metadata": {
    "slideshow": {
     "slide_type": "slide"
    }
   },
   "outputs": [
    {
     "name": "stdout",
     "output_type": "stream",
     "text": [
      "Pick two numbers: 1 2\n",
      "1 is less than 2\n"
     ]
    }
   ],
   "source": [
    "int a, b;\n",
    "cout << \"Pick two numbers: \";\n",
    "cin >> a >> b;\n",
    "\n",
    "if (a < b) {\n",
    "    cout << a << \" is less than \" << b << endl;\n",
    "    \n",
    "} else if (a > b) {\n",
    "    cout << a << \" is greater than \" << b << endl;\n",
    "    \n",
    "} else {\n",
    "    cout << a << \" and \" << b << \" are equal\" << endl;\n",
    "    cout << \"It's nice when things are equal\" << endl;\n",
    "}"
   ]
  },
  {
   "cell_type": "code",
   "execution_count": 18,
   "id": "5c911b38",
   "metadata": {
    "slideshow": {
     "slide_type": "slide"
    }
   },
   "outputs": [
    {
     "name": "stdout",
     "output_type": "stream",
     "text": [
      "Pick two numbers: 8 7\n",
      "8 is greater than 7\n"
     ]
    }
   ],
   "source": [
    "int a, b;\n",
    "cout << \"Pick two numbers: \";\n",
    "cin >> a >> b;\n",
    "\n",
    "if (a < b)\n",
    "    cout << a << \" is less than \" << b << endl;\n",
    "    \n",
    "else if (a > b)\n",
    "    cout << a << \" is greater than \" << b << endl;\n",
    "    \n",
    "else\n",
    "    cout << a << \" and \" << b << \" are equal\" << endl;\n",
    "    cout << \"It's nice when things are equal\" << endl;"
   ]
  },
  {
   "cell_type": "markdown",
   "id": "a0279eb3",
   "metadata": {
    "slideshow": {
     "slide_type": "slide"
    }
   },
   "source": [
    "- In C++ you use `else if` instead of `elif`\n",
    "- You must wrap the condition in parentheses\n",
    "- You don't **NEED** brackets for single-line blocks, but you should **ALWAYS** use them. You've been warned."
   ]
  },
  {
   "cell_type": "markdown",
   "id": "90da4c47",
   "metadata": {
    "slideshow": {
     "slide_type": "slide"
    }
   },
   "source": [
    "## Truthy"
   ]
  },
  {
   "cell_type": "code",
   "execution_count": 20,
   "id": "1062c8c6",
   "metadata": {},
   "outputs": [
    {
     "name": "stdout",
     "output_type": "stream",
     "text": [
      "777\n"
     ]
    }
   ],
   "source": [
    "int a, b, c;\n",
    "a = b = c = 7;\n",
    "cout << a << b << c << endl;"
   ]
  },
  {
   "cell_type": "markdown",
   "id": "2b61ea60",
   "metadata": {},
   "source": [
    "The assignment operator returns the value that was just assigned.\n",
    "\n",
    "This allows you to chain assignments, but it also creates a problem..."
   ]
  },
  {
   "cell_type": "code",
   "execution_count": 19,
   "id": "679b1638",
   "metadata": {
    "slideshow": {
     "slide_type": "slide"
    }
   },
   "outputs": [
    {
     "name": "stderr",
     "output_type": "stream",
     "text": [
      "input_line_37:3:7: warning: using the result of an assignment as a condition without parentheses [-Wparentheses]\n",
      "if (x = 3) { cout << \"always\" << endl; }\n",
      "    ~~^~~\n",
      "input_line_37:3:7: note: place parentheses around the assignment to silence this warning\n",
      "if (x = 3) { cout << \"always\" << endl; }\n",
      "      ^\n",
      "    (    )\n",
      "input_line_37:3:7: note: use '==' to turn this assignment into an equality comparison\n",
      "if (x = 3) { cout << \"always\" << endl; }\n",
      "      ^\n",
      "      ==\n"
     ]
    },
    {
     "name": "stdout",
     "output_type": "stream",
     "text": [
      "always\n"
     ]
    }
   ],
   "source": [
    "int x = 8;\n",
    "\n",
    "if (x = 3) { cout << \"always\" << endl; }"
   ]
  },
  {
   "cell_type": "markdown",
   "id": "1c66e230",
   "metadata": {
    "slideshow": {
     "slide_type": "-"
    }
   },
   "source": [
    "Any non-zero value (i.e. **any** bytes that aren't `0`) are interpreted as `true`"
   ]
  },
  {
   "cell_type": "markdown",
   "id": "23c6988e",
   "metadata": {
    "slideshow": {
     "slide_type": "slide"
    }
   },
   "source": [
    "### Logical operators `!  &&  ||`"
   ]
  },
  {
   "cell_type": "code",
   "execution_count": 25,
   "id": "73a08f2b",
   "metadata": {},
   "outputs": [
    {
     "name": "stdout",
     "output_type": "stream",
     "text": [
      "it's funny because it's true\n"
     ]
    }
   ],
   "source": [
    "if (!false) { cout << \"it's funny because it's true\" << endl; }"
   ]
  },
  {
   "cell_type": "code",
   "execution_count": 26,
   "id": "e2eb7d1d",
   "metadata": {},
   "outputs": [
    {
     "name": "stdout",
     "output_type": "stream",
     "text": [
      "yep\n"
     ]
    }
   ],
   "source": [
    "if (true && true) { cout << \"yep\" << endl; }"
   ]
  },
  {
   "cell_type": "code",
   "execution_count": 27,
   "id": "9eb1395a",
   "metadata": {},
   "outputs": [
    {
     "name": "stdout",
     "output_type": "stream",
     "text": [
      "also yep\n"
     ]
    }
   ],
   "source": [
    "if (false || true) { cout << \"also yep\" << endl; }"
   ]
  },
  {
   "cell_type": "markdown",
   "id": "8efc66bf",
   "metadata": {
    "slideshow": {
     "slide_type": "slide"
    }
   },
   "source": [
    "## Order of operations"
   ]
  },
  {
   "cell_type": "markdown",
   "id": "d4c36386",
   "metadata": {
    "slideshow": {
     "slide_type": "fragment"
    }
   },
   "source": [
    "Just use parentheses.\n",
    "\n",
    "<div class='centered big'>🧐</div>"
   ]
  },
  {
   "cell_type": "markdown",
   "id": "8640eb4d",
   "metadata": {
    "slideshow": {
     "slide_type": "slide"
    }
   },
   "source": [
    "## Short circuits"
   ]
  },
  {
   "cell_type": "code",
   "execution_count": 28,
   "id": "42dfddc4",
   "metadata": {},
   "outputs": [],
   "source": [
    "bool get_truth() {\n",
    "    cout << \"Truth was sought\" << endl;\n",
    "    return true;\n",
    "}"
   ]
  },
  {
   "cell_type": "code",
   "execution_count": 31,
   "id": "f6df275f",
   "metadata": {},
   "outputs": [
    {
     "name": "stdout",
     "output_type": "stream",
     "text": [
      "Truth was sought\n",
      "It was true.\n"
     ]
    }
   ],
   "source": [
    "bool yes = false;\n",
    "\n",
    "if (yes || get_truth()) { cout << \"It was true.\" << endl; }"
   ]
  },
  {
   "cell_type": "markdown",
   "id": "4f79f7ec",
   "metadata": {
    "slideshow": {
     "slide_type": "slide"
    }
   },
   "source": [
    "### Common errors\n",
    "\n",
    "- wrong operators `&` vs `&&`, `|` vs `||`,\n",
    "- forget `{}`\n",
    "- range expressions: `3 < x < 7` does not do what you think it does"
   ]
  },
  {
   "cell_type": "code",
   "execution_count": 3,
   "id": "3349b78e",
   "metadata": {},
   "outputs": [
    {
     "data": {
      "text/plain": [
       "true"
      ]
     },
     "execution_count": 3,
     "metadata": {},
     "output_type": "execute_result"
    }
   ],
   "source": [
    "3 < 15 < 7"
   ]
  },
  {
   "cell_type": "markdown",
   "id": "f3fa94d9",
   "metadata": {
    "slideshow": {
     "slide_type": "slide"
    }
   },
   "source": [
    "## `while`"
   ]
  },
  {
   "cell_type": "markdown",
   "id": "4132b94b",
   "metadata": {
    "slideshow": {
     "slide_type": "slide"
    }
   },
   "source": [
    "### `do-while`"
   ]
  },
  {
   "cell_type": "markdown",
   "id": "218160c7",
   "metadata": {
    "slideshow": {
     "slide_type": "slide"
    }
   },
   "source": [
    "## `for`"
   ]
  },
  {
   "cell_type": "markdown",
   "id": "e44b31de",
   "metadata": {
    "slideshow": {
     "slide_type": "skip"
    }
   },
   "source": [
    "  - syntax `for (initial expression; conditional expression; update expression) {}`\n",
    "    - style: start with 0 and use `<` instead of 1 and `<=`\n",
    "    - use `++` or `--` for increment/decrement\n",
    "    - usually declare variable in `initial expression` (but sometimes not)\n",
    "  - foreach loops `for (string s : stringList) {}`\n",
    "  - break and continue\n",
    "    - affects execution of inner-most loop\n",
    "  - scope: variables declared in a loop body are only in scope in that body! (not like python)\n",
    "    - `initial expression` is scoped across all iterations\n",
    "    - declared in body: only scoped for that iteration; recreated each time\n",
    "    - if you want a variable to exist after the loop, declare it before the loop"
   ]
  },
  {
   "cell_type": "markdown",
   "id": "9dc172ce",
   "metadata": {
    "slideshow": {
     "slide_type": "slide"
    }
   },
   "source": [
    "## `switch`"
   ]
  },
  {
   "cell_type": "markdown",
   "id": "ceda1f0b",
   "metadata": {},
   "source": [
    "- switch value must be an integer type\n",
    "- if you don't use `break` in a switch clause, control flows to the next clause\n",
    "  - sometimes this is a bug\n",
    "  - sometimes this is intended"
   ]
  },
  {
   "cell_type": "markdown",
   "id": "883358e5",
   "metadata": {
    "slideshow": {
     "slide_type": "slide"
    }
   },
   "source": [
    "## Ternary operator"
   ]
  },
  {
   "cell_type": "markdown",
   "id": "f1497a01",
   "metadata": {
    "slideshow": {
     "slide_type": "slide"
    }
   },
   "source": [
    "## Key ideas (there are only a few 😵)\n",
    "\n",
    "- if/else, else if\n",
    "  - parentheses, braces\n",
    "  - no braces!\n",
    "- conditions\n",
    "  - equality operator `==`\n",
    "  - direct boolean condition\n",
    "  - truthy: any non-zero value is \"true\"\n",
    "  - `if (x = 3) { cout << \"always runs\" << endl; }` (assignment operator returns the assigned value)\n",
    "  - tip: some choose to write `if (3 == x) {...}` - this makes it impossible to do assignment by mistake\n",
    "  - `> < <= >=`\n",
    "  - `&& || !`\n",
    "  - order of operation: just use parentheses\n",
    "  - short circuits\n",
    "  - nesting if clauses\n",
    "  - string comparisions\n",
    "- Common errors\n",
    "  - wrong operators `&` vs `&&`, `|` vs `||`, \n",
    "  - forget `{}`\n",
    "  - range expressions (`3 < x < 7`) does not do what you think it does\n",
    "- while\n",
    "  - syntax like if\n",
    "  - runs 0 or more times\n",
    "- do-while\n",
    "  - always runs at least once\n",
    "- for\n",
    "  - syntax `for (initial expression; conditional expression; update expression) {}`\n",
    "    - style: start with 0 and use `<` instead of 1 and `<=`\n",
    "    - use `++` or `--` for increment/decrement\n",
    "    - usually declare variable in `initial expression` (but sometimes not)\n",
    "  - foreach loops `for (string s : stringList) {}`\n",
    "  - break and continue\n",
    "    - affects execution of inner-most loop\n",
    "  - scope: variables declared in a loop body are only in scope in that body! (not like python)\n",
    "    - `initial expression` is scoped across all iterations\n",
    "    - declared in body: only scoped for that iteration; recreated each time\n",
    "    - if you want a variable to exist after the loop, declare it before the loop\n",
    "- Switch\n",
    "  - example, variable must be integer type, `break`\n",
    "  - compared to if-else\n",
    "- Ternary\n"
   ]
  }
 ],
 "metadata": {
  "celltoolbar": "Slideshow",
  "kernelspec": {
   "display_name": "C++14",
   "language": "C++14",
   "name": "xcpp14"
  },
  "language_info": {
   "codemirror_mode": "text/x-c++src",
   "file_extension": ".cpp",
   "mimetype": "text/x-c++src",
   "name": "c++",
   "version": "14"
  }
 },
 "nbformat": 4,
 "nbformat_minor": 5
}
