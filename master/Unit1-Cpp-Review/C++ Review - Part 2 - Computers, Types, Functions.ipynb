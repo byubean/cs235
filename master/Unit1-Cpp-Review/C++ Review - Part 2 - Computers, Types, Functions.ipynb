{
 "cells": [
  {
   "cell_type": "markdown",
   "id": "8fbf956d",
   "metadata": {},
   "source": [
    "## Take the start of semester survey, please 🙂\n",
    "\n",
    "## Linux Tip-of-the-day"
   ]
  },
  {
   "cell_type": "markdown",
   "id": "132d7ec2",
   "metadata": {
    "slideshow": {
     "slide_type": "slide"
    }
   },
   "source": [
    "# C++ Review - Part 2 - Computers, Types, Functions"
   ]
  },
  {
   "cell_type": "markdown",
   "id": "763f9c49",
   "metadata": {
    "slideshow": {
     "slide_type": "slide"
    }
   },
   "source": [
    "## Computers\n",
    "A computer represents data as **bits**, often represented as `0`s and `1`s.\n",
    "\n",
    "Every bit represents 2 possibilities (`0` or `1`), so a series of *n* bits represents $2^n$ possibilities.\n",
    "\n",
    "Thus, 4 bits represents 16 different states. Thus, 4 bits will often be represented using hexidecimal (base 16) notation: `0 1 2 3 4 5 6 7 8 9 A B C D E F`. \n",
    "\n",
    "| bits | base 16 |\n",
    "|----|----|\n",
    "|`0001` | `1` |\n",
    "|`0010` | `2` |\n",
    "|`0100` | `4` |\n",
    "|`1000` | `8` |\n",
    "|`1010` | `A` |\n",
    "|`1010 1100` | `AC` |\n",
    "\n",
    "8 bits represents $2^8 = 256$ possibilities. 8 bits is called a **byte**. Bytes are often represented by two-digit hexidecimal numbers: e.g. `04`, `12`, `A7`, `3E`, `FF`.\n",
    "\n",
    "Have you seen RGB codes before? Three color channels: red, green, blue. Each channel gets a value between 0 and 255. This value is represented as 3 two-digit hexidecimals: `22ECFF`"
   ]
  },
  {
   "cell_type": "markdown",
   "id": "ac7c7b0b",
   "metadata": {
    "slideshow": {
     "slide_type": "slide"
    }
   },
   "source": [
    "## Programs\n",
    "All information for a program, including the code itself, must be represented as bits.\n",
    "\n",
    "The state of a program—i.e. the data—is just bits in RAM or on disk.\n",
    "\n",
    "When using C++, you must manage the mapping between the intended abstraction and the reality of bits in memory."
   ]
  },
  {
   "cell_type": "markdown",
   "id": "9f0e9778",
   "metadata": {
    "slideshow": {
     "slide_type": "slide"
    }
   },
   "source": [
    "## Types\n",
    "C++ (and essentially all programming languages) have the concept of data *type*. The type communicates how the bytes should be interpreted. The type is an abstraction of the actual bytes."
   ]
  },
  {
   "cell_type": "code",
   "execution_count": 14,
   "id": "56ebc962",
   "metadata": {
    "slideshow": {
     "slide_type": "fragment"
    }
   },
   "outputs": [
    {
     "data": {
      "text/plain": [
       "'B'"
      ]
     },
     "execution_count": 14,
     "metadata": {},
     "output_type": "execute_result"
    }
   ],
   "source": [
    "(char)0x42"
   ]
  },
  {
   "cell_type": "code",
   "execution_count": 15,
   "id": "0f85dd9f",
   "metadata": {},
   "outputs": [
    {
     "data": {
      "text/plain": [
       "66"
      ]
     },
     "execution_count": 15,
     "metadata": {},
     "output_type": "execute_result"
    }
   ],
   "source": [
    "(int)0x42"
   ]
  },
  {
   "cell_type": "code",
   "execution_count": 16,
   "id": "4b064959",
   "metadata": {
    "slideshow": {
     "slide_type": "fragment"
    }
   },
   "outputs": [
    {
     "data": {
      "text/plain": [
       "-1"
      ]
     },
     "execution_count": 16,
     "metadata": {},
     "output_type": "execute_result"
    }
   ],
   "source": [
    "(signed short int)(0xffffff)"
   ]
  },
  {
   "cell_type": "code",
   "execution_count": 17,
   "id": "b0ccea73",
   "metadata": {},
   "outputs": [
    {
     "data": {
      "text/plain": [
       "65535"
      ]
     },
     "execution_count": 17,
     "metadata": {},
     "output_type": "execute_result"
    }
   ],
   "source": [
    "(unsigned short int)(0xffffff)"
   ]
  },
  {
   "cell_type": "markdown",
   "id": "8b0a1b4a",
   "metadata": {
    "slideshow": {
     "slide_type": "slide"
    }
   },
   "source": [
    "## Location\n",
    "Digital storage (e.g. RAM or hard disk, etc.) is just a long series of bytes. A program can store information (bytes) somewhere in that larger sequence, but it needs to know where it put stuff so it can use it later. \n",
    "\n",
    "A *variable* is essentially an alias for a place in memory. The value of a variable is the value stored in the part of memory the variable represents. \n",
    "\n",
    "```\n",
    "int foo = 7;\n",
    "char bar = 'C';\n",
    "int baz = 8;\n",
    "int* fooP = &foo;\n",
    "```\n",
    "\n",
    "```\n",
    "A  B   C  D  E\n",
    "7  'C' 8  A\n",
    "```\n",
    "\n",
    "The `&` operator can get us the *address* of the bytes represented by a variable.\n",
    "\n",
    "The `*` operator can get us the bytes stored at a specific address.\n",
    "\n",
    "A memory address is data, just like any other value. I can choose to make a variable whose value is a memory address.\n",
    "\n",
    "A variable whose value is a memory address is called a **pointer**. "
   ]
  },
  {
   "cell_type": "code",
   "execution_count": 18,
   "id": "a09aad30",
   "metadata": {
    "slideshow": {
     "slide_type": "slide"
    }
   },
   "outputs": [],
   "source": [
    "int foo = 66;\n",
    "int bar = 8;\n",
    "\n",
    "int* fooPtr = &foo;\n",
    "int* barPtr = &bar;"
   ]
  },
  {
   "cell_type": "code",
   "execution_count": 19,
   "id": "39cf48e4",
   "metadata": {
    "slideshow": {
     "slide_type": "fragment"
    }
   },
   "outputs": [
    {
     "name": "stdout",
     "output_type": "stream",
     "text": [
      "Value of foo:     66\n",
      "Location of foo:  0xffffa57d9080\n",
      "Value of fooPtr:  0xffffa57d9080\n"
     ]
    }
   ],
   "source": [
    "printf(\"Value of foo:     %d\\n\", foo );\n",
    "printf(\"Location of foo:  %p\\n\", &foo );\n",
    "printf(\"Value of fooPtr:  %p\\n\", fooPtr );"
   ]
  },
  {
   "cell_type": "code",
   "execution_count": 20,
   "id": "0441e5d0",
   "metadata": {
    "slideshow": {
     "slide_type": "fragment"
    }
   },
   "outputs": [
    {
     "name": "stdout",
     "output_type": "stream",
     "text": [
      "Value stored where fooPtr points (i.e. at 0xffffa57d9080): 66\n"
     ]
    }
   ],
   "source": [
    "printf(\"Value stored where fooPtr points (i.e. at %p): %d\\n\", fooPtr, *fooPtr);"
   ]
  },
  {
   "cell_type": "code",
   "execution_count": 21,
   "id": "d96d03f4",
   "metadata": {
    "slideshow": {
     "slide_type": "fragment"
    }
   },
   "outputs": [
    {
     "data": {
      "text/plain": [
       "66"
      ]
     },
     "execution_count": 21,
     "metadata": {},
     "output_type": "execute_result"
    }
   ],
   "source": [
    "*&foo"
   ]
  },
  {
   "cell_type": "code",
   "execution_count": 22,
   "id": "b2473e2d",
   "metadata": {
    "slideshow": {
     "slide_type": "slide"
    }
   },
   "outputs": [
    {
     "name": "stdout",
     "output_type": "stream",
     "text": [
      "Location of foo:  0xffffa57d9080\n",
      "Location of foo:  0xffffa57d9080\n",
      "Location of bar:  0xffffa57d9084\n"
     ]
    }
   ],
   "source": [
    "printf(\"Location of foo:  %p\\n\", &foo );\n",
    "printf(\"Location of foo:  %p\\n\", fooPtr );\n",
    "printf(\"Location of bar:  %p\\n\", barPtr );"
   ]
  },
  {
   "cell_type": "markdown",
   "id": "0b9d6f9e",
   "metadata": {
    "slideshow": {
     "slide_type": "fragment"
    }
   },
   "source": [
    "How many bytes away are the data for `foo` and `bar`?"
   ]
  },
  {
   "cell_type": "code",
   "execution_count": 23,
   "id": "782a5231",
   "metadata": {
    "slideshow": {
     "slide_type": "slide"
    }
   },
   "outputs": [
    {
     "name": "stdout",
     "output_type": "stream",
     "text": [
      "Location of longfoo:  0xffffa57d90c0\n",
      "Location of longbar:  0xffffa57d90c8\n"
     ]
    }
   ],
   "source": [
    "long int longfoo = 7;\n",
    "long int longbar = 8;\n",
    "printf(\"Location of longfoo:  %p\\n\", &longfoo );\n",
    "printf(\"Location of longbar:  %p\\n\", &longbar );"
   ]
  },
  {
   "cell_type": "markdown",
   "id": "be12d2ef",
   "metadata": {
    "slideshow": {
     "slide_type": "fragment"
    }
   },
   "source": [
    "How many bytes away are the data for `longfoo` and `longbar`?"
   ]
  },
  {
   "cell_type": "markdown",
   "id": "5cd5333c",
   "metadata": {
    "slideshow": {
     "slide_type": "slide"
    }
   },
   "source": [
    "Pointers are bytes, just like any other data. We can reinterpret and manipulate those bytes, just like any other data.\n",
    "\n",
    "Note: the operations performed on pointers takes the type of pointer into account. So `<int*> + 1` behaves a differently than `<char*> + 1` (but in a good, convenient way)."
   ]
  },
  {
   "cell_type": "code",
   "execution_count": 24,
   "id": "b189b67b",
   "metadata": {
    "slideshow": {
     "slide_type": "slide"
    }
   },
   "outputs": [
    {
     "name": "stdout",
     "output_type": "stream",
     "text": [
      "Location of foo:  0xffffa57d9080\n",
      "Location of bar:  0xffffa57d9084\n"
     ]
    }
   ],
   "source": [
    "printf(\"Location of foo:  %p\\n\", fooPtr );\n",
    "printf(\"Location of bar:  %p\\n\", barPtr );"
   ]
  },
  {
   "cell_type": "code",
   "execution_count": 25,
   "id": "113176d2",
   "metadata": {
    "slideshow": {
     "slide_type": "fragment"
    }
   },
   "outputs": [
    {
     "data": {
      "text/plain": [
       "1"
      ]
     },
     "execution_count": 25,
     "metadata": {},
     "output_type": "execute_result"
    }
   ],
   "source": [
    "barPtr - fooPtr // i.e. 1 \"int\" away"
   ]
  },
  {
   "cell_type": "code",
   "execution_count": 26,
   "id": "fd952d0c",
   "metadata": {
    "slideshow": {
     "slide_type": "fragment"
    }
   },
   "outputs": [
    {
     "data": {
      "text/plain": [
       "4"
      ]
     },
     "execution_count": 26,
     "metadata": {},
     "output_type": "execute_result"
    }
   ],
   "source": [
    "(char*)barPtr - (char*)fooPtr // i.e. 4 \"chars\" or bytes away"
   ]
  },
  {
   "cell_type": "code",
   "execution_count": 27,
   "id": "1f7a8f33",
   "metadata": {
    "slideshow": {
     "slide_type": "fragment"
    }
   },
   "outputs": [
    {
     "name": "stdout",
     "output_type": "stream",
     "text": [
      "&foo:     0xffffa57d9080\n",
      "&bar:     0xffffa57d9084\n",
      "&bar - 1: 0xffffa57d9080\n"
     ]
    }
   ],
   "source": [
    "printf(\"&foo:     %p\\n\", &foo);\n",
    "printf(\"&bar:     %p\\n\", &bar);\n",
    "printf(\"&bar - 1: %p\\n\", &bar - 1);"
   ]
  },
  {
   "cell_type": "code",
   "execution_count": 28,
   "id": "5b9b187c",
   "metadata": {
    "slideshow": {
     "slide_type": "fragment"
    }
   },
   "outputs": [
    {
     "name": "stdout",
     "output_type": "stream",
     "text": [
      "*&foo:       66\n",
      "*&bar:       8\n",
      "*(&bar - 1): 66\n"
     ]
    }
   ],
   "source": [
    "printf(\"*&foo:       %d\\n\", *&foo);\n",
    "printf(\"*&bar:       %d\\n\", *&bar);\n",
    "printf(\"*(&bar - 1): %d\\n\", *(&bar - 1));"
   ]
  },
  {
   "cell_type": "markdown",
   "id": "9da682b8",
   "metadata": {
    "slideshow": {
     "slide_type": "slide"
    }
   },
   "source": [
    "If you create a variable, then the data for that variable must exist somewhere and there is an address `&` to that somewhere.\n",
    "\n",
    "**You use `&` on variables to find out where the value for that variable is stored.**"
   ]
  },
  {
   "cell_type": "code",
   "execution_count": null,
   "id": "5a563118",
   "metadata": {
    "slideshow": {
     "slide_type": "subslide"
    }
   },
   "outputs": [],
   "source": [
    "printf(\"Location of fooPtr: %p\\n\", &fooPtr);"
   ]
  },
  {
   "cell_type": "markdown",
   "id": "8cc51131",
   "metadata": {
    "slideshow": {
     "slide_type": "slide"
    }
   },
   "source": [
    "### References\n",
    "In the statement\n",
    "```c++\n",
    "int a = 7;\n",
    "```\n",
    "the symbol `a` indicates a certain place in memory, and that certain place currently contains the bytes for `7`. \n",
    "\n",
    "The statement\n",
    "```c++\n",
    "a = 9;\n",
    "```\n",
    "then indicates that the place in memory that `a` represents should now have a new value: `9`.\n",
    "\n",
    "The statement\n",
    "```c++\n",
    "int &b = a;\n",
    "```\n",
    "indicates that `b` now represents the place in memory that `a` represents. So any modifications to the value of `b`—i.e. the bits stored in the place in memory that `b` represents—will also be reflected in `a`. \n",
    "\n",
    "In essence, variables give names to memory locations. A **reference** is a name for a place in memory. We can have many names for the same memory location."
   ]
  },
  {
   "cell_type": "code",
   "execution_count": 30,
   "id": "d5b27baf",
   "metadata": {
    "slideshow": {
     "slide_type": "fragment"
    }
   },
   "outputs": [
    {
     "data": {
      "text/plain": [
       "8"
      ]
     },
     "execution_count": 30,
     "metadata": {},
     "output_type": "execute_result"
    }
   ],
   "source": [
    "int a = 7;\n",
    "int &b = a;\n",
    "a = 8;\n",
    "b"
   ]
  },
  {
   "cell_type": "code",
   "execution_count": 31,
   "id": "86ba2fc1",
   "metadata": {},
   "outputs": [
    {
     "data": {
      "text/plain": [
       "19"
      ]
     },
     "execution_count": 31,
     "metadata": {},
     "output_type": "execute_result"
    }
   ],
   "source": [
    "b = 19;\n",
    "a"
   ]
  },
  {
   "cell_type": "code",
   "execution_count": 32,
   "id": "b7d4f454",
   "metadata": {},
   "outputs": [
    {
     "name": "stdout",
     "output_type": "stream",
     "text": [
      "0xffffa57d90d0, 0xffffa57d90d0\n"
     ]
    }
   ],
   "source": [
    "printf(\"%p, %p\\n\", &a, &b);"
   ]
  },
  {
   "cell_type": "markdown",
   "id": "82767f54",
   "metadata": {
    "slideshow": {
     "slide_type": "slide"
    }
   },
   "source": [
    "## `new` and `delete`\n",
    "\n",
    "There are two types of memory where variables are stored in C++: the **stack** and the **heap**. We'll learn more about these later in the course.\n",
    "\n",
    "For now, understand that anything stored in the *stack* will be deleted when the current function exits. Anything stored in the *heap* will be available even after the current function exits.\n",
    "\n",
    "Memory used in the *stack* is automatically recovered when the function returns. It can get reused later by other parts of the program.\n",
    "\n",
    "Memory used in the *heap* is not automatically recovered. If you don't free that memory, the program will hang on to it forever (i.e. until the program exits), even if you don't need the values stored in that memory anymore.\n",
    "\n",
    "When you fail to release memory you no longer need, we call it a *memory leak*. `valgrind` is a tool that can help you identify memory leaks. \n",
    "\n",
    "Values declared with `new` will be created on the *heap*. All others are created on the *stack*. To delete a memory reservation, and thus free up the memory used to store that value, use `delete`.\n",
    "\n",
    "`new` returns a pointer to the memory just reserved for your value. `delete` takes a pointer indicating the location in memory you want to free."
   ]
  },
  {
   "cell_type": "code",
   "execution_count": 33,
   "id": "3f608499",
   "metadata": {
    "slideshow": {
     "slide_type": "fragment"
    }
   },
   "outputs": [
    {
     "name": "stdout",
     "output_type": "stream",
     "text": [
      "foo address: 0xaaaaf1ed3300\n",
      "foo value:   7\n",
      "\n",
      "delete foo;\n",
      "foo address: 0xaaaaf1ed3300\n",
      "foo value:   -234080768\n",
      "\n",
      "int *bar = new int(8);\n",
      "bar address: 0xaaaaf1ed3300\n",
      "bar value:   8\n",
      "foo address: 0xaaaaf1ed3300\n",
      "foo value:   8\n"
     ]
    },
    {
     "data": {
      "text/plain": [
       "15"
      ]
     },
     "execution_count": 33,
     "metadata": {},
     "output_type": "execute_result"
    }
   ],
   "source": [
    "int *foo = new int(7);\n",
    "printf(\"foo address: %p\\n\", foo);\n",
    "printf(\"foo value:   %d\\n\", *foo);\n",
    "\n",
    "delete foo;\n",
    "printf(\"\\ndelete foo;\\n\");\n",
    "printf(\"foo address: %p\\n\", foo);\n",
    "printf(\"foo value:   %d\\n\", *foo);\n",
    "\n",
    "int *bar = new int(8);\n",
    "printf(\"\\nint *bar = new int(8);\\n\");\n",
    "printf(\"bar address: %p\\n\", bar);\n",
    "printf(\"bar value:   %d\\n\", *bar);\n",
    "printf(\"foo address: %p\\n\", foo);\n",
    "printf(\"foo value:   %d\\n\", *foo);\n",
    "\n"
   ]
  },
  {
   "cell_type": "code",
   "execution_count": 34,
   "id": "ee445bbc",
   "metadata": {},
   "outputs": [
    {
     "name": "stdout",
     "output_type": "stream",
     "text": [
      "&bar: 0xfffff3916acc\n",
      "foo:  0xaaaaf2ae0970\n"
     ]
    }
   ],
   "source": [
    "/* exercise for the reader */\n",
    "void foostuff() {\n",
    "    int bar = 8;\n",
    "    int* foo = new int(88);\n",
    "    printf(\"&bar: %p\\n\", &bar);\n",
    "    printf(\"foo:  %p\\n\", foo);\n",
    "}\n",
    "\n",
    "foostuff();\n",
    "//*/"
   ]
  },
  {
   "cell_type": "markdown",
   "id": "21117f9f",
   "metadata": {
    "slideshow": {
     "slide_type": "fragment"
    }
   },
   "source": [
    "Once `foo` is deleted, `foo` still points to the same place in memory, but the value of `*foo` is no longer the same because that memory has been freed and no longer stores the value it started with."
   ]
  },
  {
   "cell_type": "markdown",
   "id": "e5ce6b60",
   "metadata": {
    "slideshow": {
     "slide_type": "slide"
    }
   },
   "source": [
    "## Arrays"
   ]
  },
  {
   "cell_type": "code",
   "execution_count": 35,
   "id": "98200251",
   "metadata": {},
   "outputs": [],
   "source": [
    "int fooArr[] = {1, 2, 3, 4}"
   ]
  },
  {
   "cell_type": "code",
   "execution_count": 36,
   "id": "b2de5c6e",
   "metadata": {},
   "outputs": [
    {
     "data": {
      "text/plain": [
       "1"
      ]
     },
     "execution_count": 36,
     "metadata": {},
     "output_type": "execute_result"
    }
   ],
   "source": [
    "fooArr[0]"
   ]
  },
  {
   "cell_type": "code",
   "execution_count": 37,
   "id": "beb30f54",
   "metadata": {},
   "outputs": [
    {
     "data": {
      "text/plain": [
       "4"
      ]
     },
     "execution_count": 37,
     "metadata": {},
     "output_type": "execute_result"
    }
   ],
   "source": [
    "fooArr[3]"
   ]
  },
  {
   "cell_type": "code",
   "execution_count": 42,
   "id": "68901c6a",
   "metadata": {
    "slideshow": {
     "slide_type": "fragment"
    }
   },
   "outputs": [
    {
     "data": {
      "text/plain": [
       "3"
      ]
     },
     "execution_count": 42,
     "metadata": {},
     "output_type": "execute_result"
    }
   ],
   "source": [
    "*(fooArr+2)"
   ]
  },
  {
   "cell_type": "markdown",
   "id": "ce1ff4ba",
   "metadata": {
    "slideshow": {
     "slide_type": "slide"
    }
   },
   "source": [
    "So...what is `fooArr`?"
   ]
  },
  {
   "cell_type": "markdown",
   "id": "bcb928c8",
   "metadata": {
    "slideshow": {
     "slide_type": "fragment"
    }
   },
   "source": [
    "A pointer!\n",
    "\n",
    "When C++ makes an array, it returns the address of the first element of the array.\n",
    "\n",
    "An array is an abstraction over pointers. An array is a pointer, but it has more meaning than a just a pointer: it communicates that there are additional values of the same type in adjacent memory, while a plain-old-pointer makes no claims about its neighbors.\n",
    "\n",
    "But the syntax that applies to pointers applies to arrays, and vice-versa."
   ]
  },
  {
   "cell_type": "code",
   "execution_count": 39,
   "id": "e34f68fa",
   "metadata": {
    "slideshow": {
     "slide_type": "fragment"
    }
   },
   "outputs": [
    {
     "name": "stdout",
     "output_type": "stream",
     "text": [
      "location of foo:  0xffffa57d9108\n",
      "location of bar:  0xffffa57d910c\n",
      "location of baz:  0xffffa57d9110\n"
     ]
    }
   ],
   "source": [
    "int foo = 7;\n",
    "int bar = 42;\n",
    "int baz = 79;\n",
    "int* fooPtr = &foo;\n",
    "\n",
    "printf(\"location of foo:  %p\\n\", &foo);\n",
    "printf(\"location of bar:  %p\\n\", &bar);\n",
    "printf(\"location of baz:  %p\\n\", &baz);"
   ]
  },
  {
   "cell_type": "code",
   "execution_count": 40,
   "id": "89365721",
   "metadata": {
    "slideshow": {
     "slide_type": "fragment"
    }
   },
   "outputs": [
    {
     "name": "stdout",
     "output_type": "stream",
     "text": [
      "value of fooPtr[0]: 7\n",
      "value of fooPtr[1]: 42\n",
      "value of fooPtr[2]: 79\n",
      "value of fooPtr[3]: 0\n",
      "value of fooPtr[4]: -1518497528\n"
     ]
    }
   ],
   "source": [
    "printf(\"value of fooPtr[0]: %d\\n\", fooPtr[0]);\n",
    "printf(\"value of fooPtr[1]: %d\\n\", fooPtr[1]);\n",
    "printf(\"value of fooPtr[2]: %d\\n\", fooPtr[2]);\n",
    "printf(\"value of fooPtr[3]: %d\\n\", fooPtr[3]);\n",
    "printf(\"value of fooPtr[4]: %d\\n\", fooPtr[4]);"
   ]
  },
  {
   "cell_type": "markdown",
   "id": "e07bf753",
   "metadata": {
    "slideshow": {
     "slide_type": "fragment"
    }
   },
   "source": [
    "<div class=\"big centered\">🤪</div>"
   ]
  },
  {
   "cell_type": "markdown",
   "id": "ff441103",
   "metadata": {
    "slideshow": {
     "slide_type": "slide"
    }
   },
   "source": [
    "### If I come up with a memory address, can I get the value?"
   ]
  },
  {
   "cell_type": "code",
   "execution_count": 64,
   "id": "924df183",
   "metadata": {},
   "outputs": [],
   "source": [
    "int foo = 7;"
   ]
  },
  {
   "cell_type": "code",
   "execution_count": 65,
   "id": "43a14db9",
   "metadata": {},
   "outputs": [
    {
     "name": "stdout",
     "output_type": "stream",
     "text": [
      "0xffffa57d9138\n"
     ]
    }
   ],
   "source": [
    "printf(\"%p\\n\", &foo);"
   ]
  },
  {
   "cell_type": "code",
   "execution_count": 66,
   "id": "487459e5",
   "metadata": {},
   "outputs": [
    {
     "data": {
      "text/plain": [
       "7"
      ]
     },
     "execution_count": 66,
     "metadata": {},
     "output_type": "execute_result"
    }
   ],
   "source": [
    "*(int*)0xffffa57d9138"
   ]
  },
  {
   "cell_type": "markdown",
   "id": "c6d313c9",
   "metadata": {},
   "source": [
    "Yes!\n",
    "\n",
    "But you would probably never do this..."
   ]
  },
  {
   "cell_type": "markdown",
   "id": "bd3d9760",
   "metadata": {
    "slideshow": {
     "slide_type": "slide"
    }
   },
   "source": [
    "### `new` and `delete` with arrays\n",
    "To create an array on the heap, use:\n",
    "```c++\n",
    "int size = 10;\n",
    "int numbers = new int[size];\n",
    "```\n",
    "\n",
    "To free the memory of an array on the heap, use:\n",
    "```c++\n",
    "delete[] numbers;\n",
    "```\n",
    "\n",
    "\n",
    "\n",
    "\n",
    "\n",
    "\n",
    "\n"
   ]
  },
  {
   "cell_type": "markdown",
   "id": "4181f286",
   "metadata": {
    "slideshow": {
     "slide_type": "slide"
    }
   },
   "source": [
    "#### How does `delete[]` know how much memory to free?\n",
    "\n",
    "https://www.youtube.com/embed/Lfg0--GbjVI?end=24"
   ]
  },
  {
   "cell_type": "markdown",
   "id": "2bde0ab3",
   "metadata": {
    "slideshow": {
     "slide_type": "fragment"
    }
   },
   "source": [
    "https://stackoverflow.com/questions/197675/how-does-delete-know-the-size-of-the-operand-array"
   ]
  },
  {
   "cell_type": "markdown",
   "id": "274818ca",
   "metadata": {
    "slideshow": {
     "slide_type": "slide"
    }
   },
   "source": [
    "## Variables in Memory Reference Guide\n",
    "\n",
    "This guide is attempts to demostrate in a more concrete way what is happening under the hood.\n",
    "\n",
    "**The key ideas here are**:\n",
    "- What gets stored in memory are just bytes. The interpretation of those bytes depends on the variable type.\n",
    "  - Note how `foo` and `bar` have the same bytes.\n",
    "- Pointers are variables that store memory addresses.\n",
    "  - Note how the bytes stored for `fooPtr` match the memory address of `foo`. \n",
    "- References (i.e. `int &moreFoo = foo;`) just add another symbol for an already-active slot in memory.\n",
    "  \n",
    "\n",
    "```c++\n",
    "int foo = 74;    // i.e. 0x4a\n",
    "char bar = 'J';  // i.e. 0x4a\n",
    "char baz = 'K';  // i.e. 0x4b\n",
    "int* fooPtr = &foo;\n",
    "int &moreFoo = foo;\n",
    "```\n",
    "\n",
    "|address         | bytes | symbols | symbol type | value |\n",
    "|----------------|-------|---------|-------------|-------|\n",
    "| 0xffffa57d93b8 | 4A    | `foo`,`moreFoo`| `int`| 74    |\n",
    "| 0xffffa57d93b9 | 00    | ...     | ...         | ...   |\n",
    "| 0xffffa57d93ba | 00    | ...     | ...         | ...   |\n",
    "| 0xffffa57d93bb | 00    | ...     | ...         | ...   |\n",
    "| 0xffffa57d93bc | 4A    | `bar`   | `char`      | `'J'` |\n",
    "| 0xffffa57d93bd | 4B    | `baz`   | `char`      | `'K'` |\n",
    "| 0xffffa57d93be | 00    |         |             |       |\n",
    "| 0xffffa57d93bf | 00    |         |             |       |\n",
    "| 0xffffa57d93c0 | B8    |`fooPtr` | `int*`      | `0xffffa57d93b8` |\n",
    "| 0xffffa57d93c1 | 93    | ...     | ...         | ...   |\n",
    "| 0xffffa57d93c2 | 7D    | ...     | ...         | ...   |\n",
    "| 0xffffa57d93c3 | A5    | ...     | ...         | ...   |\n",
    "| 0xffffa57d93c4 | FF    | ...     | ...         | ...   |\n",
    "| 0xffffa57d93c5 | FF    | ...     | ...         | ...   |\n",
    "| 0xffffa57d93c6 | 00    |         |             |       |\n",
    "| 0xffffa57d93c7 | 00    |         |             |       |\n",
    "\n",
    "- `foo` has value `74`, represented by bytes `4A`. It is stored in `0xffffa57d93b8`-`0xffffa57d93bb` (4-byte integer)\n",
    "- `bar` has value `'J'`, represented by bytes `4A`. It is stored in `0xffffa57d93bc` (1-byte char)\n",
    "- `baz` has value `'K'`, represented by bytes `4B`. It is stored in `0xffffa57d93bd` (1-byte char)\n",
    "- Slots `0xffffa57d93be` and `0xffffa57d93bf` are unused\n",
    "- `fooPtr` has value `0xffffa57d93b8` (i.e. the address of `foo`) and is stored in `0xffffa57d93c0`-`0xffffa57d93c5` (my compiler uses 6 bytes for a pointer)\n",
    "- `moreFoo` is another reference for `0xffffa57d93b8` (i.e. the same place `foo` references)\n",
    "- Note that the order of the bytes for multi-byte values is stored in an interesting way. \n",
    "  - When humans write a number, we start with the larger digits first (e.g. \"1,342\" starts with the thousands, then hundreds, tens, and ones). \n",
    "  - When a computer stores a number, it starts with the lower bytes first (ones, 16's, 256's, etc.). \n",
    "  - You see this in how the address for `foo` is stored as the value for `fooPtr`. "
   ]
  },
  {
   "cell_type": "markdown",
   "id": "7c7c628c",
   "metadata": {
    "slideshow": {
     "slide_type": "slide"
    }
   },
   "source": [
    "The following code generates the primary content of the table above."
   ]
  },
  {
   "cell_type": "code",
   "execution_count": 140,
   "id": "a53c0bf7",
   "metadata": {},
   "outputs": [],
   "source": [
    "int foo = 74;\n",
    "char bar = 'J';\n",
    "char baz = 'K';\n",
    "int* fooPtr = &foo;\n",
    "int &moreFoo = foo;"
   ]
  },
  {
   "cell_type": "code",
   "execution_count": 150,
   "id": "fe070969",
   "metadata": {},
   "outputs": [
    {
     "name": "stdout",
     "output_type": "stream",
     "text": [
      "&foo:     0xffffa57d93b8\n",
      "&bar:     0xffffa57d93bc\n",
      "&baz:     0xffffa57d93bd\n",
      "&quux:    0xffffa57d938e\n",
      "&fooPtr:  0xffffa57d93c0\n",
      "&moreFoo: 0xffffa57d93b8\n",
      "\n",
      "| 0xffffa57d93b8 | 4A |\n",
      "| 0xffffa57d93b9 | 00 |\n",
      "| 0xffffa57d93ba | 00 |\n",
      "| 0xffffa57d93bb | 00 |\n",
      "| 0xffffa57d93bc | 4A |\n",
      "| 0xffffa57d93bd | 4B |\n",
      "| 0xffffa57d93be | 00 |\n",
      "| 0xffffa57d93bf | 00 |\n",
      "| 0xffffa57d93c0 | B8 |\n",
      "| 0xffffa57d93c1 | 93 |\n",
      "| 0xffffa57d93c2 | 7D |\n",
      "| 0xffffa57d93c3 | A5 |\n",
      "| 0xffffa57d93c4 | FF |\n",
      "| 0xffffa57d93c5 | FF |\n",
      "| 0xffffa57d93c6 | 00 |\n",
      "| 0xffffa57d93c7 | 00 |\n"
     ]
    }
   ],
   "source": [
    "printf(\"&foo:     %p\\n\", &foo);\n",
    "printf(\"&bar:     %p\\n\", &bar);\n",
    "printf(\"&baz:     %p\\n\", &baz);\n",
    "printf(\"&quux:    %p\\n\", &quux);\n",
    "printf(\"&fooPtr:  %p\\n\", &fooPtr);\n",
    "printf(\"&moreFoo: %p\\n\", &moreFoo);\n",
    "printf(\"\\n\");\n",
    "\n",
    "for (int i = 0; i<16; i++) {\n",
    "    // printf(\"%p: %#04hhx\\n\", ((char*)&foo)+i, *((((char*)&foo)+i)) );\n",
    "    printf(\"| %p | %02X |\\n\", ((char*)&foo)+i, *((((char*)&foo)+i)) );\n",
    "}"
   ]
  }
 ],
 "metadata": {
  "celltoolbar": "Slideshow",
  "kernelspec": {
   "display_name": "C++11",
   "language": "C++11",
   "name": "xcpp11"
  },
  "language_info": {
   "codemirror_mode": "text/x-c++src",
   "file_extension": ".cpp",
   "mimetype": "text/x-c++src",
   "name": "c++",
   "version": "11"
  }
 },
 "nbformat": 4,
 "nbformat_minor": 5
}
