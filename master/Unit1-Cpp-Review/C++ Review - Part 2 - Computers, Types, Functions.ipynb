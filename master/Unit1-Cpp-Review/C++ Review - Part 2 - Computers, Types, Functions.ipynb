{
 "cells": [
  {
   "cell_type": "markdown",
   "id": "132d7ec2",
   "metadata": {
    "slideshow": {
     "slide_type": "slide"
    }
   },
   "source": [
    "# C++ Review - Part 2 - Computers, Types, Functions"
   ]
  },
  {
   "cell_type": "markdown",
   "id": "763f9c49",
   "metadata": {
    "slideshow": {
     "slide_type": "slide"
    }
   },
   "source": [
    "## Computers\n",
    "A computer represents data as **bits**, often represented as `0`s and `1`s.\n",
    "\n",
    "Every bit represents 2 possibilities (`0` or `1`), so a series of *n* bits represents $2^n$ possibilities.\n",
    "\n",
    "Thus, 4 bits represents 16 different states. Thus, 4 bits will often be represented using hexidecimal (base 16) notation: `0 1 2 3 4 5 6 7 8 9 A B C D E F`. \n",
    "\n",
    "| bits | base 16 |\n",
    "|----|----|\n",
    "|`0001` | `1` |\n",
    "|`0010` | `2` |\n",
    "|`0100` | `4` |\n",
    "|`1000` | `8` |\n",
    "|`1010` | `A` |\n",
    "|`1010 1100` | `AC` |\n",
    "\n",
    "8 bits represents $2^8 = 256$ possibilities. 8 bits is called a **byte**. Bytes are often represented by two-digit hexidecimal numbers: e.g. `04`, `12`, `A7`, `3E`, `FF`.\n",
    "\n",
    "Have you seen RGB codes before? Three color channels: red, green, blue. Each channel gets a value between 0 and 255. This value is represented as 3 two-digit hexidecimals: `22ECFF`"
   ]
  },
  {
   "cell_type": "markdown",
   "id": "ac7c7b0b",
   "metadata": {
    "slideshow": {
     "slide_type": "slide"
    }
   },
   "source": [
    "## Programs\n",
    "All information for a program, including the code itself, must be represented as bits.\n",
    "\n",
    "The state of a program—i.e. the data—is just bits in RAM or on disk.\n",
    "\n",
    "When using C++, you must manage the mapping between the intended abstraction and the reality of bits in memory."
   ]
  },
  {
   "cell_type": "markdown",
   "id": "9f0e9778",
   "metadata": {
    "slideshow": {
     "slide_type": "slide"
    }
   },
   "source": [
    "## Types\n",
    "C++ (and essentially all programming languages) have the concept of data *type*. The type communicates how the bytes should be interpreted. The type is an abstraction of the actual bytes."
   ]
  },
  {
   "cell_type": "code",
   "execution_count": 1,
   "id": "56ebc962",
   "metadata": {
    "slideshow": {
     "slide_type": "fragment"
    }
   },
   "outputs": [
    {
     "data": {
      "text/plain": [
       "'B'"
      ]
     },
     "execution_count": 1,
     "metadata": {},
     "output_type": "execute_result"
    }
   ],
   "source": [
    "(char)0x42"
   ]
  },
  {
   "cell_type": "code",
   "execution_count": 3,
   "id": "0f85dd9f",
   "metadata": {},
   "outputs": [
    {
     "data": {
      "text/plain": [
       "66"
      ]
     },
     "execution_count": 3,
     "metadata": {},
     "output_type": "execute_result"
    }
   ],
   "source": [
    "(int)0x42"
   ]
  },
  {
   "cell_type": "code",
   "execution_count": 4,
   "id": "4b064959",
   "metadata": {
    "slideshow": {
     "slide_type": "fragment"
    }
   },
   "outputs": [
    {
     "data": {
      "text/plain": [
       "-1"
      ]
     },
     "execution_count": 4,
     "metadata": {},
     "output_type": "execute_result"
    }
   ],
   "source": [
    "(signed short int)(0xffffff)"
   ]
  },
  {
   "cell_type": "code",
   "execution_count": 5,
   "id": "b0ccea73",
   "metadata": {},
   "outputs": [
    {
     "data": {
      "text/plain": [
       "65535"
      ]
     },
     "execution_count": 5,
     "metadata": {},
     "output_type": "execute_result"
    }
   ],
   "source": [
    "(unsigned short int)(0xffffff)"
   ]
  },
  {
   "cell_type": "markdown",
   "id": "8b0a1b4a",
   "metadata": {
    "slideshow": {
     "slide_type": "slide"
    }
   },
   "source": [
    "## Location\n",
    "Digital storage (e.g. RAM or hard disk, etc.) is just a long series of bytes. A program can store information (bytes) somewhere in that larger sequence, but it needs to know where it put stuff so it can get use it later. \n",
    "\n",
    "The *address* of a sequence of bytes is represented in C++ as a **pointer**. \n",
    "\n",
    "The `&` operator can get us the address of the bytes represented by a variable.\n",
    "\n",
    "The `*` operator can get us the bytes stored at a specific address."
   ]
  },
  {
   "cell_type": "code",
   "execution_count": 6,
   "id": "a09aad30",
   "metadata": {
    "slideshow": {
     "slide_type": "slide"
    }
   },
   "outputs": [],
   "source": [
    "int foo = 66;\n",
    "int bar = 8;\n",
    "int* fooPtr = &foo;\n",
    "int* barPtr = &bar;"
   ]
  },
  {
   "cell_type": "code",
   "execution_count": 7,
   "id": "78122a53",
   "metadata": {
    "slideshow": {
     "slide_type": "fragment"
    }
   },
   "outputs": [
    {
     "data": {
      "text/plain": [
       "66"
      ]
     },
     "execution_count": 7,
     "metadata": {},
     "output_type": "execute_result"
    }
   ],
   "source": [
    "*fooPtr"
   ]
  },
  {
   "cell_type": "code",
   "execution_count": 8,
   "id": "d96d03f4",
   "metadata": {
    "slideshow": {
     "slide_type": "fragment"
    }
   },
   "outputs": [
    {
     "data": {
      "text/plain": [
       "66"
      ]
     },
     "execution_count": 8,
     "metadata": {},
     "output_type": "execute_result"
    }
   ],
   "source": [
    "*&foo"
   ]
  },
  {
   "cell_type": "code",
   "execution_count": 9,
   "id": "01513ec0",
   "metadata": {
    "slideshow": {
     "slide_type": "fragment"
    }
   },
   "outputs": [
    {
     "data": {
      "text/plain": [
       "'B'"
      ]
     },
     "execution_count": 9,
     "metadata": {},
     "output_type": "execute_result"
    }
   ],
   "source": [
    "(char)*fooPtr"
   ]
  },
  {
   "cell_type": "code",
   "execution_count": 10,
   "id": "b2473e2d",
   "metadata": {
    "slideshow": {
     "slide_type": "slide"
    }
   },
   "outputs": [
    {
     "name": "stdout",
     "output_type": "stream",
     "text": [
      "Location of foo:  0xffffbf3ff028\n",
      "Location of bar:  0xffffbf3ff02c\n"
     ]
    }
   ],
   "source": [
    "printf(\"Location of foo:  %p\\n\", fooPtr );\n",
    "printf(\"Location of bar:  %p\\n\", barPtr );"
   ]
  },
  {
   "cell_type": "markdown",
   "id": "0b9d6f9e",
   "metadata": {
    "slideshow": {
     "slide_type": "fragment"
    }
   },
   "source": [
    "How many bytes away are the data for `foo` and `bar`?"
   ]
  },
  {
   "cell_type": "code",
   "execution_count": 11,
   "id": "782a5231",
   "metadata": {
    "slideshow": {
     "slide_type": "slide"
    }
   },
   "outputs": [
    {
     "name": "stdout",
     "output_type": "stream",
     "text": [
      "Location of longfoo:  0xffffbf3ff068\n",
      "Location of longbar:  0xffffbf3ff070\n"
     ]
    }
   ],
   "source": [
    "long int longfoo = 7;\n",
    "long int longbar = 8;\n",
    "printf(\"Location of longfoo:  %p\\n\", &longfoo );\n",
    "printf(\"Location of longbar:  %p\\n\", &longbar );"
   ]
  },
  {
   "cell_type": "markdown",
   "id": "be12d2ef",
   "metadata": {
    "slideshow": {
     "slide_type": "fragment"
    }
   },
   "source": [
    "How many bytes away are the data for `longfoo` and `longbar`?"
   ]
  },
  {
   "cell_type": "markdown",
   "id": "5cd5333c",
   "metadata": {
    "slideshow": {
     "slide_type": "slide"
    }
   },
   "source": [
    "Pointers are bytes, just like any other data. We can reinterpret and manipulate those bytes, just like any other data.\n",
    "\n",
    "Note: the operations performed on pointers takes the type of pointer into account. So `<int*> + 1` behaves a differently than `<char*> + 1` (but in a good, convenient way)."
   ]
  },
  {
   "cell_type": "code",
   "execution_count": 12,
   "id": "b189b67b",
   "metadata": {
    "slideshow": {
     "slide_type": "slide"
    }
   },
   "outputs": [
    {
     "name": "stdout",
     "output_type": "stream",
     "text": [
      "Location of foo:  0xffffbf3ff028\n",
      "Location of bar:  0xffffbf3ff02c\n"
     ]
    }
   ],
   "source": [
    "printf(\"Location of foo:  %p\\n\", fooPtr );\n",
    "printf(\"Location of bar:  %p\\n\", barPtr );"
   ]
  },
  {
   "cell_type": "code",
   "execution_count": 13,
   "id": "113176d2",
   "metadata": {
    "slideshow": {
     "slide_type": "fragment"
    }
   },
   "outputs": [
    {
     "data": {
      "text/plain": [
       "1"
      ]
     },
     "execution_count": 13,
     "metadata": {},
     "output_type": "execute_result"
    }
   ],
   "source": [
    "barPtr - fooPtr // i.e. 1 \"int\" away"
   ]
  },
  {
   "cell_type": "code",
   "execution_count": 14,
   "id": "fd952d0c",
   "metadata": {},
   "outputs": [
    {
     "data": {
      "text/plain": [
       "4"
      ]
     },
     "execution_count": 14,
     "metadata": {},
     "output_type": "execute_result"
    }
   ],
   "source": [
    "(char*)barPtr - (char*)fooPtr // i.e. 4 \"chars\" or bytes away"
   ]
  },
  {
   "cell_type": "code",
   "execution_count": 15,
   "id": "7c5cd9f3",
   "metadata": {},
   "outputs": [
    {
     "data": {
      "text/plain": [
       "66"
      ]
     },
     "execution_count": 15,
     "metadata": {},
     "output_type": "execute_result"
    }
   ],
   "source": [
    "*(barPtr - 1) // i.e. *(fooPtr)"
   ]
  },
  {
   "cell_type": "code",
   "execution_count": 16,
   "id": "23705c69",
   "metadata": {},
   "outputs": [
    {
     "data": {
      "text/plain": [
       "8"
      ]
     },
     "execution_count": 16,
     "metadata": {},
     "output_type": "execute_result"
    }
   ],
   "source": [
    "*(fooPtr + 1) // i.e. *(barPtr)"
   ]
  },
  {
   "cell_type": "markdown",
   "id": "9da682b8",
   "metadata": {
    "slideshow": {
     "slide_type": "fragment"
    }
   },
   "source": [
    "If you create a variable, then the data for that variable must exist somewhere and there is an address `&` to that somewhere.\n",
    "\n",
    "**You use `&` on variables to find out where the value for that variable is stored.**"
   ]
  },
  {
   "cell_type": "code",
   "execution_count": 128,
   "id": "5a563118",
   "metadata": {
    "slideshow": {
     "slide_type": "subslide"
    }
   },
   "outputs": [
    {
     "name": "stdout",
     "output_type": "stream",
     "text": [
      "Location of fooPtr: 0xffff8d9c0458\n"
     ]
    }
   ],
   "source": [
    "printf(\"Location of fooPtr: %p\\n\", &fooPtr);"
   ]
  },
  {
   "cell_type": "markdown",
   "id": "8cc51131",
   "metadata": {
    "slideshow": {
     "slide_type": "slide"
    }
   },
   "source": [
    "### References\n",
    "In the statement\n",
    "```c++\n",
    "int a = 7;\n",
    "```\n",
    "the symbol `a` indicates a certain place in memory, and that certain place currently contains the bytes for `7`. \n",
    "\n",
    "The statement\n",
    "```c++\n",
    "a = 9;\n",
    "```\n",
    "then indicates that the place in memory that `a` represents should now have a new value: `9`.\n",
    "\n",
    "The statement\n",
    "```c++\n",
    "int &b = a;\n",
    "```\n",
    "indicates that `b` now represents the place in memory that `a` represents. So any modifications to the value of `b`—i.e. the place in memory that `b` represents—will also be reflected in `a`. \n",
    "\n",
    "In essence, variables give names to memory locations. A **reference** is a name for a place in memory. We can have many names for the same memory location."
   ]
  },
  {
   "cell_type": "code",
   "execution_count": 12,
   "id": "d5b27baf",
   "metadata": {
    "slideshow": {
     "slide_type": "fragment"
    }
   },
   "outputs": [
    {
     "data": {
      "text/plain": [
       "8"
      ]
     },
     "execution_count": 12,
     "metadata": {},
     "output_type": "execute_result"
    }
   ],
   "source": [
    "int a = 7;\n",
    "int &b = a;\n",
    "a = 8;\n",
    "b"
   ]
  },
  {
   "cell_type": "code",
   "execution_count": 13,
   "id": "86ba2fc1",
   "metadata": {},
   "outputs": [
    {
     "data": {
      "text/plain": [
       "19"
      ]
     },
     "execution_count": 13,
     "metadata": {},
     "output_type": "execute_result"
    }
   ],
   "source": [
    "b = 19;\n",
    "a"
   ]
  },
  {
   "cell_type": "code",
   "execution_count": 15,
   "id": "b7d4f454",
   "metadata": {},
   "outputs": [
    {
     "name": "stdout",
     "output_type": "stream",
     "text": [
      "0xffffb1f25040, 0xffffb1f25040\n"
     ]
    }
   ],
   "source": [
    "printf(\"%p, %p\\n\", &a, &b);"
   ]
  },
  {
   "cell_type": "markdown",
   "id": "82767f54",
   "metadata": {
    "slideshow": {
     "slide_type": "slide"
    }
   },
   "source": [
    "## `new` and `delete`\n",
    "\n",
    "There are two types of memory where variables are stored in c++: the **stack** and the **heap**. We'll learn more about these later in the course.\n",
    "\n",
    "For now, understand that anything stored in the *stack* will be overwritten when the current function exits. Anything stored in the *heap* will be available even after the current function exits.\n",
    "\n",
    "Used memory in the *stack* is automatically recovered when the function returns. It can get reused later by other parts of the program.\n",
    "\n",
    "Used memory in the *heap* is not automatically recovered. If you don't free that memory, the program will hang on to it forever (i.e. until the program exits), even if you don't need the values stored in that memory anymore.\n",
    "\n",
    "When you fail to release memory you no longer need, we call it a *memory leak*. `valgrind` is a tool that can help you identify memory leaks. \n",
    "\n",
    "Values declared with `new` will be created on the *heap*. All others are created on the *stack*. To delete a value, and thus free up the memory used to store that value, use `delete`.\n",
    "\n",
    "`new` returns a pointer to the memory just reserved for your value. `delete` takes a pointer indicating the location in memory you want to free."
   ]
  },
  {
   "cell_type": "code",
   "execution_count": 7,
   "id": "3f608499",
   "metadata": {
    "slideshow": {
     "slide_type": "fragment"
    }
   },
   "outputs": [
    {
     "name": "stdout",
     "output_type": "stream",
     "text": [
      "0xaaaaf5da0db0\n",
      "7\n",
      "0xaaaaf5da0db0\n",
      "-170867888\n"
     ]
    }
   ],
   "source": [
    "int *foo = new int(7);\n",
    "printf(\"%p\\n\", foo);\n",
    "printf(\"%d\\n\", *foo);\n",
    "delete foo;\n",
    "printf(\"%p\\n\", foo);\n",
    "printf(\"%d\\n\", *foo);"
   ]
  },
  {
   "cell_type": "markdown",
   "id": "21117f9f",
   "metadata": {
    "slideshow": {
     "slide_type": "fragment"
    }
   },
   "source": [
    "Once `foo` is deleted, `foo` still points to the same place in memory, but the value of `*foo` is no longer the same because that memory has been freed and no longer stores the value it started with."
   ]
  },
  {
   "cell_type": "markdown",
   "id": "e5ce6b60",
   "metadata": {
    "slideshow": {
     "slide_type": "slide"
    }
   },
   "source": [
    "## Arrays"
   ]
  },
  {
   "cell_type": "code",
   "execution_count": 17,
   "id": "98200251",
   "metadata": {},
   "outputs": [],
   "source": [
    "int fooArr[] = {1, 2, 3, 4}"
   ]
  },
  {
   "cell_type": "code",
   "execution_count": 18,
   "id": "b2de5c6e",
   "metadata": {},
   "outputs": [
    {
     "data": {
      "text/plain": [
       "1"
      ]
     },
     "execution_count": 18,
     "metadata": {},
     "output_type": "execute_result"
    }
   ],
   "source": [
    "fooArr[0]"
   ]
  },
  {
   "cell_type": "code",
   "execution_count": 19,
   "id": "beb30f54",
   "metadata": {},
   "outputs": [
    {
     "data": {
      "text/plain": [
       "4"
      ]
     },
     "execution_count": 19,
     "metadata": {},
     "output_type": "execute_result"
    }
   ],
   "source": [
    "fooArr[3]"
   ]
  },
  {
   "cell_type": "code",
   "execution_count": 20,
   "id": "68901c6a",
   "metadata": {
    "slideshow": {
     "slide_type": "fragment"
    }
   },
   "outputs": [
    {
     "data": {
      "text/plain": [
       "1"
      ]
     },
     "execution_count": 20,
     "metadata": {},
     "output_type": "execute_result"
    }
   ],
   "source": [
    "*fooArr"
   ]
  },
  {
   "cell_type": "markdown",
   "id": "ce1ff4ba",
   "metadata": {
    "slideshow": {
     "slide_type": "slide"
    }
   },
   "source": [
    "So...what is `fooArr`?"
   ]
  },
  {
   "cell_type": "markdown",
   "id": "bcb928c8",
   "metadata": {
    "slideshow": {
     "slide_type": "fragment"
    }
   },
   "source": [
    "A pointer!\n",
    "\n",
    "When C++ makes an array, it returns the address of the first element of the array.\n",
    "\n",
    "An array is an abstraction over pointers. An array is a pointer, but it has more meaning than a just a pointer: it communicates that there are additional values of the same type in adjacent memory, while a pointer makes no claims about its neighbors.\n",
    "\n",
    "But the syntax that applies to pointers applies to arrays, and vice-versa."
   ]
  },
  {
   "cell_type": "code",
   "execution_count": 21,
   "id": "89365721",
   "metadata": {
    "slideshow": {
     "slide_type": "fragment"
    }
   },
   "outputs": [
    {
     "data": {
      "text/plain": [
       "66"
      ]
     },
     "execution_count": 21,
     "metadata": {},
     "output_type": "execute_result"
    }
   ],
   "source": [
    "fooPtr[0]"
   ]
  },
  {
   "cell_type": "code",
   "execution_count": 22,
   "id": "1836c06a",
   "metadata": {},
   "outputs": [
    {
     "data": {
      "text/plain": [
       "8"
      ]
     },
     "execution_count": 22,
     "metadata": {},
     "output_type": "execute_result"
    }
   ],
   "source": [
    "fooPtr[1]"
   ]
  },
  {
   "cell_type": "code",
   "execution_count": 23,
   "id": "adf78266",
   "metadata": {
    "slideshow": {
     "slide_type": "fragment"
    }
   },
   "outputs": [
    {
     "data": {
      "text/plain": [
       "-1086328792"
      ]
     },
     "execution_count": 23,
     "metadata": {},
     "output_type": "execute_result"
    }
   ],
   "source": [
    "fooPtr[2]"
   ]
  },
  {
   "cell_type": "markdown",
   "id": "e07bf753",
   "metadata": {
    "slideshow": {
     "slide_type": "fragment"
    }
   },
   "source": [
    "<div class=\"big center\">🤪</div>"
   ]
  },
  {
   "cell_type": "markdown",
   "id": "bd3d9760",
   "metadata": {},
   "source": [
    "### `new` and `delete` with arrays\n",
    "To create an array on the heap, use:\n",
    "```c++\n",
    "int size = 10;\n",
    "int numbers = new int[size];\n",
    "```\n",
    "\n",
    "To free the memory of an array on the heap, use:\n",
    "```c++\n",
    "delete[] numbers;\n",
    "```\n"
   ]
  },
  {
   "cell_type": "markdown",
   "id": "4181f286",
   "metadata": {
    "slideshow": {
     "slide_type": "slide"
    }
   },
   "source": [
    "#### How does `delete[]` know how much memory to free?\n",
    "\n",
    "https://www.youtube.com/embed/Lfg0--GbjVI?end=24"
   ]
  },
  {
   "cell_type": "markdown",
   "id": "2bde0ab3",
   "metadata": {
    "slideshow": {
     "slide_type": "fragment"
    }
   },
   "source": [
    "https://stackoverflow.com/questions/197675/how-does-delete-know-the-size-of-the-operand-array"
   ]
  },
  {
   "cell_type": "markdown",
   "id": "ac900311",
   "metadata": {
    "slideshow": {
     "slide_type": "slide"
    }
   },
   "source": [
    "## Functions"
   ]
  },
  {
   "cell_type": "code",
   "execution_count": 1,
   "id": "965d1d47",
   "metadata": {
    "slideshow": {
     "slide_type": "slide"
    }
   },
   "outputs": [],
   "source": [
    "#include <string>\n",
    "#include <iostream>\n",
    "#include <fstream>\n",
    "#include <sstream>\n",
    "using namespace std;"
   ]
  },
  {
   "cell_type": "code",
   "execution_count": 2,
   "id": "f6c92e62",
   "metadata": {
    "slideshow": {
     "slide_type": "fragment"
    }
   },
   "outputs": [],
   "source": [
    "void print(string message) {\n",
    "    cout << message << endl;\n",
    "}"
   ]
  },
  {
   "cell_type": "code",
   "execution_count": 3,
   "id": "a284804c",
   "metadata": {},
   "outputs": [
    {
     "name": "stdout",
     "output_type": "stream",
     "text": [
      "hi\n"
     ]
    }
   ],
   "source": [
    "print(\"hi\")"
   ]
  },
  {
   "cell_type": "code",
   "execution_count": 4,
   "id": "e9c80a2c",
   "metadata": {
    "slideshow": {
     "slide_type": "fragment"
    }
   },
   "outputs": [],
   "source": [
    "int add(int a, int b) {\n",
    "    return a + b;\n",
    "}"
   ]
  },
  {
   "cell_type": "code",
   "execution_count": 5,
   "id": "2452ef20",
   "metadata": {},
   "outputs": [
    {
     "data": {
      "text/plain": [
       "15"
      ]
     },
     "execution_count": 5,
     "metadata": {},
     "output_type": "execute_result"
    }
   ],
   "source": [
    "add(7, 8)"
   ]
  },
  {
   "cell_type": "markdown",
   "id": "62610c88",
   "metadata": {
    "slideshow": {
     "slide_type": "slide"
    }
   },
   "source": [
    "### Passing arguments\n",
    "When a function is evaluated, the values of the arguments need to be provided to the function code. \n",
    "\n",
    "These values can be passed \"by value\" or \"by reference\". "
   ]
  },
  {
   "cell_type": "code",
   "execution_count": 6,
   "id": "388a71ed",
   "metadata": {
    "slideshow": {
     "slide_type": "fragment"
    }
   },
   "outputs": [],
   "source": [
    "int addStuff(int a, int b) {\n",
    "    printf(\"(addStuff) &a: %p, &b: %p\\n\", &a, &b);\n",
    "    return a + b;\n",
    "}"
   ]
  },
  {
   "cell_type": "code",
   "execution_count": 7,
   "id": "2548d1c8",
   "metadata": {},
   "outputs": [
    {
     "name": "stdout",
     "output_type": "stream",
     "text": [
      "(addStuff) &a: 0xffffd6a07f0c, &b: 0xffffd6a07f08\n"
     ]
    },
    {
     "data": {
      "text/plain": [
       "15"
      ]
     },
     "execution_count": 7,
     "metadata": {},
     "output_type": "execute_result"
    }
   ],
   "source": [
    "addStuff(7, 8)"
   ]
  },
  {
   "cell_type": "code",
   "execution_count": 8,
   "id": "966ad2ad",
   "metadata": {},
   "outputs": [
    {
     "name": "stdout",
     "output_type": "stream",
     "text": [
      "(Ouside)   &a: 0xffffa693902c, &b: 0xffffa6939030\n",
      "(addStuff) &a: 0xffffd6a07eec, &b: 0xffffd6a07ee8\n"
     ]
    },
    {
     "data": {
      "text/plain": [
       "15"
      ]
     },
     "execution_count": 8,
     "metadata": {},
     "output_type": "execute_result"
    }
   ],
   "source": [
    "int a(7), b(8);\n",
    "printf(\"(Ouside)   &a: %p, &b: %p\\n\", &a, &b);\n",
    "addStuff(a, b)"
   ]
  },
  {
   "cell_type": "code",
   "execution_count": 9,
   "id": "8ed63d80",
   "metadata": {},
   "outputs": [],
   "source": [
    "int addStuffRef(int &a, int &b) {\n",
    "    printf(\"(addStuffRef) &a: %p, &b: %p\\n\", &a, &b);\n",
    "    return a + b;\n",
    "}"
   ]
  },
  {
   "cell_type": "code",
   "execution_count": 10,
   "id": "140afeef",
   "metadata": {},
   "outputs": [
    {
     "name": "stdout",
     "output_type": "stream",
     "text": [
      "(Ouside)      &a: 0xffffa6939034, &b: 0xffffa6939038\n",
      "(addStuffRef) &a: 0xffffa6939034, &b: 0xffffa6939038\n"
     ]
    },
    {
     "data": {
      "text/plain": [
       "15"
      ]
     },
     "execution_count": 10,
     "metadata": {},
     "output_type": "execute_result"
    }
   ],
   "source": [
    "int a(7), b(8);\n",
    "printf(\"(Ouside)      &a: %p, &b: %p\\n\", &a, &b);\n",
    "addStuffRef(a, b)"
   ]
  },
  {
   "cell_type": "markdown",
   "id": "69585ba7",
   "metadata": {
    "slideshow": {
     "slide_type": "fragment"
    }
   },
   "source": [
    "What is the difference between `addStuff` and `addStuffRef`?\n",
    "\n",
    "What does it mean to pass things \"by value\"? What about \"by reference\"?"
   ]
  },
  {
   "cell_type": "markdown",
   "id": "b843fa06",
   "metadata": {
    "slideshow": {
     "slide_type": "slide"
    }
   },
   "source": [
    "## File Input/Output (IO)"
   ]
  },
  {
   "cell_type": "code",
   "execution_count": 15,
   "id": "7747e9ee",
   "metadata": {
    "slideshow": {
     "slide_type": "fragment"
    }
   },
   "outputs": [
    {
     "name": "stdout",
     "output_type": "stream",
     "text": [
      "Reading the file ./a-demo-file.txt: \n",
      "Bean 7\n",
      "Smith 54\n",
      "Schwartz 0\n",
      "\n"
     ]
    }
   ],
   "source": [
    "string filename = \"./a-demo-file.txt\";\n",
    "ofstream outFile(filename);\n",
    "string line;\n",
    "if (outFile.is_open()) {\n",
    "    outFile << \"Bean 7\" << endl;\n",
    "    outFile << \"Smith 54\" << endl;\n",
    "    outFile << \"Schwartz 0\" << endl;\n",
    "    outFile.close();\n",
    "    \n",
    "} else {\n",
    "    cout << \"Hmm - we didn't open the file for writing...\" << endl;\n",
    "}\n",
    "\n",
    "ifstream inFile(filename); \n",
    "if (inFile.is_open()) {\n",
    "    cout << \"Reading the file \" << filename << \": \" << endl;\n",
    "    while (!inFile.eof()) {\n",
    "        getline(inFile, line);\n",
    "        cout << line << endl;\n",
    "    }\n",
    "\n",
    "    inFile.close();\n",
    "    \n",
    "} else {\n",
    "    // If the file open didnt work, print out an error\n",
    "    cout << \"Hmm - we didn't open the file for reading...\" << endl;\n",
    "}"
   ]
  },
  {
   "cell_type": "code",
   "execution_count": 16,
   "id": "17ed23a3",
   "metadata": {
    "slideshow": {
     "slide_type": "fragment"
    }
   },
   "outputs": [
    {
     "name": "stdout",
     "output_type": "stream",
     "text": [
      "a-demo-file.txt\n",
      "Bean 7\n",
      "Smith 54\n",
      "Schwartz 0\n"
     ]
    }
   ],
   "source": [
    "! ls a-demo-file.txt && cat a-demo-file.txt"
   ]
  },
  {
   "cell_type": "code",
   "execution_count": 17,
   "id": "927b3484",
   "metadata": {
    "slideshow": {
     "slide_type": "fragment"
    }
   },
   "outputs": [
    {
     "name": "stdout",
     "output_type": "stream",
     "text": [
      "Reading the file ./a-demo-file.txt: \n",
      "Word: Bean; number: 7\n",
      "Word: Smith; number: 54\n",
      "Word: Schwartz; number: 0\n",
      "Bad line: \n"
     ]
    }
   ],
   "source": [
    "ifstream inFile(filename); \n",
    "if (inFile.is_open()) {\n",
    "    cout << \"Reading the file \" << filename << \": \" << endl;\n",
    "    while (!inFile.eof()) {\n",
    "        string line;\n",
    "        getline(inFile, line);\n",
    "        string word;\n",
    "        int number;\n",
    "        stringstream tempstream(line);\n",
    "        if (tempstream >> word >> number) {\n",
    "            cout << \"Word: \" << word << \"; number: \" << number << endl;            \n",
    "        } else {\n",
    "            cout << \"Bad line: \" << line << endl;\n",
    "        }\n",
    "    }\n",
    "\n",
    "    inFile.close();\n",
    "    \n",
    "} else {\n",
    "    // If the file open didn't work, print out an error\n",
    "    cout << \"Hmm - we didn't open the file for reading...\" << endl;\n",
    "}"
   ]
  }
 ],
 "metadata": {
  "celltoolbar": "Slideshow",
  "kernelspec": {
   "display_name": "C++11",
   "language": "C++11",
   "name": "xcpp11"
  },
  "language_info": {
   "codemirror_mode": "text/x-c++src",
   "file_extension": ".cpp",
   "mimetype": "text/x-c++src",
   "name": "c++",
   "version": "11"
  }
 },
 "nbformat": 4,
 "nbformat_minor": 5
}
