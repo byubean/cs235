{
 "cells": [
  {
   "cell_type": "markdown",
   "id": "06230f58",
   "metadata": {
    "slideshow": {
     "slide_type": "slide"
    }
   },
   "source": [
    "# C++ Review - Environment, Hello World, `make`"
   ]
  },
  {
   "cell_type": "markdown",
   "id": "01999c67",
   "metadata": {
    "slideshow": {
     "slide_type": "slide"
    }
   },
   "source": [
    "## Get a C++ IDE\n",
    "\n",
    "We will use **CLion** in class. It will work for any operating system.\n",
    "\n",
    "You are welcome to use something else if you want to. Good luck."
   ]
  },
  {
   "cell_type": "markdown",
   "id": "57f270aa",
   "metadata": {
    "slideshow": {
     "slide_type": "slide"
    }
   },
   "source": [
    "Let's write some code!"
   ]
  },
  {
   "cell_type": "markdown",
   "id": "4c71ff13",
   "metadata": {
    "slideshow": {
     "slide_type": "fragment"
    }
   },
   "source": [
    "<div class=\"big center\">💪🏻</div>"
   ]
  },
  {
   "cell_type": "markdown",
   "id": "9aadf074",
   "metadata": {
    "slideshow": {
     "slide_type": "slide"
    }
   },
   "source": [
    "## Hello World\n",
    "\n",
    "Save this code in a file named `hello_world.cpp`:\n",
    "\n",
    "```c++\n",
    "#include <iostream>\n",
    "int main() {\n",
    "    std::cout << \"Hello world!\" << std::endl;\n",
    "}\n",
    "```"
   ]
  },
  {
   "cell_type": "markdown",
   "id": "1b4f3f46",
   "metadata": {
    "slideshow": {
     "slide_type": "fragment"
    }
   },
   "source": [
    "In your terminal, change to the directory containing `hello_world.cpp`.\n",
    "\n",
    "Then run:\n",
    "```\n",
    "g++ -o hello hello_world.cpp\n",
    "```\n",
    "\n",
    "And then:\n",
    "```bash\n",
    "./hello\n",
    "```"
   ]
  },
  {
   "cell_type": "markdown",
   "id": "cb6b6f98",
   "metadata": {
    "slideshow": {
     "slide_type": "slide"
    }
   },
   "source": [
    "Course complete."
   ]
  },
  {
   "cell_type": "markdown",
   "id": "ececadc2",
   "metadata": {
    "slideshow": {
     "slide_type": "fragment"
    }
   },
   "source": [
    "<div class=\"big center\">👩🏼‍💻👨🏻‍💻🧑🏾‍💻✅</div>"
   ]
  },
  {
   "cell_type": "markdown",
   "id": "3b4413b5",
   "metadata": {
    "slideshow": {
     "slide_type": "slide"
    }
   },
   "source": [
    "## Hello Better\n",
    "\n",
    "The world is nice, but sometimes we want to be specific.\n",
    "\n",
    "How do we add arguments to our program?"
   ]
  },
  {
   "cell_type": "markdown",
   "id": "5f45cfb8",
   "metadata": {
    "slideshow": {
     "slide_type": "slide"
    }
   },
   "source": [
    "```c++\n",
    "#include <iostream>\n",
    "int main(int argc, char* argv[]) {\n",
    "    std::cout << \"Hello \" << argv[0] << std::endl;\n",
    "}\n",
    "```"
   ]
  },
  {
   "cell_type": "markdown",
   "id": "2e62e2ff",
   "metadata": {
    "slideshow": {
     "slide_type": "fragment"
    }
   },
   "source": [
    "Compile and run:\n",
    "\n",
    "```\n",
    "g++ -o hello hello_world.cpp && ./hello class\n",
    "```\n",
    "\n",
    "What happened!?"
   ]
  },
  {
   "cell_type": "markdown",
   "id": "9da75267",
   "metadata": {
    "slideshow": {
     "slide_type": "fragment"
    }
   },
   "source": [
    "What is the first value in `argv`?"
   ]
  },
  {
   "cell_type": "markdown",
   "id": "b7e9cc4b",
   "metadata": {
    "slideshow": {
     "slide_type": "slide"
    }
   },
   "source": [
    "```c++\n",
    "#include <iostream>\n",
    "int main(int argc, char* argv[]) {\n",
    "    std::cout << \"Hello \" << argv[1] << std::endl;\n",
    "}\n",
    "```"
   ]
  },
  {
   "cell_type": "markdown",
   "id": "4348250b",
   "metadata": {
    "slideshow": {
     "slide_type": "fragment"
    }
   },
   "source": [
    "Compile and run:\n",
    "\n",
    "```\n",
    "g++ -o hello hello_world.cpp && ./hello\n",
    "```\n",
    "\n",
    "What happened!?"
   ]
  },
  {
   "cell_type": "markdown",
   "id": "2728bd12",
   "metadata": {
    "slideshow": {
     "slide_type": "fragment"
    }
   },
   "source": [
    "Give it an argument:\n",
    "```\n",
    "g++ -o hello hello_world.cpp\n",
    "./hello class\n",
    "./hello cs235\n",
    "```"
   ]
  },
  {
   "cell_type": "markdown",
   "id": "6e783725",
   "metadata": {
    "slideshow": {
     "slide_type": "slide"
    }
   },
   "source": [
    "A segfault for no args is a bad user experience. Let's give it a default."
   ]
  },
  {
   "cell_type": "markdown",
   "id": "c2b4e398",
   "metadata": {
    "slideshow": {
     "slide_type": "fragment"
    }
   },
   "source": [
    "```c++\n",
    "#include <iostream>\n",
    "#include <string>\n",
    "int main(int argc, char* argv[]) {\n",
    "    std::string name;\n",
    "    if (argc > 1) {\n",
    "        name = argv[1];\n",
    "    } else {\n",
    "        name = \"world\";\n",
    "    }\n",
    "    std::cout << \"Hello \" << name << \"!\" << std::endl;\n",
    "}\n",
    "```"
   ]
  },
  {
   "cell_type": "markdown",
   "id": "a71d5a56",
   "metadata": {
    "slideshow": {
     "slide_type": "fragment"
    }
   },
   "source": [
    "```\n",
    "g++ -o hello hello_world.cpp\n",
    "./hello\n",
    "./hello class\n",
    "```"
   ]
  },
  {
   "cell_type": "markdown",
   "id": "163f581f",
   "metadata": {
    "slideshow": {
     "slide_type": "slide"
    }
   },
   "source": [
    "## Let's `make` this easier"
   ]
  },
  {
   "cell_type": "markdown",
   "id": "ab91051d",
   "metadata": {
    "slideshow": {
     "slide_type": "fragment"
    }
   },
   "source": [
    "<div class='big center'>😂</div>"
   ]
  },
  {
   "cell_type": "markdown",
   "id": "b99066ed",
   "metadata": {
    "slideshow": {
     "slide_type": "slide"
    }
   },
   "source": [
    "Create a file named `Makefile` with the following contents:\n",
    "\n",
    "```make\n",
    "TARGET = main\n",
    "\n",
    "all: $(TARGET)\n",
    "\n",
    "$(TARGET): hello_world.o\n",
    "\tg++ -o $(TARGET) hello_world.o\n",
    "    \n",
    "hello_world.o: hello_world.cpp\n",
    "\tg++ -c hello_world.cpp\n",
    "\n",
    "```"
   ]
  },
  {
   "cell_type": "markdown",
   "id": "ec128696",
   "metadata": {
    "slideshow": {
     "slide_type": "fragment"
    }
   },
   "source": [
    "**NOTE** - you **MUST** use *tabs* and not spaces to indent the respective lines. Most modern code editors insert spaces instead of tabs when you click the *TAB* key (a good thing), but `make` explicitly requires tabs."
   ]
  },
  {
   "cell_type": "markdown",
   "id": "b57c393c",
   "metadata": {
    "slideshow": {
     "slide_type": "fragment"
    }
   },
   "source": [
    "Now run the following in the directory containing your `Makefile` and `hello_world.cpp`:\n",
    "\n",
    "```bash\n",
    "make\n",
    "```\n",
    "\n",
    "What happens?"
   ]
  },
  {
   "cell_type": "markdown",
   "id": "1da55958",
   "metadata": {
    "slideshow": {
     "slide_type": "slide"
    }
   },
   "source": [
    "## Homework\n",
    "- Get your development environment ready for action\n",
    "- Write a \"hello world\" program\n",
    "- Write a program that uses arguments\n",
    "- Write a makefile that compiles your program"
   ]
  }
 ],
 "metadata": {
  "celltoolbar": "Slideshow",
  "kernelspec": {
   "display_name": "C++11",
   "language": "C++11",
   "name": "xcpp11"
  },
  "language_info": {
   "codemirror_mode": "text/x-c++src",
   "file_extension": ".cpp",
   "mimetype": "text/x-c++src",
   "name": "c++",
   "version": "11"
  }
 },
 "nbformat": 4,
 "nbformat_minor": 5
}
