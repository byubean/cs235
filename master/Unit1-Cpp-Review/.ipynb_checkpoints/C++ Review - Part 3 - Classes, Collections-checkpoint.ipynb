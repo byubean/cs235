{
 "cells": [
  {
   "cell_type": "markdown",
   "id": "093326e7",
   "metadata": {
    "slideshow": {
     "slide_type": "slide"
    }
   },
   "source": [
    "# C++ Review - Part 3 - Classes, Collections"
   ]
  },
  {
   "cell_type": "markdown",
   "id": "4642da9c",
   "metadata": {
    "slideshow": {
     "slide_type": "slide"
    }
   },
   "source": [
    "## Classes"
   ]
  },
  {
   "cell_type": "markdown",
   "id": "bd89b378",
   "metadata": {
    "slideshow": {
     "slide_type": "skip"
    }
   },
   "source": [
    "- Represent structured data\n",
    "- Bind data to functions\n",
    "  - Curry example: full arguments, then in a class\n",
    "- Encapsulate mutable state\n",
    "  - State is tricky. Classes give us a mechanism to control how and when state can change, making it easier to reason about our code.\n",
    "  - Example: data structures\n",
    "  \n",
    "Object-oriented vs functional: what matches real life better? Which is easier to reason about?\n",
    "\n",
    "House example in the chapter: what functions make sense to put on the `House` class? Does it make sense to put `accessTaxes` on the `House` class? \n",
    "\n",
    "While the language gives you the ability to use a class in many ways, not all those ways make sense. Learn to identify the patterns that work best. Example: `goto`, `for`, and `while`. "
   ]
  },
  {
   "cell_type": "code",
   "execution_count": 9,
   "id": "58999324",
   "metadata": {
    "slideshow": {
     "slide_type": "fragment"
    }
   },
   "outputs": [],
   "source": [
    "class House {\n",
    "    private:\n",
    "    int sqFootage;\n",
    "    string address;\n",
    "    string zipCode;\n",
    "    public:\n",
    "    House(int sqFootage, string address, string zipCode) : sqFootage(sqFootage), address(address), zipCode(zipCode) {}\n",
    "    \n",
    "    int getSqFootage() const {\n",
    "        return sqFootage;\n",
    "    }\n",
    "    string getAddress() const {\n",
    "        return address;\n",
    "    }\n",
    "    string getZipCode() const {\n",
    "        return zipCode;\n",
    "    }\n",
    "    string str() const {\n",
    "        stringstream ss;\n",
    "        ss << address << \" \" << zipCode << \" \" << sqFootage << \"sqFt\";\n",
    "        return ss.str();\n",
    "    }\n",
    "}"
   ]
  },
  {
   "cell_type": "markdown",
   "id": "1e7ed0b5",
   "metadata": {},
   "source": [
    "What is inside the class `House`?\n",
    "\n",
    "`private` vs `public`?\n",
    "\n",
    "What is a constructor?\n",
    "\n",
    "What does `const` mean? Why are the \"getters\" `const`?\n",
    "\n",
    "What is a common file structure for C++ classes? What typically goes in a `.h` file? What about a `.cpp` file?"
   ]
  },
  {
   "cell_type": "markdown",
   "id": "96d6a8fd",
   "metadata": {
    "slideshow": {
     "slide_type": "slide"
    }
   },
   "source": [
    "<div class=\"big center\">🏠</div>"
   ]
  },
  {
   "cell_type": "markdown",
   "id": "bdea267e",
   "metadata": {},
   "source": [
    "Scope resolution operation.\n",
    "\n",
    "`this` pointer\n",
    "\n",
    "Assignment statements vs initializers.\n",
    "\n",
    "Setters\n",
    "\n"
   ]
  },
  {
   "cell_type": "markdown",
   "id": "b368c9fc",
   "metadata": {
    "slideshow": {
     "slide_type": "slide"
    }
   },
   "source": [
    "####  `house.h`\n",
    "\n",
    "```c++\n",
    "#include <string>\n",
    "using namespace std;\n",
    "\n",
    "class House {\n",
    "    private:\n",
    "    int sqFootage;\n",
    "    string address;\n",
    "    string zipCode;\n",
    "    public:\n",
    "    House(int, string, string);\n",
    "    int getSqFootage() const;\n",
    "    string getAddress() const;\n",
    "    string getZipCode() const;\n",
    "    string str() const;\n",
    "};\n",
    "```"
   ]
  },
  {
   "cell_type": "markdown",
   "id": "5b1d09e5",
   "metadata": {
    "slideshow": {
     "slide_type": "slide"
    }
   },
   "source": [
    "#### `house.cpp`\n",
    "```c++\n",
    "#include <iostream>\n",
    "#include <sstream>\n",
    "\n",
    "#include \"house.h\"\n",
    "\n",
    "using namespace std;\n",
    "\n",
    "House::House(int sqFootage, string address, string zipCode) \n",
    "    : sqFootage(sqFootage), address(address), zipCode(zipCode) \n",
    "    {\n",
    "        // Nothing needed here\n",
    "    }\n",
    "    \n",
    "int House::getSqFootage() const {\n",
    "    return sqFootage;\n",
    "}\n",
    "string House::getAddress() const {\n",
    "    return address;\n",
    "}\n",
    "string House::getZipCode() const {\n",
    "    return zipCode;\n",
    "}\n",
    "string House::str() const {\n",
    "    stringstream ss;\n",
    "    ss << address << \" \" << zipCode << \" \" << sqFootage << \"sqFt\";\n",
    "    return ss.str();\n",
    "}\n",
    "\n",
    "int main() {\n",
    "    House h1 = House(700, \"123 St\", \"12345\");\n",
    "    cout << h1.str() << endl;\n",
    "}\n",
    "```"
   ]
  },
  {
   "cell_type": "markdown",
   "id": "738d6a2b",
   "metadata": {
    "slideshow": {
     "slide_type": "slide"
    }
   },
   "source": [
    "What happens when you include `house.h` twice?"
   ]
  },
  {
   "cell_type": "markdown",
   "id": "4a4cf916",
   "metadata": {
    "slideshow": {
     "slide_type": "fragment"
    }
   },
   "source": [
    "<div class=\"big center\">🏚</div>"
   ]
  },
  {
   "cell_type": "markdown",
   "id": "4df13ce5",
   "metadata": {
    "slideshow": {
     "slide_type": "fragment"
    }
   },
   "source": [
    "What can you do to fix it?"
   ]
  },
  {
   "cell_type": "markdown",
   "id": "4dd8b9e2",
   "metadata": {
    "slideshow": {
     "slide_type": "slide"
    }
   },
   "source": [
    "Why not:\n",
    "```c++\n",
    "class House {\n",
    "    public:\n",
    "    int sqFootage;\n",
    "    string address;\n",
    "    string zipCode;\n",
    "}\n",
    "```"
   ]
  },
  {
   "cell_type": "markdown",
   "id": "bc7e1b6e",
   "metadata": {
    "slideshow": {
     "slide_type": "slide"
    }
   },
   "source": [
    "### Structured Data"
   ]
  },
  {
   "cell_type": "markdown",
   "id": "cf087ed4",
   "metadata": {
    "slideshow": {
     "slide_type": "slide"
    }
   },
   "source": [
    "### Structured behavior"
   ]
  },
  {
   "cell_type": "code",
   "execution_count": 20,
   "id": "1a12bdb6",
   "metadata": {
    "slideshow": {
     "slide_type": "slide"
    }
   },
   "outputs": [],
   "source": [
    "#include <set>"
   ]
  },
  {
   "cell_type": "code",
   "execution_count": 21,
   "id": "004e869b",
   "metadata": {},
   "outputs": [],
   "source": [
    "float accessTaxes(House const& house, set<string> freeZipCodes) {\n",
    "    // Is the house zip code included in the free zip codes?\n",
    "    if (freeZipCodes.find(house.getZipCode()) != freeZipCodes.end()) {\n",
    "        // This zip code doesn't pay taxes\n",
    "        return 0.0;\n",
    "    } else {\n",
    "        // This zip code does\n",
    "        return 0.08 * house.getSqFootage();\n",
    "    }\n",
    "}"
   ]
  },
  {
   "cell_type": "markdown",
   "id": "df56e29f",
   "metadata": {
    "slideshow": {
     "slide_type": "fragment"
    }
   },
   "source": [
    "Why **`const&`** in `House const& house`?"
   ]
  },
  {
   "cell_type": "markdown",
   "id": "8ef4a9b6",
   "metadata": {
    "slideshow": {
     "slide_type": "fragment"
    }
   },
   "source": [
    "What abstraction does this function represent? What are the rules that this abstractions implies?"
   ]
  },
  {
   "cell_type": "markdown",
   "id": "d047cdb2",
   "metadata": {
    "slideshow": {
     "slide_type": "fragment"
    }
   },
   "source": [
    "Should the return value be dependent on the input? "
   ]
  },
  {
   "cell_type": "markdown",
   "id": "c9e9d6d2",
   "metadata": {
    "slideshow": {
     "slide_type": "fragment"
    }
   },
   "source": [
    "Should a `house` change when you assess taxes on it?"
   ]
  },
  {
   "cell_type": "markdown",
   "id": "7ff9092e",
   "metadata": {
    "slideshow": {
     "slide_type": "fragment"
    }
   },
   "source": [
    "Should the set of free zip codes change when you assess taxes on a house?"
   ]
  },
  {
   "cell_type": "markdown",
   "id": "de983e2d",
   "metadata": {
    "slideshow": {
     "slide_type": "fragment"
    }
   },
   "source": [
    "How can we make our function more true to the previous assertion?"
   ]
  },
  {
   "cell_type": "markdown",
   "id": "7787d1f2",
   "metadata": {
    "slideshow": {
     "slide_type": "slide"
    }
   },
   "source": [
    "Let's assess taxes on some houses. The concept of \"assessing taxes\" is an abstraction. What assumptions do we have about that abstraction?"
   ]
  },
  {
   "cell_type": "code",
   "execution_count": 15,
   "id": "71109e9a",
   "metadata": {
    "slideshow": {
     "slide_type": "slide"
    }
   },
   "outputs": [],
   "source": [
    "auto h1 = House(700, \"street 1\", \"12345\");\n",
    "auto h2 = House(4000, \"street 2\", \"54321\");"
   ]
  },
  {
   "cell_type": "code",
   "execution_count": 22,
   "id": "defc7317",
   "metadata": {
    "slideshow": {
     "slide_type": "fragment"
    }
   },
   "outputs": [],
   "source": [
    "set<string> freeCodes;\n",
    "freeCodes.insert(\"12345\");"
   ]
  },
  {
   "cell_type": "code",
   "execution_count": 23,
   "id": "eb230459",
   "metadata": {},
   "outputs": [
    {
     "data": {
      "text/plain": [
       "0.00000f"
      ]
     },
     "execution_count": 23,
     "metadata": {},
     "output_type": "execute_result"
    }
   ],
   "source": [
    "accessTaxes(h1, freeCodes)"
   ]
  },
  {
   "cell_type": "code",
   "execution_count": 24,
   "id": "26c3a01f",
   "metadata": {},
   "outputs": [
    {
     "data": {
      "text/plain": [
       "320.000f"
      ]
     },
     "execution_count": 24,
     "metadata": {},
     "output_type": "execute_result"
    }
   ],
   "source": [
    "accessTaxes(h2, freeCodes)"
   ]
  },
  {
   "cell_type": "markdown",
   "id": "38432855",
   "metadata": {
    "slideshow": {
     "slide_type": "fragment"
    }
   },
   "source": [
    "Is there anything in the code that guarantees that `h1` and `h2` are assessed using the same zip code rules?"
   ]
  },
  {
   "cell_type": "code",
   "execution_count": null,
   "id": "cf04ff7a",
   "metadata": {
    "slideshow": {
     "slide_type": "slide"
    }
   },
   "outputs": [],
   "source": [
    "class TaxAssessor {\n",
    "    private:\n",
    "    set<string> freeZipCodes;\n",
    "    public:\n",
    "    TaxAssessor(set<string> freeZipCodes): freeZipCodes(freeZipCodes) {}\n",
    "    \n",
    "    float assessTaxes(House const& house) {\n",
    "        // Is the house zip code included in the free zip codes?\n",
    "        if (freeZipCodes.find(house.getZipCode()) != freeZipCodes.end()) {\n",
    "            // This zip code doesn't pay taxes\n",
    "            return 0.0;\n",
    "        } else {\n",
    "            // This zip code does\n",
    "            return 0.08 * house.getSqFootage();\n",
    "        }\n",
    "    }\n",
    "}"
   ]
  },
  {
   "cell_type": "code",
   "execution_count": null,
   "id": "fac2f675",
   "metadata": {
    "slideshow": {
     "slide_type": "slide"
    }
   },
   "outputs": [],
   "source": [
    "TaxAccessor taxAccessor(freeCodes);"
   ]
  },
  {
   "cell_type": "code",
   "execution_count": null,
   "id": "975fcbe8",
   "metadata": {},
   "outputs": [],
   "source": [
    "taxAccessor.accessTaxes(h1)"
   ]
  },
  {
   "cell_type": "code",
   "execution_count": null,
   "id": "324da89c",
   "metadata": {},
   "outputs": [],
   "source": [
    "taxAccessor.accessTaxes(h2)"
   ]
  },
  {
   "cell_type": "markdown",
   "id": "e2c0d121",
   "metadata": {
    "slideshow": {
     "slide_type": "slide"
    }
   },
   "source": [
    "What if we want to change the tax law and see what will happen?"
   ]
  },
  {
   "cell_type": "code",
   "execution_count": null,
   "id": "03e8ee10",
   "metadata": {
    "slideshow": {
     "slide_type": "fragment"
    }
   },
   "outputs": [],
   "source": [
    "set<string> noCodes;\n",
    "TaxAccessor proposedTaxAccessor(noCodes);"
   ]
  },
  {
   "cell_type": "code",
   "execution_count": null,
   "id": "9ec1bf1e",
   "metadata": {},
   "outputs": [],
   "source": [
    "proposedTaxAccessor.accessTaxes(h1)"
   ]
  },
  {
   "cell_type": "code",
   "execution_count": null,
   "id": "70ca9318",
   "metadata": {},
   "outputs": [],
   "source": [
    "proposedTaxAccessor.accessTaxes(h2)"
   ]
  },
  {
   "cell_type": "markdown",
   "id": "ac5bf5b6",
   "metadata": {
    "slideshow": {
     "slide_type": "fragment"
    }
   },
   "source": [
    "The class `TaxAccessor` allows us to predefine a set of common parameters that will be used across invocations of the method."
   ]
  },
  {
   "cell_type": "markdown",
   "id": "63b13d0e",
   "metadata": {},
   "source": [
    "## Polymorphism\n",
    "\n",
    "Polymorphism is about abstractions. It's the concept of defining an interface, or the qualities of an abstraction that are important in your context, and then building your code against that interface. \n",
    "\n",
    "```c++\n",
    "class TaxAssessorInterface {\n",
    "    virtual float assessTaxes(House const&) = 0;\n",
    "};\n",
    "```\n",
    "\n",
    "```c++\n",
    "float computeTotalTaxes(vector<House> const& houses, TaxAssessorInterface const& taxAssessor) {\n",
    "    float total = 0;\n",
    "    for (int i = 0; i < houses.size(); i++) {\n",
    "        total += taxAssessor.assessTaxes(houses[i]);\n",
    "    }\n",
    "    return total;\n",
    "}\n",
    "```\n",
    "\n",
    "The `computeTotalTaxes` class doesn't care how `taxAssessor` is implemented. It just knows that it can call `.assessTaxes()` with a `House` and get the taxes back. That's all it needs to know.\n",
    "\n",
    "The business logic for how to compute a total (e.g. to sum up all values in list) is now *decoupled* from the business logic for how to assess taxes on an individual house. The logic for how to do either task is free to evolve without disturbing the other."
   ]
  },
  {
   "cell_type": "markdown",
   "id": "41de8ee2",
   "metadata": {},
   "source": [
    "**WARNING**: if in order to understand your code, you have to understand the implementation of code in another file, you will suffer.\n",
    "\n",
    "Avoid spreading the implementation of a class across multiple class definitions. Class inheritance in C++ will let you do this, but you shouldn't. \n",
    "\n",
    "> Everything you can do with inheritance can be done with composition, only better.\n",
    "\n",
    "Use class inheritance in C++ as a means to implement polymorphism. Use only stateless abstract classes as base classes. \n",
    "\n",
    "There are exceptions to this principle, and we may see some of them in this class. But your default mode of thinking should be:\n",
    "- How would I solve this problem with composition? -> 90%\n",
    "- *Hmmm* - it seems that maybe object inheritance might work better. Am I sure? -> 5%\n",
    "- How can I make this inheritance as clean as possible? -> 5%"
   ]
  },
  {
   "cell_type": "markdown",
   "id": "2f680e9c",
   "metadata": {
    "slideshow": {
     "slide_type": "slide"
    }
   },
   "source": [
    "## Principles\n",
    "\n",
    "What are the necessary qualities of an abstraction in a given context?\n",
    "\n",
    "Does your implementation manifest those qualities?\n",
    "\n",
    "Does the abstraction and implementation guide you into doing the right thing?\n",
    "\n",
    "**It's possible to use correctly** *vs* **It's impossible to use incorrectly**"
   ]
  },
  {
   "cell_type": "markdown",
   "id": "026dca7a",
   "metadata": {
    "slideshow": {
     "slide_type": "fragment"
    }
   },
   "source": [
    "Classes give you the ability to *bind* data to functions—i.e. to constrain a broad range of behavior into a specific use-case. \n",
    "\n",
    "Classes give you the ability to abstract the complexity of an implementation and present a simple interface. "
   ]
  },
  {
   "cell_type": "markdown",
   "id": "694b7eca",
   "metadata": {
    "slideshow": {
     "slide_type": "slide"
    }
   },
   "source": [
    "## Encapsulation of mutable data (i.e. data structure)\n",
    "State is gold. Don't mess it up.\n",
    "\n",
    "We need ways of modifying and accessing the state of our program. \n",
    "\n",
    "Rules and patterns around how the state is modified and accessed provides sanity and security in a program.\n",
    "\n",
    "Bank account: what rules apply to the state of your account?\n",
    "\n",
    "House taxes: what if the set of zip codes could change in between invocations on `h1` and `h2`? Does that violate an assumption you relied on?"
   ]
  },
  {
   "cell_type": "markdown",
   "id": "929d8e00",
   "metadata": {
    "slideshow": {
     "slide_type": "fragment"
    }
   },
   "source": [
    "We write classes to carefully protect the data of our programs. \n",
    "\n",
    "These classes ensure that our code interacts with the state in the right ways, preserving the abstractions we have created around our state."
   ]
  },
  {
   "cell_type": "markdown",
   "id": "e4edce3f",
   "metadata": {
    "slideshow": {
     "slide_type": "slide"
    }
   },
   "source": [
    "### If you have a collection of items..."
   ]
  },
  {
   "cell_type": "markdown",
   "id": "595c7b95",
   "metadata": {
    "slideshow": {
     "slide_type": "fragment"
    }
   },
   "source": [
    "If you have a collection of items, can you add another item to the collection?"
   ]
  },
  {
   "cell_type": "markdown",
   "id": "f6d2498b",
   "metadata": {
    "slideshow": {
     "slide_type": "fragment"
    }
   },
   "source": [
    "If you have a collection of items, should it take longer to add the second item than it did to add the first?"
   ]
  },
  {
   "cell_type": "markdown",
   "id": "265b4ede",
   "metadata": {
    "slideshow": {
     "slide_type": "fragment"
    }
   },
   "source": [
    "If you have a collection of items, will the same item be present multiple times?"
   ]
  },
  {
   "cell_type": "markdown",
   "id": "43df3d91",
   "metadata": {
    "slideshow": {
     "slide_type": "fragment"
    }
   },
   "source": [
    "If you have a collection of items, can you tell whether a given item is present? "
   ]
  },
  {
   "cell_type": "markdown",
   "id": "46dd8435",
   "metadata": {
    "slideshow": {
     "slide_type": "fragment"
    }
   },
   "source": [
    "If you have a collection of items, are the items ordered? Does the order depend on how the items were included? Does the order depend on the properties of the items?"
   ]
  },
  {
   "cell_type": "markdown",
   "id": "2dd6bdeb",
   "metadata": {
    "slideshow": {
     "slide_type": "fragment"
    }
   },
   "source": [
    "If you have a collection of items, how do you retrieve an item in the collection?"
   ]
  },
  {
   "cell_type": "code",
   "execution_count": null,
   "id": "5eb147ed",
   "metadata": {},
   "outputs": [],
   "source": []
  }
 ],
 "metadata": {
  "celltoolbar": "Slideshow",
  "kernelspec": {
   "display_name": "C++11",
   "language": "C++11",
   "name": "xcpp11"
  },
  "language_info": {
   "codemirror_mode": "text/x-c++src",
   "file_extension": ".cpp",
   "mimetype": "text/x-c++src",
   "name": "c++",
   "version": "11"
  },
  "rise": {
   "enable_chalkboard": true,
   "scroll": true
  },
  "toc": {
   "base_numbering": 1,
   "nav_menu": {
    "height": "424px",
    "width": "369px"
   },
   "number_sections": false,
   "sideBar": true,
   "skip_h1_title": false,
   "title_cell": "Table of Contents",
   "title_sidebar": "Contents",
   "toc_cell": true,
   "toc_position": {
    "height": "calc(100% - 180px)",
    "left": "10px",
    "top": "150px",
    "width": "318px"
   },
   "toc_section_display": true,
   "toc_window_display": true
  }
 },
 "nbformat": 4,
 "nbformat_minor": 5
}
