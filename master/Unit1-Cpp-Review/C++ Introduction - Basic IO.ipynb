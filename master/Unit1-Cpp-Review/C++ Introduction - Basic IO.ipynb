{
 "cells": [
  {
   "cell_type": "markdown",
   "id": "f9869291",
   "metadata": {},
   "source": [
    "# C++ Introduction - Basic IO"
   ]
  },
  {
   "cell_type": "markdown",
   "id": "a6d24570",
   "metadata": {
    "slideshow": {
     "slide_type": "slide"
    }
   },
   "source": [
    "## Basic Output\n",
    "\n",
    "Sometimes in my slides I used the archaic `printf` function (for simplicity in demonstrating byte-level details).\n",
    "\n",
    "Typically you will use the **stream** `cout` for printing to STDOUT."
   ]
  },
  {
   "cell_type": "code",
   "execution_count": 1,
   "id": "406cfc53",
   "metadata": {
    "slideshow": {
     "slide_type": "slide"
    }
   },
   "outputs": [],
   "source": [
    "#include <iostream>\n",
    "using namespace std;"
   ]
  },
  {
   "cell_type": "code",
   "execution_count": 4,
   "id": "dfdabc05",
   "metadata": {},
   "outputs": [
    {
     "name": "stdout",
     "output_type": "stream",
     "text": [
      "hello world!\n"
     ]
    }
   ],
   "source": [
    "cout << \"hello world!\" << endl;"
   ]
  },
  {
   "cell_type": "markdown",
   "id": "d8a946aa",
   "metadata": {},
   "source": [
    "The `<<` is an operator (called the \"leftshift\" operator).\n",
    "\n",
    "When you use it on a **stream**, it passes the thing on the right into the thing on the left. \n",
    "\n",
    "(When you use it on integers, it does something **VERY** different.) "
   ]
  },
  {
   "cell_type": "markdown",
   "id": "cc216d4d",
   "metadata": {
    "slideshow": {
     "slide_type": "slide"
    }
   },
   "source": [
    "### Formating with streams\n",
    "\n",
    "If you want to control how things are printed in a stream, use the formatting functions."
   ]
  },
  {
   "cell_type": "code",
   "execution_count": 5,
   "id": "56e181a8",
   "metadata": {},
   "outputs": [],
   "source": [
    "#include <iomanip>\n",
    "using namespace std;"
   ]
  },
  {
   "cell_type": "code",
   "execution_count": 6,
   "id": "288c6bd4",
   "metadata": {},
   "outputs": [
    {
     "name": "stdout",
     "output_type": "stream",
     "text": [
      "3.14159\n",
      "3.142\n"
     ]
    }
   ],
   "source": [
    "double foo = 3.14159265;\n",
    "cout << foo << endl;\n",
    "\n",
    "cout << fixed;\n",
    "cout << setprecision(3);\n",
    "cout << foo << endl;"
   ]
  },
  {
   "cell_type": "code",
   "execution_count": 7,
   "id": "38e9c9a6",
   "metadata": {
    "slideshow": {
     "slide_type": "slide"
    }
   },
   "outputs": [
    {
     "name": "stdout",
     "output_type": "stream",
     "text": [
      "1\n",
      "true\n",
      "1\n"
     ]
    }
   ],
   "source": [
    "bool yes = true;\n",
    "cout << yes << endl;\n",
    "\n",
    "cout << boolalpha << yes << endl << noboolalpha << yes << endl;"
   ]
  },
  {
   "cell_type": "code",
   "execution_count": 130,
   "id": "b1da4d3c",
   "metadata": {
    "slideshow": {
     "slide_type": "slide"
    }
   },
   "outputs": [
    {
     "name": "stdout",
     "output_type": "stream",
     "text": [
      "3\n",
      "----3\n",
      "3\n",
      "3----\n"
     ]
    }
   ],
   "source": [
    "int foo = 3;\n",
    "\n",
    "cout << foo << endl;\n",
    "cout << setw(5) << setfill('-') << foo << endl;\n",
    "\n",
    "cout << foo << endl;\n",
    "cout << setw(5) << setfill('-') << left << foo << endl;\n"
   ]
  },
  {
   "cell_type": "code",
   "execution_count": 8,
   "id": "d0af7480",
   "metadata": {
    "slideshow": {
     "slide_type": "slide"
    }
   },
   "outputs": [
    {
     "name": "stdout",
     "output_type": "stream",
     "text": [
      "78\n"
     ]
    }
   ],
   "source": [
    "cout << 7 << flush;\n",
    "cout << 8 << endl;"
   ]
  },
  {
   "cell_type": "markdown",
   "id": "aee8e0aa",
   "metadata": {
    "slideshow": {
     "slide_type": "slide"
    }
   },
   "source": [
    "## Reading input"
   ]
  },
  {
   "cell_type": "markdown",
   "id": "57ed3997",
   "metadata": {},
   "source": [
    "In Python you use the `input` function which always returns a string.\n",
    "\n",
    "In C++, you use the `cin` stream (using `#include <iostream>`)."
   ]
  },
  {
   "cell_type": "code",
   "execution_count": 137,
   "id": "415c99f3",
   "metadata": {
    "slideshow": {
     "slide_type": "slide"
    }
   },
   "outputs": [],
   "source": [
    "#include <iostream>\n",
    "#include <string>\n",
    "using namespace std;"
   ]
  },
  {
   "cell_type": "code",
   "execution_count": 138,
   "id": "e0b49578",
   "metadata": {},
   "outputs": [
    {
     "name": "stdout",
     "output_type": "stream",
     "text": [
      "7\n",
      "word\n",
      "3.5\n"
     ]
    }
   ],
   "source": [
    "int foo;\n",
    "string bar;\n",
    "double baz;\n",
    "\n",
    "cin >> foo >> bar >> baz;"
   ]
  },
  {
   "cell_type": "code",
   "execution_count": 139,
   "id": "89fd5a07",
   "metadata": {},
   "outputs": [
    {
     "name": "stdout",
     "output_type": "stream",
     "text": [
      "7\n",
      "word\n",
      "3.500\n"
     ]
    }
   ],
   "source": [
    "cout << foo << endl << bar << endl << baz << endl;"
   ]
  },
  {
   "cell_type": "code",
   "execution_count": 140,
   "id": "1a0f37ee",
   "metadata": {
    "slideshow": {
     "slide_type": "slide"
    }
   },
   "outputs": [
    {
     "name": "stdout",
     "output_type": "stream",
     "text": [
      "word\n"
     ]
    }
   ],
   "source": [
    "int foo;\n",
    "string bar;\n",
    "double baz;\n",
    "\n",
    "cin >> foo >> bar >> baz;"
   ]
  },
  {
   "cell_type": "code",
   "execution_count": 141,
   "id": "7340d803",
   "metadata": {},
   "outputs": [
    {
     "name": "stdout",
     "output_type": "stream",
     "text": [
      "0\n",
      "\n",
      "0.000\n"
     ]
    }
   ],
   "source": [
    "cout << foo << endl << bar << endl << baz << endl;"
   ]
  },
  {
   "cell_type": "markdown",
   "id": "e6a7b973",
   "metadata": {
    "slideshow": {
     "slide_type": "slide"
    }
   },
   "source": [
    "If the `>>` operator fails, it returns `false` and stops.\n",
    "\n",
    "So you have to do your own error checking."
   ]
  },
  {
   "cell_type": "code",
   "execution_count": 143,
   "id": "6c4a0c33",
   "metadata": {
    "slideshow": {
     "slide_type": "fragment"
    }
   },
   "outputs": [
    {
     "name": "stdout",
     "output_type": "stream",
     "text": [
      "7\n",
      "foo: 7\n"
     ]
    }
   ],
   "source": [
    "int foo;\n",
    "if (cin >> foo) {\n",
    "    cout << \"foo: \" << foo << endl;\n",
    "} else {\n",
    "    cerr << \"You did not give me a number!\" << endl;\n",
    "}"
   ]
  },
  {
   "cell_type": "code",
   "execution_count": 144,
   "id": "6cc7945e",
   "metadata": {
    "slideshow": {
     "slide_type": "slide"
    }
   },
   "outputs": [
    {
     "name": "stdout",
     "output_type": "stream",
     "text": [
      "This is a bunch of stuff 7 8 true 1.5!\n",
      "The line: This is a bunch of stuff 7 8 true 1.5! (with extra commentary)\n"
     ]
    }
   ],
   "source": [
    "string line;\n",
    "getline(cin, line);\n",
    "\n",
    "cout << \"The line: \" << line << \" (with extra commentary)\" << endl;"
   ]
  },
  {
   "cell_type": "markdown",
   "id": "e0a2708d",
   "metadata": {
    "slideshow": {
     "slide_type": "slide"
    }
   },
   "source": [
    "## Key Ideas\n",
    "\n",
    "- `cout` instead of `print`\n",
    "- formatting output with stream modifiers\n",
    "- `cin` and `getline`"
   ]
  }
 ],
 "metadata": {
  "celltoolbar": "Slideshow",
  "kernelspec": {
   "display_name": "C++14",
   "language": "C++14",
   "name": "xcpp14"
  },
  "language_info": {
   "codemirror_mode": "text/x-c++src",
   "file_extension": ".cpp",
   "mimetype": "text/x-c++src",
   "name": "c++",
   "version": "14"
  }
 },
 "nbformat": 4,
 "nbformat_minor": 5
}
