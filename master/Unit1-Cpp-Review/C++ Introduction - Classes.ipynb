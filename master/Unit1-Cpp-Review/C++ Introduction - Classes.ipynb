{
 "cells": [
  {
   "cell_type": "markdown",
   "id": "964c36ec",
   "metadata": {
    "slideshow": {
     "slide_type": "slide"
    }
   },
   "source": [
    "# C++ Introduction - Classes"
   ]
  },
  {
   "cell_type": "code",
   "execution_count": 1,
   "id": "14012765",
   "metadata": {
    "slideshow": {
     "slide_type": "slide"
    }
   },
   "outputs": [],
   "source": [
    "#include <string>\n",
    "#include <iostream>\n",
    "#include <sstream>\n",
    "using namespace std;"
   ]
  },
  {
   "cell_type": "markdown",
   "id": "a8f25441",
   "metadata": {
    "slideshow": {
     "slide_type": "slide"
    }
   },
   "source": [
    "## Defining Classes\n",
    "\n",
    "- syntax\n",
    "- public and private"
   ]
  },
  {
   "cell_type": "code",
   "execution_count": 2,
   "id": "42d407a0",
   "metadata": {},
   "outputs": [],
   "source": [
    "class Book {\n",
    "    private:\n",
    "    string title;\n",
    "    string author;\n",
    "    int year;\n",
    "    \n",
    "    public:\n",
    "    Book(string title, string author, int year) : title(title), author(author), year(year) {}\n",
    "    \n",
    "    inline string getTitle() { return this->title; }\n",
    "    inline string getAuthor() { return this->author; }\n",
    "    inline int getYear() { return this->year; }\n",
    "    \n",
    "    string str() {\n",
    "        stringstream ss;\n",
    "        ss << this->title << \" by \" << this->author << \" (\" << this->year << \")\";\n",
    "        return ss.str();\n",
    "    }\n",
    "}"
   ]
  },
  {
   "cell_type": "code",
   "execution_count": 3,
   "id": "948705ad",
   "metadata": {},
   "outputs": [
    {
     "data": {
      "text/plain": [
       "\"The Hobbit by JRR Tolkien (1937)\""
      ]
     },
     "execution_count": 3,
     "metadata": {},
     "output_type": "execute_result"
    }
   ],
   "source": [
    "Book book1(\"The Hobbit\", \"JRR Tolkien\", 1937);\n",
    "book1.str()"
   ]
  },
  {
   "cell_type": "markdown",
   "id": "dc5cb020",
   "metadata": {},
   "source": [
    "<div class='centered big'>😵</div>"
   ]
  },
  {
   "cell_type": "code",
   "execution_count": 4,
   "id": "0233bdbb",
   "metadata": {
    "slideshow": {
     "slide_type": "slide"
    }
   },
   "outputs": [],
   "source": [
    "class Counter {\n",
    "    private:\n",
    "    int count;\n",
    "    \n",
    "    public:\n",
    "    void increment() {\n",
    "        this->count++;\n",
    "    }\n",
    "    void decrement() {\n",
    "        this->count--;\n",
    "    }\n",
    "    int getCount() {\n",
    "        return this->count;\n",
    "    }\n",
    "}"
   ]
  },
  {
   "cell_type": "code",
   "execution_count": 5,
   "id": "f7a9185c",
   "metadata": {},
   "outputs": [
    {
     "name": "stdout",
     "output_type": "stream",
     "text": [
      "2\n"
     ]
    }
   ],
   "source": [
    "Counter counter;\n",
    "counter.increment();\n",
    "counter.increment();\n",
    "counter.increment();\n",
    "counter.decrement();\n",
    "counter.increment();\n",
    "counter.decrement();\n",
    "\n",
    "cout << counter.getCount() << endl;"
   ]
  },
  {
   "cell_type": "markdown",
   "id": "201ba349",
   "metadata": {
    "slideshow": {
     "slide_type": "slide"
    }
   },
   "source": [
    "`.` is the **member access operator** in C++ (just like in Python)"
   ]
  },
  {
   "cell_type": "code",
   "execution_count": 6,
   "id": "0a291ba7",
   "metadata": {
    "slideshow": {
     "slide_type": "slide"
    }
   },
   "outputs": [
    {
     "data": {
      "text/plain": [
       "1"
      ]
     },
     "execution_count": 6,
     "metadata": {},
     "output_type": "execute_result"
    }
   ],
   "source": [
    "Counter* counter = new Counter();\n",
    "(*counter).increment();\n",
    "(*counter).getCount()"
   ]
  },
  {
   "cell_type": "code",
   "execution_count": 7,
   "id": "362857f8",
   "metadata": {
    "slideshow": {
     "slide_type": "fragment"
    }
   },
   "outputs": [
    {
     "data": {
      "text/plain": [
       "1"
      ]
     },
     "execution_count": 7,
     "metadata": {},
     "output_type": "execute_result"
    }
   ],
   "source": [
    "Counter* counter = new Counter();\n",
    "counter->increment();\n",
    "counter->getCount()"
   ]
  },
  {
   "cell_type": "markdown",
   "id": "98cbf6d8",
   "metadata": {},
   "source": [
    "The **pointer member access operator** `->` is like the **member access operator** `.`, but for pointers."
   ]
  },
  {
   "cell_type": "markdown",
   "id": "8c97e18b",
   "metadata": {
    "slideshow": {
     "slide_type": "slide"
    }
   },
   "source": [
    "### `this`"
   ]
  },
  {
   "cell_type": "markdown",
   "id": "31f3683f",
   "metadata": {
    "slideshow": {
     "slide_type": "slide"
    }
   },
   "source": [
    "```c++\n",
    "class Counter {\n",
    "    private:\n",
    "    int count;\n",
    "    \n",
    "    public:\n",
    "    void increment() {\n",
    "        this->count++;\n",
    "    }\n",
    "    void decrement() {\n",
    "        this->count--;\n",
    "    }\n",
    "    int getCount() {\n",
    "        return this->count;\n",
    "    }\n",
    "}\n",
    "```\n",
    "\n",
    "`this` is a pointer to the object. The compiler provides it for you.\n",
    "\n",
    "It is very similar to `self` in Python, except you don't need to declare it in your method signatures. It's always available."
   ]
  },
  {
   "cell_type": "markdown",
   "id": "7ad1e04b",
   "metadata": {
    "slideshow": {
     "slide_type": "slide"
    }
   },
   "source": [
    "### `public` and `private`"
   ]
  },
  {
   "cell_type": "markdown",
   "id": "a535f41b",
   "metadata": {
    "slideshow": {
     "slide_type": "slide"
    }
   },
   "source": [
    "In Python, the mechanism of **encapsulation** is not enforced. Anyone, from anywhere, can access and modify an object's state.\n",
    "\n",
    "In C++ (and many, many other languages) a class can declare what parts of it are accessible to the outside."
   ]
  },
  {
   "cell_type": "code",
   "execution_count": 8,
   "id": "67cc011b",
   "metadata": {
    "slideshow": {
     "slide_type": "slide"
    }
   },
   "outputs": [],
   "source": [
    "class HasAnInt {\n",
    "    public:\n",
    "    int theInt;\n",
    "}"
   ]
  },
  {
   "cell_type": "code",
   "execution_count": 9,
   "id": "5dcb24f0",
   "metadata": {},
   "outputs": [
    {
     "name": "stdout",
     "output_type": "stream",
     "text": [
      "7\n"
     ]
    }
   ],
   "source": [
    "HasAnInt hasOne;\n",
    "hasOne.theInt = 7;\n",
    "cout << hasOne.theInt << endl;"
   ]
  },
  {
   "cell_type": "code",
   "execution_count": 10,
   "id": "2ac07a69",
   "metadata": {
    "slideshow": {
     "slide_type": "slide"
    }
   },
   "outputs": [],
   "source": [
    "class HasADouble {\n",
    "    private:\n",
    "    double cantTouchThis;\n",
    "}"
   ]
  },
  {
   "cell_type": "code",
   "execution_count": 11,
   "id": "4d6b291c",
   "metadata": {},
   "outputs": [
    {
     "name": "stderr",
     "output_type": "stream",
     "text": [
      "input_line_24:3:11: error: 'cantTouchThis' is a private member of '__cling_N513::HasADouble'\n",
      "hasDouble.cantTouchThis = 3.14;\n",
      "          ^\n",
      "input_line_23:3:12: note: declared private here\n",
      "    double cantTouchThis;\n",
      "           ^\n",
      "input_line_24:4:28: error: 'cantTouchThis' is a private member of '__cling_N513::HasADouble'\n",
      "double another = hasDouble.cantTouchThis + 7;\n",
      "                           ^\n",
      "input_line_23:3:12: note: declared private here\n",
      "    double cantTouchThis;\n",
      "           ^\n"
     ]
    },
    {
     "ename": "Interpreter Error",
     "evalue": "",
     "output_type": "error",
     "traceback": [
      "Interpreter Error: "
     ]
    }
   ],
   "source": [
    "HasADouble hasDouble;\n",
    "hasDouble.cantTouchThis = 3.14;\n",
    "\n",
    "double another = hasDouble.cantTouchThis + 7;"
   ]
  },
  {
   "cell_type": "code",
   "execution_count": 20,
   "id": "8267a472",
   "metadata": {
    "slideshow": {
     "slide_type": "slide"
    }
   },
   "outputs": [],
   "source": [
    "class HasADouble2 {\n",
    "    private:\n",
    "    double cantTouchThis;\n",
    "    \n",
    "    public:\n",
    "    double getDouble() const {\n",
    "        return this->cantTouchThis;\n",
    "    }\n",
    "}"
   ]
  },
  {
   "cell_type": "code",
   "execution_count": 15,
   "id": "65accd95",
   "metadata": {},
   "outputs": [
    {
     "name": "stdout",
     "output_type": "stream",
     "text": [
      "0\n"
     ]
    }
   ],
   "source": [
    "HasADouble2 hasDouble;\n",
    "//hasDouble.cantTouchThis = 3.14;\n",
    "cout << hasDouble.getDouble() << endl;"
   ]
  },
  {
   "cell_type": "markdown",
   "id": "bfc6b7bf",
   "metadata": {
    "slideshow": {
     "slide_type": "slide"
    }
   },
   "source": [
    "Having `const` at the end of a function signature means the function can't change anything in the class."
   ]
  },
  {
   "cell_type": "markdown",
   "id": "4191ed57",
   "metadata": {
    "slideshow": {
     "slide_type": "slide"
    }
   },
   "source": [
    "A pattern you will often see (especially in C++), is to make member variables private, but then provide **setter** methods to access them."
   ]
  },
  {
   "cell_type": "code",
   "execution_count": 18,
   "id": "e14ba1bd",
   "metadata": {
    "slideshow": {
     "slide_type": "slide"
    }
   },
   "outputs": [],
   "source": [
    "class HasADouble3 {\n",
    "    private:\n",
    "    double cantTouchThis;\n",
    "    \n",
    "    public:\n",
    "    void setDouble(double const& value) {\n",
    "        this->cantTouchThis = value;\n",
    "    }\n",
    "    double getDouble() const {\n",
    "        return this->cantTouchThis;\n",
    "    }\n",
    "}"
   ]
  },
  {
   "cell_type": "code",
   "execution_count": 19,
   "id": "366e1095",
   "metadata": {},
   "outputs": [
    {
     "name": "stdout",
     "output_type": "stream",
     "text": [
      "3.14\n"
     ]
    }
   ],
   "source": [
    "HasADouble3 hasDouble;\n",
    "hasDouble.setDouble(3.14);\n",
    "cout << hasDouble.getDouble() << endl;"
   ]
  },
  {
   "cell_type": "markdown",
   "id": "949e9417",
   "metadata": {
    "slideshow": {
     "slide_type": "slide"
    }
   },
   "source": [
    "But if you're going to make setter and getter methods, why not make the variable public?"
   ]
  },
  {
   "cell_type": "markdown",
   "id": "91e3517b",
   "metadata": {
    "slideshow": {
     "slide_type": "slide"
    }
   },
   "source": [
    "So instead, avoid setter methods and instantiate everything in the constructor."
   ]
  },
  {
   "cell_type": "markdown",
   "id": "e5f08406",
   "metadata": {
    "slideshow": {
     "slide_type": "slide"
    }
   },
   "source": [
    "When you instantiate a class, the compiler calls the class constructor.\n",
    "\n",
    "The **constructor** is very similar to the **`__init__`** method in python.\n",
    "\n",
    "The constructor is *always* named after the class name (required by compiler). \n",
    "\n",
    "If you don't specify a constructor in your class declaration, C++ makes one for you.\n",
    "\n",
    "The *default constructor* is a no-argument, no-logic method. E.g.:\n",
    "\n",
    "```\n",
    "Counter() {}\n",
    "```"
   ]
  },
  {
   "cell_type": "markdown",
   "id": "a00d22dd",
   "metadata": {
    "slideshow": {
     "slide_type": "slide"
    }
   },
   "source": [
    "The constructor's job is to make sure all the member variables of the class are initialized correctly."
   ]
  },
  {
   "cell_type": "code",
   "execution_count": 22,
   "id": "da5c212f",
   "metadata": {
    "slideshow": {
     "slide_type": "slide"
    }
   },
   "outputs": [],
   "source": [
    "class HasADouble4 {\n",
    "    private:\n",
    "    double cantTouchThis;\n",
    "    \n",
    "    public:\n",
    "    HasADouble4(double const& value) {  // Constructor\n",
    "        this->cantTouchThis = value;\n",
    "    }\n",
    "    \n",
    "    double getDouble() const {\n",
    "        return this->cantTouchThis;\n",
    "    }\n",
    "}"
   ]
  },
  {
   "cell_type": "code",
   "execution_count": 23,
   "id": "74e3cf6d",
   "metadata": {},
   "outputs": [
    {
     "name": "stdout",
     "output_type": "stream",
     "text": [
      "3.14\n"
     ]
    }
   ],
   "source": [
    "HasADouble4 hasDouble(3.14);\n",
    "cout << hasDouble.getDouble() << endl;"
   ]
  },
  {
   "cell_type": "markdown",
   "id": "0a7ecb81",
   "metadata": {
    "slideshow": {
     "slide_type": "slide"
    }
   },
   "source": [
    "When all the constructor needs to do is assign values, then you should use the **initializer list** instead."
   ]
  },
  {
   "cell_type": "code",
   "execution_count": 25,
   "id": "9ff5c0cb",
   "metadata": {},
   "outputs": [],
   "source": [
    "class HasADouble5 {\n",
    "    private:\n",
    "    double cantTouchThis;\n",
    "    \n",
    "    public:\n",
    "    HasADouble5(double const& value) : cantTouchThis(value) { }\n",
    "    \n",
    "    double getDouble() const {\n",
    "        return this->cantTouchThis;\n",
    "    }\n",
    "}"
   ]
  },
  {
   "cell_type": "markdown",
   "id": "3a7b1714",
   "metadata": {},
   "source": [
    "Use the initializer list to initialize member variables.\n",
    "\n",
    "Put any other necessary logic in the constructor. It's OK for it to be empty."
   ]
  },
  {
   "cell_type": "markdown",
   "id": "4ce1125a",
   "metadata": {
    "slideshow": {
     "slide_type": "slide"
    }
   },
   "source": [
    "Consider the following two blocks of code. \n",
    "\n",
    "Let's assume it is **really** important that the object be initialized with a value before it is used."
   ]
  },
  {
   "cell_type": "code",
   "execution_count": 26,
   "id": "b3305e41",
   "metadata": {
    "slideshow": {
     "slide_type": "slide"
    }
   },
   "outputs": [
    {
     "name": "stdout",
     "output_type": "stream",
     "text": [
      "3.14\n"
     ]
    }
   ],
   "source": [
    "HasADouble3 first;\n",
    "first.setDouble(3.14);\n",
    "cout << first.getDouble() << endl;"
   ]
  },
  {
   "cell_type": "markdown",
   "id": "053f9169",
   "metadata": {
    "slideshow": {
     "slide_type": "fragment"
    }
   },
   "source": [
    "Is it possible to get this example right?\n",
    "\n",
    "I.e. can you make sure that `setDouble` is called before you do anything else?"
   ]
  },
  {
   "cell_type": "markdown",
   "id": "d8d584cb",
   "metadata": {
    "slideshow": {
     "slide_type": "fragment"
    }
   },
   "source": [
    "Can you get it wrong?"
   ]
  },
  {
   "cell_type": "code",
   "execution_count": 28,
   "id": "0c36ef7c",
   "metadata": {
    "slideshow": {
     "slide_type": "slide"
    }
   },
   "outputs": [
    {
     "name": "stdout",
     "output_type": "stream",
     "text": [
      "3.14159\n"
     ]
    }
   ],
   "source": [
    "HasADouble5 second(3.14159);\n",
    "cout << second.getDouble() << endl;"
   ]
  },
  {
   "cell_type": "markdown",
   "id": "41220b93",
   "metadata": {
    "slideshow": {
     "slide_type": "fragment"
    }
   },
   "source": [
    "Is it possible to get this example right?\n",
    "\n",
    "I.e. can you make sure that the object is instantiated correctly?"
   ]
  },
  {
   "cell_type": "markdown",
   "id": "16dba0e0",
   "metadata": {
    "slideshow": {
     "slide_type": "fragment"
    }
   },
   "source": [
    "Can you get it wrong?"
   ]
  },
  {
   "cell_type": "markdown",
   "id": "532a9207",
   "metadata": {
    "slideshow": {
     "slide_type": "slide"
    }
   },
   "source": [
    "<div class='alert alert-info'>The question is not <br/> <i>Can I get it right?</i> <br/> but rather <br/> <b>Is it impossible to get wrong?</b></div>"
   ]
  },
  {
   "cell_type": "markdown",
   "id": "c798b9f0",
   "metadata": {
    "slideshow": {
     "slide_type": "slide"
    }
   },
   "source": [
    "<div class='alert alert-info'>If you write code you can't mess up, you won't mess it up.</div>\n",
    "\n",
    "<div class='big centered'>🧐</div>"
   ]
  },
  {
   "cell_type": "markdown",
   "id": "dc8b81f0",
   "metadata": {
    "slideshow": {
     "slide_type": "slide"
    }
   },
   "source": [
    "### Terms\n",
    "- **mutator**: a method that mutates (changes) class state\n",
    "- **accessor**: a method that returns class state (should typically be declared `const`)\n",
    "- **private helper**: a `private` method (and thus that can only be called within the class)"
   ]
  },
  {
   "cell_type": "markdown",
   "id": "6e703417",
   "metadata": {},
   "source": [
    "## Class Organization\n",
    "\n",
    "- headers and cpp files\n",
    "- #include vs precompiled library code (.o, .so, .dll)\n",
    "- show example!"
   ]
  },
  {
   "cell_type": "markdown",
   "id": "dfd6d71d",
   "metadata": {
    "slideshow": {
     "slide_type": "slide"
    }
   },
   "source": [
    "### `book.h`\n",
    "\n",
    "### `book.cpp`"
   ]
  },
  {
   "cell_type": "markdown",
   "id": "a0a2f697",
   "metadata": {},
   "source": [
    "## Constructor"
   ]
  },
  {
   "cell_type": "markdown",
   "id": "c8ed9c4b",
   "metadata": {},
   "source": [
    "## Types of Constructors\n",
    "\n",
    "- Compiler-provided\n",
    "- Default (no args)\n"
   ]
  },
  {
   "cell_type": "markdown",
   "id": "4f7aceec",
   "metadata": {},
   "source": [
    "## Initializer List"
   ]
  },
  {
   "cell_type": "markdown",
   "id": "f83a0ded",
   "metadata": {},
   "source": [
    "C++ process: allocate memory for the class, then the constructor modifies the values of the class."
   ]
  },
  {
   "cell_type": "markdown",
   "id": "5436892a",
   "metadata": {},
   "source": [
    "## `new` and Classes"
   ]
  },
  {
   "cell_type": "markdown",
   "id": "3ca428a8",
   "metadata": {},
   "source": [
    "## Pointers and Member Access"
   ]
  },
  {
   "cell_type": "markdown",
   "id": "dac5c652",
   "metadata": {},
   "source": [
    "## `this`"
   ]
  },
  {
   "cell_type": "markdown",
   "id": "a88d2df8",
   "metadata": {},
   "source": [
    "## Destructors"
   ]
  },
  {
   "cell_type": "markdown",
   "id": "0363c675",
   "metadata": {},
   "source": [
    "## Copying Objects"
   ]
  },
  {
   "cell_type": "markdown",
   "id": "01786f98",
   "metadata": {},
   "source": [
    "## Shallow Copies"
   ]
  },
  {
   "cell_type": "markdown",
   "id": "368bf4a6",
   "metadata": {},
   "source": [
    "## Deep Copy and the Copy Constructor"
   ]
  },
  {
   "cell_type": "markdown",
   "id": "f5f03515",
   "metadata": {},
   "source": [
    "## Copy Assignment Operator"
   ]
  },
  {
   "cell_type": "markdown",
   "id": "7ee3790c",
   "metadata": {},
   "source": [
    "## Rule of Three"
   ]
  },
  {
   "cell_type": "markdown",
   "id": "f49b7817",
   "metadata": {},
   "source": [
    "## Inheritance"
   ]
  },
  {
   "cell_type": "code",
   "execution_count": null,
   "id": "87f65f3f",
   "metadata": {},
   "outputs": [],
   "source": []
  },
  {
   "cell_type": "markdown",
   "id": "485a7de9",
   "metadata": {},
   "source": [
    "## Inline Functions"
   ]
  }
 ],
 "metadata": {
  "celltoolbar": "Slideshow",
  "kernelspec": {
   "display_name": "C++14",
   "language": "C++14",
   "name": "xcpp14"
  },
  "language_info": {
   "codemirror_mode": "text/x-c++src",
   "file_extension": ".cpp",
   "mimetype": "text/x-c++src",
   "name": "c++",
   "version": "14"
  }
 },
 "nbformat": 4,
 "nbformat_minor": 5
}
