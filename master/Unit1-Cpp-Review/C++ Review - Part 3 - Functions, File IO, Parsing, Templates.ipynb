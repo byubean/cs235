{
 "cells": [
  {
   "cell_type": "markdown",
   "id": "e0c94ddf",
   "metadata": {
    "slideshow": {
     "slide_type": "slide"
    }
   },
   "source": [
    "- 🙏🏻\n",
    "- Linux tip"
   ]
  },
  {
   "cell_type": "markdown",
   "id": "3f13fee3",
   "metadata": {
    "slideshow": {
     "slide_type": "slide"
    }
   },
   "source": [
    "# C++ Review - Functions, File IO, Parsing, Templates"
   ]
  },
  {
   "cell_type": "markdown",
   "id": "ac900311",
   "metadata": {
    "slideshow": {
     "slide_type": "slide"
    }
   },
   "source": [
    "## Functions"
   ]
  },
  {
   "cell_type": "code",
   "execution_count": 1,
   "id": "f9d89c97",
   "metadata": {},
   "outputs": [],
   "source": [
    "#include <string>\n",
    "#include <vector>\n",
    "\n",
    "#include <iostream>\n",
    "#include <fstream>\n",
    "#include <sstream>\n",
    "\n",
    "using namespace std;"
   ]
  },
  {
   "cell_type": "code",
   "execution_count": null,
   "id": "f6c92e62",
   "metadata": {
    "slideshow": {
     "slide_type": "fragment"
    }
   },
   "outputs": [],
   "source": [
    "void print(string message) {\n",
    "    cout << message << endl;\n",
    "}"
   ]
  },
  {
   "cell_type": "code",
   "execution_count": null,
   "id": "a284804c",
   "metadata": {},
   "outputs": [],
   "source": [
    "print(\"hi\")"
   ]
  },
  {
   "cell_type": "code",
   "execution_count": null,
   "id": "e9c80a2c",
   "metadata": {
    "slideshow": {
     "slide_type": "fragment"
    }
   },
   "outputs": [],
   "source": [
    "int add(int a, int b) {\n",
    "    return a + b;\n",
    "}"
   ]
  },
  {
   "cell_type": "code",
   "execution_count": null,
   "id": "2452ef20",
   "metadata": {},
   "outputs": [],
   "source": [
    "add(7, 8)"
   ]
  },
  {
   "cell_type": "markdown",
   "id": "62610c88",
   "metadata": {
    "slideshow": {
     "slide_type": "slide"
    }
   },
   "source": [
    "### Passing arguments\n",
    "When a function is evaluated, the values of the arguments need to be provided to the function code. \n",
    "\n",
    "These values can be passed \"by value\" or \"by reference\". "
   ]
  },
  {
   "cell_type": "code",
   "execution_count": null,
   "id": "388a71ed",
   "metadata": {
    "slideshow": {
     "slide_type": "fragment"
    }
   },
   "outputs": [],
   "source": [
    "int addStuff(int a, int b) {\n",
    "    printf(\"(addStuff) &a: %p, &b: %p\\n\", &a, &b);\n",
    "    return a + b;\n",
    "}"
   ]
  },
  {
   "cell_type": "code",
   "execution_count": null,
   "id": "2548d1c8",
   "metadata": {},
   "outputs": [],
   "source": [
    "addStuff(7, 8)"
   ]
  },
  {
   "cell_type": "code",
   "execution_count": null,
   "id": "966ad2ad",
   "metadata": {},
   "outputs": [],
   "source": [
    "int a(7), b(8); // same as int a = 7; int b = 8;\n",
    "printf(\"(Ouside)   &a: %p, &b: %p\\n\", &a, &b);\n",
    "addStuff(a, b)"
   ]
  },
  {
   "cell_type": "code",
   "execution_count": null,
   "id": "8ed63d80",
   "metadata": {},
   "outputs": [],
   "source": [
    "int addStuffRef(int &a, int &b) {\n",
    "    printf(\"(addStuffRef) &a: %p, &b: %p\\n\", &a, &b);\n",
    "    return a + b;\n",
    "}"
   ]
  },
  {
   "cell_type": "code",
   "execution_count": null,
   "id": "140afeef",
   "metadata": {},
   "outputs": [],
   "source": [
    "int a(7), b(8);\n",
    "printf(\"(Ouside)      &a: %p, &b: %p\\n\", &a, &b);\n",
    "addStuffRef(a, b)"
   ]
  },
  {
   "cell_type": "markdown",
   "id": "69585ba7",
   "metadata": {
    "slideshow": {
     "slide_type": "fragment"
    }
   },
   "source": [
    "What is the difference between `addStuff` and `addStuffRef`?\n",
    "\n",
    "What does it mean to pass things \"by value\"? What about \"by reference\"?"
   ]
  },
  {
   "cell_type": "markdown",
   "id": "b843fa06",
   "metadata": {
    "slideshow": {
     "slide_type": "slide"
    }
   },
   "source": [
    "## File Input/Output (IO)"
   ]
  },
  {
   "cell_type": "code",
   "execution_count": 2,
   "id": "7747e9ee",
   "metadata": {
    "slideshow": {
     "slide_type": "fragment"
    }
   },
   "outputs": [
    {
     "name": "stdout",
     "output_type": "stream",
     "text": [
      "Reading the file ./a-demo-file.txt: \n",
      "Bean 7\n",
      "Smith 54\n",
      "Schwartz 0\n",
      "\n"
     ]
    }
   ],
   "source": [
    "string filename = \"./a-demo-file.txt\";\n",
    "ofstream outFile(filename);\n",
    "string line;\n",
    "if (outFile.is_open()) {\n",
    "    outFile << \"Bean 7\" << endl;\n",
    "    outFile << \"Smith 54\" << endl;\n",
    "    outFile << \"Schwartz 0\" << endl;\n",
    "    outFile.close();\n",
    "    \n",
    "} else {\n",
    "    cout << \"Hmm - we didn't open the file for writing...\" << endl;\n",
    "}\n",
    "\n",
    "ifstream inFile(filename); \n",
    "if (inFile.is_open()) {\n",
    "    cout << \"Reading the file \" << filename << \": \" << endl;\n",
    "    while (!inFile.eof()) {\n",
    "        getline(inFile, line);\n",
    "        cout << line << endl;\n",
    "    }\n",
    "\n",
    "    inFile.close();\n",
    "    \n",
    "} else {\n",
    "    // If the file open didnt work, print out an error\n",
    "    cout << \"Hmm - we didn't open the file for reading...\" << endl;\n",
    "}"
   ]
  },
  {
   "cell_type": "code",
   "execution_count": 3,
   "id": "17ed23a3",
   "metadata": {
    "slideshow": {
     "slide_type": "fragment"
    }
   },
   "outputs": [
    {
     "name": "stdout",
     "output_type": "stream",
     "text": [
      "a-demo-file.txt\n",
      "Bean 7\n",
      "Smith 54\n",
      "Schwartz 0\n"
     ]
    }
   ],
   "source": [
    "! ls a-demo-file.txt && cat a-demo-file.txt"
   ]
  },
  {
   "cell_type": "code",
   "execution_count": 4,
   "id": "927b3484",
   "metadata": {
    "slideshow": {
     "slide_type": "fragment"
    }
   },
   "outputs": [
    {
     "name": "stdout",
     "output_type": "stream",
     "text": [
      "Reading the file ./a-demo-file.txt: \n",
      "Word: Bean; number: 7 number+1: 8\n",
      "Word: Smith; number: 54 number+1: 55\n",
      "Word: Schwartz; number: 0 number+1: 1\n",
      "Bad line: \n"
     ]
    }
   ],
   "source": [
    "ifstream inFile(filename); \n",
    "if (inFile.is_open()) {\n",
    "    cout << \"Reading the file \" << filename << \": \" << endl;\n",
    "    while (!inFile.eof()) {\n",
    "        string line;\n",
    "        getline(inFile, line);\n",
    "        string word;\n",
    "        int number;\n",
    "        stringstream tempstream(line);\n",
    "        if (tempstream >> word >> number) {\n",
    "            cout << \"Word: \" << word << \"; number: \" << number << \" number+1: \" << number +1 << endl;            \n",
    "        } else {\n",
    "            cout << \"Bad line: \" << line << endl;\n",
    "        }\n",
    "    }\n",
    "\n",
    "    inFile.close();\n",
    "    \n",
    "} else {\n",
    "    // If the file open didn't work, print out an error\n",
    "    cout << \"Hmm - we didn't open the file for reading...\" << endl;\n",
    "}"
   ]
  },
  {
   "cell_type": "markdown",
   "id": "34c1e09d",
   "metadata": {},
   "source": [
    "## Read a file of words into a list"
   ]
  },
  {
   "cell_type": "code",
   "execution_count": 5,
   "id": "a9b24f71",
   "metadata": {},
   "outputs": [
    {
     "name": "stdout",
     "output_type": "stream",
     "text": [
      "Overwriting words.txt\n"
     ]
    }
   ],
   "source": [
    "%%file words.txt\n",
    "these\n",
    "are\n",
    "some\n",
    "words"
   ]
  },
  {
   "cell_type": "code",
   "execution_count": 6,
   "id": "7b11c379",
   "metadata": {},
   "outputs": [],
   "source": [
    "ofstream out(\"words.txt\");\n",
    "if (out.is_open()) {\n",
    "    out << \"these\" << endl << \"are\" << endl << \"some\" << endl << \"words\" << endl;\n",
    "    out.close();\n",
    "} else {\n",
    "    cerr << \"Couldn't open file\" << endl;\n",
    "}"
   ]
  },
  {
   "cell_type": "code",
   "execution_count": 7,
   "id": "7d511012",
   "metadata": {},
   "outputs": [
    {
     "name": "stdout",
     "output_type": "stream",
     "text": [
      ">>these<<\n",
      ">>are<<\n",
      ">>some<<\n",
      ">>words<<\n",
      ">><<\n"
     ]
    }
   ],
   "source": [
    "vector<string> words;\n",
    "ifstream in(\"words.txt\");\n",
    "if (in.is_open()) {\n",
    "    while (!in.eof()) {\n",
    "        string line;\n",
    "        getline(in, line);\n",
    "        words.push_back(line);\n",
    "    }\n",
    "    in.close();\n",
    "} else {\n",
    "    cerr << \"Couldn't open file\" << endl;\n",
    "}\n",
    "\n",
    "for (auto it = words.begin(); it!=words.end(); it++) {\n",
    "    cout << \">>\" << *it << \"<<\" << endl;\n",
    "}"
   ]
  },
  {
   "cell_type": "markdown",
   "id": "8ac20a10",
   "metadata": {},
   "source": [
    "Empty line at the end!"
   ]
  },
  {
   "cell_type": "markdown",
   "id": "bf1f06d5",
   "metadata": {},
   "source": [
    "### Sort the words"
   ]
  },
  {
   "cell_type": "code",
   "execution_count": 8,
   "id": "10b8e32e",
   "metadata": {},
   "outputs": [],
   "source": [
    "#include <algorithm>"
   ]
  },
  {
   "cell_type": "code",
   "execution_count": 9,
   "id": "3cbd648f",
   "metadata": {},
   "outputs": [],
   "source": [
    "sort(words.begin(), words.end());"
   ]
  },
  {
   "cell_type": "code",
   "execution_count": 10,
   "id": "8f4bc82c",
   "metadata": {},
   "outputs": [
    {
     "name": "stdout",
     "output_type": "stream",
     "text": [
      ">><<\n",
      ">>are<<\n",
      ">>some<<\n",
      ">>these<<\n",
      ">>words<<\n"
     ]
    }
   ],
   "source": [
    "for (vector<string>::iterator it = words.begin(); it!=words.end(); it++) {\n",
    "    cout << \">>\" << *it << \"<<\" << endl;\n",
    "}"
   ]
  },
  {
   "cell_type": "markdown",
   "id": "5dc04d74",
   "metadata": {},
   "source": [
    "## Templates"
   ]
  },
  {
   "cell_type": "code",
   "execution_count": 2,
   "id": "736d2ccc",
   "metadata": {},
   "outputs": [],
   "source": [
    "void print(string const& word) {\n",
    "    cout << word << endl;\n",
    "}"
   ]
  },
  {
   "cell_type": "code",
   "execution_count": 3,
   "id": "a14c8b54",
   "metadata": {},
   "outputs": [
    {
     "name": "stdout",
     "output_type": "stream",
     "text": [
      "word\n"
     ]
    }
   ],
   "source": [
    "print(\"word\")"
   ]
  },
  {
   "cell_type": "code",
   "execution_count": 4,
   "id": "0e914a31",
   "metadata": {},
   "outputs": [
    {
     "name": "stderr",
     "output_type": "stream",
     "text": [
      "input_line_11:2:2: error: no matching function for call to 'print'\n",
      " print(1)\n",
      " ^~~~~\n",
      "input_line_9:1:6: note: candidate function not viable: no known conversion from 'int' to 'const std::string' (aka 'const basic_string<char>') for 1st argument\n",
      "void print(string const& word) {\n",
      "     ^\n"
     ]
    },
    {
     "ename": "Interpreter Error",
     "evalue": "",
     "output_type": "error",
     "traceback": [
      "Interpreter Error: "
     ]
    }
   ],
   "source": [
    "print(1)"
   ]
  },
  {
   "cell_type": "code",
   "execution_count": 5,
   "id": "76d024e7",
   "metadata": {},
   "outputs": [],
   "source": [
    "template<class T>\n",
    "void print(T item) {\n",
    "    cout << item << endl;\n",
    "}"
   ]
  },
  {
   "cell_type": "code",
   "execution_count": 6,
   "id": "8a9d8e15",
   "metadata": {},
   "outputs": [
    {
     "name": "stdout",
     "output_type": "stream",
     "text": [
      "string\n"
     ]
    }
   ],
   "source": [
    "print(\"string\")"
   ]
  },
  {
   "cell_type": "code",
   "execution_count": 7,
   "id": "bdbaf576",
   "metadata": {},
   "outputs": [
    {
     "name": "stdout",
     "output_type": "stream",
     "text": [
      "1\n"
     ]
    }
   ],
   "source": [
    "print(1)"
   ]
  },
  {
   "cell_type": "code",
   "execution_count": 8,
   "id": "919830dc",
   "metadata": {},
   "outputs": [
    {
     "name": "stdout",
     "output_type": "stream",
     "text": [
      "b\n"
     ]
    }
   ],
   "source": [
    "print('b')"
   ]
  },
  {
   "cell_type": "markdown",
   "id": "d35ab373",
   "metadata": {},
   "source": [
    "## Homework\n",
    "- Read the contents of a file, line by line\n",
    "- Write stuff to a file\n",
    "- Parse data from a line, e.g. `<date> <name> <score>`\n",
    "- Write a templated method that uses the `+` operator on two operands and returns the result\n",
    "  - Does this method work for all inputs? Try it with `string`, `int`, `float`, `char`. "
   ]
  }
 ],
 "metadata": {
  "celltoolbar": "Slideshow",
  "kernelspec": {
   "display_name": "C++11",
   "language": "C++11",
   "name": "xcpp11"
  },
  "language_info": {
   "codemirror_mode": "text/x-c++src",
   "file_extension": ".cpp",
   "mimetype": "text/x-c++src",
   "name": "c++",
   "version": "11"
  }
 },
 "nbformat": 4,
 "nbformat_minor": 5
}
