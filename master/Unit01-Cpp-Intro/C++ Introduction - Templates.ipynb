{
 "cells": [
  {
   "cell_type": "markdown",
   "id": "02998fe4",
   "metadata": {
    "slideshow": {
     "slide_type": "slide"
    }
   },
   "source": [
    "## C++ Introduction - Templates"
   ]
  },
  {
   "cell_type": "code",
   "execution_count": 1,
   "id": "ab89bd65",
   "metadata": {
    "slideshow": {
     "slide_type": "slide"
    }
   },
   "outputs": [],
   "source": [
    "#include <string>\n",
    "#include <iostream>\n",
    "#include <sstream>\n",
    "using namespace std;"
   ]
  },
  {
   "cell_type": "code",
   "execution_count": 2,
   "id": "e40fae22",
   "metadata": {},
   "outputs": [],
   "source": [
    "void printThing(int thing) {\n",
    "    cout << \"This is a thing: \" << thing << endl;\n",
    "}"
   ]
  },
  {
   "cell_type": "code",
   "execution_count": 3,
   "id": "3bd2f319",
   "metadata": {},
   "outputs": [
    {
     "name": "stdout",
     "output_type": "stream",
     "text": [
      "This is a thing: 7\n"
     ]
    }
   ],
   "source": [
    "printThing(7)"
   ]
  },
  {
   "cell_type": "code",
   "execution_count": 4,
   "id": "286ec6d0",
   "metadata": {},
   "outputs": [
    {
     "name": "stderr",
     "output_type": "stream",
     "text": [
      "input_line_11:2:2: error: no matching function for call to 'printThing'\n",
      " printThing(\"dog\")\n",
      " ^~~~~~~~~~\n",
      "input_line_9:1:6: note: candidate function not viable: no known conversion from 'const char [4]' to 'int' for 1st argument\n",
      "void printThing(int thing) {\n",
      "     ^\n"
     ]
    },
    {
     "ename": "Interpreter Error",
     "evalue": "",
     "output_type": "error",
     "traceback": [
      "Interpreter Error: "
     ]
    }
   ],
   "source": [
    "printThing(\"dog\")"
   ]
  },
  {
   "cell_type": "markdown",
   "id": "b409a690",
   "metadata": {
    "slideshow": {
     "slide_type": "slide"
    }
   },
   "source": [
    "No big deal.\n",
    "\n",
    "Just make a version of `printThing` for every `string`.\n",
    "\n",
    "And `double`. And `bool`. And `Book`. And `Bookshelf`...."
   ]
  },
  {
   "cell_type": "markdown",
   "id": "9f3bdf2b",
   "metadata": {
    "slideshow": {
     "slide_type": "fragment"
    }
   },
   "source": [
    "<div class='big centered'>😱</div>"
   ]
  },
  {
   "cell_type": "code",
   "execution_count": 5,
   "id": "0e64342c",
   "metadata": {
    "slideshow": {
     "slide_type": "slide"
    }
   },
   "outputs": [],
   "source": [
    "template <class T> \n",
    "void printThing(T thing) {\n",
    "    cout << \"This is a thing: \" << thing << endl;\n",
    "}"
   ]
  },
  {
   "cell_type": "code",
   "execution_count": 6,
   "id": "995a6756",
   "metadata": {},
   "outputs": [
    {
     "name": "stdout",
     "output_type": "stream",
     "text": [
      "This is a thing: 7\n"
     ]
    }
   ],
   "source": [
    "printThing(7)"
   ]
  },
  {
   "cell_type": "code",
   "execution_count": 7,
   "id": "760dc7fc",
   "metadata": {},
   "outputs": [
    {
     "name": "stdout",
     "output_type": "stream",
     "text": [
      "This is a thing: dog\n"
     ]
    }
   ],
   "source": [
    "printThing(\"dog\")"
   ]
  },
  {
   "cell_type": "markdown",
   "id": "7dbf9a19",
   "metadata": {
    "slideshow": {
     "slide_type": "fragment"
    }
   },
   "source": [
    "<div class='big centered'>😎</div>"
   ]
  },
  {
   "cell_type": "markdown",
   "id": "6462c919",
   "metadata": {
    "slideshow": {
     "slide_type": "slide"
    }
   },
   "source": [
    "A **template** is a pattern the compiler may use to create functions (or classes!)\n",
    "\n",
    "The compiler looks at the types that are being used with the template and autogenerates (and compiles) the type-specific code that is needed."
   ]
  },
  {
   "cell_type": "code",
   "execution_count": 8,
   "id": "f0c5d5e4",
   "metadata": {
    "slideshow": {
     "slide_type": "slide"
    }
   },
   "outputs": [],
   "source": [
    "template <class T>\n",
    "class Pair {\n",
    "    T first;\n",
    "    T second;\n",
    "    \n",
    "    public:\n",
    "    Pair(T const& first, T const& second) : first(first), second(second) {}\n",
    "    T getFirst() const { return this->first; }\n",
    "    T getSecond() const { return this->second; }\n",
    "};"
   ]
  },
  {
   "cell_type": "code",
   "execution_count": 9,
   "id": "13b0aee8",
   "metadata": {},
   "outputs": [],
   "source": [
    "Pair<int> ints(7, 8);\n",
    "Pair<string> strings(\"foo\", \"bar\");"
   ]
  },
  {
   "cell_type": "code",
   "execution_count": 10,
   "id": "ca31d460",
   "metadata": {},
   "outputs": [
    {
     "data": {
      "text/plain": [
       "7"
      ]
     },
     "execution_count": 10,
     "metadata": {},
     "output_type": "execute_result"
    }
   ],
   "source": [
    "ints.getFirst()"
   ]
  },
  {
   "cell_type": "code",
   "execution_count": 11,
   "id": "5fddde14",
   "metadata": {},
   "outputs": [
    {
     "data": {
      "text/plain": [
       "\"bar\""
      ]
     },
     "execution_count": 11,
     "metadata": {},
     "output_type": "execute_result"
    }
   ],
   "source": [
    "strings.getSecond()"
   ]
  },
  {
   "cell_type": "markdown",
   "id": "9bd1c6c9",
   "metadata": {
    "slideshow": {
     "slide_type": "fragment"
    }
   },
   "source": [
    "Often the compiler can figure out the template type from the context, but sometimes you need to make it obvious by including the type in `< >`, e.g. `Pair<int>`"
   ]
  },
  {
   "cell_type": "code",
   "execution_count": 12,
   "id": "de7c7058",
   "metadata": {
    "slideshow": {
     "slide_type": "slide"
    }
   },
   "outputs": [],
   "source": [
    "template <class T1, class T2>\n",
    "void printThings(T1 thing1, T2 thing2) {\n",
    "    cout << \"These are things: \" << thing1 << \", \" << thing2 << endl;\n",
    "}"
   ]
  },
  {
   "cell_type": "code",
   "execution_count": 19,
   "id": "a8bcd19d",
   "metadata": {},
   "outputs": [
    {
     "name": "stdout",
     "output_type": "stream",
     "text": [
      "These are things: 7, lizard\n"
     ]
    }
   ],
   "source": [
    "printThings(7, \"lizard\")"
   ]
  },
  {
   "cell_type": "code",
   "execution_count": 17,
   "id": "76b9c035",
   "metadata": {},
   "outputs": [
    {
     "name": "stderr",
     "output_type": "stream",
     "text": [
      "input_line_29:2:2: error: no matching function for call to 'printThings'\n",
      " printThings<int, string>(\"7\", \"lizard\")\n",
      " ^~~~~~~~~~~~~~~~~~~~~~~~\n",
      "input_line_24:2:6: note: candidate function not viable: no known conversion from 'const char [2]' to 'int' for 1st argument\n",
      "void printThings(T1 thing1, T2 thing2) {\n",
      "     ^\n"
     ]
    },
    {
     "ename": "Interpreter Error",
     "evalue": "",
     "output_type": "error",
     "traceback": [
      "Interpreter Error: "
     ]
    }
   ],
   "source": [
    "printThings<int, string>(7, \"lizard\")"
   ]
  },
  {
   "cell_type": "markdown",
   "id": "391eca09",
   "metadata": {
    "slideshow": {
     "slide_type": "fragment"
    }
   },
   "source": [
    "A template can have as many type-parameters as you need."
   ]
  },
  {
   "cell_type": "markdown",
   "id": "9fe1a066",
   "metadata": {
    "slideshow": {
     "slide_type": "slide"
    }
   },
   "source": [
    "## Key Ideas\n",
    "\n",
    "- `template`\n",
    "- calling or instantiating a template"
   ]
  }
 ],
 "metadata": {
  "celltoolbar": "Slideshow",
  "kernelspec": {
   "display_name": "C++14",
   "language": "C++14",
   "name": "xcpp14"
  },
  "language_info": {
   "codemirror_mode": "text/x-c++src",
   "file_extension": ".cpp",
   "mimetype": "text/x-c++src",
   "name": "c++",
   "version": "14"
  }
 },
 "nbformat": 4,
 "nbformat_minor": 5
}
