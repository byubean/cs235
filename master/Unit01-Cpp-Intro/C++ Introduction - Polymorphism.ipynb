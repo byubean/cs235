{
 "cells": [
  {
   "cell_type": "markdown",
   "id": "3874c93c",
   "metadata": {
    "slideshow": {
     "slide_type": "slide"
    }
   },
   "source": [
    "# C++ Introduction - Polymorphism"
   ]
  },
  {
   "cell_type": "code",
   "execution_count": 1,
   "id": "ad988cb8",
   "metadata": {
    "slideshow": {
     "slide_type": "slide"
    }
   },
   "outputs": [],
   "source": [
    "#include <string>\n",
    "#include <iostream>\n",
    "#include <sstream>\n",
    "using namespace std;"
   ]
  },
  {
   "cell_type": "markdown",
   "id": "707a3a7c",
   "metadata": {
    "slideshow": {
     "slide_type": "skip"
    }
   },
   "source": [
    "### Inheritance\n",
    "- Syntax\n",
    "  - `class Child : public Base {}`\n",
    "  - just use `public`: it means \"leave things unchanged\"\n",
    "- `protected`\n",
    "- Overriding methods\n",
    "  - same name, return type and parameters\n",
    "  - calling parent method from child\n",
    "- Constructors and initialization lists\n",
    "\n",
    "### Polymorphism\n",
    "- pointers to base class\n",
    "- `virtual`"
   ]
  },
  {
   "cell_type": "code",
   "execution_count": 2,
   "id": "14b90620",
   "metadata": {
    "slideshow": {
     "slide_type": "slide"
    }
   },
   "outputs": [],
   "source": [
    "class Book {\n",
    "    private:\n",
    "    string title;\n",
    "    string author;\n",
    "    int year;\n",
    "    \n",
    "    public:\n",
    "    Book(string title, string author, int year) : title(title), author(author), year(year) {}\n",
    "    Book(Book const& other) : title(other.title), author(other.author), year(other.year) { }\n",
    "    Book & operator=(Book const& other) {\n",
    "        this->title = other.title;\n",
    "        this->author = other.author;\n",
    "        this->year = other.year;\n",
    "        return *this;\n",
    "    }\n",
    "    \n",
    "    string getTitle() const { return this->title; }\n",
    "    string getAuthor() const { return this->author; }\n",
    "    int getYear() const { return this->year; }\n",
    "    \n",
    "    string str() const {\n",
    "        stringstream ss;\n",
    "        ss << this->title << \" by \" << this->author << \" (\" << this->year << \")\";\n",
    "        return ss.str();\n",
    "    }\n",
    "}"
   ]
  },
  {
   "cell_type": "code",
   "execution_count": 3,
   "id": "b09a65a7",
   "metadata": {
    "slideshow": {
     "slide_type": "slide"
    }
   },
   "outputs": [],
   "source": [
    "class GraphicNovel : public Book {\n",
    "    private:\n",
    "    string illustrator;\n",
    "    public:\n",
    "    GraphicNovel(string title, string author, int year, string illustrator) \n",
    "        : Book(title, author, year), illustrator(illustrator) {}\n",
    "    \n",
    "    string str() const {\n",
    "        stringstream ss;\n",
    "        ss << Book::str() << \" (Illustrated by \" << this->illustrator << \")\";\n",
    "        return ss.str();\n",
    "    }\n",
    "}"
   ]
  },
  {
   "cell_type": "markdown",
   "id": "43452d3e",
   "metadata": {},
   "source": [
    "### Overriding\n",
    "\n",
    "By declaring a method `string str() const` in the child class, we are **overriding** the method in the base class.\n",
    "\n",
    "When you call `str()` on a child object, it will call the `str()` method in the child class."
   ]
  },
  {
   "cell_type": "code",
   "execution_count": 4,
   "id": "12fed15b",
   "metadata": {
    "slideshow": {
     "slide_type": "slide"
    }
   },
   "outputs": [],
   "source": [
    "GraphicNovel* graphic = new GraphicNovel(\"Logicomix: An Epic Search for Truth\", \"Apostolos Doxiadis\", 2009, \"Alecos Papadatos\");\n",
    "Book* book = graphic;"
   ]
  },
  {
   "cell_type": "code",
   "execution_count": 5,
   "id": "79bec6b2",
   "metadata": {},
   "outputs": [
    {
     "data": {
      "text/plain": [
       "\"Logicomix: An Epic Search for Truth by Apostolos Doxiadis (2009) (Illustrated by Alecos Papadatos)\""
      ]
     },
     "execution_count": 5,
     "metadata": {},
     "output_type": "execute_result"
    }
   ],
   "source": [
    "graphic->str()"
   ]
  },
  {
   "cell_type": "code",
   "execution_count": 6,
   "id": "c5f21f05",
   "metadata": {},
   "outputs": [
    {
     "data": {
      "text/plain": [
       "\"Logicomix: An Epic Search for Truth by Apostolos Doxiadis (2009)\""
      ]
     },
     "execution_count": 6,
     "metadata": {},
     "output_type": "execute_result"
    }
   ],
   "source": [
    "book->str()"
   ]
  },
  {
   "cell_type": "markdown",
   "id": "d6151fa2",
   "metadata": {
    "slideshow": {
     "slide_type": "fragment"
    }
   },
   "source": [
    "When you call an overridden method using a pointer typed to the base class, it calls the base-class method, not the child-class method!"
   ]
  },
  {
   "cell_type": "markdown",
   "id": "efde9368",
   "metadata": {
    "slideshow": {
     "slide_type": "fragment"
    }
   },
   "source": [
    "unless..."
   ]
  },
  {
   "cell_type": "markdown",
   "id": "7187d3f8",
   "metadata": {
    "slideshow": {
     "slide_type": "slide"
    }
   },
   "source": [
    "### `virtual`"
   ]
  },
  {
   "cell_type": "code",
   "execution_count": 7,
   "id": "2fed5540",
   "metadata": {
    "slideshow": {
     "slide_type": "slide"
    }
   },
   "outputs": [],
   "source": [
    "class Book {\n",
    "    private:\n",
    "    string title;\n",
    "    string author;\n",
    "    int year;\n",
    "    \n",
    "    public:\n",
    "    Book(string title, string author, int year) : title(title), author(author), year(year) {}\n",
    "    Book(Book const& other) : title(other.title), author(other.author), year(other.year) { }\n",
    "    Book & operator=(Book const& other) {\n",
    "        this->title = other.title;\n",
    "        this->author = other.author;\n",
    "        this->year = other.year;\n",
    "        return *this;\n",
    "    }\n",
    "    \n",
    "    string getTitle() const { return this->title; }\n",
    "    string getAuthor() const { return this->author; }\n",
    "    int getYear() const { return this->year; }\n",
    "    \n",
    "    virtual string str() const {  // notice the \"virtual\" here!\n",
    "        stringstream ss;\n",
    "        ss << this->title << \" by \" << this->author << \" (\" << this->year << \")\";\n",
    "        return ss.str();\n",
    "    }\n",
    "}"
   ]
  },
  {
   "cell_type": "code",
   "execution_count": 8,
   "id": "79185cbe",
   "metadata": {
    "slideshow": {
     "slide_type": "slide"
    }
   },
   "outputs": [],
   "source": [
    "// Nothing changed in this class\n",
    "class GraphicNovel : public Book {\n",
    "    private:\n",
    "    string illustrator;\n",
    "    public:\n",
    "    GraphicNovel(string title, string author, int year, string illustrator) \n",
    "        : Book(title, author, year), illustrator(illustrator) {}\n",
    "    \n",
    "    string str() const {\n",
    "        stringstream ss;\n",
    "        ss << Book::str() << \" (Illustrated by \" << this->illustrator << \")\";\n",
    "        return ss.str();\n",
    "    }\n",
    "}"
   ]
  },
  {
   "cell_type": "code",
   "execution_count": 9,
   "id": "30478f31",
   "metadata": {
    "slideshow": {
     "slide_type": "slide"
    }
   },
   "outputs": [],
   "source": [
    "GraphicNovel* graphic = new GraphicNovel(\"Logicomix: An Epic Search for Truth\", \"Apostolos Doxiadis\", 2009, \"Alecos Papadatos\");\n",
    "Book* book = graphic;"
   ]
  },
  {
   "cell_type": "code",
   "execution_count": 10,
   "id": "7176e260",
   "metadata": {},
   "outputs": [
    {
     "data": {
      "text/plain": [
       "\"Logicomix: An Epic Search for Truth by Apostolos Doxiadis (2009) (Illustrated by Alecos Papadatos)\""
      ]
     },
     "execution_count": 10,
     "metadata": {},
     "output_type": "execute_result"
    }
   ],
   "source": [
    "graphic->str()"
   ]
  },
  {
   "cell_type": "code",
   "execution_count": 11,
   "id": "5a8dbc95",
   "metadata": {},
   "outputs": [
    {
     "data": {
      "text/plain": [
       "\"Logicomix: An Epic Search for Truth by Apostolos Doxiadis (2009) (Illustrated by Alecos Papadatos)\""
      ]
     },
     "execution_count": 11,
     "metadata": {},
     "output_type": "execute_result"
    }
   ],
   "source": [
    "book->str()"
   ]
  },
  {
   "cell_type": "markdown",
   "id": "855d5ff9",
   "metadata": {
    "slideshow": {
     "slide_type": "slide"
    }
   },
   "source": [
    "### `virtual` and destructors\n",
    "\n",
    "If you have a virtual function in your class (i.e. you expect your class to be inherited) then you should declare your destructor to be virtual also.\n",
    "\n",
    "This way, when an object is deleted using a parent-type pointer, the child-class destructor still gets called.\n",
    "\n",
    "If only the parent-class destructor were called, then whatever resources the child-class destructor released would remain, resulting in a memory leak."
   ]
  },
  {
   "cell_type": "markdown",
   "id": "94d2dd2e",
   "metadata": {
    "slideshow": {
     "slide_type": "slide"
    }
   },
   "source": [
    "### Pure Virtual"
   ]
  },
  {
   "cell_type": "code",
   "execution_count": 12,
   "id": "6a854c2f",
   "metadata": {
    "slideshow": {
     "slide_type": "slide"
    }
   },
   "outputs": [],
   "source": [
    "class Loud {\n",
    "    public:\n",
    "    virtual string makeNoise() const = 0;\n",
    "}"
   ]
  },
  {
   "cell_type": "code",
   "execution_count": 13,
   "id": "aaf3b026",
   "metadata": {},
   "outputs": [
    {
     "name": "stderr",
     "output_type": "stream",
     "text": [
      "input_line_27:2:7: error: variable type '__cling_N516::Loud' is an abstract class\n",
      " Loud loudThing;\n",
      "      ^\n",
      "input_line_26:3:20: note: unimplemented pure virtual method 'makeNoise' in 'Loud'\n",
      "    virtual string makeNoise() const = 0;\n",
      "                   ^\n"
     ]
    },
    {
     "ename": "Interpreter Error",
     "evalue": "",
     "output_type": "error",
     "traceback": [
      "Interpreter Error: "
     ]
    }
   ],
   "source": [
    "Loud loudThing;"
   ]
  },
  {
   "cell_type": "markdown",
   "id": "b06387c1",
   "metadata": {
    "slideshow": {
     "slide_type": "fragment"
    }
   },
   "source": [
    "Classes with **pure virtual** methods are **abstract**. \n",
    "\n",
    "They cannot be instantiated. "
   ]
  },
  {
   "cell_type": "code",
   "execution_count": 14,
   "id": "5253872f",
   "metadata": {
    "slideshow": {
     "slide_type": "slide"
    }
   },
   "outputs": [],
   "source": [
    "class Dog : public Loud {\n",
    "    string makeNoise() const { return string(\"Woof!\"); }\n",
    "}"
   ]
  },
  {
   "cell_type": "code",
   "execution_count": 15,
   "id": "21fb7b13",
   "metadata": {},
   "outputs": [],
   "source": [
    "class Instructor : public Loud {\n",
    "    string makeNoise() const { return string(\"Blah blah blah.\"); }\n",
    "}"
   ]
  },
  {
   "cell_type": "code",
   "execution_count": 16,
   "id": "d2f862e4",
   "metadata": {},
   "outputs": [],
   "source": [
    "class Student : public Loud {\n",
    "    string makeNoise() const { return string(\"Yak yak yak...\"); }\n",
    "}"
   ]
  },
  {
   "cell_type": "markdown",
   "id": "ab3693e5",
   "metadata": {},
   "source": [
    "These classes are not abstract because they implement all the pure virtual methods from the base class."
   ]
  },
  {
   "cell_type": "code",
   "execution_count": 17,
   "id": "a6cb6137",
   "metadata": {
    "slideshow": {
     "slide_type": "slide"
    }
   },
   "outputs": [
    {
     "name": "stdout",
     "output_type": "stream",
     "text": [
      "Woof!\n",
      "Blah blah blah.\n",
      "Yak yak yak...\n",
      "Blah blah blah.\n",
      "Yak yak yak...\n",
      "Woof!\n"
     ]
    }
   ],
   "source": [
    "Loud** loudThings = new Loud*[6];\n",
    "loudThings[0] = new Dog;\n",
    "loudThings[1] = new Instructor;\n",
    "loudThings[2] = new Student;\n",
    "loudThings[3] = new Instructor;\n",
    "loudThings[4] = new Student;\n",
    "loudThings[5] = new Dog;\n",
    "\n",
    "for (int i = 0; i < 6; i++) {\n",
    "    cout << loudThings[i]->makeNoise() << endl;\n",
    "}"
   ]
  },
  {
   "cell_type": "markdown",
   "id": "86e03fc5",
   "metadata": {
    "slideshow": {
     "slide_type": "slide"
    }
   },
   "source": [
    "The concept of having many different types used by the same context is called **polymorphism**.\n",
    "\n",
    "Polymorphism is powerful. "
   ]
  },
  {
   "cell_type": "code",
   "execution_count": 23,
   "id": "18cd0a31",
   "metadata": {
    "slideshow": {
     "slide_type": "slide"
    }
   },
   "outputs": [],
   "source": [
    "class Salamander : public Loud {\n",
    "    void sitAround() {}\n",
    "}"
   ]
  },
  {
   "cell_type": "code",
   "execution_count": 24,
   "id": "da6b4412",
   "metadata": {},
   "outputs": [
    {
     "name": "stderr",
     "output_type": "stream",
     "text": [
      "input_line_38:2:2: warning: delete called on '__cling_N516::Loud' that is abstract but has non-virtual destructor [-Wdelete-non-virtual-dtor]\n",
      " delete loudThings[5];\n",
      " ^\n",
      "input_line_38:3:21: error: allocating an object of abstract class type '__cling_N527::Salamander'\n",
      "loudThings[5] = new Salamander;\n",
      "                    ^\n",
      "input_line_26:3:20: note: unimplemented pure virtual method 'makeNoise' in 'Salamander'\n",
      "    virtual string makeNoise() const = 0;\n",
      "                   ^\n"
     ]
    },
    {
     "ename": "Interpreter Error",
     "evalue": "",
     "output_type": "error",
     "traceback": [
      "Interpreter Error: "
     ]
    }
   ],
   "source": [
    "delete loudThings[5];\n",
    "loudThings[5] = new Salamander;\n",
    "\n",
    "for (int i = 0; i < 6; i++) {\n",
    "    cout << loudThings[i]->makeNoise() << endl;\n",
    "}"
   ]
  },
  {
   "cell_type": "markdown",
   "id": "3beabade",
   "metadata": {},
   "source": [
    "If you don't implement a pure virtual method from the base class, then your class becomes **abstract** and you can't instantiate it."
   ]
  },
  {
   "cell_type": "markdown",
   "id": "e40c9704",
   "metadata": {
    "slideshow": {
     "slide_type": "slide"
    }
   },
   "source": [
    "## A word of advice"
   ]
  },
  {
   "cell_type": "markdown",
   "id": "72d1b037",
   "metadata": {
    "slideshow": {
     "slide_type": "slide"
    }
   },
   "source": [
    "C++ has been around for a long time, and so you'll see C++ code that does things in ways that we've since figured out aren't a good idea.\n",
    "\n",
    "Inheritance is one of those ideas.\n",
    "\n",
    "Abstract base classes with pure-virtual methods is fine. This defines an **interface** and is a powerful strategy in many languages.\n",
    "\n",
    "Avoid writing classes where the **functionality** of the class requires looking at more than one class definition. Certainly, avoid overriding non-virtual methods.\n",
    "\n",
    "If you want to modularize your code, use **composition** instead of inheritance.\n",
    "\n",
    "[Youtube: Sandi Metz \"Nothing is Something\"](https://www.youtube.com/watch?v=OMPfEXIlTVE)"
   ]
  },
  {
   "cell_type": "markdown",
   "id": "49053664",
   "metadata": {
    "slideshow": {
     "slide_type": "slide"
    }
   },
   "source": [
    "## Key Ideas\n",
    "\n",
    "- Inheritance\n",
    "- `virtual`\n",
    "- Polymorphism\n",
    "- Abstract Base Classes (ABCs)"
   ]
  }
 ],
 "metadata": {
  "celltoolbar": "Slideshow",
  "kernelspec": {
   "display_name": "C++14",
   "language": "C++14",
   "name": "xcpp14"
  },
  "language_info": {
   "codemirror_mode": "text/x-c++src",
   "file_extension": ".cpp",
   "mimetype": "text/x-c++src",
   "name": "c++",
   "version": "14"
  }
 },
 "nbformat": 4,
 "nbformat_minor": 5
}
