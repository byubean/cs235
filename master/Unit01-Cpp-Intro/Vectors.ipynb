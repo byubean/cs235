{
 "cells": [
  {
   "cell_type": "markdown",
   "id": "04007e15",
   "metadata": {
    "slideshow": {
     "slide_type": "slide"
    }
   },
   "source": [
    "# Vectors"
   ]
  },
  {
   "cell_type": "code",
   "execution_count": null,
   "id": "39efca7e",
   "metadata": {
    "slideshow": {
     "slide_type": "slide"
    }
   },
   "outputs": [],
   "source": [
    "#include <vector>\n",
    "#include <iostream>\n",
    "using namespace std;  // includes everything from <vector>"
   ]
  },
  {
   "cell_type": "code",
   "execution_count": 24,
   "id": "379e1e37",
   "metadata": {},
   "outputs": [],
   "source": [
    "vector<int> ints = {1, 2, 3, 4, 5};"
   ]
  },
  {
   "cell_type": "code",
   "execution_count": 25,
   "id": "78498f69",
   "metadata": {},
   "outputs": [
    {
     "data": {
      "text/plain": [
       "{ 1, 2, 3, 4, 5 }"
      ]
     },
     "execution_count": 25,
     "metadata": {},
     "output_type": "execute_result"
    }
   ],
   "source": [
    "ints"
   ]
  },
  {
   "cell_type": "code",
   "execution_count": 26,
   "id": "0948a2ea",
   "metadata": {},
   "outputs": [
    {
     "data": {
      "text/plain": [
       "{ 1, 2, 3, 4, 5, 7 }"
      ]
     },
     "execution_count": 26,
     "metadata": {},
     "output_type": "execute_result"
    }
   ],
   "source": [
    "ints.push_back(7);\n",
    "ints"
   ]
  },
  {
   "cell_type": "code",
   "execution_count": 27,
   "id": "1ae79354",
   "metadata": {},
   "outputs": [
    {
     "data": {
      "text/plain": [
       "7"
      ]
     },
     "execution_count": 27,
     "metadata": {},
     "output_type": "execute_result"
    }
   ],
   "source": [
    "ints.back()"
   ]
  },
  {
   "cell_type": "code",
   "execution_count": 28,
   "id": "e387159f",
   "metadata": {},
   "outputs": [],
   "source": [
    "ints.pop_back()"
   ]
  },
  {
   "cell_type": "code",
   "execution_count": 29,
   "id": "f127aafb",
   "metadata": {},
   "outputs": [
    {
     "data": {
      "text/plain": [
       "{ 1, 2, 3, 4, 5 }"
      ]
     },
     "execution_count": 29,
     "metadata": {},
     "output_type": "execute_result"
    }
   ],
   "source": [
    "ints"
   ]
  },
  {
   "cell_type": "code",
   "execution_count": 30,
   "id": "bf64870d",
   "metadata": {
    "slideshow": {
     "slide_type": "slide"
    }
   },
   "outputs": [
    {
     "name": "stdout",
     "output_type": "stream",
     "text": [
      "1\n",
      "2\n",
      "3\n",
      "4\n",
      "5\n"
     ]
    }
   ],
   "source": [
    "for (int i = 0; i < ints.size(); i++) {\n",
    "    cout << ints.at(i) << endl;\n",
    "}"
   ]
  },
  {
   "cell_type": "code",
   "execution_count": 31,
   "id": "40c44261",
   "metadata": {
    "slideshow": {
     "slide_type": "slide"
    }
   },
   "outputs": [
    {
     "ename": "Standard Exception",
     "evalue": "vector::_M_range_check: __n (which is 10) >= this->size() (which is 5)",
     "output_type": "error",
     "traceback": [
      "Standard Exception: vector::_M_range_check: __n (which is 10) >= this->size() (which is 5)"
     ]
    }
   ],
   "source": [
    "ints.at(10)"
   ]
  },
  {
   "cell_type": "code",
   "execution_count": 32,
   "id": "8540445f",
   "metadata": {
    "slideshow": {
     "slide_type": "slide"
    }
   },
   "outputs": [
    {
     "data": {
      "text/plain": [
       "{ 123, 2, 3, 4, 5 }"
      ]
     },
     "execution_count": 32,
     "metadata": {},
     "output_type": "execute_result"
    }
   ],
   "source": [
    "ints[0] = 123;\n",
    "ints"
   ]
  },
  {
   "cell_type": "code",
   "execution_count": 33,
   "id": "558ba76f",
   "metadata": {},
   "outputs": [
    {
     "data": {
      "text/plain": [
       "3"
      ]
     },
     "execution_count": 33,
     "metadata": {},
     "output_type": "execute_result"
    }
   ],
   "source": [
    "ints[2]"
   ]
  },
  {
   "cell_type": "code",
   "execution_count": 34,
   "id": "0c99fa27",
   "metadata": {
    "slideshow": {
     "slide_type": "fragment"
    }
   },
   "outputs": [
    {
     "data": {
      "text/plain": [
       "145"
      ]
     },
     "execution_count": 34,
     "metadata": {},
     "output_type": "execute_result"
    }
   ],
   "source": [
    "ints[10]"
   ]
  },
  {
   "cell_type": "markdown",
   "id": "457237e2",
   "metadata": {
    "slideshow": {
     "slide_type": "fragment"
    }
   },
   "source": [
    "<div class='big centered'> 🫠 </div>"
   ]
  },
  {
   "cell_type": "code",
   "execution_count": 35,
   "id": "254de69b",
   "metadata": {
    "slideshow": {
     "slide_type": "slide"
    }
   },
   "outputs": [
    {
     "data": {
      "text/plain": [
       "{ 123, 2, 3, 4, 5 }"
      ]
     },
     "execution_count": 35,
     "metadata": {},
     "output_type": "execute_result"
    }
   ],
   "source": [
    "vector<int> moreInts = ints;\n",
    "moreInts"
   ]
  },
  {
   "cell_type": "code",
   "execution_count": 36,
   "id": "e7286ec9",
   "metadata": {},
   "outputs": [
    {
     "data": {
      "text/plain": [
       "true"
      ]
     },
     "execution_count": 36,
     "metadata": {},
     "output_type": "execute_result"
    }
   ],
   "source": [
    "(moreInts == ints)"
   ]
  },
  {
   "cell_type": "code",
   "execution_count": 37,
   "id": "33ff9dc5",
   "metadata": {},
   "outputs": [
    {
     "data": {
      "text/plain": [
       "{ 123, 2, 3, 4, 5 }"
      ]
     },
     "execution_count": 37,
     "metadata": {},
     "output_type": "execute_result"
    }
   ],
   "source": [
    "moreInts[0] = 234567;\n",
    "ints"
   ]
  },
  {
   "cell_type": "code",
   "execution_count": 38,
   "id": "09a7deef",
   "metadata": {},
   "outputs": [
    {
     "data": {
      "text/plain": [
       "false"
      ]
     },
     "execution_count": 38,
     "metadata": {},
     "output_type": "execute_result"
    }
   ],
   "source": [
    "(moreInts == ints)"
   ]
  },
  {
   "cell_type": "markdown",
   "id": "1b29f6b5",
   "metadata": {
    "slideshow": {
     "slide_type": "slide"
    }
   },
   "source": [
    "## Key Ideas\n",
    "\n",
    "- `vector` is the closest thing C++ has to the Python `list`\n",
    "- `push_back`, `back`, `pop_back`\n",
    "  - There are more methods, you can look them up yourself\n",
    "- `at` vs `[ ]`\n",
    "- Copying and equality\n"
   ]
  }
 ],
 "metadata": {
  "celltoolbar": "Slideshow",
  "kernelspec": {
   "display_name": "C++14",
   "language": "C++14",
   "name": "xcpp14"
  },
  "language_info": {
   "codemirror_mode": "text/x-c++src",
   "file_extension": ".cpp",
   "mimetype": "text/x-c++src",
   "name": "c++",
   "version": "14"
  }
 },
 "nbformat": 4,
 "nbformat_minor": 5
}
