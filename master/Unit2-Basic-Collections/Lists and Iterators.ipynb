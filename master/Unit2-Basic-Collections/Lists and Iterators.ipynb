{
 "cells": [
  {
   "cell_type": "markdown",
   "id": "307fcd9f",
   "metadata": {
    "slideshow": {
     "slide_type": "slide"
    }
   },
   "source": [
    "# Lists and Iterators"
   ]
  },
  {
   "cell_type": "markdown",
   "id": "212f4aa4",
   "metadata": {
    "slideshow": {
     "slide_type": "slide"
    }
   },
   "source": [
    "## Arrays\n",
    "\n",
    "Arrays are perhaps the most basic of data structures. \n",
    "\n",
    "Values are stored in contiguous slots in memory.\n",
    "\n",
    "How does the compiler access a value in an array? Is it an expensive or efficient operation?"
   ]
  },
  {
   "cell_type": "markdown",
   "id": "bf7a050d",
   "metadata": {
    "slideshow": {
     "slide_type": "slide"
    }
   },
   "source": [
    "How do you add an item to an array?\n",
    "\n",
    "How do you retrieve an item?\n",
    "\n",
    "How do you keep track of the number of items you have?\n",
    "\n",
    "How do you remove an item?"
   ]
  },
  {
   "cell_type": "markdown",
   "id": "17d9198b",
   "metadata": {
    "slideshow": {
     "slide_type": "slide"
    }
   },
   "source": [
    "### Approach #1\n",
    "\n",
    "How do you add an item to an array?\n",
    "- you can create a new array each time, and copy the items over\n",
    "\n",
    "How do you retrieve an item?\n",
    "- index\n",
    "\n",
    "How do you keep track of the number of items you have?\n",
    "- the size of the array\n",
    "\n",
    "How do you remove an item?\n",
    "- create a new array, and only copy the stuff you want to keep"
   ]
  },
  {
   "cell_type": "markdown",
   "id": "965bb8a0",
   "metadata": {
    "slideshow": {
     "slide_type": "fragment"
    }
   },
   "source": [
    "<div class='big centered'> 🤨 </div>"
   ]
  },
  {
   "cell_type": "markdown",
   "id": "67d42f72",
   "metadata": {
    "slideshow": {
     "slide_type": "fragment"
    }
   },
   "source": [
    "What issues do you see with this strategy?"
   ]
  },
  {
   "cell_type": "markdown",
   "id": "64e44ad8",
   "metadata": {
    "slideshow": {
     "slide_type": "slide"
    }
   },
   "source": [
    "### Approach #2\n",
    "\n",
    "- Keep a big array around. \n",
    "- Keep your own counter of the number of items in it.\n",
    "\n",
    "How do you add an item to an array?\n",
    "- Add new items to the last empty slot in the array.\n",
    "\n",
    "How do you retrieve an item?\n",
    "- index\n",
    "\n",
    "How do you keep track of the number of items you have?\n",
    "- the counter\n",
    "\n",
    "How do you remove an item?\n",
    "- remove the item, shift all the items at larger index down.\n"
   ]
  },
  {
   "cell_type": "markdown",
   "id": "772743c9",
   "metadata": {
    "slideshow": {
     "slide_type": "fragment"
    }
   },
   "source": [
    "What if you run out of space in your backing array?\n",
    "- At that point we would have to create a new (bigger) array and copy things over\n",
    "- While this involves a lot of copying, it doesn't happen very often, so maybe that's OK?"
   ]
  },
  {
   "cell_type": "markdown",
   "id": "09530995",
   "metadata": {
    "slideshow": {
     "slide_type": "slide"
    }
   },
   "source": [
    "This (approach #2) is a valid strategy.\n",
    "\n",
    "It CAN be used correctly.\n",
    "\n",
    "Is it possible to use it incorrectly? "
   ]
  },
  {
   "cell_type": "markdown",
   "id": "3e9e7bfe",
   "metadata": {
    "slideshow": {
     "slide_type": "slide"
    }
   },
   "source": [
    "## Vectors"
   ]
  },
  {
   "cell_type": "markdown",
   "id": "0fe27f92",
   "metadata": {},
   "source": [
    "The C++ `vector` is a class that wraps an array!\n",
    "\n",
    "It's purpose is to make the array-storage strategy more fool-proof.\n",
    "\n",
    "You don't need to worry about the counter, the shifting, copying, growing, etc. \n",
    "\n",
    "`vector` already implemented all that stuff. It's well tested. Now you just get to use it."
   ]
  },
  {
   "cell_type": "code",
   "execution_count": 1,
   "id": "5f58c456",
   "metadata": {},
   "outputs": [],
   "source": [
    "using namespace std;\n",
    "#include <string>\n",
    "#include <iostream>"
   ]
  },
  {
   "cell_type": "code",
   "execution_count": 2,
   "id": "2ac08b4a",
   "metadata": {},
   "outputs": [],
   "source": [
    "#include <vector>"
   ]
  },
  {
   "cell_type": "code",
   "execution_count": 3,
   "id": "f42d8cf7",
   "metadata": {
    "slideshow": {
     "slide_type": "slide"
    }
   },
   "outputs": [],
   "source": [
    "vector<string> stuff;"
   ]
  },
  {
   "cell_type": "markdown",
   "id": "e1cf99f0",
   "metadata": {
    "slideshow": {
     "slide_type": "slide"
    }
   },
   "source": [
    "Adding stuff at the end is quick"
   ]
  },
  {
   "cell_type": "code",
   "execution_count": 4,
   "id": "51c2b429",
   "metadata": {},
   "outputs": [],
   "source": [
    "stuff.push_back(\"foo\");\n",
    "stuff.push_back(\"bar\");"
   ]
  },
  {
   "cell_type": "code",
   "execution_count": 5,
   "id": "98694573",
   "metadata": {},
   "outputs": [
    {
     "data": {
      "text/plain": [
       "{ \"foo\", \"bar\" }"
      ]
     },
     "execution_count": 5,
     "metadata": {},
     "output_type": "execute_result"
    }
   ],
   "source": [
    "stuff"
   ]
  },
  {
   "cell_type": "code",
   "execution_count": 6,
   "id": "dd01307e",
   "metadata": {},
   "outputs": [
    {
     "data": {
      "text/plain": [
       "{ \"foo\", \"bar\", \"baz\" }"
      ]
     },
     "execution_count": 6,
     "metadata": {},
     "output_type": "execute_result"
    }
   ],
   "source": [
    "stuff.push_back(\"baz\");\n",
    "stuff"
   ]
  },
  {
   "cell_type": "markdown",
   "id": "ee358030",
   "metadata": {
    "slideshow": {
     "slide_type": "slide"
    }
   },
   "source": [
    "Accessing items by index is quick"
   ]
  },
  {
   "cell_type": "code",
   "execution_count": 7,
   "id": "4f94a609",
   "metadata": {},
   "outputs": [
    {
     "data": {
      "text/plain": [
       "\"foo\""
      ]
     },
     "execution_count": 7,
     "metadata": {},
     "output_type": "execute_result"
    }
   ],
   "source": [
    "stuff[0]"
   ]
  },
  {
   "cell_type": "code",
   "execution_count": 8,
   "id": "b7abceb2",
   "metadata": {},
   "outputs": [
    {
     "data": {
      "text/plain": [
       "\"baz\""
      ]
     },
     "execution_count": 8,
     "metadata": {},
     "output_type": "execute_result"
    }
   ],
   "source": [
    "stuff[2]"
   ]
  },
  {
   "cell_type": "markdown",
   "id": "c84f83f4",
   "metadata": {
    "slideshow": {
     "slide_type": "slide"
    }
   },
   "source": [
    "What happens when you want to insert a value at the beginning, or in the middle?"
   ]
  },
  {
   "cell_type": "code",
   "execution_count": 9,
   "id": "8f910887",
   "metadata": {},
   "outputs": [
    {
     "data": {
      "text/plain": [
       "{ \"foo\", \"bar\", \"baz\" }"
      ]
     },
     "execution_count": 9,
     "metadata": {},
     "output_type": "execute_result"
    }
   ],
   "source": [
    "stuff"
   ]
  },
  {
   "cell_type": "code",
   "execution_count": 10,
   "id": "7144fbbc",
   "metadata": {},
   "outputs": [
    {
     "data": {
      "text/plain": [
       "{ \"foo\", \"quux\", \"bar\", \"baz\" }"
      ]
     },
     "execution_count": 10,
     "metadata": {},
     "output_type": "execute_result"
    }
   ],
   "source": [
    "stuff.insert(stuff.begin() + 1, \"quux\");\n",
    "stuff"
   ]
  },
  {
   "cell_type": "markdown",
   "id": "c193aee6",
   "metadata": {
    "slideshow": {
     "slide_type": "fragment"
    }
   },
   "source": [
    "You can't magically create new memory slots in the middle; you have to shift \"bar\" and \"baz\".\n",
    "\n",
    "For a vector with many values, that's not great..."
   ]
  },
  {
   "cell_type": "markdown",
   "id": "bde4ba1c",
   "metadata": {
    "slideshow": {
     "slide_type": "slide"
    }
   },
   "source": [
    "What about if you want to remove a value from the beginning or middle?"
   ]
  },
  {
   "cell_type": "code",
   "execution_count": 11,
   "id": "89a2638d",
   "metadata": {},
   "outputs": [
    {
     "data": {
      "text/plain": [
       "{ \"quux\", \"bar\", \"baz\" }"
      ]
     },
     "execution_count": 11,
     "metadata": {},
     "output_type": "execute_result"
    }
   ],
   "source": [
    "stuff.erase(stuff.begin());\n",
    "stuff"
   ]
  },
  {
   "cell_type": "markdown",
   "id": "08403948",
   "metadata": {
    "slideshow": {
     "slide_type": "slide"
    }
   },
   "source": [
    "What if you want to remove a value from the back?"
   ]
  },
  {
   "cell_type": "code",
   "execution_count": 12,
   "id": "4b3b47be",
   "metadata": {},
   "outputs": [],
   "source": [
    "stuff.pop_back()"
   ]
  },
  {
   "cell_type": "code",
   "execution_count": 13,
   "id": "5f8eb39f",
   "metadata": {},
   "outputs": [
    {
     "data": {
      "text/plain": [
       "{ \"quux\", \"bar\" }"
      ]
     },
     "execution_count": 13,
     "metadata": {},
     "output_type": "execute_result"
    }
   ],
   "source": [
    "stuff"
   ]
  },
  {
   "cell_type": "markdown",
   "id": "a61a2a8c",
   "metadata": {
    "slideshow": {
     "slide_type": "slide"
    }
   },
   "source": [
    "### Vectors - Summary"
   ]
  },
  {
   "cell_type": "markdown",
   "id": "3e940d88",
   "metadata": {
    "slideshow": {
     "slide_type": "-"
    }
   },
   "source": [
    "- Adding or removing from the back is very quick\n",
    "  - Assign the value and increment a counter\n",
    "  - Sometimes you'll need to grow the array, but when you average that time across all the items you add, it's very tractable\n",
    "  \n",
    "- Adding or removing from the front or middle is expensive\n",
    "  - All the items further down need to be shifted to make or fill the space.\n",
    "  \n",
    "- Accessing items is efficient\n",
    "  - Simply index the item"
   ]
  },
  {
   "cell_type": "markdown",
   "id": "459732b8",
   "metadata": {
    "slideshow": {
     "slide_type": "slide"
    }
   },
   "source": [
    "Would a vector be a good choice for implementing a stack?"
   ]
  },
  {
   "cell_type": "markdown",
   "id": "8d1e05a6",
   "metadata": {
    "slideshow": {
     "slide_type": "slide"
    }
   },
   "source": [
    "Would a vector be a good choice for implementing a queue?"
   ]
  },
  {
   "cell_type": "markdown",
   "id": "5aa40586",
   "metadata": {
    "slideshow": {
     "slide_type": "fragment"
    }
   },
   "source": [
    "How could I implement a data structure that permits efficient add/remove in the front or middle?"
   ]
  },
  {
   "cell_type": "markdown",
   "id": "9106706a",
   "metadata": {
    "slideshow": {
     "slide_type": "slide"
    }
   },
   "source": [
    "## Linked List"
   ]
  },
  {
   "cell_type": "markdown",
   "id": "dc8388e7",
   "metadata": {},
   "source": [
    "Instead of using an array to store the values, let's try a whole new approach"
   ]
  },
  {
   "attachments": {
    "image.png": {
     "image/png": "[encoded data removed]"
    }
   },
   "cell_type": "markdown",
   "id": "8f8efacd",
   "metadata": {},
   "source": [
    "![image.png](attachment:image.png)"
   ]
  },
  {
   "cell_type": "markdown",
   "id": "3e8a4b72",
   "metadata": {},
   "source": [
    "- Linked lists use special containers call \"nodes\" to store the contents of the list\n",
    "- Each node tracks one item and the next and previous nodes in the list.\n",
    "- The list keeps track of the number of items and the first and last nodes in the chain."
   ]
  },
  {
   "cell_type": "markdown",
   "id": "1be0a037",
   "metadata": {
    "slideshow": {
     "slide_type": "slide"
    }
   },
   "source": [
    "### How do we add a new item?"
   ]
  },
  {
   "cell_type": "markdown",
   "id": "9b0f0fbc",
   "metadata": {
    "slideshow": {
     "slide_type": "slide"
    }
   },
   "source": [
    "Create the node that stores the item."
   ]
  },
  {
   "attachments": {
    "image.png": {
     "image/png": "[encoded data removed]"
    }
   },
   "cell_type": "markdown",
   "id": "3b28e230",
   "metadata": {},
   "source": [
    "![image.png](attachment:image.png)"
   ]
  },
  {
   "cell_type": "markdown",
   "id": "b26c032f",
   "metadata": {
    "slideshow": {
     "slide_type": "slide"
    }
   },
   "source": [
    "Point that node to its new neighbors."
   ]
  },
  {
   "attachments": {
    "image.png": {
     "image/png": "[encoded data removed]"
    }
   },
   "cell_type": "markdown",
   "id": "bfc1f5f6",
   "metadata": {},
   "source": [
    "![image.png](attachment:image.png)"
   ]
  },
  {
   "cell_type": "markdown",
   "id": "97adfb30",
   "metadata": {
    "slideshow": {
     "slide_type": "slide"
    }
   },
   "source": [
    "Point the neighbors to the new node."
   ]
  },
  {
   "attachments": {
    "image.png": {
     "image/png": "[encoded data removed]"
    }
   },
   "cell_type": "markdown",
   "id": "8ec609e7",
   "metadata": {},
   "source": [
    "![image.png](attachment:image.png)"
   ]
  },
  {
   "cell_type": "markdown",
   "id": "1a215b21",
   "metadata": {
    "slideshow": {
     "slide_type": "slide"
    }
   },
   "source": [
    "### How do we remove an item \n",
    "\n",
    "For example, \"bar\""
   ]
  },
  {
   "attachments": {
    "image-2.png": {
     "image/png": "[encoded data removed]"
    }
   },
   "cell_type": "markdown",
   "id": "81bd8607",
   "metadata": {},
   "source": [
    "![image-2.png](attachment:image-2.png)"
   ]
  },
  {
   "cell_type": "markdown",
   "id": "a1348f15",
   "metadata": {
    "slideshow": {
     "slide_type": "slide"
    }
   },
   "source": [
    "Point the neighbors to each other."
   ]
  },
  {
   "attachments": {
    "image.png": {
     "image/png": "[encoded data removed]"
    }
   },
   "cell_type": "markdown",
   "id": "2ef739ee",
   "metadata": {},
   "source": [
    "![image.png](attachment:image.png)"
   ]
  },
  {
   "cell_type": "markdown",
   "id": "96d80d49",
   "metadata": {
    "slideshow": {
     "slide_type": "slide"
    }
   },
   "source": [
    "Delete the node"
   ]
  },
  {
   "attachments": {
    "image.png": {
     "image/png": "[encoded data removed]"
    }
   },
   "cell_type": "markdown",
   "id": "7f9cce3d",
   "metadata": {},
   "source": [
    "![image.png](attachment:image.png)"
   ]
  },
  {
   "cell_type": "markdown",
   "id": "615dfd47",
   "metadata": {
    "slideshow": {
     "slide_type": "slide"
    }
   },
   "source": [
    "We'll talk about what linked list implementation code looks like later. "
   ]
  },
  {
   "cell_type": "markdown",
   "id": "a6e43e40",
   "metadata": {
    "slideshow": {
     "slide_type": "slide"
    }
   },
   "source": [
    "C++ provides a linked list for you: `list`\n",
    "\n",
    "https://en.cppreference.com/w/cpp/container/list"
   ]
  },
  {
   "cell_type": "code",
   "execution_count": 3,
   "id": "97231fd0",
   "metadata": {
    "slideshow": {
     "slide_type": "slide"
    }
   },
   "outputs": [],
   "source": [
    "#include <list>"
   ]
  },
  {
   "cell_type": "code",
   "execution_count": 15,
   "id": "464fea5c",
   "metadata": {},
   "outputs": [
    {
     "data": {
      "text/plain": [
       "{ \"Mormon\", \"Moroni\", \"Nephi\", \"Pahoran\", \"Ether\" }"
      ]
     },
     "execution_count": 15,
     "metadata": {},
     "output_type": "execute_result"
    }
   ],
   "source": [
    "list<string> names;\n",
    "\n",
    "names.push_back(\"Nephi\");\n",
    "names.push_front(\"Moroni\");\n",
    "names.push_back(\"Pahoran\");\n",
    "names.push_front(\"Mormon\");\n",
    "names.push_back(\"Ether\");\n",
    "\n",
    "names"
   ]
  },
  {
   "cell_type": "code",
   "execution_count": 16,
   "id": "e3c2811f",
   "metadata": {
    "slideshow": {
     "slide_type": "slide"
    }
   },
   "outputs": [
    {
     "data": {
      "text/plain": [
       "{ \"Moroni\", \"Nephi\", \"Pahoran\" }"
      ]
     },
     "execution_count": 16,
     "metadata": {},
     "output_type": "execute_result"
    }
   ],
   "source": [
    "names.pop_back();\n",
    "names.pop_front();\n",
    "names"
   ]
  },
  {
   "cell_type": "code",
   "execution_count": 17,
   "id": "553334f3",
   "metadata": {
    "slideshow": {
     "slide_type": "slide"
    }
   },
   "outputs": [
    {
     "data": {
      "text/plain": [
       "\"Moroni\""
      ]
     },
     "execution_count": 17,
     "metadata": {},
     "output_type": "execute_result"
    }
   ],
   "source": [
    "names.front()"
   ]
  },
  {
   "cell_type": "code",
   "execution_count": 18,
   "id": "38dbf460",
   "metadata": {},
   "outputs": [
    {
     "data": {
      "text/plain": [
       "\"Pahoran\""
      ]
     },
     "execution_count": 18,
     "metadata": {},
     "output_type": "execute_result"
    }
   ],
   "source": [
    "names.back()"
   ]
  },
  {
   "cell_type": "markdown",
   "id": "e0d06f98",
   "metadata": {
    "slideshow": {
     "slide_type": "fragment"
    }
   },
   "source": [
    "How do I get to \"Nephi\"?"
   ]
  },
  {
   "cell_type": "code",
   "execution_count": 19,
   "id": "386dc64a",
   "metadata": {},
   "outputs": [
    {
     "name": "stderr",
     "output_type": "stream",
     "text": [
      "input_line_40:2:7: error: type 'list<std::string>' (aka 'list<basic_string<char> >') does not provide a subscript operator\n",
      " names[1]\n",
      " ~~~~~^~\n"
     ]
    },
    {
     "ename": "Interpreter Error",
     "evalue": "",
     "output_type": "error",
     "traceback": [
      "Interpreter Error: "
     ]
    }
   ],
   "source": [
    "names[1]"
   ]
  },
  {
   "cell_type": "markdown",
   "id": "2cf62426",
   "metadata": {
    "slideshow": {
     "slide_type": "slide"
    }
   },
   "source": [
    "- Linked lists have efficient add and remove from the front and back\n",
    "- If you have a pointer to an element in the middle, it can be quick to add and remove at that location also\n",
    "  - How do we get a pointer to an element in the middle?\n",
    "- Do linked lists support random access (i.e. indexing)?"
   ]
  },
  {
   "cell_type": "markdown",
   "id": "5628b3a1",
   "metadata": {
    "slideshow": {
     "slide_type": "slide"
    }
   },
   "source": [
    "Can you use a linked list to implement a stack?"
   ]
  },
  {
   "cell_type": "markdown",
   "id": "37458810",
   "metadata": {
    "slideshow": {
     "slide_type": "slide"
    }
   },
   "source": [
    "Can you use a linked list to implement a queue?"
   ]
  },
  {
   "cell_type": "markdown",
   "id": "bd1aa4cc",
   "metadata": {
    "slideshow": {
     "slide_type": "slide"
    }
   },
   "source": [
    "- Vectors are good for add/remove at the end and provide random access.\n",
    "  - They are not good for add/remove anywhere else.\n",
    "  \n",
    "  \n",
    "- Linked lists are good for add/remove anywhere.\n",
    "  - They do not provide efficient random access.\n",
    "  "
   ]
  },
  {
   "cell_type": "markdown",
   "id": "fef4c45f",
   "metadata": {
    "slideshow": {
     "slide_type": "fragment"
    }
   },
   "source": [
    "Can I have my cake and eat it too?"
   ]
  },
  {
   "cell_type": "markdown",
   "id": "165dd949",
   "metadata": {
    "slideshow": {
     "slide_type": "fragment"
    }
   },
   "source": [
    "<div class='big centered'> 🍰 😋 </div>"
   ]
  },
  {
   "cell_type": "markdown",
   "id": "4519c87e",
   "metadata": {
    "slideshow": {
     "slide_type": "slide"
    }
   },
   "source": [
    "## Deques"
   ]
  },
  {
   "cell_type": "markdown",
   "id": "53aa9b03",
   "metadata": {
    "slideshow": {
     "slide_type": "fragment"
    }
   },
   "source": [
    "- \"Deque\" stands for \"Double-ended Queue\"\n",
    "- It's like a double-ended vector, but it uses multiple arrays under the hood\n",
    "- The arrays support random access\n",
    "- Multiple arrays allow the deque to grow in both directions\n",
    "- BUT...because they are arrays, adding/removing in the middle still requires a shift."
   ]
  },
  {
   "cell_type": "markdown",
   "id": "8cffa86b",
   "metadata": {
    "slideshow": {
     "slide_type": "slide"
    }
   },
   "source": [
    "C++ provides an implementation for you: `deque`\n",
    "\n",
    "(Found in the `queue` library)\n",
    "\n",
    "https://en.cppreference.com/w/cpp/container/deque"
   ]
  },
  {
   "cell_type": "code",
   "execution_count": 4,
   "id": "d8ff9978",
   "metadata": {
    "slideshow": {
     "slide_type": "slide"
    }
   },
   "outputs": [],
   "source": [
    "#include <queue>"
   ]
  },
  {
   "cell_type": "code",
   "execution_count": 21,
   "id": "3dd35700",
   "metadata": {},
   "outputs": [
    {
     "data": {
      "text/plain": [
       "{ \"Mormon\", \"Moroni\", \"Nephi\", \"Pahoran\", \"Ether\" }"
      ]
     },
     "execution_count": 21,
     "metadata": {},
     "output_type": "execute_result"
    }
   ],
   "source": [
    "deque<string> names;\n",
    "\n",
    "\n",
    "names.push_back(\"Nephi\");\n",
    "names.push_front(\"Moroni\");\n",
    "names.push_back(\"Pahoran\");\n",
    "names.push_front(\"Mormon\");\n",
    "names.push_back(\"Ether\");\n",
    "\n",
    "names"
   ]
  },
  {
   "cell_type": "code",
   "execution_count": 22,
   "id": "991233ef",
   "metadata": {
    "slideshow": {
     "slide_type": "slide"
    }
   },
   "outputs": [
    {
     "data": {
      "text/plain": [
       "{ \"Moroni\", \"Nephi\", \"Pahoran\" }"
      ]
     },
     "execution_count": 22,
     "metadata": {},
     "output_type": "execute_result"
    }
   ],
   "source": [
    "names.pop_back();\n",
    "names.pop_front();\n",
    "names"
   ]
  },
  {
   "cell_type": "code",
   "execution_count": 23,
   "id": "9d3e0c49",
   "metadata": {
    "slideshow": {
     "slide_type": "slide"
    }
   },
   "outputs": [
    {
     "data": {
      "text/plain": [
       "\"Moroni\""
      ]
     },
     "execution_count": 23,
     "metadata": {},
     "output_type": "execute_result"
    }
   ],
   "source": [
    "names.front()"
   ]
  },
  {
   "cell_type": "code",
   "execution_count": 24,
   "id": "51837b48",
   "metadata": {},
   "outputs": [
    {
     "data": {
      "text/plain": [
       "\"Pahoran\""
      ]
     },
     "execution_count": 24,
     "metadata": {},
     "output_type": "execute_result"
    }
   ],
   "source": [
    "names.back()"
   ]
  },
  {
   "cell_type": "code",
   "execution_count": 25,
   "id": "4ac4e5cc",
   "metadata": {
    "slideshow": {
     "slide_type": "slide"
    }
   },
   "outputs": [
    {
     "data": {
      "text/plain": [
       "\"Nephi\""
      ]
     },
     "execution_count": 25,
     "metadata": {},
     "output_type": "execute_result"
    }
   ],
   "source": [
    "names[1]"
   ]
  },
  {
   "cell_type": "markdown",
   "id": "e851937a",
   "metadata": {
    "slideshow": {
     "slide_type": "fragment"
    }
   },
   "source": [
    "Random access!\n",
    "\n",
    "<div class='big centered'> 💪🏻 </div>"
   ]
  },
  {
   "cell_type": "markdown",
   "id": "1c7ebce7",
   "metadata": {
    "slideshow": {
     "slide_type": "slide"
    }
   },
   "source": [
    "Can you implement a stack with a deque?"
   ]
  },
  {
   "cell_type": "markdown",
   "id": "f2e75c2c",
   "metadata": {
    "slideshow": {
     "slide_type": "slide"
    }
   },
   "source": [
    "Can you implement a queue with a deque?"
   ]
  },
  {
   "cell_type": "markdown",
   "id": "801b66e4",
   "metadata": {
    "slideshow": {
     "slide_type": "slide"
    }
   },
   "source": [
    "## Benchmarks"
   ]
  },
  {
   "cell_type": "markdown",
   "id": "52485325",
   "metadata": {
    "slideshow": {
     "slide_type": "slide"
    }
   },
   "source": [
    "### Adding numbers to the collection"
   ]
  },
  {
   "cell_type": "code",
   "execution_count": 26,
   "id": "26f71d5c",
   "metadata": {},
   "outputs": [
    {
     "name": "stdout",
     "output_type": "stream",
     "text": [
      "6.06 us +- 17 ns per loop (mean +- std. dev. of 7 runs 100000 loops each)\n"
     ]
    }
   ],
   "source": [
    "%%timeit\n",
    "vector<int> numbers;\n",
    "for (int i = 0; i < 1000; i++) {\n",
    "    numbers.push_back(i);\n",
    "}"
   ]
  },
  {
   "cell_type": "code",
   "execution_count": 27,
   "id": "86106a6b",
   "metadata": {},
   "outputs": [
    {
     "name": "stdout",
     "output_type": "stream",
     "text": [
      "47.3 us +- 487 ns per loop (mean +- std. dev. of 7 runs 10000 loops each)\n"
     ]
    }
   ],
   "source": [
    "%%timeit\n",
    "list<int> numbers;\n",
    "for (int i = 0; i < 1000; i++) {\n",
    "    numbers.push_back(i);\n",
    "}"
   ]
  },
  {
   "cell_type": "code",
   "execution_count": 28,
   "id": "8e616b16",
   "metadata": {},
   "outputs": [
    {
     "name": "stdout",
     "output_type": "stream",
     "text": [
      "6.03 us +- 9.82 ns per loop (mean +- std. dev. of 7 runs 100000 loops each)\n"
     ]
    }
   ],
   "source": [
    "%%timeit\n",
    "deque<int> numbers;\n",
    "for (int i = 0; i < 1000; i++) {\n",
    "    numbers.push_back(i);\n",
    "}"
   ]
  },
  {
   "cell_type": "markdown",
   "id": "a57b4c00",
   "metadata": {
    "slideshow": {
     "slide_type": "slide"
    }
   },
   "source": [
    "### Removing numbers from the collection"
   ]
  },
  {
   "cell_type": "code",
   "execution_count": 29,
   "id": "005ada9e",
   "metadata": {},
   "outputs": [],
   "source": [
    "vector<int> numbers;\n",
    "for (int i = 0; i < 10000000; i++) {\n",
    "    numbers.push_back(i);\n",
    "}"
   ]
  },
  {
   "cell_type": "code",
   "execution_count": 30,
   "id": "a915b4af",
   "metadata": {},
   "outputs": [
    {
     "name": "stdout",
     "output_type": "stream",
     "text": [
      "1.34 ms +- 89.6 us per loop (mean +- std. dev. of 7 runs 1000 loops each)\n"
     ]
    }
   ],
   "source": [
    "%%timeit -n 1000\n",
    "numbers.erase(numbers.begin());"
   ]
  },
  {
   "cell_type": "code",
   "execution_count": 31,
   "id": "1b710a42",
   "metadata": {},
   "outputs": [],
   "source": [
    "list<int> numbers;\n",
    "for (int i = 0; i < 10000000; i++) {\n",
    "    numbers.push_back(i);\n",
    "}"
   ]
  },
  {
   "cell_type": "code",
   "execution_count": 32,
   "id": "0e6a3993",
   "metadata": {},
   "outputs": [
    {
     "name": "stdout",
     "output_type": "stream",
     "text": [
      "248 ns +- 267 ns per loop (mean +- std. dev. of 7 runs 1000 loops each)\n"
     ]
    }
   ],
   "source": [
    "%%timeit -n 1000\n",
    "numbers.pop_front();"
   ]
  },
  {
   "cell_type": "code",
   "execution_count": 33,
   "id": "381befe5",
   "metadata": {},
   "outputs": [],
   "source": [
    "deque<int> numbers;\n",
    "for (int i = 0; i < 10000000; i++) {\n",
    "    numbers.push_back(i);\n",
    "}"
   ]
  },
  {
   "cell_type": "code",
   "execution_count": 34,
   "id": "1ee1c2ad",
   "metadata": {},
   "outputs": [
    {
     "name": "stdout",
     "output_type": "stream",
     "text": [
      "6.77 ns +- 1.74 ns per loop (mean +- std. dev. of 7 runs 1000 loops each)\n"
     ]
    }
   ],
   "source": [
    "%%timeit -n 1000\n",
    "numbers.pop_front();"
   ]
  },
  {
   "cell_type": "markdown",
   "id": "188abc83",
   "metadata": {
    "slideshow": {
     "slide_type": "slide"
    }
   },
   "source": [
    "## Getting the \"nth\" element"
   ]
  },
  {
   "cell_type": "code",
   "execution_count": 35,
   "id": "67530ace",
   "metadata": {},
   "outputs": [],
   "source": [
    "vector<int> numbers;\n",
    "for (int i = 0; i < 10000000; i++) {\n",
    "    numbers.push_back(i);\n",
    "}"
   ]
  },
  {
   "cell_type": "code",
   "execution_count": 36,
   "id": "5d4dff9d",
   "metadata": {},
   "outputs": [
    {
     "name": "stdout",
     "output_type": "stream",
     "text": [
      "1.36 ns +- 0.0124 ns per loop (mean +- std. dev. of 7 runs 1000000000 loops each)\n"
     ]
    }
   ],
   "source": [
    "%%timeit\n",
    "numbers[10000];"
   ]
  },
  {
   "cell_type": "markdown",
   "id": "6fcdf36e",
   "metadata": {},
   "source": [
    "Linked lists don't have a random access operator..."
   ]
  },
  {
   "cell_type": "code",
   "execution_count": 37,
   "id": "44d779e9",
   "metadata": {},
   "outputs": [],
   "source": [
    "list<int> numbers;\n",
    "for (int i = 0; i < 10000000; i++) {\n",
    "    numbers.push_back(i);\n",
    "}"
   ]
  },
  {
   "cell_type": "code",
   "execution_count": 38,
   "id": "1d7139a9",
   "metadata": {},
   "outputs": [
    {
     "name": "stdout",
     "output_type": "stream",
     "text": [
      "76.9 us +- 899 ns per loop (mean +- std. dev. of 7 runs 10000 loops each)\n"
     ]
    }
   ],
   "source": [
    "%%timeit\n",
    "int n = 10000;\n",
    "int i = 0;\n",
    "int found;\n",
    "for (int const& item : numbers) {\n",
    "    if (i == n) {\n",
    "        found = item;\n",
    "        break;\n",
    "    }\n",
    "    i++;\n",
    "}"
   ]
  },
  {
   "cell_type": "code",
   "execution_count": 39,
   "id": "847be9f1",
   "metadata": {},
   "outputs": [],
   "source": [
    "deque<int> numbers;\n",
    "for (int i = 0; i < 10000000; i++) {\n",
    "    numbers.push_back(i);\n",
    "}"
   ]
  },
  {
   "cell_type": "code",
   "execution_count": 40,
   "id": "6ee79763",
   "metadata": {},
   "outputs": [
    {
     "name": "stdout",
     "output_type": "stream",
     "text": [
      "21.5 ns +- 0.14 ns per loop (mean +- std. dev. of 7 runs 10000000 loops each)\n"
     ]
    }
   ],
   "source": [
    "%%timeit\n",
    "numbers[10000];"
   ]
  },
  {
   "cell_type": "markdown",
   "id": "f4203622",
   "metadata": {
    "slideshow": {
     "slide_type": "slide"
    }
   },
   "source": [
    "## Vectors, Lists, and Deques \n",
    "- Vectors\n",
    "  - Simple, most efficient in time and storage\n",
    "  - Good at add/remove at end\n",
    "  - Random access\n",
    "  - Don't add/remove well in front or middle\n",
    "- Linked lists\n",
    "  - Good at add/remove ANYWHERE\n",
    "  - But don't have random access, so getting anywhere but the first or last element takes effort\n",
    "- Deques\n",
    "  - Good at add/remove at front or back\n",
    "  - Random access\n",
    "  - Don't add/remove well in the middle\n",
    "  - Slightly more overhead/bookkeeping than vectors"
   ]
  },
  {
   "cell_type": "markdown",
   "id": "87f972b2",
   "metadata": {
    "slideshow": {
     "slide_type": "slide"
    }
   },
   "source": [
    "## Iterators"
   ]
  },
  {
   "cell_type": "markdown",
   "id": "e1875713",
   "metadata": {
    "slideshow": {
     "slide_type": "fragment"
    }
   },
   "source": [
    "When you want to iterate over a vector, you use an index.\n",
    "\n",
    "When you want to iterate over a list, you follow `next` and `previous` pointers.\n",
    "\n",
    "But the concept of iterating over the contents of a collection is a fairly universal concept.\n",
    "\n",
    "**iterators** provide a C++ abstraction for the concept of container iteration."
   ]
  },
  {
   "cell_type": "code",
   "execution_count": 6,
   "id": "30959d65",
   "metadata": {
    "slideshow": {
     "slide_type": "slide"
    }
   },
   "outputs": [
    {
     "name": "stdout",
     "output_type": "stream",
     "text": [
      "abacus\n",
      "cartesian\n",
      "abacus\n",
      "benediction\n",
      "cartesian\n"
     ]
    }
   ],
   "source": [
    "vector<string> words;\n",
    "words.push_back(\"abacus\");\n",
    "words.push_back(\"benediction\");\n",
    "words.push_back(\"cartesian\");\n",
    "\n",
    "for (vector<string>::iterator it = words.begin(); it != words.end(); ++it) {\n",
    "    cout << *it << endl;\n",
    "}"
   ]
  },
  {
   "cell_type": "code",
   "execution_count": null,
   "id": "ee8673e3",
   "metadata": {},
   "outputs": [],
   "source": [
    "// Iterators can be outside a loop\n",
    "vector<string>::iterator it = words.begin();\n",
    "cout << *it << endl;\n",
    "it = it + 2;\n",
    "cout << *it << endl;\n",
    "\n"
   ]
  },
  {
   "cell_type": "code",
   "execution_count": 7,
   "id": "46b3281b",
   "metadata": {
    "slideshow": {
     "slide_type": "fragment"
    }
   },
   "outputs": [
    {
     "name": "stdout",
     "output_type": "stream",
     "text": [
      "abacus\n",
      "benediction\n",
      "cartesian\n"
     ]
    }
   ],
   "source": [
    "list<string> words;\n",
    "words.push_back(\"abacus\");\n",
    "words.push_back(\"benediction\");\n",
    "words.push_back(\"cartesian\");\n",
    "\n",
    "for (list<string>::iterator it = words.begin(); it != words.end(); ++it) {\n",
    "    cout << *it << endl;\n",
    "}"
   ]
  },
  {
   "cell_type": "code",
   "execution_count": 5,
   "id": "18ab1284",
   "metadata": {
    "slideshow": {
     "slide_type": "slide"
    }
   },
   "outputs": [
    {
     "name": "stdout",
     "output_type": "stream",
     "text": [
      "abacus\n",
      "benediction\n",
      "cartesian\n"
     ]
    },
    {
     "data": {
      "text/plain": [
       "{ \"abacus\", \"foo\", \"benediction\", \"cartesian\" }"
      ]
     },
     "execution_count": 5,
     "metadata": {},
     "output_type": "execute_result"
    }
   ],
   "source": [
    "deque<string> words;\n",
    "words.push_back(\"abacus\");\n",
    "words.push_back(\"benediction\");\n",
    "words.push_back(\"cartesian\");\n",
    "\n",
    "for (auto it = words.begin(); it != words.end(); it++) {\n",
    "    cout << *it << endl;\n",
    "}\n",
    "\n",
    "words.insert(words.begin() + 1, \"foo\");\n",
    "\n",
    "words"
   ]
  },
  {
   "cell_type": "markdown",
   "id": "c02f73c9",
   "metadata": {
    "slideshow": {
     "slide_type": "slide"
    }
   },
   "source": [
    "\n",
    "Many containers now depend on iterators for finding elements, inserting elements, removing elements, etc."
   ]
  },
  {
   "cell_type": "markdown",
   "id": "39ecec86",
   "metadata": {
    "slideshow": {
     "slide_type": "slide"
    }
   },
   "source": [
    "In fact, this pattern is so useful for iterating over items in a collection, C++ has made it even easier to use.\n",
    "\n",
    "(Thank you Python for setting the standard...)"
   ]
  },
  {
   "cell_type": "code",
   "execution_count": 6,
   "id": "a2a1629f",
   "metadata": {
    "slideshow": {
     "slide_type": "slide"
    }
   },
   "outputs": [
    {
     "name": "stdout",
     "output_type": "stream",
     "text": [
      "abacus\n",
      "benediction\n",
      "cartesian\n"
     ]
    }
   ],
   "source": [
    "list<string> words;\n",
    "words.push_back(\"abacus\");\n",
    "words.push_back(\"benediction\");\n",
    "words.push_back(\"cartesian\");\n",
    "\n",
    "for (string item : words) {\n",
    "    cout << item << endl;\n",
    "}"
   ]
  },
  {
   "cell_type": "code",
   "execution_count": 6,
   "id": "c6210a10",
   "metadata": {},
   "outputs": [],
   "source": [
    "#include <string>\n",
    "#include <iostream>\n",
    "#include <list>\n",
    "using namespace std;"
   ]
  },
  {
   "cell_type": "code",
   "execution_count": 8,
   "id": "a4a71156",
   "metadata": {},
   "outputs": [
    {
     "name": "stdout",
     "output_type": "stream",
     "text": [
      "7\n",
      "8\n",
      "9\n",
      "9\n",
      "8\n",
      "0\n"
     ]
    }
   ],
   "source": [
    "string foo = \"789980\";\n",
    "for (const auto& c : foo) {\n",
    "    cout << c << endl;\n",
    "}"
   ]
  },
  {
   "cell_type": "code",
   "execution_count": 7,
   "id": "ec07b5f7",
   "metadata": {},
   "outputs": [
    {
     "name": "stdout",
     "output_type": "stream",
     "text": [
      "abacus\n",
      "benediction\n",
      "cartesian\n"
     ]
    }
   ],
   "source": [
    "list<string> words;\n",
    "words.push_back(\"abacus\");\n",
    "words.push_back(\"benediction\");\n",
    "words.push_back(\"cartesian\");\n",
    "\n",
    "for (const string& item : words) {\n",
    "    cout << item << endl;\n",
    "}\n"
   ]
  },
  {
   "cell_type": "markdown",
   "id": "9676622a",
   "metadata": {},
   "source": [
    "## Why const vs copy?"
   ]
  },
  {
   "cell_type": "code",
   "execution_count": 9,
   "id": "1757c292",
   "metadata": {
    "slideshow": {
     "slide_type": "slide"
    }
   },
   "outputs": [],
   "source": [
    "vector<string> strings;\n",
    "for (int i = 0; i < 10000000; i++) {\n",
    "    strings.push_back(\"some string some string some string some string some string some string some string some string\");\n",
    "}"
   ]
  },
  {
   "cell_type": "code",
   "execution_count": 10,
   "id": "a3789ae3",
   "metadata": {},
   "outputs": [
    {
     "name": "stdout",
     "output_type": "stream",
     "text": [
      "194 ms +- 2.16 ms per loop (mean +- std. dev. of 7 runs 1 loop each)\n"
     ]
    }
   ],
   "source": [
    "%%timeit\n",
    "for (auto i : strings) {\n",
    "    i;\n",
    "}"
   ]
  },
  {
   "cell_type": "code",
   "execution_count": 13,
   "id": "f6554d1d",
   "metadata": {},
   "outputs": [
    {
     "name": "stdout",
     "output_type": "stream",
     "text": [
      "51.1 ms +- 661 us per loop (mean +- std. dev. of 7 runs 10 loops each)\n"
     ]
    }
   ],
   "source": [
    "%%timeit\n",
    "for (const auto& i : strings) {\n",
    "    i;\n",
    "}"
   ]
  },
  {
   "cell_type": "code",
   "execution_count": null,
   "id": "be78e468",
   "metadata": {},
   "outputs": [],
   "source": []
  }
 ],
 "metadata": {
  "celltoolbar": "Slideshow",
  "kernelspec": {
   "display_name": "C++11",
   "language": "C++11",
   "name": "xcpp11"
  },
  "language_info": {
   "codemirror_mode": "text/x-c++src",
   "file_extension": ".cpp",
   "mimetype": "text/x-c++src",
   "name": "c++",
   "version": "11"
  }
 },
 "nbformat": 4,
 "nbformat_minor": 5
}
