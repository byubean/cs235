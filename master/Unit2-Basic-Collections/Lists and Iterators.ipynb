{
 "cells": [
  {
   "cell_type": "markdown",
   "id": "307fcd9f",
   "metadata": {},
   "source": [
    "# Lists and Iterators"
   ]
  },
  {
   "cell_type": "markdown",
   "id": "bf9c7ec7",
   "metadata": {},
   "source": [
    "## Topics to cover\n",
    "\n",
    "- Queue\n",
    "  - FIFO\n",
    "  - Add at back, remove from front\n",
    "  - All about controlling behavior\n",
    "  - No iterator!\n",
    "  - Use-case: rolling window (lab 1), scheduling, buffering\n",
    "- Stack\n",
    "  - FILO\n",
    "  - Add/remove at back\n",
    "  - All about controlling behavior \n",
    "  - No iterator!\n",
    "  - Use-case: Reversal, matching parens, undo, call stack\n",
    "    - In class: reversal and matching parens\n",
    "- Priority queue\n",
    "  - Auto-sorted\n",
    "  - Uses heap under the hood\n",
    "  - No iterator!\n",
    "  - Use-case: Dijkstra's algorithm, sort-as-you-go, triage\n",
    "\n",
    "- Big O notation\n",
    "- Iterators\n",
    "- Sequential collections\n",
    "  - Have **order** that the programmer defines\n",
    "\n",
    "- Vector \n",
    "  - O(1) add/remove at **end**\n",
    "  - Uses array under the hood\n",
    "  - **Random access**\n",
    "- Deque\n",
    "  - Add/remove at front AND back, don't add to middle\n",
    "  - Uses many arrays under the hood\n",
    "  - **Random access**\n",
    "  - All about **efficiently** supporting front/back modifications\n",
    "- List\n",
    "  - Add/remove anywhere\n",
    "  - No random access\n",
    "  - All about **efficiently** supporting add/remove **anywhere**\n",
    "  \n",
    "- Set\n",
    "  - Not ordered\n",
    "  - Can iterate\n",
    "  - No duplicates\n",
    "  - Implemeted with red-black (AVL) tree\n",
    "    - O(logN) add, lookup\n",
    "- Map\n",
    "  - Not ordered\n",
    "  - Can iterate\n",
    "  - No duplicate keys\n",
    "  - Implemented with red-black tree\n",
    "    - O(logN) add, lookup\n",
    "\n",
    "## Big ideas\n",
    "- Sequence - a container with ordered items\n",
    "- Access - random access vs sequential access\n",
    "- Instantiating a template class: `vector<string> myStuff;`\n",
    "- `vector`\n",
    "  - Uses an array under the hood\n",
    "  - Supports \"random\" access\n",
    "  - Vs array: resize, insert, remove\n",
    "- Demostrate vector\n",
    "  - `push_back`\n",
    "  - `insert`\n",
    "  - `erase`\n",
    "  \n",
    "- If a class dynamically allocates memory, it should define Assignment and Copy constructors and a destructor\n",
    "\n",
    "  \n",
    "### Lab 2: COVID Stats/rolling window\n",
    "- File IO\n",
    "- Decomposition\n",
    "- Queue\n",
    "- Iterator\n",
    "- Immutability respected"
   ]
  },
  {
   "cell_type": "code",
   "execution_count": 1,
   "id": "abd22c92",
   "metadata": {},
   "outputs": [],
   "source": [
    "#include <vector>"
   ]
  },
  {
   "cell_type": "code",
   "execution_count": 2,
   "id": "675b4955",
   "metadata": {},
   "outputs": [],
   "source": [
    "#include <string>\n",
    "using namespace std;"
   ]
  },
  {
   "cell_type": "code",
   "execution_count": 3,
   "id": "e912ce59",
   "metadata": {},
   "outputs": [],
   "source": [
    "vector<string> stuff;\n",
    "\n",
    "stuff.push_back(\"foo\");\n",
    "stuff.push_back(\"bar\");"
   ]
  },
  {
   "cell_type": "code",
   "execution_count": 4,
   "id": "775d788e",
   "metadata": {},
   "outputs": [
    {
     "data": {
      "text/plain": [
       "{ \"foo\", \"bar\" }"
      ]
     },
     "execution_count": 4,
     "metadata": {},
     "output_type": "execute_result"
    }
   ],
   "source": [
    "stuff"
   ]
  },
  {
   "cell_type": "code",
   "execution_count": 5,
   "id": "8cfb194c",
   "metadata": {},
   "outputs": [
    {
     "data": {
      "text/plain": [
       "{ \"foo\", \"bar\", \"baz\" }"
      ]
     },
     "execution_count": 5,
     "metadata": {},
     "output_type": "execute_result"
    }
   ],
   "source": [
    "stuff.push_back(\"baz\");\n",
    "stuff"
   ]
  },
  {
   "cell_type": "code",
   "execution_count": 7,
   "id": "0f12e38c",
   "metadata": {},
   "outputs": [
    {
     "data": {
      "text/plain": [
       "\"foo\""
      ]
     },
     "execution_count": 7,
     "metadata": {},
     "output_type": "execute_result"
    }
   ],
   "source": [
    "stuff[0]"
   ]
  },
  {
   "cell_type": "code",
   "execution_count": 8,
   "id": "6888bb5c",
   "metadata": {},
   "outputs": [
    {
     "data": {
      "text/plain": [
       "\"baz\""
      ]
     },
     "execution_count": 8,
     "metadata": {},
     "output_type": "execute_result"
    }
   ],
   "source": [
    "stuff[2]"
   ]
  },
  {
   "cell_type": "code",
   "execution_count": 9,
   "id": "45c8478f",
   "metadata": {},
   "outputs": [
    {
     "data": {
      "text/plain": [
       "{ \"foo\", \"quux\", \"bar\", \"baz\" }"
      ]
     },
     "execution_count": 9,
     "metadata": {},
     "output_type": "execute_result"
    }
   ],
   "source": [
    "stuff.insert(stuff.begin() + 1, \"quux\");\n",
    "stuff"
   ]
  },
  {
   "cell_type": "code",
   "execution_count": 10,
   "id": "f22a4231",
   "metadata": {},
   "outputs": [
    {
     "data": {
      "text/plain": [
       "{ \"quux\", \"bar\", \"baz\" }"
      ]
     },
     "execution_count": 10,
     "metadata": {},
     "output_type": "execute_result"
    }
   ],
   "source": [
    "stuff.erase(stuff.begin());\n",
    "stuff"
   ]
  },
  {
   "cell_type": "code",
   "execution_count": 11,
   "id": "526d90f2",
   "metadata": {},
   "outputs": [
    {
     "data": {
      "text/plain": [
       "{ \"quux\", \"barbar\", \"baz\" }"
      ]
     },
     "execution_count": 11,
     "metadata": {},
     "output_type": "execute_result"
    }
   ],
   "source": [
    "stuff[1] = \"barbar\";\n",
    "stuff"
   ]
  },
  {
   "cell_type": "code",
   "execution_count": 12,
   "id": "159b3ffd",
   "metadata": {},
   "outputs": [],
   "source": [
    "stuff.pop_back()"
   ]
  },
  {
   "cell_type": "code",
   "execution_count": 13,
   "id": "cc8a6252",
   "metadata": {},
   "outputs": [
    {
     "data": {
      "text/plain": [
       "{ \"quux\", \"barbar\" }"
      ]
     },
     "execution_count": 13,
     "metadata": {},
     "output_type": "execute_result"
    }
   ],
   "source": [
    "stuff"
   ]
  },
  {
   "cell_type": "code",
   "execution_count": 1,
   "id": "d9017e97",
   "metadata": {},
   "outputs": [],
   "source": [
    "#include <stack>\n",
    "#include <iostream>\n",
    "#include <string>\n",
    "using namespace std;"
   ]
  },
  {
   "cell_type": "code",
   "execution_count": 2,
   "id": "937d3bc1",
   "metadata": {},
   "outputs": [
    {
     "name": "stderr",
     "output_type": "stream",
     "text": [
      "input_line_9:6:14: error: invalid range expression of type 'std::stack<std::__cxx11::basic_string<char>, std::deque<std::__cxx11::basic_string<char>, std::allocator<std::__cxx11::basic_string<char> > > >'; no viable 'begin' function available\n",
      "for (auto it : foo) {\n",
      "             ^ ~~~\n",
      "/opt/conda/bin/../lib/gcc/../../aarch64-conda-linux-gnu/include/c++/9.4.0/initializer_list:89:5: note: candidate template ignored: could not match 'initializer_list' against 'stack'\n",
      "    begin(initializer_list<_Tp> __ils) noexcept\n",
      "    ^\n",
      "/opt/conda/bin/../lib/gcc/../../aarch64-conda-linux-gnu/include/c++/9.4.0/bits/range_access.h:48:5: note: candidate template ignored: substitution failure [with _Container = std::stack<std::__cxx11::basic_string<char>, std::deque<std::__cxx11::basic_string<char>, std::allocator<std::__cxx11::basic_string<char> > > >]: no member named 'begin' in 'std::stack<std::__cxx11::basic_string<char>, std::deque<std::__cxx11::basic_string<char>, std::allocator<std::__cxx11::basic_string<char> > > >'\n",
      "    begin(_Container& __cont) -> decltype(__cont.begin())\n",
      "    ^                                            ~~~~~\n",
      "/opt/conda/bin/../lib/gcc/../../aarch64-conda-linux-gnu/include/c++/9.4.0/bits/range_access.h:58:5: note: candidate template ignored: substitution failure [with _Container = std::stack<std::__cxx11::basic_string<char>, std::deque<std::__cxx11::basic_string<char>, std::allocator<std::__cxx11::basic_string<char> > > >]: no member named 'begin' in 'std::stack<std::__cxx11::basic_string<char>, std::deque<std::__cxx11::basic_string<char>, std::allocator<std::__cxx11::basic_string<char> > > >'\n",
      "    begin(const _Container& __cont) -> decltype(__cont.begin())\n",
      "    ^                                                  ~~~~~\n",
      "/opt/conda/bin/../lib/gcc/../../aarch64-conda-linux-gnu/include/c++/9.4.0/bits/range_access.h:87:5: note: candidate template ignored: could not match '_Tp [_Nm]' against 'std::stack<std::__cxx11::basic_string<char>, std::deque<std::__cxx11::basic_string<char>, std::allocator<std::__cxx11::basic_string<char> > > >'\n",
      "    begin(_Tp (&__arr)[_Nm]) noexcept\n",
      "    ^\n",
      "/opt/conda/bin/../lib/gcc/../../aarch64-conda-linux-gnu/include/c++/9.4.0/valarray:1214:5: note: candidate template ignored: could not match 'valarray' against 'stack'\n",
      "    begin(valarray<_Tp>& __va)\n",
      "    ^\n",
      "/opt/conda/bin/../lib/gcc/../../aarch64-conda-linux-gnu/include/c++/9.4.0/valarray:1224:5: note: candidate template ignored: could not match 'valarray' against 'stack'\n",
      "    begin(const valarray<_Tp>& __va)\n",
      "    ^\n"
     ]
    },
    {
     "ename": "Interpreter Error",
     "evalue": "",
     "output_type": "error",
     "traceback": [
      "Interpreter Error: "
     ]
    }
   ],
   "source": [
    "stack<string> foo;\n",
    "foo.push(\"bar\");\n",
    "foo.push(\"baz\");\n",
    "foo.push(\"quux\");\n",
    "\n",
    "for (auto it : foo) {\n",
    "    cout << it << endl;\n",
    "}"
   ]
  },
  {
   "cell_type": "code",
   "execution_count": null,
   "id": "be4d179d",
   "metadata": {},
   "outputs": [],
   "source": []
  }
 ],
 "metadata": {
  "kernelspec": {
   "display_name": "C++11",
   "language": "C++11",
   "name": "xcpp11"
  },
  "language_info": {
   "codemirror_mode": "text/x-c++src",
   "file_extension": ".cpp",
   "mimetype": "text/x-c++src",
   "name": "c++",
   "version": "11"
  }
 },
 "nbformat": 4,
 "nbformat_minor": 5
}
