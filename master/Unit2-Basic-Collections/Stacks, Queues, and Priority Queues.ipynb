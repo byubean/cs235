{
 "cells": [
  {
   "cell_type": "markdown",
   "id": "89d62eb1",
   "metadata": {
    "slideshow": {
     "slide_type": "slide"
    }
   },
   "source": [
    "# Queues, Stacks, and Priority Queues"
   ]
  },
  {
   "cell_type": "code",
   "execution_count": 1,
   "id": "425cc38f",
   "metadata": {},
   "outputs": [],
   "source": [
    "#include <string>\n",
    "#include <iostream>\n",
    "#include <sstream>\n",
    "using namespace std;"
   ]
  },
  {
   "cell_type": "markdown",
   "id": "72a18d5d",
   "metadata": {
    "slideshow": {
     "slide_type": "slide"
    }
   },
   "source": [
    "## Queues"
   ]
  },
  {
   "cell_type": "markdown",
   "id": "fec66026",
   "metadata": {
    "slideshow": {
     "slide_type": "skip"
    }
   },
   "source": [
    "- FIFO\n",
    "- Add at back, remove from front\n",
    "- All about controlling behavior\n",
    "- No iterator!\n",
    "- Use-case: rolling window (lab 1), scheduling, buffering"
   ]
  },
  {
   "cell_type": "markdown",
   "id": "9cd9a843",
   "metadata": {
    "slideshow": {
     "slide_type": "fragment"
    }
   },
   "source": [
    "- Ordered\n",
    "- First-in-first-out (FIFO)\n",
    "- `front`, `push`, `pop`, `empty`"
   ]
  },
  {
   "cell_type": "code",
   "execution_count": 2,
   "id": "894af3b7",
   "metadata": {
    "slideshow": {
     "slide_type": "slide"
    }
   },
   "outputs": [],
   "source": [
    "#include <queue>"
   ]
  },
  {
   "cell_type": "code",
   "execution_count": 3,
   "id": "54841351",
   "metadata": {},
   "outputs": [
    {
     "name": "stdout",
     "output_type": "stream",
     "text": [
      "Abinadi\n",
      "Zeniff\n",
      "Pahoran\n",
      "Kishkuman\n",
      "Nephi\n",
      "Lehi\n"
     ]
    }
   ],
   "source": [
    "queue<string> names;\n",
    "\n",
    "names.push(\"Abinadi\");\n",
    "names.push(\"Zeniff\");\n",
    "names.push(\"Pahoran\");\n",
    "names.push(\"Kishkuman\");\n",
    "names.push(\"Nephi\");\n",
    "names.push(\"Lehi\");\n",
    "\n",
    "while (!names.empty()) {\n",
    "    cout << names.front() << endl;\n",
    "    names.pop();\n",
    "}"
   ]
  },
  {
   "cell_type": "markdown",
   "id": "f9723e2d",
   "metadata": {
    "slideshow": {
     "slide_type": "slide"
    }
   },
   "source": [
    "### Use Cases for Queues\n",
    "- When insertion order should be preserved\n",
    "- When access to any element but the front is not allowed"
   ]
  },
  {
   "cell_type": "markdown",
   "id": "1279e329",
   "metadata": {
    "slideshow": {
     "slide_type": "slide"
    }
   },
   "source": [
    "### How would you implement a queue?"
   ]
  },
  {
   "cell_type": "markdown",
   "id": "e1edb4d8",
   "metadata": {
    "slideshow": {
     "slide_type": "fragment"
    }
   },
   "source": [
    "If you use an array under the hood, what happens when you add an element in the back?\n",
    "\n",
    "What happens when you remove the front element?"
   ]
  },
  {
   "cell_type": "markdown",
   "id": "c8ad9030",
   "metadata": {},
   "source": [
    "### Big ideas\n",
    "- Queues can be more efficient than other structures when you can follow the queue contract: first-in-first-out"
   ]
  },
  {
   "cell_type": "markdown",
   "id": "4233194f",
   "metadata": {
    "slideshow": {
     "slide_type": "slide"
    }
   },
   "source": [
    "## Stacks"
   ]
  },
  {
   "cell_type": "markdown",
   "id": "75586426",
   "metadata": {
    "slideshow": {
     "slide_type": "skip"
    }
   },
   "source": [
    "- Last-in-first-out (LIFO)\n",
    "- abstract interface: `push`, `pop`, `top`, `empty`\n",
    "- C++ STD library `stack`\n",
    "- Demonstration\n",
    "- Use-case: Reversal, matching parens, undo, call stack\n",
    "    - In class: reversal and matching parens"
   ]
  },
  {
   "cell_type": "markdown",
   "id": "881a24b1",
   "metadata": {},
   "source": [
    "- Ordered (but not \"insertion\" order!)\n",
    "- Last-in-first-out (LIFO)\n",
    "- `push`, `pop`, `top`, `empty`"
   ]
  },
  {
   "cell_type": "code",
   "execution_count": 4,
   "id": "6818a7bb",
   "metadata": {},
   "outputs": [],
   "source": [
    "#include <stack>"
   ]
  },
  {
   "cell_type": "code",
   "execution_count": 5,
   "id": "9d73951e",
   "metadata": {},
   "outputs": [
    {
     "name": "stdout",
     "output_type": "stream",
     "text": [
      "Lehi\n",
      "Nephi\n",
      "Kishkuman\n",
      "Pahoran\n",
      "Zeniff\n",
      "Abinadi\n"
     ]
    }
   ],
   "source": [
    "stack<string> names;\n",
    "\n",
    "names.push(\"Abinadi\");\n",
    "names.push(\"Zeniff\");\n",
    "names.push(\"Pahoran\");\n",
    "names.push(\"Kishkuman\");\n",
    "names.push(\"Nephi\");\n",
    "names.push(\"Lehi\");\n",
    "\n",
    "while (!names.empty()) {\n",
    "    cout << names.top() << endl;\n",
    "    names.pop();\n",
    "}"
   ]
  },
  {
   "cell_type": "markdown",
   "id": "9093adbd",
   "metadata": {
    "slideshow": {
     "slide_type": "slide"
    }
   },
   "source": [
    "### Use Cases for Stacks"
   ]
  },
  {
   "cell_type": "markdown",
   "id": "fdafb8df",
   "metadata": {
    "slideshow": {
     "slide_type": "fragment"
    }
   },
   "source": [
    "- Nested problems\n",
    "  - Backing out of something the same way you went in, retracing steps\n",
    "  - When a sub-problem has the same quality as the primary problem\n",
    "    - Solving a maze\n",
    "    - Boggle\n",
    "  - Inception! 😴 😴 😴"
   ]
  },
  {
   "cell_type": "markdown",
   "id": "a98fb857",
   "metadata": {
    "slideshow": {
     "slide_type": "fragment"
    }
   },
   "source": [
    "- Symmetric problems\n",
    "  - matching parentheses\n",
    "  - chiasmus, palindromes"
   ]
  },
  {
   "cell_type": "markdown",
   "id": "6c840025",
   "metadata": {
    "slideshow": {
     "slide_type": "fragment"
    }
   },
   "source": [
    "- Memory allocation for functions!\n",
    "  - the \"stack\" is...a stack!"
   ]
  },
  {
   "cell_type": "markdown",
   "id": "2a17827a",
   "metadata": {
    "slideshow": {
     "slide_type": "fragment"
    }
   },
   "source": [
    "  \n",
    "<div class=\"big centered\"> 🤯 </div>"
   ]
  },
  {
   "cell_type": "code",
   "execution_count": null,
   "id": "b431b2c6",
   "metadata": {},
   "outputs": [],
   "source": [
    "void A() {\n",
    "    // What is the call stack contents at this point?\n",
    "}\n",
    "void B() {\n",
    "    A();\n",
    "}\n",
    "void C() {\n",
    "    B();\n",
    "}\n",
    "\n",
    "int main() {\n",
    "    C();\n",
    "    B();\n",
    "    C();\n",
    "}"
   ]
  },
  {
   "cell_type": "markdown",
   "id": "42187702",
   "metadata": {},
   "source": [
    "```\n",
    "0: main\n",
    "1: C\n",
    "2: B\n",
    "3: A\n",
    "```"
   ]
  },
  {
   "cell_type": "markdown",
   "id": "fa197899",
   "metadata": {
    "slideshow": {
     "slide_type": "slide"
    }
   },
   "source": [
    "### How would you implement a stack?"
   ]
  },
  {
   "cell_type": "markdown",
   "id": "1b517257",
   "metadata": {
    "slideshow": {
     "slide_type": "slide"
    }
   },
   "source": [
    "### Big Ideas for Stacks\n",
    "- Allows us to implement algorithms with nested, symmetric, or reversing qualities\n",
    "- Simple to implement efficiently"
   ]
  },
  {
   "cell_type": "markdown",
   "id": "a2ef7e34",
   "metadata": {
    "slideshow": {
     "slide_type": "slide"
    }
   },
   "source": [
    "## Priority Queues"
   ]
  },
  {
   "cell_type": "markdown",
   "id": "49218f5f",
   "metadata": {
    "slideshow": {
     "slide_type": "skip"
    }
   },
   "source": [
    "- Auto-sorted\n",
    "- Uses heap under the hood\n",
    "- No iterator!\n",
    "- Use-case: Dijkstra's algorithm, sort-as-you-go, triage\n",
    "- `push`, `pop`, `top`\n"
   ]
  },
  {
   "cell_type": "markdown",
   "id": "271405b4",
   "metadata": {
    "slideshow": {
     "slide_type": "fragment"
    }
   },
   "source": [
    "- Ordered (sorted!)\n",
    "- `top`, `push`, `pop`\n",
    "\n",
    "https://en.cppreference.com/w/cpp/container/priority_queue"
   ]
  },
  {
   "cell_type": "code",
   "execution_count": null,
   "id": "8a5c9d9b",
   "metadata": {
    "slideshow": {
     "slide_type": "slide"
    }
   },
   "outputs": [],
   "source": [
    "#include <queue>"
   ]
  },
  {
   "cell_type": "code",
   "execution_count": 13,
   "id": "65590bc9",
   "metadata": {},
   "outputs": [
    {
     "data": {
      "text/plain": [
       "true"
      ]
     },
     "execution_count": 13,
     "metadata": {},
     "output_type": "execute_result"
    }
   ],
   "source": [
    "'A' < 'a'"
   ]
  },
  {
   "cell_type": "code",
   "execution_count": 9,
   "id": "22c3d1db",
   "metadata": {},
   "outputs": [
    {
     "data": {
      "text/plain": [
       "97"
      ]
     },
     "execution_count": 9,
     "metadata": {},
     "output_type": "execute_result"
    }
   ],
   "source": [
    "(int)'a'"
   ]
  },
  {
   "cell_type": "code",
   "execution_count": 10,
   "id": "e055b95b",
   "metadata": {},
   "outputs": [
    {
     "data": {
      "text/plain": [
       "98"
      ]
     },
     "execution_count": 10,
     "metadata": {},
     "output_type": "execute_result"
    }
   ],
   "source": [
    "(int)'b'"
   ]
  },
  {
   "cell_type": "code",
   "execution_count": 8,
   "id": "cc2cff7a",
   "metadata": {},
   "outputs": [
    {
     "data": {
      "text/plain": [
       "false"
      ]
     },
     "execution_count": 8,
     "metadata": {},
     "output_type": "execute_result"
    }
   ],
   "source": [
    "'a' < 'A'"
   ]
  },
  {
   "cell_type": "code",
   "execution_count": 11,
   "id": "eeef0279",
   "metadata": {},
   "outputs": [
    {
     "name": "stdout",
     "output_type": "stream",
     "text": [
      "8\n",
      "7\n",
      "2\n"
     ]
    }
   ],
   "source": [
    "priority_queue<int> numbers;\n",
    "numbers.push(7);\n",
    "numbers.push(8);\n",
    "numbers.push(2);\n",
    "\n",
    "while (!numbers.empty()) {\n",
    "    cout << numbers.top() << endl;\n",
    "    numbers.pop();\n",
    "}"
   ]
  },
  {
   "cell_type": "code",
   "execution_count": 12,
   "id": "c18ae641",
   "metadata": {},
   "outputs": [
    {
     "name": "stdout",
     "output_type": "stream",
     "text": [
      "abinadi\n",
      "Zeniff\n",
      "Pahoran\n",
      "Nephi\n",
      "Lehi\n",
      "Kishkuman\n",
      "Abinadi\n"
     ]
    }
   ],
   "source": [
    "priority_queue<string> names;\n",
    "\n",
    "names.push(\"Abinadi\");\n",
    "names.push(\"Zeniff\");\n",
    "names.push(\"Pahoran\");\n",
    "names.push(\"abinadi\");\n",
    "names.push(\"Kishkuman\");\n",
    "names.push(\"Nephi\");\n",
    "names.push(\"Lehi\");\n",
    "\n",
    "while (!names.empty()) {\n",
    "    cout << names.top() << endl;\n",
    "    names.pop();\n",
    "}"
   ]
  },
  {
   "cell_type": "markdown",
   "id": "0189761c",
   "metadata": {
    "slideshow": {
     "slide_type": "fragment"
    }
   },
   "source": [
    "By default, \"smaller\" items come out last."
   ]
  },
  {
   "cell_type": "code",
   "execution_count": 14,
   "id": "14afc11e",
   "metadata": {
    "slideshow": {
     "slide_type": "slide"
    }
   },
   "outputs": [
    {
     "name": "stdout",
     "output_type": "stream",
     "text": [
      "Abinadi\n",
      "Kishkuman\n",
      "Lehi\n",
      "Nephi\n",
      "Pahoran\n",
      "Zeniff\n"
     ]
    }
   ],
   "source": [
    "priority_queue<string, vector<string>, greater<string>> names;\n",
    "//                                     ^^^^\n",
    "// What you put as the comparer defines what items come out LAST, not first\n",
    "// It may be counter intuitive to some. You've been warned. :)\n",
    "\n",
    "names.push(\"Abinadi\");\n",
    "names.push(\"Zeniff\");\n",
    "names.push(\"Pahoran\");\n",
    "names.push(\"Kishkuman\");\n",
    "names.push(\"Nephi\");\n",
    "names.push(\"Lehi\");\n",
    "\n",
    "while (!names.empty()) {\n",
    "    cout << names.top() << endl;\n",
    "    names.pop();\n",
    "}"
   ]
  },
  {
   "cell_type": "markdown",
   "id": "7e85f68d",
   "metadata": {
    "slideshow": {
     "slide_type": "slide"
    }
   },
   "source": [
    "### Use Cases for Priority Queues\n",
    "- Triage, prioritization\n",
    "  - Emergency room\n",
    "  - OS process scheduling\n",
    "  - Memory allocation (hint: priority queues are typically implemented using a structure called a \"heap\")\n",
    "- Solving least-cost paths (more on this in CS 312!)"
   ]
  },
  {
   "cell_type": "markdown",
   "id": "983283b6",
   "metadata": {
    "slideshow": {
     "slide_type": "slide"
    }
   },
   "source": [
    "### How would you implement a priority queue?"
   ]
  },
  {
   "cell_type": "markdown",
   "id": "a6bdded5",
   "metadata": {
    "slideshow": {
     "slide_type": "slide"
    }
   },
   "source": [
    "### Big Ideas for Priority Queues\n",
    "- Useful for keeping items sorted as we go\n",
    "- Nicely implements the concept of prioritization"
   ]
  },
  {
   "cell_type": "markdown",
   "id": "49c59891",
   "metadata": {
    "slideshow": {
     "slide_type": "slide"
    }
   },
   "source": [
    "## Stacks in Action!"
   ]
  },
  {
   "cell_type": "markdown",
   "id": "2250c6bb",
   "metadata": {
    "slideshow": {
     "slide_type": "slide"
    }
   },
   "source": [
    "### Postfix notation\n",
    "\n",
    "```\n",
    "3 1 2 + + 5 *\n",
    "```\n",
    "\n",
    "- 3 -> stack (3)\n",
    "- 1 -> stack (1, 3)\n",
    "- 2 -> stack (2, 1, 3)\n",
    "- `+` -> pop 2, pop 1, add => 3 -> stack (3, 3)\n",
    "- `+` -> pop 3, pop 3, add => 6 -> stack (6)\n",
    "- 5 -> stack (5, 6)\n",
    "- `*` -> pop 5, pop 6, multiply => 30\n",
    "- all done!"
   ]
  },
  {
   "cell_type": "code",
   "execution_count": 15,
   "id": "a10892ba",
   "metadata": {
    "slideshow": {
     "slide_type": "slide"
    }
   },
   "outputs": [],
   "source": [
    "#include <ctype.h>"
   ]
  },
  {
   "cell_type": "code",
   "execution_count": 17,
   "id": "56b39741",
   "metadata": {},
   "outputs": [
    {
     "data": {
      "text/plain": [
       "50"
      ]
     },
     "execution_count": 17,
     "metadata": {},
     "output_type": "execute_result"
    }
   ],
   "source": [
    "(int)'2'"
   ]
  },
  {
   "cell_type": "code",
   "execution_count": 18,
   "id": "a416ffbe",
   "metadata": {},
   "outputs": [
    {
     "data": {
      "text/plain": [
       "48"
      ]
     },
     "execution_count": 18,
     "metadata": {},
     "output_type": "execute_result"
    }
   ],
   "source": [
    "(int)'0'"
   ]
  },
  {
   "cell_type": "code",
   "execution_count": 16,
   "id": "07fe6802",
   "metadata": {},
   "outputs": [
    {
     "data": {
      "text/plain": [
       "2"
      ]
     },
     "execution_count": 16,
     "metadata": {},
     "output_type": "execute_result"
    }
   ],
   "source": [
    "(int)'2' - (int)'0'\n"
   ]
  },
  {
   "cell_type": "code",
   "execution_count": 32,
   "id": "f66892fc",
   "metadata": {},
   "outputs": [],
   "source": [
    "double evaluate(string const& expression) {\n",
    "    // assume single digit numbers\n",
    "    stack<double> pending;\n",
    "    for (int i = 0; i < expression.length(); i++) {\n",
    "        char c = expression[i];\n",
    "        if (isspace(c)) {\n",
    "            // ignore it\n",
    "            continue;\n",
    "        }\n",
    "        else if (isdigit(c)) {\n",
    "            // Simple hack: to get the numeric value of a single char '0' - '9',\n",
    "            // You can subtrac '0'\n",
    "            // i.e. '2' - '0' \n",
    "            pending.push(c - '0');\n",
    "            \n",
    "        } else {\n",
    "            double a = pending.top();\n",
    "            pending.pop();\n",
    "            \n",
    "            double b = pending.top();\n",
    "            pending.pop();\n",
    "\n",
    "            if (c == '+') {\n",
    "                pending.push(b + a);\n",
    "            } else if (c == '*') {\n",
    "                pending.push(b * a);\n",
    "            } else if (c == '-') {\n",
    "                pending.push(b - a);\n",
    "            } else if (c == '/') {\n",
    "                pending.push(b / a);\n",
    "            } else {\n",
    "                cerr << \"unrecognized operand: \" << c << endl;\n",
    "            }\n",
    "        }\n",
    "    }\n",
    "    return pending.top();\n",
    "}"
   ]
  },
  {
   "cell_type": "code",
   "execution_count": 33,
   "id": "6f2dffd7",
   "metadata": {},
   "outputs": [
    {
     "data": {
      "text/plain": [
       "30.000000"
      ]
     },
     "execution_count": 33,
     "metadata": {},
     "output_type": "execute_result"
    }
   ],
   "source": [
    "evaluate(\"3 1 2 + + 5 *\")"
   ]
  },
  {
   "cell_type": "code",
   "execution_count": 34,
   "id": "608b71f0",
   "metadata": {},
   "outputs": [
    {
     "data": {
      "text/plain": [
       "3.0000000"
      ]
     },
     "execution_count": 34,
     "metadata": {},
     "output_type": "execute_result"
    }
   ],
   "source": [
    "evaluate(\"6 2 /\")"
   ]
  },
  {
   "cell_type": "code",
   "execution_count": 35,
   "id": "0fc106a5",
   "metadata": {},
   "outputs": [
    {
     "data": {
      "text/plain": [
       "0.33333333"
      ]
     },
     "execution_count": 35,
     "metadata": {},
     "output_type": "execute_result"
    }
   ],
   "source": [
    "evaluate(\"2 6 /\")"
   ]
  },
  {
   "cell_type": "code",
   "execution_count": 22,
   "id": "fd54b209",
   "metadata": {},
   "outputs": [
    {
     "data": {
      "text/plain": [
       "3"
      ]
     },
     "execution_count": 22,
     "metadata": {},
     "output_type": "execute_result"
    }
   ],
   "source": [
    "evaluate(\"3 1 1 + * 1 1 + /\")"
   ]
  },
  {
   "cell_type": "markdown",
   "id": "6b2ede6b",
   "metadata": {
    "slideshow": {
     "slide_type": "slide"
    }
   },
   "source": [
    "## Homework\n",
    "- Take the stacks, queues, and priority queues quiz on Canvas\n",
    "- Start Lab2!\n",
    "  - <https://byu.instructure.com/courses/13601/assignments/562936?module_item_id=1238566>"
   ]
  }
 ],
 "metadata": {
  "celltoolbar": "Slideshow",
  "kernelspec": {
   "display_name": "C++11",
   "language": "C++11",
   "name": "xcpp11"
  },
  "language_info": {
   "codemirror_mode": "text/x-c++src",
   "file_extension": ".cpp",
   "mimetype": "text/x-c++src",
   "name": "c++",
   "version": "11"
  }
 },
 "nbformat": 4,
 "nbformat_minor": 5
}
