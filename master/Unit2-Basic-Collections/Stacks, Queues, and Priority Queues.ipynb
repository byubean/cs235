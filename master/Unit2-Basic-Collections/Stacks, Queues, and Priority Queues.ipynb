{
 "cells": [
  {
   "cell_type": "markdown",
   "id": "89d62eb1",
   "metadata": {
    "slideshow": {
     "slide_type": "slide"
    }
   },
   "source": [
    "# Queues, Stacks, and Priority Queues"
   ]
  },
  {
   "cell_type": "code",
   "execution_count": null,
   "id": "425cc38f",
   "metadata": {},
   "outputs": [],
   "source": [
    "#include <string>\n",
    "#include <iostream>\n",
    "#include <sstream>\n",
    "using namespace std;"
   ]
  },
  {
   "cell_type": "markdown",
   "id": "72a18d5d",
   "metadata": {
    "slideshow": {
     "slide_type": "slide"
    }
   },
   "source": [
    "## Queues"
   ]
  },
  {
   "cell_type": "markdown",
   "id": "fec66026",
   "metadata": {
    "slideshow": {
     "slide_type": "skip"
    }
   },
   "source": [
    "- FIFO\n",
    "- Add at back, remove from front\n",
    "- All about controlling behavior\n",
    "- No iterator!\n",
    "- Use-case: rolling window (lab 1), scheduling, buffering"
   ]
  },
  {
   "cell_type": "markdown",
   "id": "9cd9a843",
   "metadata": {
    "slideshow": {
     "slide_type": "fragment"
    }
   },
   "source": [
    "- Ordered\n",
    "- First-in-first-out (FIFO)\n",
    "- `front`, `push`, `pop`, `empty`"
   ]
  },
  {
   "cell_type": "code",
   "execution_count": 6,
   "id": "894af3b7",
   "metadata": {
    "slideshow": {
     "slide_type": "slide"
    }
   },
   "outputs": [],
   "source": [
    "#include <queue>"
   ]
  },
  {
   "cell_type": "code",
   "execution_count": 9,
   "id": "54841351",
   "metadata": {},
   "outputs": [
    {
     "name": "stdout",
     "output_type": "stream",
     "text": [
      "Abinadi\n",
      "Zeniff\n",
      "Pahoran\n",
      "Kishkuman\n",
      "Nephi\n",
      "Lehi\n"
     ]
    }
   ],
   "source": [
    "queue<string> names;\n",
    "\n",
    "names.push(\"Abinadi\");\n",
    "names.push(\"Zeniff\");\n",
    "names.push(\"Pahoran\");\n",
    "names.push(\"Kishkuman\");\n",
    "names.push(\"Nephi\");\n",
    "names.push(\"Lehi\");\n",
    "\n",
    "while (!names.empty()) {\n",
    "    cout << names.front() << endl;\n",
    "    names.pop();\n",
    "}"
   ]
  },
  {
   "cell_type": "markdown",
   "id": "f9723e2d",
   "metadata": {
    "slideshow": {
     "slide_type": "slide"
    }
   },
   "source": [
    "### Use Cases for Queues\n",
    "- When insertion order should be preserved\n",
    "- When access to any element but the front is not allowed"
   ]
  },
  {
   "cell_type": "markdown",
   "id": "1279e329",
   "metadata": {
    "slideshow": {
     "slide_type": "slide"
    }
   },
   "source": [
    "### How would you implement a queue?"
   ]
  },
  {
   "cell_type": "markdown",
   "id": "e1edb4d8",
   "metadata": {
    "slideshow": {
     "slide_type": "fragment"
    }
   },
   "source": [
    "If you use an array under the hood, what happens when you add an element in the back?\n",
    "\n",
    "What happens when you remove the front element?"
   ]
  },
  {
   "cell_type": "markdown",
   "id": "c8ad9030",
   "metadata": {},
   "source": [
    "### Big ideas\n",
    "- Queues can be more efficient than other structures when you can follow the queue contract: first-in-first-out"
   ]
  },
  {
   "cell_type": "markdown",
   "id": "4233194f",
   "metadata": {},
   "source": [
    "## Stacks"
   ]
  },
  {
   "cell_type": "markdown",
   "id": "75586426",
   "metadata": {
    "slideshow": {
     "slide_type": "skip"
    }
   },
   "source": [
    "- Last-in-first-out (LIFO)\n",
    "- abstract interface: `push`, `pop`, `top`, `empty`\n",
    "- C++ STD library `stack`\n",
    "- Demonstration\n",
    "- Use-case: Reversal, matching parens, undo, call stack\n",
    "    - In class: reversal and matching parens"
   ]
  },
  {
   "cell_type": "markdown",
   "id": "881a24b1",
   "metadata": {},
   "source": [
    "- Ordered (but not \"insertion\" order!)\n",
    "- Last-in-first-out (LIFO)\n",
    "- `push`, `pop`, `top`, `empty`"
   ]
  },
  {
   "cell_type": "code",
   "execution_count": 1,
   "id": "6818a7bb",
   "metadata": {},
   "outputs": [],
   "source": [
    "#include <stack>"
   ]
  },
  {
   "cell_type": "code",
   "execution_count": 10,
   "id": "9d73951e",
   "metadata": {},
   "outputs": [
    {
     "name": "stdout",
     "output_type": "stream",
     "text": [
      "Lehi\n",
      "Nephi\n",
      "Kishkuman\n",
      "Pahoran\n",
      "Zeniff\n",
      "Abinadi\n"
     ]
    }
   ],
   "source": [
    "stack<string> names;\n",
    "\n",
    "names.push(\"Abinadi\");\n",
    "names.push(\"Zeniff\");\n",
    "names.push(\"Pahoran\");\n",
    "names.push(\"Kishkuman\");\n",
    "names.push(\"Nephi\");\n",
    "names.push(\"Lehi\");\n",
    "\n",
    "while (!names.empty()) {\n",
    "    cout << names.top() << endl;\n",
    "    names.pop();\n",
    "}"
   ]
  },
  {
   "cell_type": "markdown",
   "id": "9093adbd",
   "metadata": {
    "slideshow": {
     "slide_type": "slide"
    }
   },
   "source": [
    "### Use Cases for Stacks"
   ]
  },
  {
   "cell_type": "markdown",
   "id": "fdafb8df",
   "metadata": {
    "slideshow": {
     "slide_type": "fragment"
    }
   },
   "source": [
    "- Nested problems\n",
    "  - Backing out of something the same way you went in, retracing steps\n",
    "  - When a sub-problem has the same quality as the primary problem\n",
    "    - Solving a maze\n",
    "    - Boggle\n",
    "  - Inception! 😴 😴 😴"
   ]
  },
  {
   "cell_type": "markdown",
   "id": "a98fb857",
   "metadata": {
    "slideshow": {
     "slide_type": "fragment"
    }
   },
   "source": [
    "- Symmetric problems\n",
    "  - matching parentheses\n",
    "  - chiasmus, palindromes"
   ]
  },
  {
   "cell_type": "markdown",
   "id": "6c840025",
   "metadata": {
    "slideshow": {
     "slide_type": "fragment"
    }
   },
   "source": [
    "- Memory allocation for functions!\n",
    "  - the \"stack\" is...a stack!"
   ]
  },
  {
   "cell_type": "markdown",
   "id": "2a17827a",
   "metadata": {
    "slideshow": {
     "slide_type": "fragment"
    }
   },
   "source": [
    "  \n",
    "<div class=\"big centered\"> 🤯 </div>"
   ]
  },
  {
   "cell_type": "markdown",
   "id": "2d927663",
   "metadata": {},
   "source": [
    "```c++\n",
    "void A() {\n",
    "    // What is the call stack contents at this point?\n",
    "}\n",
    "void B() {\n",
    "    A();\n",
    "}\n",
    "void C() {\n",
    "    B();\n",
    "}\n",
    "\n",
    "int main() {\n",
    "    C();\n",
    "}\n",
    "```"
   ]
  },
  {
   "cell_type": "markdown",
   "id": "42187702",
   "metadata": {},
   "source": [
    "```\n",
    "0: main\n",
    "1: C\n",
    "2: B\n",
    "3: A\n",
    "```"
   ]
  },
  {
   "cell_type": "markdown",
   "id": "fa197899",
   "metadata": {
    "slideshow": {
     "slide_type": "slide"
    }
   },
   "source": [
    "### How would you implement a stack?"
   ]
  },
  {
   "cell_type": "markdown",
   "id": "1b517257",
   "metadata": {
    "slideshow": {
     "slide_type": "slide"
    }
   },
   "source": [
    "### Big Ideas for Stacks\n",
    "- Allows us to implement algorithms with nested, symmetric, or reversing qualities\n",
    "- Simple to implement efficiently"
   ]
  },
  {
   "cell_type": "markdown",
   "id": "a2ef7e34",
   "metadata": {
    "slideshow": {
     "slide_type": "slide"
    }
   },
   "source": [
    "## Priority Queues"
   ]
  },
  {
   "cell_type": "markdown",
   "id": "49218f5f",
   "metadata": {
    "slideshow": {
     "slide_type": "skip"
    }
   },
   "source": [
    "- Auto-sorted\n",
    "- Uses heap under the hood\n",
    "- No iterator!\n",
    "- Use-case: Dijkstra's algorithm, sort-as-you-go, triage\n",
    "- `push`, `pop`, `top`\n"
   ]
  },
  {
   "cell_type": "markdown",
   "id": "271405b4",
   "metadata": {
    "slideshow": {
     "slide_type": "fragment"
    }
   },
   "source": [
    "- Ordered (sorted!)\n",
    "- `top`, `push`, `pop`"
   ]
  },
  {
   "cell_type": "code",
   "execution_count": 2,
   "id": "8a5c9d9b",
   "metadata": {
    "slideshow": {
     "slide_type": "slide"
    }
   },
   "outputs": [],
   "source": [
    "#include <queue>"
   ]
  },
  {
   "cell_type": "code",
   "execution_count": 12,
   "id": "c18ae641",
   "metadata": {},
   "outputs": [
    {
     "name": "stdout",
     "output_type": "stream",
     "text": [
      "Zeniff\n",
      "Pahoran\n",
      "Nephi\n",
      "Lehi\n",
      "Kishkuman\n",
      "Abinadi\n"
     ]
    }
   ],
   "source": [
    "priority_queue<string> names;\n",
    "\n",
    "names.push(\"Abinadi\");\n",
    "names.push(\"Zeniff\");\n",
    "names.push(\"Pahoran\");\n",
    "names.push(\"Kishkuman\");\n",
    "names.push(\"Nephi\");\n",
    "names.push(\"Lehi\");\n",
    "\n",
    "while (!names.empty()) {\n",
    "    cout << names.top() << endl;\n",
    "    names.pop();\n",
    "}"
   ]
  },
  {
   "cell_type": "markdown",
   "id": "0189761c",
   "metadata": {
    "slideshow": {
     "slide_type": "fragment"
    }
   },
   "source": [
    "By default, \"smaller\" items come out last."
   ]
  },
  {
   "cell_type": "code",
   "execution_count": 14,
   "id": "14afc11e",
   "metadata": {
    "slideshow": {
     "slide_type": "slide"
    }
   },
   "outputs": [
    {
     "name": "stdout",
     "output_type": "stream",
     "text": [
      "Abinadi\n",
      "Kishkuman\n",
      "Lehi\n",
      "Nephi\n",
      "Pahoran\n",
      "Zeniff\n"
     ]
    }
   ],
   "source": [
    "priority_queue<string, vector<string>, greater<string>> names;\n",
    "//                                     ^^^^\n",
    "// What you put as the comparer defines what items come out LAST, not first\n",
    "// It may be counter intuitive to some. You've been warned. :)\n",
    "\n",
    "names.push(\"Abinadi\");\n",
    "names.push(\"Zeniff\");\n",
    "names.push(\"Pahoran\");\n",
    "names.push(\"Kishkuman\");\n",
    "names.push(\"Nephi\");\n",
    "names.push(\"Lehi\");\n",
    "\n",
    "while (!names.empty()) {\n",
    "    cout << names.top() << endl;\n",
    "    names.pop();\n",
    "}"
   ]
  },
  {
   "cell_type": "markdown",
   "id": "7e85f68d",
   "metadata": {
    "slideshow": {
     "slide_type": "slide"
    }
   },
   "source": [
    "### Use Cases for Priority Queues\n",
    "- Triage, prioritization\n",
    "  - Emergency room\n",
    "  - OS process scheduling\n",
    "  - Memory allocation (hint: priority queues are typically implemented using a structure called a \"heap\")\n",
    "- Solving least-cost paths (more on this in CS 312!)"
   ]
  },
  {
   "cell_type": "markdown",
   "id": "983283b6",
   "metadata": {
    "slideshow": {
     "slide_type": "slide"
    }
   },
   "source": [
    "### How would you implement a priority queue?"
   ]
  },
  {
   "cell_type": "markdown",
   "id": "a6bdded5",
   "metadata": {
    "slideshow": {
     "slide_type": "slide"
    }
   },
   "source": [
    "### Big Ideas for Priority Queues\n",
    "- Useful for keeping items sorted as we go\n",
    "- Nicely implements the concept of prioritization"
   ]
  },
  {
   "cell_type": "markdown",
   "id": "49c59891",
   "metadata": {
    "slideshow": {
     "slide_type": "slide"
    }
   },
   "source": [
    "## Stacks in Action!"
   ]
  },
  {
   "cell_type": "markdown",
   "id": "a9044c6b",
   "metadata": {},
   "source": [
    "### Matching Parentheses\n",
    "\n",
    "For a sequence of characters with contain parentheses (`(` and `)`), can I tell whether they are matched?"
   ]
  },
  {
   "cell_type": "code",
   "execution_count": 20,
   "id": "f6699140",
   "metadata": {},
   "outputs": [],
   "source": [
    "bool matchParens(string const& content) {\n",
    "    // Does the content have matched parentheses?\n",
    "    \n",
    "}\n"
   ]
  },
  {
   "cell_type": "code",
   "execution_count": 21,
   "id": "8218636a",
   "metadata": {},
   "outputs": [
    {
     "name": "stdout",
     "output_type": "stream",
     "text": [
      "Found matched pair: 0, 1\n"
     ]
    },
    {
     "data": {
      "text/plain": [
       "true"
      ]
     },
     "execution_count": 21,
     "metadata": {},
     "output_type": "execute_result"
    }
   ],
   "source": [
    "matchParens(\"()\")"
   ]
  },
  {
   "cell_type": "code",
   "execution_count": 17,
   "id": "3eef70ac",
   "metadata": {
    "slideshow": {
     "slide_type": "slide"
    }
   },
   "outputs": [
    {
     "name": "stdout",
     "output_type": "stream",
     "text": [
      "Found matched pair: 10, 20\n",
      "Found matched pair: 36, 48\n",
      "Found matched pair: 21, 49\n",
      "Found matched pair: 2, 58\n"
     ]
    },
    {
     "data": {
      "text/plain": [
       "true"
      ]
     },
     "execution_count": 17,
     "metadata": {},
     "output_type": "execute_result"
    }
   ],
   "source": [
    "matchParens(\"aa(adfakl;(baljlkwer)(asdalskdjasdas(fasdfafsdaa))asdfasdf)\")"
   ]
  },
  {
   "cell_type": "code",
   "execution_count": 18,
   "id": "d355e5fd",
   "metadata": {
    "slideshow": {
     "slide_type": "slide"
    }
   },
   "outputs": [
    {
     "name": "stdout",
     "output_type": "stream",
     "text": [
      "Found matched pair: 3, 4\n",
      "Found matched pair: 2, 5\n",
      "Found matched pair: 1, 6\n",
      "Found matched pair: 0, 7\n"
     ]
    },
    {
     "data": {
      "text/plain": [
       "true"
      ]
     },
     "execution_count": 18,
     "metadata": {},
     "output_type": "execute_result"
    }
   ],
   "source": [
    "matchParens(\"(((())))\")"
   ]
  },
  {
   "cell_type": "code",
   "execution_count": 19,
   "id": "50f62e06",
   "metadata": {
    "slideshow": {
     "slide_type": "slide"
    }
   },
   "outputs": [
    {
     "name": "stdout",
     "output_type": "stream",
     "text": [
      "Found matched pair: 3, 4\n",
      "Found matched pair: 2, 5\n"
     ]
    },
    {
     "name": "stderr",
     "output_type": "stream",
     "text": [
      "Missing closing paren for open paren at 1\n",
      "Missing closing paren for open paren at 0\n"
     ]
    },
    {
     "data": {
      "text/plain": [
       "false"
      ]
     },
     "execution_count": 19,
     "metadata": {},
     "output_type": "execute_result"
    }
   ],
   "source": [
    "matchParens(\"(((())\")"
   ]
  },
  {
   "cell_type": "code",
   "execution_count": 20,
   "id": "d0d6da3b",
   "metadata": {
    "slideshow": {
     "slide_type": "slide"
    }
   },
   "outputs": [
    {
     "name": "stdout",
     "output_type": "stream",
     "text": [
      "Found matched pair: 1, 2\n",
      "Found matched pair: 0, 3\n"
     ]
    },
    {
     "name": "stderr",
     "output_type": "stream",
     "text": [
      "Found a closing paren at 4 with no match\n"
     ]
    },
    {
     "name": "stdout",
     "output_type": "stream",
     "text": [
      "Found matched pair: 6, 18\n",
      "Found matched pair: 5, 19\n"
     ]
    },
    {
     "name": "stderr",
     "output_type": "stream",
     "text": [
      "Found a closing paren at 20 with no match\n",
      "Found a closing paren at 21 with no match\n",
      "Found a closing paren at 22 with no match\n"
     ]
    },
    {
     "data": {
      "text/plain": [
       "false"
      ]
     },
     "execution_count": 20,
     "metadata": {},
     "output_type": "execute_result"
    }
   ],
   "source": [
    "matchParens(\"(()))((😵‍💫)))))\")"
   ]
  },
  {
   "cell_type": "markdown",
   "id": "eeff37a7",
   "metadata": {
    "slideshow": {
     "slide_type": "slide"
    }
   },
   "source": [
    "Could you modify the code to match different kinds of parentheses? `()`, `[]`, `{}`, `<>`"
   ]
  },
  {
   "cell_type": "markdown",
   "id": "878d668b",
   "metadata": {
    "slideshow": {
     "slide_type": "slide"
    }
   },
   "source": [
    "### Pre-baked cake!\n",
    "\n",
    "<div class=\"big centered\"> 👨🏻‍🍳 🍰 </div>"
   ]
  },
  {
   "cell_type": "code",
   "execution_count": 15,
   "id": "91e75898",
   "metadata": {},
   "outputs": [],
   "source": [
    "bool matchParens(string const& content) {\n",
    "    bool matched = true;\n",
    "    stack<int> openParens;\n",
    "    for (int i = 0; i < content.length(); i++) {\n",
    "        char c = content[i];\n",
    "        if (c == '(') {\n",
    "            openParens.push(i);\n",
    "        } else if (c == ')') {\n",
    "            if (openParens.empty()) {\n",
    "                cerr << \"Found a closing paren at \" << i << \" with no match\" << endl;\n",
    "                matched = false;\n",
    "            } else {\n",
    "                cout << \"Found matched pair: \" << openParens.top() << \", \" << i << endl;\n",
    "                openParens.pop();\n",
    "            }\n",
    "        } else {\n",
    "            // Not a paren - ignore it.\n",
    "        }\n",
    "    }\n",
    "    while (!openParens.empty()) {\n",
    "        cerr << \"Missing closing paren for open paren at \" << openParens.top() << endl;\n",
    "        openParens.pop();\n",
    "        matched = false;\n",
    "    }\n",
    "    return matched;\n",
    "}\n"
   ]
  },
  {
   "cell_type": "markdown",
   "id": "6b2ede6b",
   "metadata": {
    "slideshow": {
     "slide_type": "slide"
    }
   },
   "source": [
    "## Homework\n",
    "- Take the stacks, queues, and priority queues quiz\n",
    "- Start Lab2!"
   ]
  },
  {
   "cell_type": "code",
   "execution_count": 25,
   "id": "324c4cf1",
   "metadata": {},
   "outputs": [],
   "source": [
    "bool matchAllParens(string const& content) {\n",
    "    bool matched = true;\n",
    "    stack<int> openParens;\n",
    "    stack<char> parenType;\n",
    "    \n",
    "    for (int i = 0; i < content.length(); i++) {\n",
    "        char c = content[i];\n",
    "        if (c == '(' || c == '[' || c == '{' || c == '<') {\n",
    "            openParens.push(i);\n",
    "            parenType.push(c);\n",
    "        } else if (c == ')' || c == ']' || c == '}' || c == '>') {\n",
    "            if (openParens.empty()) {\n",
    "                cerr << \"Found a closing paren '\" << c << \"' at \" << i << \" with no match\" << endl;\n",
    "                matched = false;\n",
    "                \n",
    "            } else {\n",
    "                char first = parenType.top();\n",
    "                char exp;\n",
    "                if (first == '(') { exp = ')';}\n",
    "                else if (first == '[') { exp = ']';}\n",
    "                else if (first == '{') { exp = '}';}\n",
    "                else { exp = '>';}\n",
    "                \n",
    "                if (c == exp) {\n",
    "                    cout << \"Found matched pair: \" << openParens.top() << \", \" << i << endl;\n",
    "                    openParens.pop();                    \n",
    "                    parenType.pop();\n",
    "                } else {\n",
    "                    cerr << \"Mismatched pair: \" << exp << \" at \" << openParens.top() << \" vs \" << c << \" at \" << i << endl;\n",
    "                    matched = false;\n",
    "                }\n",
    "            }\n",
    "            \n",
    "        } else {\n",
    "            // Not a paren - ignore it.\n",
    "        }\n",
    "    }\n",
    "    while (!openParens.empty()) {\n",
    "        cerr << \"Missing closing paren for open paren \" << parenType.top() << \" at \" << openParens.top() << endl;\n",
    "        openParens.pop();\n",
    "        parenType.pop();\n",
    "        matched = false;\n",
    "    }\n",
    "    return matched;\n",
    "}"
   ]
  },
  {
   "cell_type": "code",
   "execution_count": 30,
   "id": "7cceb164",
   "metadata": {},
   "outputs": [],
   "source": [
    "bool matchAllParens(string const& content) {\n",
    "    // Minimal working example\n",
    "    stack<char> openParens;\n",
    "    \n",
    "    for (int i = 0; i < content.length(); i++) {\n",
    "        char c = content[i];\n",
    "        if (c == '(' || c == '[' || c == '{' || c == '<') {\n",
    "            openParens.push(c);\n",
    "            \n",
    "        } else if (c == ')' || c == ']' || c == '}' || c == '>') {\n",
    "            if (openParens.empty()) {\n",
    "                return false;\n",
    "                \n",
    "            } else {\n",
    "                char first = openParens.top();\n",
    "                char exp;\n",
    "                if (first == '(') { exp = ')';}\n",
    "                else if (first == '[') { exp = ']';}\n",
    "                else if (first == '{') { exp = '}';}\n",
    "                else { exp = '>';}\n",
    "                \n",
    "                if (c == exp) {\n",
    "                    openParens.pop();                    \n",
    "                } else {\n",
    "                    return false;\n",
    "                }\n",
    "            }\n",
    "            \n",
    "        } else {\n",
    "            // Not a paren - ignore it.\n",
    "        }\n",
    "    }\n",
    "    return openParens.empty();\n",
    "}"
   ]
  },
  {
   "cell_type": "code",
   "execution_count": 31,
   "id": "4163607f",
   "metadata": {},
   "outputs": [
    {
     "data": {
      "text/plain": [
       "true"
      ]
     },
     "execution_count": 31,
     "metadata": {},
     "output_type": "execute_result"
    }
   ],
   "source": [
    "matchAllParens(\"<<([]())>{}>\")"
   ]
  },
  {
   "cell_type": "code",
   "execution_count": 32,
   "id": "f40803de",
   "metadata": {},
   "outputs": [
    {
     "data": {
      "text/plain": [
       "false"
      ]
     },
     "execution_count": 32,
     "metadata": {},
     "output_type": "execute_result"
    }
   ],
   "source": [
    "matchAllParens(\"<<([]())(>){}>\")"
   ]
  },
  {
   "cell_type": "markdown",
   "id": "078732e5",
   "metadata": {},
   "source": [
    "## Lab 2 Specs\n",
    "- Write a program named `check_parens` that takes a single command-line argument and prints `true` if the argument has properly-matched parentheses or `false` if it does not.\n",
    "  - ```\n",
    "  $ ./check_parens '(<(<>)>)'\n",
    "  true\n",
    "  ```\n",
    "  \n",
    "  - ```\n",
    "  $ ./check_parens '(<(<))>>'\n",
    "  false\n",
    "  ```\n",
    "  \n",
    "- The program may print other things to STDOUT or STDERR, but the last line printed should be `true` or `false`\n",
    "- Note that you'll want to wrap your argument in single quotes or the shell will get confused\n",
    "- Write a makefile that implements the target `all:` and builds an executable named `check_parens` in the current working directory.\n",
    "  - Ultimately, I should be able to enter your source folder and run the following:\n",
    "```\n",
    "$ make\n",
    "$ ./check_parens '(<(<>)>)'\n",
    "true\n",
    "```\n",
    "\n",
    "  - Remember that makefiles require tabs as indentation, not spaces!\n",
    "  - You can start a makefile using the following shell command:\n",
    "  ```\n",
    "  echo -e \"all:\\n\\tg++ -o foo foo.cpp\\n\" > makefile\n",
    "  ```"
   ]
  },
  {
   "cell_type": "code",
   "execution_count": null,
   "id": "fda74ff6",
   "metadata": {},
   "outputs": [],
   "source": []
  }
 ],
 "metadata": {
  "celltoolbar": "Slideshow",
  "kernelspec": {
   "display_name": "C++11",
   "language": "C++11",
   "name": "xcpp11"
  },
  "language_info": {
   "codemirror_mode": "text/x-c++src",
   "file_extension": ".cpp",
   "mimetype": "text/x-c++src",
   "name": "c++",
   "version": "11"
  }
 },
 "nbformat": 4,
 "nbformat_minor": 5
}
