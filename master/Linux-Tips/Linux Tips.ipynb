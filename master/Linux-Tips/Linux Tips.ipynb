{
 "cells": [
  {
   "cell_type": "markdown",
   "id": "e72489b5",
   "metadata": {},
   "source": [
    "# Linux Tips"
   ]
  },
  {
   "cell_type": "code",
   "execution_count": 4,
   "id": "79ef3a9c",
   "metadata": {},
   "outputs": [],
   "source": [
    "cat > text.txt << EOF\n",
    "Some text\n",
    "We can use\n",
    "For demonstration purposes\n",
    "EOF"
   ]
  },
  {
   "cell_type": "markdown",
   "id": "c1e04e0d",
   "metadata": {},
   "source": [
    "## Example of STDIN"
   ]
  },
  {
   "cell_type": "code",
   "execution_count": 8,
   "id": "8df3eda0",
   "metadata": {},
   "outputs": [
    {
     "name": "stdout",
     "output_type": "stream",
     "text": [
      "#include <iostream>\n",
      "#include <string>\n",
      "\n",
      "using namespace std;\n",
      "\n",
      "int main(int argc, char* argv[]) {\n",
      "    // argv[1] is the bullet\n",
      "    string bullet = (argc > 1) ? argv[1] : \"🔹\";\n",
      "    string line;\n",
      "    while (getline(cin,line)) {\n",
      "        cout << bullet << \" \" << line << endl;\n",
      "    }\n",
      "    return 0;\n",
      "}\n"
     ]
    }
   ],
   "source": [
    "cat bullets.cpp"
   ]
  },
  {
   "cell_type": "markdown",
   "id": "6c215970",
   "metadata": {},
   "source": [
    "```bash\n",
    "g++ -o bullets bullets.cpp\n",
    "```"
   ]
  },
  {
   "cell_type": "code",
   "execution_count": 11,
   "id": "4491320a",
   "metadata": {},
   "outputs": [
    {
     "name": "stdout",
     "output_type": "stream",
     "text": [
      "Some text\n",
      "We can use\n",
      "For demonstration purposes\n"
     ]
    }
   ],
   "source": [
    "cat text.txt"
   ]
  },
  {
   "cell_type": "code",
   "execution_count": 10,
   "id": "cb4cc423",
   "metadata": {},
   "outputs": [
    {
     "name": "stdout",
     "output_type": "stream",
     "text": [
      "🔹 Some text\n",
      "🔹 We can use\n",
      "🔹 For demonstration purposes\n"
     ]
    }
   ],
   "source": [
    "cat text.txt | ./bullets "
   ]
  },
  {
   "cell_type": "markdown",
   "id": "736dd5f2",
   "metadata": {},
   "source": [
    "## TODO\n",
    "\n",
    "- echo, less, head, wc, tail, more?, cat\n",
    "- pwd, cd multiple paths, mkdir -p,\n",
    "- Tab completion\n",
    "\n",
    "- Vim, nano\n",
    "\n",
    "- Redirect, pipe, dev null,\n",
    "- Heredoc\n",
    "- Env variables (set, use, export)\n",
    "- $PATH\n",
    "\n",
    "- ps, top, kill (-9), background tasks\n",
    "\n",
    "- sudo\n",
    "\n",
    "- `for` loops"
   ]
  },
  {
   "cell_type": "code",
   "execution_count": null,
   "id": "b32cce30",
   "metadata": {},
   "outputs": [],
   "source": []
  }
 ],
 "metadata": {
  "kernelspec": {
   "display_name": "Bash",
   "language": "bash",
   "name": "bash"
  },
  "language_info": {
   "codemirror_mode": "shell",
   "file_extension": ".sh",
   "mimetype": "text/x-sh",
   "name": "bash"
  }
 },
 "nbformat": 4,
 "nbformat_minor": 5
}
