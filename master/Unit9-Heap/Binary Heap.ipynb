{
 "cells": [
  {
   "cell_type": "markdown",
   "id": "1159cf2a",
   "metadata": {
    "slideshow": {
     "slide_type": "slide"
    }
   },
   "source": [
    "# Heap"
   ]
  },
  {
   "cell_type": "markdown",
   "id": "7f36f0ee",
   "metadata": {},
   "source": [
    "- A heap is\n",
    "  - a complete binary tree\n",
    "  - obeys the heap order property\n",
    "- A complete binary tree\n",
    "  - Not a BST, just a tree where each node has 0-2 children\n",
    "  - Every depth is completely filled except the last\n",
    "  - The items in the last row are packed left\n",
    "  - The height is $\\log n$\n",
    "  - What fraction of the tree is a leaf?\n",
    "- heap order property\n",
    "  - for every node $n$, the value of $n$'s parents is <= the value of n\n",
    "- example\n",
    "- insert\n",
    "  - add in next open slot\n",
    "  - percolate up\n",
    "- big-O\n",
    "  - $O(\\log n)$ worse case\n",
    "  - $O(1)$ average case https://stackoverflow.com/questions/39514469/argument-for-o1-average-case-complexity-of-heap-insertion\n",
    "- remove\n",
    "  - replace root with last item\n",
    "  - percolate down\n",
    "  - $O(\\log n)$ average and worse case\n",
    "- implementation\n",
    "  - Array!\n",
    "  \n",
    "- Review structures\n",
    "  - Stack, queue\n",
    "  - vector, list\n",
    "  - set, map\n",
    "    - BST, hashtable\n",
    "  - priority queue: heap!"
   ]
  },
  {
   "cell_type": "markdown",
   "id": "8ea8a297",
   "metadata": {
    "slideshow": {
     "slide_type": "slide"
    }
   },
   "source": [
    "A **heap** is a *complete binary tree* that obeys the *heap order property*."
   ]
  },
  {
   "cell_type": "markdown",
   "id": "cecae618",
   "metadata": {
    "slideshow": {
     "slide_type": "fragment"
    }
   },
   "source": [
    "<div class='big centered'> 🤨 </div>"
   ]
  },
  {
   "cell_type": "markdown",
   "id": "d79e0f56",
   "metadata": {
    "slideshow": {
     "slide_type": "slide"
    }
   },
   "source": [
    "A **complete binary tree** is a binary tree (i.e. each node has at most two children) where every row but the last must be completely filled.\n",
    "\n",
    "And the elements on the last row must be packed to the left."
   ]
  },
  {
   "cell_type": "code",
   "execution_count": 1,
   "id": "ea655210",
   "metadata": {
    "slideshow": {
     "slide_type": "skip"
    }
   },
   "outputs": [
    {
     "name": "stdout",
     "output_type": "stream",
     "text": [
      "Writing complete_binary_tree.txt\n"
     ]
    }
   ],
   "source": [
    "%%file complete_binary_tree.txt\n",
    "A > B\n",
    "A < C\n",
    "B < D\n",
    "B > E\n",
    "C > F"
   ]
  },
  {
   "cell_type": "code",
   "execution_count": 6,
   "id": "e8ff352f",
   "metadata": {
    "slideshow": {
     "slide_type": "skip"
    }
   },
   "outputs": [],
   "source": [
    "! python /data/projects/btrees/btrees.py --w-scale 0.7 complete_binary_tree.txt"
   ]
  },
  {
   "cell_type": "markdown",
   "id": "b63a0eb1",
   "metadata": {},
   "source": [
    "<img src=\"complete_binary_tree.png\" />"
   ]
  },
  {
   "cell_type": "markdown",
   "id": "b63339ae",
   "metadata": {
    "slideshow": {
     "slide_type": "slide"
    }
   },
   "source": [
    "The **heap order property** means that each the value of any node is greater than its parent's value."
   ]
  },
  {
   "cell_type": "markdown",
   "id": "1a797f54",
   "metadata": {},
   "source": [
    "<img src=\"complete_binary_tree.png\" />"
   ]
  },
  {
   "cell_type": "markdown",
   "id": "d06f1ea8",
   "metadata": {},
   "source": [
    "You can think of the \"heavy\" values sinking to the bottom of the tree."
   ]
  },
  {
   "cell_type": "markdown",
   "id": "04bc250f",
   "metadata": {
    "slideshow": {
     "slide_type": "slide"
    }
   },
   "source": [
    "## Inserting into a heap"
   ]
  },
  {
   "cell_type": "markdown",
   "id": "48b99f2c",
   "metadata": {},
   "source": [
    "- Add an item to the next open slot\n",
    "- Percolate up until the value is in the correct location\n",
    "\n",
    "To *percolate up*:\n",
    "- Compare the current value to the value of the parent node\n",
    "- If the parent value is greater, swap"
   ]
  },
  {
   "cell_type": "code",
   "execution_count": 9,
   "id": "ac965d96",
   "metadata": {
    "slideshow": {
     "slide_type": "skip"
    }
   },
   "outputs": [
    {
     "name": "stdout",
     "output_type": "stream",
     "text": [
      "Overwriting numeric_heap.txt\n"
     ]
    }
   ],
   "source": [
    "%%file numeric_heap.txt\n",
    "n4a [label=\"4\"]\n",
    "n4b [label=\"4\"]\n",
    "n4a > n4b\n",
    "n4a < 8\n",
    "n4b > 7\n",
    "n4b < 5"
   ]
  },
  {
   "cell_type": "code",
   "execution_count": 10,
   "id": "de41b395",
   "metadata": {
    "slideshow": {
     "slide_type": "skip"
    }
   },
   "outputs": [],
   "source": [
    "! python /data/projects/btrees/btrees.py --w-scale 0.7 numeric_heap.txt"
   ]
  },
  {
   "cell_type": "markdown",
   "id": "bc2dae45",
   "metadata": {
    "slideshow": {
     "slide_type": "slide"
    }
   },
   "source": [
    "<img src=\"numeric_heap.png?1\" />"
   ]
  },
  {
   "cell_type": "markdown",
   "id": "10fecd34",
   "metadata": {},
   "source": [
    "What is the result of inserting 8 into the heap?"
   ]
  },
  {
   "cell_type": "code",
   "execution_count": 13,
   "id": "d55c4218",
   "metadata": {
    "slideshow": {
     "slide_type": "skip"
    }
   },
   "outputs": [
    {
     "name": "stdout",
     "output_type": "stream",
     "text": [
      "Overwriting numeric_heap_with8.txt\n"
     ]
    }
   ],
   "source": [
    "%%file numeric_heap_with8.txt\n",
    "n4a [label=\"4\"]\n",
    "n4b [label=\"4\"]\n",
    "n8a [label=\"8\"]\n",
    "n8b [label=\"8\"]\n",
    "n4a > n4b\n",
    "n4a < n8a\n",
    "n4b > 7\n",
    "n4b < 5\n",
    "n8a > n8b"
   ]
  },
  {
   "cell_type": "code",
   "execution_count": 14,
   "id": "44734d1b",
   "metadata": {
    "slideshow": {
     "slide_type": "skip"
    }
   },
   "outputs": [],
   "source": [
    "! python /data/projects/btrees/btrees.py --w-scale 0.7 numeric_heap_with8.txt"
   ]
  },
  {
   "cell_type": "markdown",
   "id": "896b7e42",
   "metadata": {
    "slideshow": {
     "slide_type": "fragment"
    }
   },
   "source": [
    "<img src=\"numeric_heap_with8.png?1\" />"
   ]
  },
  {
   "cell_type": "markdown",
   "id": "e94cb739",
   "metadata": {
    "slideshow": {
     "slide_type": "slide"
    }
   },
   "source": [
    "<img src=\"numeric_heap.png?1\" />"
   ]
  },
  {
   "cell_type": "markdown",
   "id": "8fca8403",
   "metadata": {},
   "source": [
    "What is the result of inserting 2 into the heap?"
   ]
  },
  {
   "cell_type": "code",
   "execution_count": 15,
   "id": "1f988008",
   "metadata": {
    "slideshow": {
     "slide_type": "skip"
    }
   },
   "outputs": [
    {
     "name": "stdout",
     "output_type": "stream",
     "text": [
      "Writing numeric_heap_with2.txt\n"
     ]
    }
   ],
   "source": [
    "%%file numeric_heap_with2.txt\n",
    "n2 [label=\"2\"]\n",
    "n4a [label=\"4\"]\n",
    "n4b [label=\"4\"]\n",
    "n2 > n4a\n",
    "n4a > 7\n",
    "n4a < 5\n",
    "n2 < n4b\n",
    "n4b > 8"
   ]
  },
  {
   "cell_type": "code",
   "execution_count": 16,
   "id": "145108d2",
   "metadata": {
    "slideshow": {
     "slide_type": "skip"
    }
   },
   "outputs": [],
   "source": [
    "! python /data/projects/btrees/btrees.py --w-scale 0.7 numeric_heap_with2.txt"
   ]
  },
  {
   "cell_type": "markdown",
   "id": "01e10641",
   "metadata": {
    "slideshow": {
     "slide_type": "fragment"
    }
   },
   "source": [
    "<img src=\"numeric_heap_with2.png\" />"
   ]
  },
  {
   "cell_type": "markdown",
   "id": "2076f7ab",
   "metadata": {
    "slideshow": {
     "slide_type": "slide"
    }
   },
   "source": [
    "Work with a partner.\n",
    "\n",
    "What is the result of inserting 4 into this tree."
   ]
  },
  {
   "cell_type": "code",
   "execution_count": 17,
   "id": "f638ff05",
   "metadata": {
    "slideshow": {
     "slide_type": "skip"
    }
   },
   "outputs": [
    {
     "name": "stdout",
     "output_type": "stream",
     "text": [
      "Writing needs4.txt\n"
     ]
    }
   ],
   "source": [
    "%%file needs4.txt\n",
    "6 < 9\n",
    "6 > 7\n",
    "7 > 8"
   ]
  },
  {
   "cell_type": "code",
   "execution_count": 18,
   "id": "d79a3c20",
   "metadata": {
    "slideshow": {
     "slide_type": "skip"
    }
   },
   "outputs": [],
   "source": [
    "! python /data/projects/btrees/btrees.py --w-scale 0.7 needs4.txt"
   ]
  },
  {
   "cell_type": "markdown",
   "id": "1fa79a04",
   "metadata": {},
   "source": [
    "<img src=\"needs4.png\" />"
   ]
  },
  {
   "cell_type": "code",
   "execution_count": 19,
   "id": "f202c4bb",
   "metadata": {
    "slideshow": {
     "slide_type": "skip"
    }
   },
   "outputs": [
    {
     "name": "stdout",
     "output_type": "stream",
     "text": [
      "Writing has4.txt\n"
     ]
    }
   ],
   "source": [
    "%%file has4.txt\n",
    "4 < 9\n",
    "4 > 6\n",
    "6 > 8\n",
    "6 < 7"
   ]
  },
  {
   "cell_type": "code",
   "execution_count": 20,
   "id": "889e88cb",
   "metadata": {
    "slideshow": {
     "slide_type": "skip"
    }
   },
   "outputs": [],
   "source": [
    "! python /data/projects/btrees/btrees.py --w-scale 0.7 has4.txt"
   ]
  },
  {
   "cell_type": "markdown",
   "id": "3b8c8aee",
   "metadata": {
    "slideshow": {
     "slide_type": "fragment"
    }
   },
   "source": [
    "<img src=\"has4.png\" />"
   ]
  },
  {
   "cell_type": "markdown",
   "id": "5ecaec93",
   "metadata": {
    "slideshow": {
     "slide_type": "slide"
    }
   },
   "source": [
    "What is the result of inserting 5, 2, 8, 3, 1, 9, 6, 4 into an empty heap?"
   ]
  },
  {
   "cell_type": "code",
   "execution_count": 19,
   "id": "637f5e3f",
   "metadata": {
    "slideshow": {
     "slide_type": "skip"
    }
   },
   "outputs": [
    {
     "name": "stdout",
     "output_type": "stream",
     "text": [
      "Writing has4.txt\n"
     ]
    }
   ],
   "source": [
    "%%file has4.txt\n",
    "4 < 9\n",
    "4 > 6\n",
    "6 > 8\n",
    "6 < 7"
   ]
  },
  {
   "cell_type": "code",
   "execution_count": 20,
   "id": "faa710ec",
   "metadata": {
    "slideshow": {
     "slide_type": "skip"
    }
   },
   "outputs": [],
   "source": [
    "! python /data/projects/btrees/btrees.py --w-scale 0.7 has4.txt"
   ]
  },
  {
   "cell_type": "code",
   "execution_count": null,
   "id": "be51e6aa",
   "metadata": {},
   "outputs": [],
   "source": []
  }
 ],
 "metadata": {
  "celltoolbar": "Slideshow",
  "kernelspec": {
   "display_name": "C++11",
   "language": "C++11",
   "name": "xcpp11"
  },
  "language_info": {
   "codemirror_mode": "text/x-c++src",
   "file_extension": ".cpp",
   "mimetype": "text/x-c++src",
   "name": "c++",
   "version": "11"
  }
 },
 "nbformat": 4,
 "nbformat_minor": 5
}
