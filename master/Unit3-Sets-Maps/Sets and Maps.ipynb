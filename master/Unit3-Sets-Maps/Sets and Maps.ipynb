{
 "cells": [
  {
   "cell_type": "markdown",
   "id": "bf20189b",
   "metadata": {},
   "source": [
    "# Sets and Maps"
   ]
  },
  {
   "cell_type": "markdown",
   "id": "b7ad9c7d",
   "metadata": {},
   "source": [
    "## Big ideas\n",
    "- Sets\n",
    "  - No order\n",
    "  - No duplicates\n",
    "  - No duplicates requires fast searching \n",
    "  - Each add requires searching first\n",
    "    - Demo vector approach?"
   ]
  },
  {
   "cell_type": "code",
   "execution_count": 1,
   "id": "8a2fbde4",
   "metadata": {},
   "outputs": [],
   "source": [
    "#include <string>\n",
    "#include <iostream>\n",
    "using namespace std;"
   ]
  },
  {
   "cell_type": "code",
   "execution_count": 2,
   "id": "7c1c85cf",
   "metadata": {},
   "outputs": [],
   "source": [
    "#include <vector>"
   ]
  },
  {
   "cell_type": "code",
   "execution_count": 3,
   "id": "4c9021f4",
   "metadata": {},
   "outputs": [],
   "source": [
    "bool add_to_vector_no_dups(vector<int>& numbers, int number) {\n",
    "    // If not in the vector, add it\n",
    "    if (find(numbers.begin(), numbers.end(), number) == numbers.end()) {\n",
    "        numbers.push_back(number);\n",
    "        return true;\n",
    "    }\n",
    "    return false;\n",
    "}"
   ]
  },
  {
   "cell_type": "code",
   "execution_count": 4,
   "id": "c1b9d0e5",
   "metadata": {},
   "outputs": [],
   "source": [
    "vector<int> numbers;\n",
    "\n",
    "for (int i = 0; i < 1000000; i++) {\n",
    "    numbers.push_back(i);\n",
    "}"
   ]
  },
  {
   "cell_type": "code",
   "execution_count": 5,
   "id": "bc6aac03",
   "metadata": {},
   "outputs": [
    {
     "data": {
      "text/plain": [
       "false"
      ]
     },
     "execution_count": 5,
     "metadata": {},
     "output_type": "execute_result"
    }
   ],
   "source": [
    "add_to_vector_no_dups(numbers, 12345)"
   ]
  },
  {
   "cell_type": "code",
   "execution_count": 6,
   "id": "52e92d70",
   "metadata": {},
   "outputs": [
    {
     "name": "stdout",
     "output_type": "stream",
     "text": [
      "35.1 us +- 187 ns per loop (mean +- std. dev. of 7 runs 10000 loops each)\n"
     ]
    }
   ],
   "source": [
    "%%timeit\n",
    "add_to_vector_no_dups(numbers, 12345);"
   ]
  },
  {
   "cell_type": "markdown",
   "id": "6c23cc13",
   "metadata": {},
   "source": [
    "A new player comes on the scene..."
   ]
  },
  {
   "cell_type": "markdown",
   "id": "662240f5",
   "metadata": {},
   "source": [
    "<div class='big centered'> 🤠 </div>"
   ]
  },
  {
   "cell_type": "code",
   "execution_count": 7,
   "id": "f8ee0e5c",
   "metadata": {},
   "outputs": [],
   "source": [
    "#include <set>"
   ]
  },
  {
   "cell_type": "code",
   "execution_count": 8,
   "id": "88cd26b6",
   "metadata": {},
   "outputs": [],
   "source": [
    "set<int> numbers;\n",
    "\n",
    "for (int i = 0; i < 1000000; i++) {\n",
    "    numbers.insert(i);\n",
    "}"
   ]
  },
  {
   "cell_type": "code",
   "execution_count": 9,
   "id": "fd144d65",
   "metadata": {},
   "outputs": [
    {
     "name": "stdout",
     "output_type": "stream",
     "text": [
      "203 ns +- 1.44 ns per loop (mean +- std. dev. of 7 runs 1000000 loops each)\n"
     ]
    }
   ],
   "source": [
    "%%timeit\n",
    "numbers.insert(12345);"
   ]
  },
  {
   "cell_type": "code",
   "execution_count": 10,
   "id": "8c662141",
   "metadata": {},
   "outputs": [],
   "source": [
    "#include <unordered_set>"
   ]
  },
  {
   "cell_type": "code",
   "execution_count": 11,
   "id": "dbf3f0b0",
   "metadata": {},
   "outputs": [],
   "source": [
    "unordered_set<int> numbers;\n",
    "\n",
    "for (int i = 0; i < 1000000; i++) {\n",
    "    numbers.insert(i);\n",
    "}"
   ]
  },
  {
   "cell_type": "code",
   "execution_count": 12,
   "id": "31b57ad6",
   "metadata": {},
   "outputs": [
    {
     "name": "stdout",
     "output_type": "stream",
     "text": [
      "64.7 ns +- 0.566 ns per loop (mean +- std. dev. of 7 runs 10000000 loops each)\n"
     ]
    }
   ],
   "source": [
    "%%timeit\n",
    "numbers.insert(12345);"
   ]
  },
  {
   "cell_type": "markdown",
   "id": "22e102d1",
   "metadata": {},
   "source": [
    "## Sets\n",
    "\n",
    "- No defined order\n",
    "- No duplicates\n",
    "- Fast lookup\n",
    "\n",
    "https://en.cppreference.com/w/cpp/container/set\n"
   ]
  },
  {
   "cell_type": "code",
   "execution_count": 13,
   "id": "17fb414b",
   "metadata": {},
   "outputs": [
    {
     "data": {
      "text/plain": [
       "{ \"Brigham\", \"John\", \"Joseph\", \"Lorenzo\", \"Wilford\" }"
      ]
     },
     "execution_count": 13,
     "metadata": {},
     "output_type": "execute_result"
    }
   ],
   "source": [
    "set<string> names;\n",
    "names.insert(\"Joseph\");\n",
    "names.insert(\"Brigham\");\n",
    "names.insert(\"John\");\n",
    "names.insert(\"Wilford\");\n",
    "names.insert(\"Lorenzo\");\n",
    "names"
   ]
  },
  {
   "cell_type": "code",
   "execution_count": 14,
   "id": "7414eb07",
   "metadata": {},
   "outputs": [
    {
     "data": {
      "text/plain": [
       "true"
      ]
     },
     "execution_count": 14,
     "metadata": {},
     "output_type": "execute_result"
    }
   ],
   "source": [
    "names.find(\"Joseph\") != names.end()"
   ]
  },
  {
   "cell_type": "code",
   "execution_count": 15,
   "id": "11756511",
   "metadata": {},
   "outputs": [
    {
     "data": {
      "text/plain": [
       "false"
      ]
     },
     "execution_count": 15,
     "metadata": {},
     "output_type": "execute_result"
    }
   ],
   "source": [
    "names.find(\"Josephine\") != names.end()"
   ]
  },
  {
   "cell_type": "code",
   "execution_count": 16,
   "id": "c78c32ec",
   "metadata": {},
   "outputs": [
    {
     "data": {
      "text/plain": [
       "{ \"Wilford\", \"John\", \"Brigham\", \"Lorenzo\", \"Joseph\" }"
      ]
     },
     "execution_count": 16,
     "metadata": {},
     "output_type": "execute_result"
    }
   ],
   "source": [
    "unordered_set<string> names;\n",
    "names.insert(\"Joseph\");\n",
    "names.insert(\"Brigham\");\n",
    "names.insert(\"John\");\n",
    "names.insert(\"Wilford\");\n",
    "names.insert(\"Lorenzo\");\n",
    "names"
   ]
  },
  {
   "cell_type": "markdown",
   "id": "990d487f",
   "metadata": {},
   "source": [
    "### Examples of sets in real life\n",
    "\n",
    "- Students in class\n",
    "- Integers between 1 and 10\n",
    "- Exempt zipcodes in a tax law 😬\n",
    "- My list of favorite colors\n"
   ]
  },
  {
   "cell_type": "markdown",
   "id": "83bec816",
   "metadata": {},
   "source": [
    "Sets are known as *associative* containers.\n",
    "\n",
    "*Associative* means the same thing as in \"associative property\" in math: $A + B = B + A$\n",
    "\n",
    "The order of the items in the set is undefined. The implementation of the set may impose some kind of arbitrary ordering, but that ordering is not relevant nor guaranteed to the user."
   ]
  },
  {
   "cell_type": "markdown",
   "id": "9fcb467c",
   "metadata": {},
   "source": [
    "There is another associative container we need to discuss. \n",
    "\n",
    "It is possibly the most common/frequently-used container in all of programming!"
   ]
  },
  {
   "cell_type": "markdown",
   "id": "5a312c02",
   "metadata": {},
   "source": [
    "## Maps"
   ]
  },
  {
   "cell_type": "markdown",
   "id": "62a14396",
   "metadata": {},
   "source": [
    "- Maps link a **key** with a **value**\n",
    "\n",
    "\n",
    "- You use the key to store and retrieve the value\n",
    "  - Table of contents\n",
    "    - Key: chapter name, Value: page number\n",
    "  - Student Information Database\n",
    "    - Key: Student ID, Value: student information\n",
    "  - Scoreboard\n",
    "    - Key: athlete name, Value: score\n",
    "\n",
    "\n",
    "- The collection of keys is a **set**\n",
    "  - Unique, undefined order (associative)\n",
    "  \n",
    "https://en.cppreference.com/w/cpp/container/map"
   ]
  },
  {
   "cell_type": "code",
   "execution_count": 17,
   "id": "26e796e5",
   "metadata": {},
   "outputs": [],
   "source": [
    "#include <map>"
   ]
  },
  {
   "cell_type": "markdown",
   "id": "8afdf511",
   "metadata": {},
   "source": [
    "### Maps in Action!"
   ]
  },
  {
   "cell_type": "markdown",
   "id": "e16f4836",
   "metadata": {},
   "source": [
    "#### Map literals"
   ]
  },
  {
   "cell_type": "code",
   "execution_count": 18,
   "id": "724f8ec3",
   "metadata": {},
   "outputs": [
    {
     "data": {
      "text/plain": [
       "{ \"142\" => \"Intro to Programming\", \"235\" => \"Data Structures\", \"236\" => \"Discrete Structures\" }"
      ]
     },
     "execution_count": 18,
     "metadata": {},
     "output_type": "execute_result"
    }
   ],
   "source": [
    "map<string, string> id2name = {\n",
    "    {\"235\", \"Data Structures\"},\n",
    "    {\"142\", \"Intro to Programming\"},\n",
    "    {\"236\", \"Discrete Structures\"}\n",
    "};\n",
    "id2name"
   ]
  },
  {
   "cell_type": "code",
   "execution_count": 19,
   "id": "b8400068",
   "metadata": {},
   "outputs": [
    {
     "data": {
      "text/plain": [
       "\"Data Structures\""
      ]
     },
     "execution_count": 19,
     "metadata": {},
     "output_type": "execute_result"
    }
   ],
   "source": [
    "id2name[\"235\"]"
   ]
  },
  {
   "cell_type": "markdown",
   "id": "5c6970de",
   "metadata": {},
   "source": [
    "#### Counts"
   ]
  },
  {
   "cell_type": "code",
   "execution_count": 20,
   "id": "1e7e25b8",
   "metadata": {},
   "outputs": [
    {
     "name": "stdout",
     "output_type": "stream",
     "text": [
      "quit\n",
      "\n",
      "Counts\n",
      "-------------\n"
     ]
    }
   ],
   "source": [
    "map<string, int> counts;\n",
    "string name;\n",
    "while (cin >> name && name != \"quit\") {\n",
    "    if (counts.find(name) == counts.end()) {\n",
    "        counts[name] = 0;\n",
    "    }\n",
    "    counts[name]++;\n",
    "}\n",
    "\n",
    "// Print the scores\n",
    "cout << endl << \"Counts\" << endl << \"-------------\" << endl;\n",
    "for (auto& item : counts) {\n",
    "    cout << item.first << \": \" << item.second << endl;\n",
    "}\n"
   ]
  },
  {
   "cell_type": "markdown",
   "id": "f5b56c5e",
   "metadata": {},
   "source": [
    "Notice how we check to see if the key is already in the map.\n",
    "\n",
    "If it is not, we initialize the value to `0`. \n",
    "\n",
    "Then we can increment the count.\n",
    "\n",
    "(For hyper-efficient ways of initializing new values, see https://stackoverflow.com/questions/97050/stdmap-insert-or-stdmap-find)"
   ]
  },
  {
   "cell_type": "markdown",
   "id": "991e3dbd",
   "metadata": {},
   "source": [
    "We can also see how to iterate over a map.\n",
    "\n",
    "The iterator has `first` and `second` properties. `first` is the key, `second` is the value."
   ]
  },
  {
   "cell_type": "markdown",
   "id": "e619b005",
   "metadata": {},
   "source": [
    "#### Codex"
   ]
  },
  {
   "cell_type": "code",
   "execution_count": 32,
   "id": "72ff9aee",
   "metadata": {},
   "outputs": [
    {
     "name": "stdout",
     "output_type": "stream",
     "text": [
      "A -> X; B -> Y; C -> Z; D -> I; E -> J; F -> K; G -> A; H -> F; I -> G; J -> W; K -> L; L -> M; M -> N; N -> O; O -> H; P -> U; Q -> V; R -> B; S -> C; T -> D; U -> E; V -> P; W -> Q; X -> R; Y -> S; Z -> T; a -> x; b -> y; c -> z; d -> i; e -> j; f -> k; g -> a; h -> f; i -> g; j -> w; k -> l; l -> m; m -> n; n -> o; o -> h; p -> u; q -> v; r -> b; s -> c; t -> d; u -> e; v -> p; w -> q; x -> r; y -> s; z -> t; \n"
     ]
    }
   ],
   "source": [
    "map<char, char> codex;\n",
    "string alphabet = \"abcdefghijklmnopqrstuvwxyz\";\n",
    "string scramble = \"xyzijkafgwlmnohuvbcdepqrst\";\n",
    "for (int i = 0; i < alphabet.length(); i++) {\n",
    "    codex[alphabet[i]] = scramble[i];\n",
    "    codex[alphabet[i]-'a'+'A'] = scramble[i]-'a'+'A';\n",
    "}\n",
    "\n",
    "for (auto& entry : codex) {\n",
    "    cout << entry.first << \" -> \" << entry.second << \"; \";\n",
    "}\n",
    "cout << endl;"
   ]
  },
  {
   "cell_type": "code",
   "execution_count": 22,
   "id": "87dbad37",
   "metadata": {},
   "outputs": [],
   "source": [
    "string encode(string const& in, map<char, char> const& codex) {\n",
    "    string result = \"\";\n",
    "    for (int i = 0; i < in.length(); i++) {\n",
    "        auto c = codex.find(in[i]);\n",
    "        if (c == codex.end()) {\n",
    "            result += in[i];\n",
    "        } else {\n",
    "            result += c->second;\n",
    "        }\n",
    "    }\n",
    "    return result;\n",
    "}"
   ]
  },
  {
   "cell_type": "code",
   "execution_count": 23,
   "id": "53cd5270",
   "metadata": {},
   "outputs": [
    {
     "data": {
      "text/plain": [
       "\"Fjmmh, ns oxnj gc Gogah Nhodhsx\""
      ]
     },
     "execution_count": 23,
     "metadata": {},
     "output_type": "execute_result"
    }
   ],
   "source": [
    "encode(\"Hello, my name is Inigo Montoya\", codex)"
   ]
  },
  {
   "cell_type": "markdown",
   "id": "a61aaab0",
   "metadata": {},
   "source": [
    "Let's try using a different character mapping!"
   ]
  },
  {
   "cell_type": "code",
   "execution_count": 24,
   "id": "3b18afbe",
   "metadata": {},
   "outputs": [
    {
     "data": {
      "text/plain": [
       "{ 'A' => 'N', 'B' => 'O', 'C' => 'P', 'D' => 'Q', 'E' => 'R', 'F' => 'S', 'G' => 'T', 'H' => 'U', 'I' => 'V', 'J' => 'W', 'K' => 'X', 'L' => 'Y', 'M' => 'Z', 'N' => 'A', 'O' => 'B', 'P' => 'C', 'Q' => 'D', 'R' => 'E', 'S' => 'F', 'T' => 'G', 'U' => 'H', 'V' => 'I', 'W' => 'J', 'X' => 'K', 'Y' => 'L', 'Z' => 'M', 'a' => 'n', 'b' => 'o', 'c' => 'p', 'd' => 'q', 'e' => 'r', 'f' => 's', 'g' => 't', 'h' => 'u', 'i' => 'v', 'j' => 'w', 'k' => 'x', 'l' => 'y', 'm' => 'z', 'n' => 'a', 'o' => 'b', 'p' => 'c', 'q' => 'd', 'r' => 'e', 's' => 'f', 't' => 'g', 'u' => 'h', 'v' => 'i', 'w' => 'j', 'x' => 'k', 'y' => 'l', 'z' => 'm' }"
      ]
     },
     "execution_count": 24,
     "metadata": {},
     "output_type": "execute_result"
    }
   ],
   "source": [
    "map<char, char> rot13;\n",
    "int offset = 13;\n",
    "for (int i = 0; i < 26; i++) {\n",
    "    rot13['a' + i] = 'a' + (i+offset)%26;\n",
    "    rot13['A' + i] = 'A' + (i+offset)%26;\n",
    "}\n",
    "rot13"
   ]
  },
  {
   "cell_type": "code",
   "execution_count": 25,
   "id": "6dd85c0e",
   "metadata": {},
   "outputs": [
    {
     "data": {
      "text/plain": [
       "\"Uryyb, zl anzr vf Vavtb Zbagbln\""
      ]
     },
     "execution_count": 25,
     "metadata": {},
     "output_type": "execute_result"
    }
   ],
   "source": [
    "encode(\"Hello, my name is Inigo Montoya\", rot13)"
   ]
  },
  {
   "cell_type": "markdown",
   "id": "a15632a8",
   "metadata": {},
   "source": [
    "#### Decode!"
   ]
  },
  {
   "cell_type": "code",
   "execution_count": 26,
   "id": "20c42cec",
   "metadata": {},
   "outputs": [],
   "source": [
    "map<char, char> xedoc;\n",
    "for (auto entry : codex) {\n",
    "    xedoc[entry.second] = entry.first;\n",
    "}"
   ]
  },
  {
   "cell_type": "markdown",
   "id": "db168cab",
   "metadata": {},
   "source": [
    "Notice how we swapped the keys and values:\n",
    "\n",
    "```\n",
    "entry.second -> entry.first;\n",
    "```\n",
    "\n",
    "When you have one-to-one mappings, the ability to reverse the mapping can be very useful.\n",
    "\n",
    "Will the same practice work for the \"counts\" map?"
   ]
  },
  {
   "cell_type": "code",
   "execution_count": 33,
   "id": "79e6ac31",
   "metadata": {},
   "outputs": [
    {
     "name": "stdout",
     "output_type": "stream",
     "text": [
      "I think maps are the coolest thing since sliced bread. 🍞\n",
      "G dfgol nxuc xbj dfj zhhmjcd dfgoa cgozj cmgzji ybjxi. 🍞\n",
      "I think maps are the coolest thing since sliced bread. 🍞\n"
     ]
    }
   ],
   "source": [
    "string message = \"I think maps are the coolest thing since sliced bread. 🍞\";\n",
    "cout << message << endl;\n",
    "\n",
    "string secret_message = encode(message, codex);\n",
    "cout << secret_message << endl;\n",
    "\n",
    "string message_restored = encode(secret_message, xedoc);\n",
    "cout << message_restored << endl;"
   ]
  },
  {
   "cell_type": "code",
   "execution_count": null,
   "id": "74ae1743",
   "metadata": {},
   "outputs": [],
   "source": []
  }
 ],
 "metadata": {
  "kernelspec": {
   "display_name": "C++11",
   "language": "C++11",
   "name": "xcpp11"
  },
  "language_info": {
   "codemirror_mode": "text/x-c++src",
   "file_extension": ".cpp",
   "mimetype": "text/x-c++src",
   "name": "c++",
   "version": "11"
  }
 },
 "nbformat": 4,
 "nbformat_minor": 5
}
