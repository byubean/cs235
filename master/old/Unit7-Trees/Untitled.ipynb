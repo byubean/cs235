{
 "cells": [
  {
   "cell_type": "code",
   "execution_count": 7,
   "id": "0fc97a4c",
   "metadata": {},
   "outputs": [
    {
     "name": "stdout",
     "output_type": "stream",
     "text": [
      "PRETTY_NAME=\"Debian GNU/Linux 11 (bullseye)\"\r\n",
      "NAME=\"Debian GNU/Linux\"\r\n",
      "VERSION_ID=\"11\"\r\n",
      "VERSION=\"11 (bullseye)\"\r\n",
      "VERSION_CODENAME=bullseye\r\n",
      "ID=debian\r\n",
      "HOME_URL=\"https://www.debian.org/\"\r\n",
      "SUPPORT_URL=\"https://www.debian.org/support\"\r\n",
      "BUG_REPORT_URL=\"https://bugs.debian.org/\"\r\n"
     ]
    }
   ],
   "source": [
    "! cat /etc/os-release"
   ]
  },
  {
   "cell_type": "markdown",
   "id": "3f7620c3",
   "metadata": {},
   "source": [
    "```python\n",
    "def foo():\n",
    "    return 7\n",
    "```"
   ]
  },
  {
   "cell_type": "code",
   "execution_count": 8,
   "id": "718792f0",
   "metadata": {},
   "outputs": [
    {
     "ename": "SyntaxError",
     "evalue": "invalid syntax (1065473262.py, line 1)",
     "output_type": "error",
     "traceback": [
      "\u001b[0;36m  File \u001b[0;32m\"/tmp/ipykernel_109/1065473262.py\"\u001b[0;36m, line \u001b[0;32m1\u001b[0m\n\u001b[0;31m    int foo() { return 7; }\u001b[0m\n\u001b[0m        ^\u001b[0m\n\u001b[0;31mSyntaxError\u001b[0m\u001b[0;31m:\u001b[0m invalid syntax\n"
     ]
    }
   ],
   "source": [
    "int foo() { return 7; }"
   ]
  },
  {
   "cell_type": "code",
   "execution_count": null,
   "id": "e28a8955",
   "metadata": {},
   "outputs": [],
   "source": []
  }
 ],
 "metadata": {
  "kernelspec": {
   "display_name": "Python 3 (ipykernel)",
   "language": "python",
   "name": "python3"
  },
  "language_info": {
   "codemirror_mode": {
    "name": "ipython",
    "version": 3
   },
   "file_extension": ".py",
   "mimetype": "text/x-python",
   "name": "python",
   "nbconvert_exporter": "python",
   "pygments_lexer": "ipython3",
   "version": "3.9.5"
  }
 },
 "nbformat": 4,
 "nbformat_minor": 5
}
