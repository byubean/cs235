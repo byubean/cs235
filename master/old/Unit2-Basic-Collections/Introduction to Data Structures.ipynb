{
 "cells": [
  {
   "cell_type": "markdown",
   "id": "0fe0663d",
   "metadata": {
    "slideshow": {
     "slide_type": "slide"
    }
   },
   "source": [
    "# Data Structures\n",
    "\n",
    "State is gold. Don't mess it up."
   ]
  },
  {
   "cell_type": "markdown",
   "id": "873d9cf2",
   "metadata": {
    "slideshow": {
     "slide_type": "slide"
    }
   },
   "source": [
    "We need ways of modifying and accessing the state of our program.\n",
    "\n",
    "Having rules and patterns around how the state is modified and accessed provides sanity and security in a program."
   ]
  },
  {
   "cell_type": "markdown",
   "id": "f08991dd",
   "metadata": {
    "slideshow": {
     "slide_type": "fragment"
    }
   },
   "source": [
    "We write classes to carefully protect the data of our programs.\n",
    "\n",
    "These classes ensure that our code interacts with the state in the right ways, preserving the abstractions we have created around our state."
   ]
  },
  {
   "cell_type": "markdown",
   "id": "d83e8b85",
   "metadata": {
    "slideshow": {
     "slide_type": "slide"
    }
   },
   "source": [
    "## If you have a collection of items..."
   ]
  },
  {
   "cell_type": "markdown",
   "id": "bcb5368b",
   "metadata": {
    "slideshow": {
     "slide_type": "slide"
    }
   },
   "source": [
    "If you have a collection of items, can you add another item to the collection?"
   ]
  },
  {
   "cell_type": "markdown",
   "id": "8c63fd37",
   "metadata": {
    "slideshow": {
     "slide_type": "fragment"
    }
   },
   "source": [
    "Does it matter how long it takes to add an item?"
   ]
  },
  {
   "cell_type": "markdown",
   "id": "f23f02d3",
   "metadata": {
    "slideshow": {
     "slide_type": "fragment"
    }
   },
   "source": [
    "Does it matter if the time it takes to add an item grows when the collection gets larger?"
   ]
  },
  {
   "cell_type": "markdown",
   "id": "cbefeb15",
   "metadata": {
    "slideshow": {
     "slide_type": "fragment"
    }
   },
   "source": [
    "If you have a collection of items, can you remove items?"
   ]
  },
  {
   "cell_type": "markdown",
   "id": "48e2ae5c",
   "metadata": {
    "slideshow": {
     "slide_type": "fragment"
    }
   },
   "source": [
    "Does it matter how long it takes to remove an item?"
   ]
  },
  {
   "cell_type": "markdown",
   "id": "3c7efd82",
   "metadata": {
    "slideshow": {
     "slide_type": "slide"
    }
   },
   "source": [
    "If you have a collection of items, can the same item be present multiple times?"
   ]
  },
  {
   "cell_type": "markdown",
   "id": "209e998f",
   "metadata": {
    "slideshow": {
     "slide_type": "fragment"
    }
   },
   "source": [
    "Can you tell whether a given item is present?"
   ]
  },
  {
   "cell_type": "markdown",
   "id": "fb62eeef",
   "metadata": {
    "slideshow": {
     "slide_type": "fragment"
    }
   },
   "source": [
    "Can you change the value or properties of an item?"
   ]
  },
  {
   "cell_type": "markdown",
   "id": "39db4e61",
   "metadata": {
    "slideshow": {
     "slide_type": "slide"
    }
   },
   "source": [
    "If you have a collection of items, are the items ordered?"
   ]
  },
  {
   "cell_type": "markdown",
   "id": "22d33f94",
   "metadata": {
    "slideshow": {
     "slide_type": "fragment"
    }
   },
   "source": [
    "Does the order depend on the order the items were included?"
   ]
  },
  {
   "cell_type": "markdown",
   "id": "06afe8a2",
   "metadata": {
    "slideshow": {
     "slide_type": "fragment"
    }
   },
   "source": [
    "Does the order depend on the properties of the items?"
   ]
  }
 ],
 "metadata": {
  "celltoolbar": "Slideshow",
  "kernelspec": {
   "display_name": "C++14",
   "language": "C++14",
   "name": "xcpp14"
  },
  "language_info": {
   "codemirror_mode": "text/x-c++src",
   "file_extension": ".cpp",
   "mimetype": "text/x-c++src",
   "name": "c++",
   "version": "14"
  }
 },
 "nbformat": 4,
 "nbformat_minor": 5
}
