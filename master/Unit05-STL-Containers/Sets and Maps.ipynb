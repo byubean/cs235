{
 "cells": [
  {
   "cell_type": "markdown",
   "id": "7d8c544f",
   "metadata": {
    "slideshow": {
     "slide_type": "slide"
    }
   },
   "source": [
    "# Sets and Maps"
   ]
  },
  {
   "cell_type": "code",
   "execution_count": 1,
   "id": "93b60f08",
   "metadata": {
    "slideshow": {
     "slide_type": "slide"
    }
   },
   "outputs": [],
   "source": [
    "#include <string>\n",
    "#include <iostream>\n",
    "using namespace std;"
   ]
  },
  {
   "cell_type": "code",
   "execution_count": 2,
   "id": "79a04e41",
   "metadata": {
    "slideshow": {
     "slide_type": "slide"
    }
   },
   "outputs": [],
   "source": [
    "#include <vector>"
   ]
  },
  {
   "cell_type": "code",
   "execution_count": 3,
   "id": "d717bd23",
   "metadata": {},
   "outputs": [],
   "source": [
    "bool add_to_vector_no_dups(vector<int>& numbers, int number) {\n",
    "    // If not in the vector, add it\n",
    "    if (find(numbers.begin(), numbers.end(), number) == numbers.end()) {\n",
    "        numbers.push_back(number);\n",
    "        return true;\n",
    "    }\n",
    "    return false;\n",
    "}"
   ]
  },
  {
   "cell_type": "code",
   "execution_count": 4,
   "id": "6fd98e80",
   "metadata": {},
   "outputs": [],
   "source": [
    "vector<int> numbers;\n",
    "\n",
    "for (int i = 0; i < 1000000; i++) {\n",
    "    numbers.push_back(i);\n",
    "}"
   ]
  },
  {
   "cell_type": "code",
   "execution_count": 5,
   "id": "0fb12844",
   "metadata": {},
   "outputs": [
    {
     "data": {
      "text/plain": [
       "false"
      ]
     },
     "execution_count": 5,
     "metadata": {},
     "output_type": "execute_result"
    }
   ],
   "source": [
    "add_to_vector_no_dups(numbers, 12345)"
   ]
  },
  {
   "cell_type": "code",
   "execution_count": 7,
   "id": "1dec17ad",
   "metadata": {},
   "outputs": [
    {
     "name": "stdout",
     "output_type": "stream",
     "text": [
      "2.83 ms +- 24.3 us per loop (mean +- std. dev. of 7 runs 100 loops each)\n"
     ]
    }
   ],
   "source": [
    "%%timeit\n",
    "add_to_vector_no_dups(numbers, 999999);"
   ]
  },
  {
   "cell_type": "markdown",
   "id": "7ba5c1ae",
   "metadata": {
    "slideshow": {
     "slide_type": "slide"
    }
   },
   "source": [
    "A new player comes on the scene..."
   ]
  },
  {
   "cell_type": "markdown",
   "id": "fac36e3f",
   "metadata": {
    "slideshow": {
     "slide_type": "fragment"
    }
   },
   "source": [
    "<div class='big centered'> 🤠 </div>"
   ]
  },
  {
   "cell_type": "code",
   "execution_count": 8,
   "id": "b13f621a",
   "metadata": {
    "slideshow": {
     "slide_type": "slide"
    }
   },
   "outputs": [],
   "source": [
    "#include <set>"
   ]
  },
  {
   "cell_type": "code",
   "execution_count": 9,
   "id": "a4f3fb23",
   "metadata": {},
   "outputs": [],
   "source": [
    "set<int> numbers;\n",
    "\n",
    "for (int i = 0; i < 1000000; i++) {\n",
    "    numbers.insert(i);\n",
    "}"
   ]
  },
  {
   "cell_type": "code",
   "execution_count": 11,
   "id": "0a5649c4",
   "metadata": {},
   "outputs": [
    {
     "name": "stdout",
     "output_type": "stream",
     "text": [
      "379 ns +- 2.78 ns per loop (mean +- std. dev. of 7 runs 1000000 loops each)\n"
     ]
    }
   ],
   "source": [
    "%%timeit\n",
    "numbers.insert(999999);"
   ]
  },
  {
   "cell_type": "code",
   "execution_count": 12,
   "id": "513390c9",
   "metadata": {
    "slideshow": {
     "slide_type": "slide"
    }
   },
   "outputs": [],
   "source": [
    "#include <unordered_set>"
   ]
  },
  {
   "cell_type": "code",
   "execution_count": 13,
   "id": "b616dcd8",
   "metadata": {},
   "outputs": [],
   "source": [
    "unordered_set<int> numbers;\n",
    "\n",
    "for (int i = 0; i < 1000000; i++) {\n",
    "    numbers.insert(i);\n",
    "}"
   ]
  },
  {
   "cell_type": "code",
   "execution_count": 15,
   "id": "a12610bd",
   "metadata": {},
   "outputs": [
    {
     "name": "stdout",
     "output_type": "stream",
     "text": [
      "63.7 ns +- 0.104 ns per loop (mean +- std. dev. of 7 runs 10000000 loops each)\n"
     ]
    }
   ],
   "source": [
    "%%timeit\n",
    "numbers.insert(999999);"
   ]
  },
  {
   "cell_type": "markdown",
   "id": "f533705d",
   "metadata": {
    "slideshow": {
     "slide_type": "slide"
    }
   },
   "source": [
    "## Sets\n",
    "\n",
    "- No defined order\n",
    "- No duplicates\n",
    "- Fast lookup\n",
    "\n",
    "https://en.cppreference.com/w/cpp/container/set\n"
   ]
  },
  {
   "cell_type": "code",
   "execution_count": 16,
   "id": "55f80ebb",
   "metadata": {
    "slideshow": {
     "slide_type": "slide"
    }
   },
   "outputs": [
    {
     "data": {
      "text/plain": [
       "{ \"Brigham\", \"Eliza\", \"John\", \"Joseph\", \"Lorenzo\", \"Mary\", \"Phebe\", \"Wilford\" }"
      ]
     },
     "execution_count": 16,
     "metadata": {},
     "output_type": "execute_result"
    }
   ],
   "source": [
    "set<string> names;\n",
    "names.insert(\"Joseph\");\n",
    "names.insert(\"Phebe\");\n",
    "names.insert(\"Brigham\");\n",
    "names.insert(\"John\");\n",
    "names.insert(\"Mary\");\n",
    "names.insert(\"Wilford\");\n",
    "names.insert(\"Eliza\");\n",
    "names.insert(\"Lorenzo\");\n",
    "names.insert(\"Joseph\");\n",
    "names.insert(\"Joseph\");\n",
    "names"
   ]
  },
  {
   "cell_type": "code",
   "execution_count": 17,
   "id": "c3790a19",
   "metadata": {
    "slideshow": {
     "slide_type": "fragment"
    }
   },
   "outputs": [
    {
     "data": {
      "text/plain": [
       "true"
      ]
     },
     "execution_count": 17,
     "metadata": {},
     "output_type": "execute_result"
    }
   ],
   "source": [
    "names.find(\"Joseph\") != names.end()"
   ]
  },
  {
   "cell_type": "code",
   "execution_count": 18,
   "id": "fbeb4191",
   "metadata": {},
   "outputs": [
    {
     "data": {
      "text/plain": [
       "false"
      ]
     },
     "execution_count": 18,
     "metadata": {},
     "output_type": "execute_result"
    }
   ],
   "source": [
    "names.find(\"Josephine\") != names.end()"
   ]
  },
  {
   "cell_type": "code",
   "execution_count": 19,
   "id": "1e1c55b4",
   "metadata": {},
   "outputs": [
    {
     "data": {
      "text/plain": [
       "\"Joseph\""
      ]
     },
     "execution_count": 19,
     "metadata": {},
     "output_type": "execute_result"
    }
   ],
   "source": [
    "*names.find(\"Joseph\")"
   ]
  },
  {
   "cell_type": "code",
   "execution_count": 20,
   "id": "d1e27c0e",
   "metadata": {
    "slideshow": {
     "slide_type": "slide"
    }
   },
   "outputs": [
    {
     "data": {
      "text/plain": [
       "{ \"Wilford\", \"Eliza\", \"Mary\", \"John\", \"Brigham\", \"Phebe\", \"Lorenzo\", \"Joseph\" }"
      ]
     },
     "execution_count": 20,
     "metadata": {},
     "output_type": "execute_result"
    }
   ],
   "source": [
    "unordered_set<string> names;\n",
    "names.insert(\"Joseph\");\n",
    "names.insert(\"Phebe\");\n",
    "names.insert(\"Brigham\");\n",
    "names.insert(\"John\");\n",
    "names.insert(\"Mary\");\n",
    "names.insert(\"Wilford\");\n",
    "names.insert(\"Eliza\");\n",
    "names.insert(\"Lorenzo\");\n",
    "names.insert(\"Joseph\");\n",
    "names.insert(\"Joseph\");\n",
    "names"
   ]
  },
  {
   "cell_type": "markdown",
   "id": "009595de",
   "metadata": {
    "slideshow": {
     "slide_type": "slide"
    }
   },
   "source": [
    "### Examples of sets in real life\n",
    "\n",
    "- Students in class\n",
    "- Integers between 1 and 10\n",
    "- My list of favorite colors\n",
    "\n",
    "#### Common use-cases\n",
    "\n",
    "- Filtering to unique values\n",
    "- Tracking the occurrence of a value (\"Have I threatened you before?\" - Jack Sparrow was using a set to keep track)\n"
   ]
  },
  {
   "cell_type": "markdown",
   "id": "3f8a2525",
   "metadata": {
    "slideshow": {
     "slide_type": "slide"
    }
   },
   "source": [
    "### Sets: key ideas\n",
    "\n",
    "- No duplicate items\n",
    "- No defined order\n",
    "  - C++ sets happen to order things least to greatest\n",
    "  - C++ `unordererd_set`s do not\n",
    "  - Sets in other languages may or may not have a useful ordering: it's not part of the contract.\n",
    "  "
   ]
  },
  {
   "cell_type": "markdown",
   "id": "e94e281c",
   "metadata": {
    "slideshow": {
     "slide_type": "slide"
    }
   },
   "source": [
    "Sets are known as *associative* containers.\n",
    "\n",
    "*Associative* means the same thing as in \"associative property\" in math: $A + B = B + A$\n",
    "\n",
    "The order of the items in the set is undefined. The implementation of the set may impose some kind of arbitrary ordering, but that ordering is not relevant nor guaranteed to the user."
   ]
  },
  {
   "cell_type": "markdown",
   "id": "7eadb3b9",
   "metadata": {
    "slideshow": {
     "slide_type": "fragment"
    }
   },
   "source": [
    "There is another associative container we need to discuss. \n",
    "\n",
    "It is possibly the most common/frequently-used container in all of programming!"
   ]
  },
  {
   "cell_type": "markdown",
   "id": "8c67048e",
   "metadata": {
    "slideshow": {
     "slide_type": "slide"
    }
   },
   "source": [
    "## Maps"
   ]
  },
  {
   "cell_type": "markdown",
   "id": "406f9efa",
   "metadata": {
    "slideshow": {
     "slide_type": "slide"
    }
   },
   "source": [
    "- Maps link a **key** with a **value**\n",
    "\n",
    "\n",
    "- You use the key to store and retrieve the value\n",
    "  - Table of contents\n",
    "    - Key: chapter name, Value: page number\n",
    "  - Student Information Database\n",
    "    - Key: Student ID, Value: student information\n",
    "  - Scoreboard\n",
    "    - Key: athlete name, Value: score\n",
    "\n",
    "\n",
    "- The collection of keys is a **set**\n",
    "  - Unique, undefined order (associative)\n",
    "  \n",
    "https://en.cppreference.com/w/cpp/container/map"
   ]
  },
  {
   "cell_type": "markdown",
   "id": "9470469a",
   "metadata": {
    "slideshow": {
     "slide_type": "slide"
    }
   },
   "source": [
    "### Maps in Action!"
   ]
  },
  {
   "cell_type": "code",
   "execution_count": 21,
   "id": "c6fa74ca",
   "metadata": {},
   "outputs": [],
   "source": [
    "#include <map>"
   ]
  },
  {
   "cell_type": "markdown",
   "id": "1e7ff4dc",
   "metadata": {
    "slideshow": {
     "slide_type": "slide"
    }
   },
   "source": [
    "#### Map literals"
   ]
  },
  {
   "cell_type": "code",
   "execution_count": 22,
   "id": "2e2a456f",
   "metadata": {},
   "outputs": [],
   "source": [
    "int stuff[] = {1, 2, 3, 4};"
   ]
  },
  {
   "cell_type": "code",
   "execution_count": 23,
   "id": "232021a2",
   "metadata": {
    "slideshow": {
     "slide_type": "fragment"
    }
   },
   "outputs": [
    {
     "data": {
      "text/plain": [
       "{ \"142\" => \"Intro to Programming\", \"235\" => \"Data Structures\", \"236\" => \"Discrete Stuff\" }"
      ]
     },
     "execution_count": 23,
     "metadata": {},
     "output_type": "execute_result"
    }
   ],
   "source": [
    "map<string, string> id2name = {\n",
    "    {\"235\", \"Data Structures\"},\n",
    "    {\"142\", \"Intro to Programming\"},\n",
    "    {\"236\", \"Discrete Stuff\"}\n",
    "};\n",
    "id2name"
   ]
  },
  {
   "cell_type": "code",
   "execution_count": 24,
   "id": "dda90525",
   "metadata": {
    "slideshow": {
     "slide_type": "fragment"
    }
   },
   "outputs": [
    {
     "data": {
      "text/plain": [
       "\"Data Structures\""
      ]
     },
     "execution_count": 24,
     "metadata": {},
     "output_type": "execute_result"
    }
   ],
   "source": [
    "id2name[\"235\"]"
   ]
  },
  {
   "cell_type": "markdown",
   "id": "445151dc",
   "metadata": {
    "slideshow": {
     "slide_type": "slide"
    }
   },
   "source": [
    "#### Counts"
   ]
  },
  {
   "cell_type": "code",
   "execution_count": 25,
   "id": "5aaae1a1",
   "metadata": {},
   "outputs": [
    {
     "name": "stdout",
     "output_type": "stream",
     "text": [
      "october\n",
      "june\n",
      "april\n",
      "january\n",
      "august\n",
      "july\n",
      "december\n",
      "january\n",
      "may\n",
      "may\n",
      "september\n",
      "february\n",
      "march\n",
      "april\n",
      "friday\n",
      "july\n",
      "november\n",
      "quit\n",
      "\n",
      "Counts\n",
      "-------------\n",
      "april: 2\n",
      "august: 1\n",
      "december: 1\n",
      "february: 1\n",
      "friday: 1\n",
      "january: 2\n",
      "july: 2\n",
      "june: 1\n",
      "march: 1\n",
      "may: 2\n",
      "november: 1\n",
      "october: 1\n",
      "september: 1\n"
     ]
    }
   ],
   "source": [
    "map<string, int> counts;\n",
    "string name;\n",
    "while (cin >> name && name != \"quit\") {\n",
    "    if (counts.find(name) == counts.end()) {\n",
    "        counts[name] = 0;\n",
    "    }\n",
    "    counts[name]++;\n",
    "}\n",
    "\n",
    "// Print the scores\n",
    "cout << endl << \"Counts\" << endl << \"-------------\" << endl;\n",
    "for (auto& entry : counts) {\n",
    "    cout << entry.first << \": \" << entry.second << endl;\n",
    "}\n"
   ]
  },
  {
   "cell_type": "code",
   "execution_count": 26,
   "id": "220d6943",
   "metadata": {
    "slideshow": {
     "slide_type": "slide"
    }
   },
   "outputs": [
    {
     "data": {
      "text/plain": [
       "0"
      ]
     },
     "execution_count": 26,
     "metadata": {},
     "output_type": "execute_result"
    }
   ],
   "source": [
    "counts[\"sprummer\"]"
   ]
  },
  {
   "cell_type": "code",
   "execution_count": 27,
   "id": "af453102",
   "metadata": {},
   "outputs": [
    {
     "name": "stdout",
     "output_type": "stream",
     "text": [
      "\n",
      "Counts\n",
      "-------------\n",
      "april: 2\n",
      "august: 1\n",
      "december: 1\n",
      "february: 1\n",
      "friday: 1\n",
      "january: 2\n",
      "july: 2\n",
      "june: 1\n",
      "march: 1\n",
      "may: 2\n",
      "november: 1\n",
      "october: 1\n",
      "september: 1\n",
      "sprummer: 0\n"
     ]
    }
   ],
   "source": [
    "// Print the scores\n",
    "cout << endl << \"Counts\" << endl << \"-------------\" << endl;\n",
    "for (auto& entry : counts) {\n",
    "    cout << entry.first << \": \" << entry.second << endl;\n",
    "}"
   ]
  },
  {
   "cell_type": "code",
   "execution_count": 28,
   "id": "f5717cf3",
   "metadata": {
    "slideshow": {
     "slide_type": "slide"
    }
   },
   "outputs": [
    {
     "data": {
      "text/plain": [
       "true"
      ]
     },
     "execution_count": 28,
     "metadata": {},
     "output_type": "execute_result"
    }
   ],
   "source": [
    "counts.find(\"sprummer\") != counts.end()"
   ]
  },
  {
   "cell_type": "code",
   "execution_count": 29,
   "id": "003531a8",
   "metadata": {},
   "outputs": [
    {
     "data": {
      "text/plain": [
       "0"
      ]
     },
     "execution_count": 29,
     "metadata": {},
     "output_type": "execute_result"
    }
   ],
   "source": [
    "counts.find(\"sprummer\")->second"
   ]
  },
  {
   "cell_type": "code",
   "execution_count": 30,
   "id": "575c9215",
   "metadata": {},
   "outputs": [
    {
     "data": {
      "text/plain": [
       "false"
      ]
     },
     "execution_count": 30,
     "metadata": {},
     "output_type": "execute_result"
    }
   ],
   "source": [
    "counts.find(\"abcdefg\") != counts.end()"
   ]
  },
  {
   "cell_type": "markdown",
   "id": "ec1dc6f7",
   "metadata": {
    "slideshow": {
     "slide_type": "slide"
    }
   },
   "source": [
    "In C++, simply by referencing a key, a default value is created.\n",
    "\n",
    "If you want to check for a key without creating a value, use `.find()` and compare to `.end()`\n",
    "\n",
    "(For hyper-efficient ways of initializing new values, see https://stackoverflow.com/questions/97050/stdmap-insert-or-stdmap-find)"
   ]
  },
  {
   "cell_type": "markdown",
   "id": "1e2c14b2",
   "metadata": {
    "slideshow": {
     "slide_type": "fragment"
    }
   },
   "source": [
    "We can also see how to iterate over a map.\n",
    "\n",
    "The iterator has `first` and `second` properties. `first` is the key, `second` is the value."
   ]
  },
  {
   "cell_type": "markdown",
   "id": "d86d1a1b",
   "metadata": {
    "slideshow": {
     "slide_type": "slide"
    }
   },
   "source": [
    "#### Codex"
   ]
  },
  {
   "cell_type": "code",
   "execution_count": 31,
   "id": "bab80820",
   "metadata": {},
   "outputs": [
    {
     "data": {
      "text/plain": [
       "'D'"
      ]
     },
     "execution_count": 31,
     "metadata": {},
     "output_type": "execute_result"
    }
   ],
   "source": [
    "(char)('d' - 'a' + 'A')"
   ]
  },
  {
   "cell_type": "code",
   "execution_count": 32,
   "id": "3fa781c2",
   "metadata": {
    "slideshow": {
     "slide_type": "slide"
    }
   },
   "outputs": [
    {
     "name": "stdout",
     "output_type": "stream",
     "text": [
      "A -> X; B -> Y; C -> Z; D -> I; E -> J; F -> K; G -> A; H -> F; I -> G; J -> W; K -> L; L -> M; M -> N; N -> O; O -> H; P -> U; Q -> V; R -> B; S -> C; T -> D; U -> E; V -> P; W -> Q; X -> R; Y -> S; Z -> T; a -> x; b -> y; c -> z; d -> i; e -> j; f -> k; g -> a; h -> f; i -> g; j -> w; k -> l; l -> m; m -> n; n -> o; o -> h; p -> u; q -> v; r -> b; s -> c; t -> d; u -> e; v -> p; w -> q; x -> r; y -> s; z -> t; \n"
     ]
    }
   ],
   "source": [
    "map<char, char> codex;\n",
    "string alphabet = \"abcdefghijklmnopqrstuvwxyz\";\n",
    "string scramble = \"xyzijkafgwlmnohuvbcdepqrst\";\n",
    "\n",
    "for (int i = 0; i < alphabet.length(); i++) {\n",
    "    codex[alphabet[i]] = scramble[i];\n",
    "    codex[alphabet[i]-'a'+'A'] = scramble[i]-'a'+'A';\n",
    "}\n",
    "\n",
    "for (auto& entry : codex) {\n",
    "    cout << entry.first << \" -> \" << entry.second << \"; \";\n",
    "}\n",
    "cout << endl;"
   ]
  },
  {
   "cell_type": "code",
   "execution_count": 33,
   "id": "16e05bfa",
   "metadata": {},
   "outputs": [],
   "source": [
    "#include <sstream>"
   ]
  },
  {
   "cell_type": "code",
   "execution_count": 34,
   "id": "aaf3d829",
   "metadata": {},
   "outputs": [],
   "source": [
    "string encode(string const& in, map<char, char> const& codex) {\n",
    "    stringstream result;\n",
    "    for (int i = 0; i < in.length(); i++) {\n",
    "        auto c = codex.find(in[i]);\n",
    "        if (c == codex.end()) {\n",
    "            result << in[i];\n",
    "        } else {\n",
    "            result << c->second;\n",
    "        }\n",
    "    }\n",
    "    return result.str();\n",
    "}"
   ]
  },
  {
   "cell_type": "code",
   "execution_count": 35,
   "id": "f2643ddf",
   "metadata": {},
   "outputs": [
    {
     "data": {
      "text/plain": [
       "\"Fjmmh, ns oxnj gc Gogah Nhodhsx\""
      ]
     },
     "execution_count": 35,
     "metadata": {},
     "output_type": "execute_result"
    }
   ],
   "source": [
    "encode(\"Hello, my name is Inigo Montoya\", codex)"
   ]
  },
  {
   "cell_type": "markdown",
   "id": "a2d83ec6",
   "metadata": {
    "slideshow": {
     "slide_type": "slide"
    }
   },
   "source": [
    "Let's try using a different character mapping!"
   ]
  },
  {
   "cell_type": "code",
   "execution_count": 36,
   "id": "8a28bf3c",
   "metadata": {},
   "outputs": [
    {
     "data": {
      "text/plain": [
       "5"
      ]
     },
     "execution_count": 36,
     "metadata": {},
     "output_type": "execute_result"
    }
   ],
   "source": [
    "(15 + 16) % 26"
   ]
  },
  {
   "cell_type": "code",
   "execution_count": 37,
   "id": "d21fe0db",
   "metadata": {
    "slideshow": {
     "slide_type": "-"
    }
   },
   "outputs": [
    {
     "data": {
      "text/plain": [
       "{ 'A' => 'N', 'B' => 'O', 'C' => 'P', 'D' => 'Q', 'E' => 'R', 'F' => 'S', 'G' => 'T', 'H' => 'U', 'I' => 'V', 'J' => 'W', 'K' => 'X', 'L' => 'Y', 'M' => 'Z', 'N' => 'A', 'O' => 'B', 'P' => 'C', 'Q' => 'D', 'R' => 'E', 'S' => 'F', 'T' => 'G', 'U' => 'H', 'V' => 'I', 'W' => 'J', 'X' => 'K', 'Y' => 'L', 'Z' => 'M', 'a' => 'n', 'b' => 'o', 'c' => 'p', 'd' => 'q', 'e' => 'r', 'f' => 's', 'g' => 't', 'h' => 'u', 'i' => 'v', 'j' => 'w', 'k' => 'x', 'l' => 'y', 'm' => 'z', 'n' => 'a', 'o' => 'b', 'p' => 'c', 'q' => 'd', 'r' => 'e', 's' => 'f', 't' => 'g', 'u' => 'h', 'v' => 'i', 'w' => 'j', 'x' => 'k', 'y' => 'l', 'z' => 'm' }"
      ]
     },
     "execution_count": 37,
     "metadata": {},
     "output_type": "execute_result"
    }
   ],
   "source": [
    "map<char, char> rot13;\n",
    "int offset = 13;\n",
    "for (int i = 0; i < 26; i++) {\n",
    "    rot13['a' + i] = 'a' + (i+offset)%26;\n",
    "    rot13['A' + i] = 'A' + (i+offset)%26;\n",
    "}\n",
    "rot13"
   ]
  },
  {
   "cell_type": "code",
   "execution_count": 38,
   "id": "0520f5d5",
   "metadata": {},
   "outputs": [
    {
     "data": {
      "text/plain": [
       "\"Uryyb, zl anzr vf Vavtb Zbagbln\""
      ]
     },
     "execution_count": 38,
     "metadata": {},
     "output_type": "execute_result"
    }
   ],
   "source": [
    "encode(\"Hello, my name is Inigo Montoya\", rot13)"
   ]
  },
  {
   "cell_type": "markdown",
   "id": "bf26e84a",
   "metadata": {
    "slideshow": {
     "slide_type": "slide"
    }
   },
   "source": [
    "#### Decode!"
   ]
  },
  {
   "cell_type": "code",
   "execution_count": 39,
   "id": "331d1f14",
   "metadata": {},
   "outputs": [],
   "source": [
    "map<char, char> xedoc;\n",
    "for (auto key_value_pair : codex) {\n",
    "    xedoc[key_value_pair.second] = key_value_pair.first;\n",
    "}"
   ]
  },
  {
   "cell_type": "markdown",
   "id": "3ec53ae2",
   "metadata": {
    "slideshow": {
     "slide_type": "fragment"
    }
   },
   "source": [
    "Notice how we swapped the keys and values:\n",
    "\n",
    "```\n",
    "entry.second -> entry.first;\n",
    "```\n",
    "\n",
    "When you have one-to-one mappings, the ability to reverse the mapping can be very useful.\n",
    "\n",
    "Will the same practice work for the \"counts\" map?"
   ]
  },
  {
   "cell_type": "code",
   "execution_count": 40,
   "id": "dc5606c1",
   "metadata": {
    "slideshow": {
     "slide_type": "slide"
    }
   },
   "outputs": [
    {
     "name": "stdout",
     "output_type": "stream",
     "text": [
      "I think maps are the coolest thing since sliced bread. 🍞\n",
      "G dfgol nxuc xbj dfj zhhmjcd dfgoa cgozj cmgzji ybjxi. 🍞\n",
      "I think maps are the coolest thing since sliced bread. 🍞\n"
     ]
    }
   ],
   "source": [
    "string message = \"I think maps are the coolest thing since sliced bread. 🍞\";\n",
    "cout << message << endl;\n",
    "\n",
    "string secret_message = encode(message, codex);\n",
    "cout << secret_message << endl;\n",
    "\n",
    "string message_restored = encode(secret_message, xedoc);\n",
    "cout << message_restored << endl;"
   ]
  },
  {
   "cell_type": "markdown",
   "id": "a8fc3b50",
   "metadata": {
    "slideshow": {
     "slide_type": "slide"
    }
   },
   "source": [
    "### Nested structures"
   ]
  },
  {
   "cell_type": "code",
   "execution_count": 41,
   "id": "7cff4183",
   "metadata": {
    "slideshow": {
     "slide_type": "slide"
    }
   },
   "outputs": [
    {
     "name": "stdout",
     "output_type": "stream",
     "text": [
      "BOO\n",
      "frog\n",
      "karate\n",
      "friday\n",
      "yay\n",
      "gravy\n",
      "pi\n",
      "pie\n",
      "other\n",
      "the\n",
      "ant\n",
      "welcome\n",
      "steam\n",
      "to\n",
      "help\n",
      "skip\n",
      "false\n",
      "a\n",
      "hog\n",
      "seven\n",
      "queue\n",
      "q\n"
     ]
    }
   ],
   "source": [
    "map<int, set<string>> words_of_length;\n",
    "\n",
    "string word;\n",
    "while (cin >> word && word != \"q\") {\n",
    "    int length = word.length();\n",
    "    if (words_of_length.find(length) == words_of_length.end()) {\n",
    "        words_of_length[length] = set<string>();\n",
    "    }\n",
    "    words_of_length[length].insert(word);\n",
    "}"
   ]
  },
  {
   "cell_type": "code",
   "execution_count": 42,
   "id": "b387ee5b",
   "metadata": {
    "slideshow": {
     "slide_type": "slide"
    }
   },
   "outputs": [
    {
     "name": "stdout",
     "output_type": "stream",
     "text": [
      "Words of length 1: a\n",
      "Words of length 2: pi to\n",
      "Words of length 3: BOO ant hog pie the yay\n",
      "Words of length 4: frog help skip\n",
      "Words of length 5: false gravy other queue seven steam\n",
      "Words of length 6: friday karate\n",
      "Words of length 7: welcome\n"
     ]
    }
   ],
   "source": [
    "for (auto entry : words_of_length) {\n",
    "    cout << \"Words of length \" << entry.first << \":\";\n",
    "    for (auto word : entry.second) {\n",
    "        cout << \" \" << word;\n",
    "    }\n",
    "    cout << endl;\n",
    "}"
   ]
  },
  {
   "cell_type": "markdown",
   "id": "c51fa776",
   "metadata": {
    "slideshow": {
     "slide_type": "slide"
    }
   },
   "source": [
    "### What if I want to bin words by a range? Say, 0-2, 3-5, etc."
   ]
  },
  {
   "cell_type": "code",
   "execution_count": 45,
   "id": "8def5c03",
   "metadata": {
    "slideshow": {
     "slide_type": "slide"
    }
   },
   "outputs": [
    {
     "name": "stdout",
     "output_type": "stream",
     "text": [
      "999999 another thing yo i u yep 123asdfad./kjczg\n",
      "stuff\n",
      "q\n"
     ]
    }
   ],
   "source": [
    "map<int, set<string>> words_of_length;\n",
    "int range = 3;\n",
    "\n",
    "string word;\n",
    "while (cin >> word && word != \"q\") {\n",
    "    int length = word.length();\n",
    "    int key = length / 3;\n",
    "    if (words_of_length.find(key) == words_of_length.end()) {\n",
    "        words_of_length[key] = set<string>();\n",
    "    }\n",
    "    words_of_length[key].insert(word);\n",
    "}"
   ]
  },
  {
   "cell_type": "code",
   "execution_count": 46,
   "id": "f613d889",
   "metadata": {
    "slideshow": {
     "slide_type": "slide"
    }
   },
   "outputs": [
    {
     "name": "stdout",
     "output_type": "stream",
     "text": [
      "Words of length >= 0: i u yo\n",
      "Words of length >= 3: stuff thing yep\n",
      "Words of length >= 6: 999999 another\n",
      "Words of length >= 15: 123asdfad./kjczg\n"
     ]
    }
   ],
   "source": [
    "for (auto entry : words_of_length) {\n",
    "    cout << \"Words of length >= \" << entry.first * 3 << \":\";\n",
    "    for (auto word : entry.second) {\n",
    "        cout << \" \" << word;\n",
    "    }\n",
    "    cout << endl;\n",
    "}"
   ]
  },
  {
   "cell_type": "markdown",
   "id": "41dca7ba",
   "metadata": {
    "slideshow": {
     "slide_type": "slide"
    }
   },
   "source": [
    "## Performance"
   ]
  },
  {
   "cell_type": "code",
   "execution_count": 47,
   "id": "8c7bcbd4",
   "metadata": {
    "slideshow": {
     "slide_type": "slide"
    }
   },
   "outputs": [],
   "source": [
    "map<int, int> numbers;"
   ]
  },
  {
   "cell_type": "code",
   "execution_count": 48,
   "id": "a8e528e4",
   "metadata": {},
   "outputs": [
    {
     "name": "stdout",
     "output_type": "stream",
     "text": [
      "1.6 ms +- 4.7 us per loop (mean +- std. dev. of 7 runs 1000 loops each)\n"
     ]
    }
   ],
   "source": [
    "%%timeit\n",
    "for (int i = 0; i < 10000; i++) {\n",
    "    numbers[i] = i + 1;\n",
    "}"
   ]
  },
  {
   "cell_type": "code",
   "execution_count": 49,
   "id": "1ab146a6",
   "metadata": {
    "slideshow": {
     "slide_type": "slide"
    }
   },
   "outputs": [],
   "source": [
    "#include <unordered_map>"
   ]
  },
  {
   "cell_type": "code",
   "execution_count": 50,
   "id": "f51d94ec",
   "metadata": {},
   "outputs": [],
   "source": [
    "unordered_map<int, int> numbers;"
   ]
  },
  {
   "cell_type": "code",
   "execution_count": 51,
   "id": "524f5917",
   "metadata": {},
   "outputs": [
    {
     "name": "stdout",
     "output_type": "stream",
     "text": [
      "356 us +- 1.94 us per loop (mean +- std. dev. of 7 runs 1000 loops each)\n"
     ]
    }
   ],
   "source": [
    "%%timeit\n",
    "for (int i = 0; i < 10000; i++) {\n",
    "    numbers[i] = i + 1;\n",
    "}"
   ]
  },
  {
   "cell_type": "markdown",
   "id": "ad441d58",
   "metadata": {
    "slideshow": {
     "slide_type": "slide"
    }
   },
   "source": [
    "## Maps: key ideas\n",
    "\n",
    "- Unique keys, not necessarily unique values\n",
    "- Fast lookup\n",
    "- Speed vs ordering\n",
    "  - `map` stores things in \"sorted\" order, but is slower at storage/retrieval than `unordered_map`\n",
    "  - `unordered_map` does not guarantee any order, but is faster at storage/retrieval than `map`\n"
   ]
  },
  {
   "cell_type": "markdown",
   "id": "5ebe2467",
   "metadata": {
    "slideshow": {
     "slide_type": "slide"
    }
   },
   "source": [
    "## Other key ideas\n",
    "\n",
    "- Nested data structures!"
   ]
  }
 ],
 "metadata": {
  "celltoolbar": "Slideshow",
  "kernelspec": {
   "display_name": "C++14",
   "language": "C++14",
   "name": "xcpp14"
  },
  "language_info": {
   "codemirror_mode": "text/x-c++src",
   "file_extension": ".cpp",
   "mimetype": "text/x-c++src",
   "name": "c++",
   "version": "14"
  }
 },
 "nbformat": 4,
 "nbformat_minor": 5
}
