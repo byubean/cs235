{
 "cells": [
  {
   "cell_type": "markdown",
   "id": "89d62eb1",
   "metadata": {
    "slideshow": {
     "slide_type": "slide"
    }
   },
   "source": [
    "# STL Containers"
   ]
  },
  {
   "cell_type": "code",
   "execution_count": 1,
   "id": "425cc38f",
   "metadata": {
    "slideshow": {
     "slide_type": "slide"
    }
   },
   "outputs": [],
   "source": [
    "#include <string>\n",
    "#include <iostream>\n",
    "#include <sstream>\n",
    "using namespace std;"
   ]
  },
  {
   "cell_type": "markdown",
   "id": "72a18d5d",
   "metadata": {
    "slideshow": {
     "slide_type": "slide"
    }
   },
   "source": [
    "## Queues"
   ]
  },
  {
   "cell_type": "markdown",
   "id": "fec66026",
   "metadata": {
    "slideshow": {
     "slide_type": "skip"
    }
   },
   "source": [
    "- FIFO\n",
    "- Add at back, remove from front\n",
    "- All about controlling behavior\n",
    "- No iterator!\n",
    "- Use-case: rolling window (lab 1), scheduling, buffering"
   ]
  },
  {
   "cell_type": "markdown",
   "id": "9cd9a843",
   "metadata": {
    "slideshow": {
     "slide_type": "fragment"
    }
   },
   "source": [
    "- Ordered\n",
    "- First-in-first-out (FIFO)\n",
    "- `front`, `push`, `pop`, `empty`"
   ]
  },
  {
   "cell_type": "code",
   "execution_count": 2,
   "id": "894af3b7",
   "metadata": {
    "slideshow": {
     "slide_type": "slide"
    }
   },
   "outputs": [],
   "source": [
    "#include <queue>"
   ]
  },
  {
   "cell_type": "code",
   "execution_count": 3,
   "id": "54841351",
   "metadata": {},
   "outputs": [
    {
     "name": "stdout",
     "output_type": "stream",
     "text": [
      "Abinadi\n",
      "Zeniff\n",
      "Pahoran\n",
      "Kishkuman\n",
      "Nephi\n",
      "Lehi\n"
     ]
    }
   ],
   "source": [
    "queue<string> names;\n",
    "\n",
    "names.push(\"Abinadi\");\n",
    "names.push(\"Zeniff\");\n",
    "names.push(\"Pahoran\");\n",
    "names.push(\"Kishkuman\");\n",
    "names.push(\"Nephi\");\n",
    "names.push(\"Lehi\");\n",
    "\n",
    "while (!names.empty()) {\n",
    "    cout << names.front() << endl;\n",
    "    names.pop();\n",
    "}"
   ]
  },
  {
   "cell_type": "markdown",
   "id": "f9723e2d",
   "metadata": {
    "slideshow": {
     "slide_type": "slide"
    }
   },
   "source": [
    "### Use Cases for Queues\n",
    "- When insertion order should be preserved\n",
    "- When access to any element but the front is not allowed"
   ]
  },
  {
   "cell_type": "markdown",
   "id": "1279e329",
   "metadata": {
    "slideshow": {
     "slide_type": "slide"
    }
   },
   "source": [
    "### How would you implement a queue?"
   ]
  },
  {
   "cell_type": "markdown",
   "id": "e1edb4d8",
   "metadata": {
    "slideshow": {
     "slide_type": "fragment"
    }
   },
   "source": [
    "If you use an array under the hood, what happens when you add an element in the back?\n",
    "\n",
    "What happens when you remove the front element?"
   ]
  },
  {
   "cell_type": "markdown",
   "id": "c8ad9030",
   "metadata": {
    "slideshow": {
     "slide_type": "slide"
    }
   },
   "source": [
    "### Big ideas\n",
    "- Queues can be more efficient than other structures when you can follow the queue contract: first-in-first-out"
   ]
  },
  {
   "cell_type": "markdown",
   "id": "4233194f",
   "metadata": {
    "slideshow": {
     "slide_type": "slide"
    }
   },
   "source": [
    "## Stacks"
   ]
  },
  {
   "cell_type": "markdown",
   "id": "75586426",
   "metadata": {
    "slideshow": {
     "slide_type": "skip"
    }
   },
   "source": [
    "- Last-in-first-out (LIFO)\n",
    "- abstract interface: `push`, `pop`, `top`, `empty`\n",
    "- C++ STD library `stack`\n",
    "- Demonstration\n",
    "- Use-case: Reversal, matching parens, undo, call stack\n",
    "    - In class: reversal and matching parens"
   ]
  },
  {
   "cell_type": "markdown",
   "id": "881a24b1",
   "metadata": {
    "slideshow": {
     "slide_type": "fragment"
    }
   },
   "source": [
    "- Ordered (but not \"insertion\" order!)\n",
    "- Last-in-first-out (LIFO)\n",
    "- `push`, `pop`, `top`, `empty`"
   ]
  },
  {
   "cell_type": "code",
   "execution_count": 4,
   "id": "6818a7bb",
   "metadata": {
    "slideshow": {
     "slide_type": "slide"
    }
   },
   "outputs": [],
   "source": [
    "#include <stack>"
   ]
  },
  {
   "cell_type": "code",
   "execution_count": 5,
   "id": "9d73951e",
   "metadata": {},
   "outputs": [
    {
     "name": "stdout",
     "output_type": "stream",
     "text": [
      "Lehi\n",
      "Nephi\n",
      "Kishkuman\n",
      "Pahoran\n",
      "Zeniff\n",
      "Abinadi\n"
     ]
    }
   ],
   "source": [
    "stack<string> names;\n",
    "\n",
    "names.push(\"Abinadi\");\n",
    "names.push(\"Zeniff\");\n",
    "names.push(\"Pahoran\");\n",
    "names.push(\"Kishkuman\");\n",
    "names.push(\"Nephi\");\n",
    "names.push(\"Lehi\");\n",
    "\n",
    "while (!names.empty()) {\n",
    "    cout << names.top() << endl;\n",
    "    names.pop();\n",
    "}"
   ]
  },
  {
   "cell_type": "markdown",
   "id": "9093adbd",
   "metadata": {
    "slideshow": {
     "slide_type": "slide"
    }
   },
   "source": [
    "### Use Cases for Stacks"
   ]
  },
  {
   "cell_type": "markdown",
   "id": "fdafb8df",
   "metadata": {
    "slideshow": {
     "slide_type": "fragment"
    }
   },
   "source": [
    "- Inverting/reversing\n",
    "  - Backing out of something the same way you went in, retracing steps\n",
    "- Nested problems\n",
    "  - When a sub-problem has the same quality as the primary problem\n",
    "    - Solving a maze\n",
    "    - Boggle\n",
    "  - Inception! 😴 😴 😴"
   ]
  },
  {
   "cell_type": "markdown",
   "id": "a98fb857",
   "metadata": {
    "slideshow": {
     "slide_type": "fragment"
    }
   },
   "source": [
    "- Symmetric problems\n",
    "  - matching parentheses\n",
    "  - chiasmus, palindromes"
   ]
  },
  {
   "cell_type": "markdown",
   "id": "6c840025",
   "metadata": {
    "slideshow": {
     "slide_type": "fragment"
    }
   },
   "source": [
    "- Memory allocation for functions!\n",
    "  - the \"stack\" is...a stack!"
   ]
  },
  {
   "cell_type": "markdown",
   "id": "2a17827a",
   "metadata": {
    "slideshow": {
     "slide_type": "fragment"
    }
   },
   "source": [
    "  \n",
    "<div class=\"big centered\"> 🤯 </div>"
   ]
  },
  {
   "cell_type": "markdown",
   "id": "c0798812",
   "metadata": {
    "slideshow": {
     "slide_type": "slide"
    }
   },
   "source": [
    "```c++\n",
    "void A() {\n",
    "    // What is the call stack contents at this point?\n",
    "}\n",
    "void B() {\n",
    "    A();\n",
    "}\n",
    "void C() {\n",
    "    B();\n",
    "}\n",
    "\n",
    "int main() {\n",
    "    C();\n",
    "    B();\n",
    "    C();\n",
    "}\n",
    "```"
   ]
  },
  {
   "cell_type": "markdown",
   "id": "42187702",
   "metadata": {
    "slideshow": {
     "slide_type": "fragment"
    }
   },
   "source": [
    "```\n",
    "0: main\n",
    "1: C\n",
    "2: B\n",
    "3: A\n",
    "```"
   ]
  },
  {
   "cell_type": "markdown",
   "id": "fa197899",
   "metadata": {
    "slideshow": {
     "slide_type": "slide"
    }
   },
   "source": [
    "### How would you implement a stack?"
   ]
  },
  {
   "cell_type": "markdown",
   "id": "1b517257",
   "metadata": {
    "slideshow": {
     "slide_type": "slide"
    }
   },
   "source": [
    "### Big Ideas for Stacks\n",
    "- Allows us to implement algorithms with nested, symmetric, or reversing qualities\n",
    "- Simple to implement efficiently (use a `vector`, work from the back)"
   ]
  },
  {
   "cell_type": "markdown",
   "id": "3ba7de68",
   "metadata": {
    "slideshow": {
     "slide_type": "slide"
    }
   },
   "source": [
    "## On the Implemention of Queues and Stacks"
   ]
  },
  {
   "cell_type": "markdown",
   "id": "e9f1725b",
   "metadata": {},
   "source": [
    "The concepts of queues and stacks are about how an underlying container is **used**, not about how it is *implemented*.\n",
    "\n",
    "To ask whether a queue is *efficient* is besides the point. A queue just stipulates FIFO behavior. There are efficent ways to implement it, and inefficient ways to implement it.\n",
    "\n",
    "The same goes for stacks."
   ]
  },
  {
   "cell_type": "markdown",
   "id": "459c8709",
   "metadata": {
    "slideshow": {
     "slide_type": "slide"
    }
   },
   "source": [
    "### Implementing the stack interface with a vector"
   ]
  },
  {
   "cell_type": "code",
   "execution_count": 6,
   "id": "43734ff0",
   "metadata": {
    "slideshow": {
     "slide_type": "slide"
    }
   },
   "outputs": [],
   "source": [
    "template <class T>\n",
    "class Stak {\n",
    "    vector<T> items;\n",
    "    \n",
    "    public:\n",
    "    Stak() : items() {}\n",
    "    \n",
    "    size_t size() const { return items.size(); }\n",
    "    void push_back(T const& item) { items.push_back(item); }\n",
    "    T back() const { return items.back(); }\n",
    "    void pop_back() { items.pop_back(); }\n",
    "};"
   ]
  },
  {
   "cell_type": "code",
   "execution_count": 7,
   "id": "26107176",
   "metadata": {},
   "outputs": [
    {
     "name": "stdout",
     "output_type": "stream",
     "text": [
      "8\n",
      "7\n"
     ]
    }
   ],
   "source": [
    "Stak<int> stak;\n",
    "stak.push_back(7);\n",
    "stak.push_back(8);\n",
    "cout << stak.back() << endl;\n",
    "\n",
    "stak.pop_back();\n",
    "cout << stak.back() << endl;"
   ]
  },
  {
   "cell_type": "markdown",
   "id": "9ed6082e",
   "metadata": {
    "slideshow": {
     "slide_type": "slide"
    }
   },
   "source": [
    "<div class='alert alert-info'>\n",
    "\n",
    "Often, we implement data structures by wrapping and combining other structures.\n",
    "This is called the <b>delegation</b> pattern.\n",
    "</div>"
   ]
  },
  {
   "cell_type": "markdown",
   "id": "a2ef7e34",
   "metadata": {
    "slideshow": {
     "slide_type": "slide"
    }
   },
   "source": [
    "## Priority Queues"
   ]
  },
  {
   "cell_type": "markdown",
   "id": "49218f5f",
   "metadata": {
    "slideshow": {
     "slide_type": "skip"
    }
   },
   "source": [
    "- Auto-sorted\n",
    "- Uses heap under the hood\n",
    "- No iterator!\n",
    "- Use-case: Dijkstra's algorithm, sort-as-you-go, triage\n",
    "- `push`, `pop`, `top`\n"
   ]
  },
  {
   "cell_type": "markdown",
   "id": "271405b4",
   "metadata": {
    "slideshow": {
     "slide_type": "fragment"
    }
   },
   "source": [
    "- Ordered (sorted!)\n",
    "- `top`, `push`, `pop`\n",
    "\n",
    "https://en.cppreference.com/w/cpp/container/priority_queue"
   ]
  },
  {
   "cell_type": "code",
   "execution_count": 8,
   "id": "dcf74175",
   "metadata": {
    "slideshow": {
     "slide_type": "slide"
    }
   },
   "outputs": [
    {
     "data": {
      "text/plain": [
       "true"
      ]
     },
     "execution_count": 8,
     "metadata": {},
     "output_type": "execute_result"
    }
   ],
   "source": [
    "'A' < 'a'"
   ]
  },
  {
   "cell_type": "code",
   "execution_count": 9,
   "id": "3072cab7",
   "metadata": {},
   "outputs": [
    {
     "data": {
      "text/plain": [
       "97"
      ]
     },
     "execution_count": 9,
     "metadata": {},
     "output_type": "execute_result"
    }
   ],
   "source": [
    "(int)'a'"
   ]
  },
  {
   "cell_type": "code",
   "execution_count": 10,
   "id": "a8830cb5",
   "metadata": {},
   "outputs": [
    {
     "data": {
      "text/plain": [
       "98"
      ]
     },
     "execution_count": 10,
     "metadata": {},
     "output_type": "execute_result"
    }
   ],
   "source": [
    "(int)'b'"
   ]
  },
  {
   "cell_type": "code",
   "execution_count": 11,
   "id": "c19b9876",
   "metadata": {},
   "outputs": [
    {
     "data": {
      "text/plain": [
       "true"
      ]
     },
     "execution_count": 11,
     "metadata": {},
     "output_type": "execute_result"
    }
   ],
   "source": [
    "'a' < 'b'"
   ]
  },
  {
   "cell_type": "code",
   "execution_count": 12,
   "id": "8a5c9d9b",
   "metadata": {
    "slideshow": {
     "slide_type": "slide"
    }
   },
   "outputs": [],
   "source": [
    "#include <queue>"
   ]
  },
  {
   "cell_type": "code",
   "execution_count": 13,
   "id": "eeef0279",
   "metadata": {
    "slideshow": {
     "slide_type": "slide"
    }
   },
   "outputs": [
    {
     "name": "stdout",
     "output_type": "stream",
     "text": [
      "8\n",
      "7\n",
      "2\n"
     ]
    }
   ],
   "source": [
    "priority_queue<int> numbers;\n",
    "numbers.push(7);\n",
    "numbers.push(8);\n",
    "numbers.push(2);\n",
    "\n",
    "while (!numbers.empty()) {\n",
    "    cout << numbers.top() << endl;\n",
    "    numbers.pop();\n",
    "}"
   ]
  },
  {
   "cell_type": "code",
   "execution_count": 14,
   "id": "c18ae641",
   "metadata": {
    "slideshow": {
     "slide_type": "slide"
    }
   },
   "outputs": [
    {
     "name": "stdout",
     "output_type": "stream",
     "text": [
      "abinadi\n",
      "Zeniff\n",
      "Pahoran\n",
      "Nephi\n",
      "Lehi\n",
      "Kishkuman\n",
      "Abinadi\n"
     ]
    }
   ],
   "source": [
    "priority_queue<string> names;\n",
    "\n",
    "names.push(\"Abinadi\");\n",
    "names.push(\"Zeniff\");\n",
    "names.push(\"Pahoran\");\n",
    "names.push(\"abinadi\");\n",
    "names.push(\"Kishkuman\");\n",
    "names.push(\"Nephi\");\n",
    "names.push(\"Lehi\");\n",
    "\n",
    "while (!names.empty()) {\n",
    "    cout << names.top() << endl;\n",
    "    names.pop();\n",
    "}"
   ]
  },
  {
   "cell_type": "markdown",
   "id": "0189761c",
   "metadata": {
    "slideshow": {
     "slide_type": "fragment"
    }
   },
   "source": [
    "By default, \"smaller\" items come out last."
   ]
  },
  {
   "cell_type": "code",
   "execution_count": 15,
   "id": "14afc11e",
   "metadata": {
    "slideshow": {
     "slide_type": "slide"
    }
   },
   "outputs": [
    {
     "name": "stdout",
     "output_type": "stream",
     "text": [
      "Abinadi\n",
      "Kishkuman\n",
      "Lehi\n",
      "Nephi\n",
      "Pahoran\n",
      "Zeniff\n"
     ]
    }
   ],
   "source": [
    "priority_queue<string, vector<string>, greater<string>> names;\n",
    "//                                     ^^^^\n",
    "// What you put as the comparer defines what items come out LAST, not first\n",
    "// It may be counter intuitive to some. You've been warned. :)\n",
    "\n",
    "names.push(\"Abinadi\");\n",
    "names.push(\"Zeniff\");\n",
    "names.push(\"Pahoran\");\n",
    "names.push(\"Kishkuman\");\n",
    "names.push(\"Nephi\");\n",
    "names.push(\"Lehi\");\n",
    "\n",
    "while (!names.empty()) {\n",
    "    cout << names.top() << endl;\n",
    "    names.pop();\n",
    "}"
   ]
  },
  {
   "cell_type": "markdown",
   "id": "7e85f68d",
   "metadata": {
    "slideshow": {
     "slide_type": "slide"
    }
   },
   "source": [
    "### Use Cases for Priority Queues\n",
    "- Triage, prioritization\n",
    "  - Emergency room\n",
    "  - OS process scheduling\n",
    "  - Memory allocation (hint: priority queues are typically implemented using a structure called a \"heap\")\n",
    "- Solving least-cost paths (more on this in CS 312!)"
   ]
  },
  {
   "cell_type": "markdown",
   "id": "983283b6",
   "metadata": {
    "slideshow": {
     "slide_type": "slide"
    }
   },
   "source": [
    "### How would you implement a priority queue?"
   ]
  },
  {
   "cell_type": "markdown",
   "id": "a6bdded5",
   "metadata": {
    "slideshow": {
     "slide_type": "slide"
    }
   },
   "source": [
    "### Big Ideas for Priority Queues\n",
    "- Useful for keeping items sorted as we go\n",
    "- Nicely implements the concept of prioritization\n",
    "- We'll talk more about implementation and performance at the end of the semester\n",
    "  - for now, know that most PQ operations are $O(\\log n)$"
   ]
  },
  {
   "cell_type": "markdown",
   "id": "c5e250eb",
   "metadata": {
    "slideshow": {
     "slide_type": "slide"
    }
   },
   "source": [
    "## Deques\n",
    "\n",
    "*Double-ended Queues*"
   ]
  },
  {
   "cell_type": "code",
   "execution_count": 16,
   "id": "35ea038c",
   "metadata": {
    "slideshow": {
     "slide_type": "slide"
    }
   },
   "outputs": [],
   "source": [
    "#include <deque>"
   ]
  },
  {
   "cell_type": "code",
   "execution_count": 17,
   "id": "b3bd57f8",
   "metadata": {},
   "outputs": [
    {
     "name": "stdout",
     "output_type": "stream",
     "text": [
      "10\n",
      "8\n",
      "7\n",
      "9\n"
     ]
    }
   ],
   "source": [
    "deque<int> numbers;\n",
    "numbers.push_back(7);\n",
    "numbers.push_front(8);\n",
    "numbers.push_back(9);\n",
    "numbers.push_front(10);\n",
    "\n",
    "for (auto const& num : numbers) {\n",
    "    cout << num << endl;\n",
    "}"
   ]
  },
  {
   "cell_type": "code",
   "execution_count": 18,
   "id": "7e2e11ee",
   "metadata": {
    "slideshow": {
     "slide_type": "fragment"
    }
   },
   "outputs": [
    {
     "data": {
      "text/plain": [
       "7"
      ]
     },
     "execution_count": 18,
     "metadata": {},
     "output_type": "execute_result"
    }
   ],
   "source": [
    "numbers[2]"
   ]
  },
  {
   "cell_type": "markdown",
   "id": "08f2555e",
   "metadata": {
    "slideshow": {
     "slide_type": "slide"
    }
   },
   "source": [
    "### Big Ideas for Deques\n",
    "\n",
    "- Supports adding/removing from front and back (like a `list`)\n",
    "- Supports random access!"
   ]
  },
  {
   "cell_type": "markdown",
   "id": "29aa10f2",
   "metadata": {
    "slideshow": {
     "slide_type": "slide"
    }
   },
   "source": [
    "## ⏱️ Timing\n",
    "\n",
    "`list`, `vector`, and `deque` call all be used to implement `queue` and `stack`. \n",
    "\n",
    "How do they compare?"
   ]
  },
  {
   "cell_type": "code",
   "execution_count": 21,
   "id": "194ccb5c",
   "metadata": {},
   "outputs": [],
   "source": [
    "#include <vector>\n",
    "#include <list>\n",
    "#include <deque>\n",
    "#include <iostream>\n",
    "using namespace std;"
   ]
  },
  {
   "cell_type": "code",
   "execution_count": 22,
   "id": "bccbb76f",
   "metadata": {},
   "outputs": [],
   "source": [
    "size_t N = 100000;"
   ]
  },
  {
   "cell_type": "markdown",
   "id": "982d458b",
   "metadata": {
    "slideshow": {
     "slide_type": "slide"
    }
   },
   "source": [
    "### `push_back`"
   ]
  },
  {
   "cell_type": "code",
   "execution_count": 23,
   "id": "abca198d",
   "metadata": {
    "slideshow": {
     "slide_type": "slide"
    }
   },
   "outputs": [
    {
     "name": "stdout",
     "output_type": "stream",
     "text": [
      "938 us +- 2.42 us per loop (mean +- std. dev. of 7 runs 1000 loops each)\n"
     ]
    }
   ],
   "source": [
    "%%timeit\n",
    "vector<int> vnums;\n",
    "for (size_t i = 0; i < N; i++) {\n",
    "    vnums.push_back(i);\n",
    "}"
   ]
  },
  {
   "cell_type": "code",
   "execution_count": 24,
   "id": "5dcc9dfe",
   "metadata": {
    "slideshow": {
     "slide_type": "slide"
    }
   },
   "outputs": [
    {
     "name": "stdout",
     "output_type": "stream",
     "text": [
      "5.24 ms +- 28.6 us per loop (mean +- std. dev. of 7 runs 100 loops each)\n"
     ]
    }
   ],
   "source": [
    "%%timeit\n",
    "list<int> lnums;\n",
    "for (size_t i = 0; i < N; i++) {\n",
    "    lnums.push_back(i);\n",
    "}"
   ]
  },
  {
   "cell_type": "code",
   "execution_count": 25,
   "id": "9d6b8701",
   "metadata": {
    "slideshow": {
     "slide_type": "slide"
    }
   },
   "outputs": [
    {
     "name": "stdout",
     "output_type": "stream",
     "text": [
      "439 us +- 788 ns per loop (mean +- std. dev. of 7 runs 1000 loops each)\n"
     ]
    }
   ],
   "source": [
    "%%timeit\n",
    "deque<int> dnums;\n",
    "for (size_t i = 0; i < N; i++) {\n",
    "    dnums.push_back(i);\n",
    "}"
   ]
  },
  {
   "cell_type": "markdown",
   "id": "b7e525bd",
   "metadata": {
    "slideshow": {
     "slide_type": "slide"
    }
   },
   "source": [
    "### `push_front`"
   ]
  },
  {
   "cell_type": "code",
   "execution_count": 26,
   "id": "d4a43784",
   "metadata": {
    "slideshow": {
     "slide_type": "slide"
    }
   },
   "outputs": [
    {
     "name": "stdout",
     "output_type": "stream",
     "text": [
      "419 ms +- 2.34 ms per loop (mean +- std. dev. of 7 runs 1 loop each)\n"
     ]
    }
   ],
   "source": [
    "%%timeit\n",
    "vector<int> vnums;\n",
    "for (size_t i = 0; i < N; i++) {\n",
    "    // vnums.push_front(i);  // <- push_front doesn't exist because the performance is so bad\n",
    "                             // Remember: C++ makes poor performance options verbose\n",
    "    vnums.insert(vnums.begin(), i);\n",
    "}"
   ]
  },
  {
   "cell_type": "code",
   "execution_count": 27,
   "id": "f2b360ff",
   "metadata": {
    "slideshow": {
     "slide_type": "slide"
    }
   },
   "outputs": [
    {
     "name": "stdout",
     "output_type": "stream",
     "text": [
      "5.81 ms +- 72.7 us per loop (mean +- std. dev. of 7 runs 100 loops each)\n"
     ]
    }
   ],
   "source": [
    "%%timeit\n",
    "list<int> lnums;\n",
    "for (size_t i = 0; i < N; i++) {\n",
    "    lnums.push_front(i);\n",
    "}"
   ]
  },
  {
   "cell_type": "code",
   "execution_count": 28,
   "id": "4f264f31",
   "metadata": {
    "slideshow": {
     "slide_type": "slide"
    }
   },
   "outputs": [
    {
     "name": "stdout",
     "output_type": "stream",
     "text": [
      "984 us +- 1.25 us per loop (mean +- std. dev. of 7 runs 1000 loops each)\n"
     ]
    }
   ],
   "source": [
    "%%timeit\n",
    "deque<int> dnums;\n",
    "for (size_t i = 0; i < N; i++) {\n",
    "    dnums.push_front(i);\n",
    "}"
   ]
  },
  {
   "cell_type": "markdown",
   "id": "d6debb85",
   "metadata": {
    "slideshow": {
     "slide_type": "slide"
    }
   },
   "source": [
    "### Random access"
   ]
  },
  {
   "cell_type": "code",
   "execution_count": 29,
   "id": "4a49eabe",
   "metadata": {
    "slideshow": {
     "slide_type": "slide"
    }
   },
   "outputs": [],
   "source": [
    "vector<int> vnums;\n",
    "for (size_t i = 0; i < N; i++) { vnums.push_back(i); }"
   ]
  },
  {
   "cell_type": "code",
   "execution_count": 30,
   "id": "87917f13",
   "metadata": {},
   "outputs": [
    {
     "name": "stdout",
     "output_type": "stream",
     "text": [
      "141 us +- 243 ns per loop (mean +- std. dev. of 7 runs 10000 loops each)\n"
     ]
    }
   ],
   "source": [
    "%%timeit\n",
    "for (size_t i = 0; i < N; i++) { vnums[i]; }"
   ]
  },
  {
   "cell_type": "code",
   "execution_count": 31,
   "id": "10fecf5d",
   "metadata": {},
   "outputs": [
    {
     "name": "stdout",
     "output_type": "stream",
     "text": [
      "409 us +- 2.31 us per loop (mean +- std. dev. of 7 runs 1000 loops each)\n"
     ]
    }
   ],
   "source": [
    "%%timeit\n",
    "for (size_t i = 0; i < N; i++) { vnums.at(i); }"
   ]
  },
  {
   "cell_type": "code",
   "execution_count": 32,
   "id": "565af4af",
   "metadata": {
    "slideshow": {
     "slide_type": "slide"
    }
   },
   "outputs": [],
   "source": [
    "list<int> lnums;\n",
    "for (size_t i = 0; i < N; i++) { lnums.push_back(i); }"
   ]
  },
  {
   "cell_type": "code",
   "execution_count": 33,
   "id": "8647b609",
   "metadata": {},
   "outputs": [
    {
     "name": "stdout",
     "output_type": "stream",
     "text": [
      "17.3 s +- 28.4 ms per loop (mean +- std. dev. of 7 runs 1 loop each)\n"
     ]
    }
   ],
   "source": [
    "%%timeit\n",
    "for (size_t i = 0; i < N; i++) { auto it = lnums.begin(); std::advance(it, i); *it; }"
   ]
  },
  {
   "cell_type": "code",
   "execution_count": 35,
   "id": "abcfd36d",
   "metadata": {
    "slideshow": {
     "slide_type": "slide"
    }
   },
   "outputs": [],
   "source": [
    "deque<int> dnums;\n",
    "for (size_t i = 0; i < N; i++) { dnums.push_front(i); }"
   ]
  },
  {
   "cell_type": "code",
   "execution_count": 36,
   "id": "291477d6",
   "metadata": {},
   "outputs": [
    {
     "name": "stdout",
     "output_type": "stream",
     "text": [
      "2.16 ms +- 3.35 us per loop (mean +- std. dev. of 7 runs 100 loops each)\n"
     ]
    }
   ],
   "source": [
    "%%timeit\n",
    "for (size_t i = 0; i < N; i++) { dnums[i]; }"
   ]
  },
  {
   "cell_type": "code",
   "execution_count": 37,
   "id": "893aa06e",
   "metadata": {},
   "outputs": [
    {
     "name": "stdout",
     "output_type": "stream",
     "text": [
      "2.7 ms +- 16.8 us per loop (mean +- std. dev. of 7 runs 100 loops each)\n"
     ]
    }
   ],
   "source": [
    "%%timeit\n",
    "for (size_t i = 0; i < N; i++) { dnums.at(i); }"
   ]
  },
  {
   "cell_type": "markdown",
   "id": "62b0eaff",
   "metadata": {
    "slideshow": {
     "slide_type": "slide"
    }
   },
   "source": [
    "### Verdicts\n",
    "\n",
    "- `deque` wins `push_front` and `push_back` (depending on the implementation).\n",
    "- `vector` wins for random access on really long sequences.\n",
    "  - If you know how much space you need (roughly) upfront, then `vector` can compete with `deque` for `push_back`.\n",
    "- `list`...thank you for playing 🙃."
   ]
  },
  {
   "cell_type": "markdown",
   "id": "49c59891",
   "metadata": {
    "slideshow": {
     "slide_type": "slide"
    }
   },
   "source": [
    "## Stacks in Action!"
   ]
  },
  {
   "cell_type": "markdown",
   "id": "2250c6bb",
   "metadata": {
    "slideshow": {
     "slide_type": "slide"
    }
   },
   "source": [
    "### Postfix notation\n",
    "\n",
    "```\n",
    "3 1 2 + + 5 *\n",
    "```\n",
    "\n",
    "- 3 -> stack (3)\n",
    "- 1 -> stack (1, 3)\n",
    "- 2 -> stack (2, 1, 3)\n",
    "- `+` -> pop 2, pop 1, add => 3 -> stack (3, 3)\n",
    "- `+` -> pop 3, pop 3, add => 6 -> stack (6)\n",
    "- 5 -> stack (5, 6)\n",
    "- `*` -> pop 5, pop 6, multiply => 30\n",
    "- all done!"
   ]
  },
  {
   "cell_type": "code",
   "execution_count": 38,
   "id": "a10892ba",
   "metadata": {
    "slideshow": {
     "slide_type": "slide"
    }
   },
   "outputs": [],
   "source": [
    "#include <ctype.h>\n",
    "#include <stack>\n",
    "#include <string>\n",
    "#include <sstream>\n",
    "#include <iostream>\n",
    "using namespace std;"
   ]
  },
  {
   "cell_type": "code",
   "execution_count": 39,
   "id": "0dc68e5c",
   "metadata": {
    "slideshow": {
     "slide_type": "slide"
    }
   },
   "outputs": [],
   "source": [
    "double calc(string const& expression) {\n",
    "    stack<double> pending;\n",
    "    stringstream ss(expression);\n",
    "    string token;\n",
    "    while (ss >> token) {\n",
    "        if (isdigit(token[0])) {\n",
    "            // Assume the whole thing is a number\n",
    "            stringstream ts(token);\n",
    "            double val;\n",
    "            ts >> val;\n",
    "            pending.push(val);\n",
    "            \n",
    "        } else {\n",
    "            double a = pending.top();\n",
    "            pending.pop();\n",
    "            \n",
    "            double b = pending.top();\n",
    "            pending.pop();\n",
    "            \n",
    "            if (token == \"+\") {\n",
    "                pending.push(b + a);\n",
    "            } else if (token == \"*\") {\n",
    "                pending.push(b * a);\n",
    "            } else if (token == \"-\") {\n",
    "                pending.push(b - a);\n",
    "            } else if (token == \"/\") {\n",
    "                pending.push(b / a);\n",
    "            } else {\n",
    "                cerr << \"unrecognized operand: \" << token << endl;\n",
    "            }\n",
    "        }\n",
    "    }\n",
    "    return pending.top();\n",
    "}"
   ]
  },
  {
   "cell_type": "code",
   "execution_count": 40,
   "id": "9c0b0479",
   "metadata": {
    "slideshow": {
     "slide_type": "slide"
    }
   },
   "outputs": [
    {
     "data": {
      "text/plain": [
       "99.999990"
      ]
     },
     "execution_count": 40,
     "metadata": {},
     "output_type": "execute_result"
    }
   ],
   "source": [
    "calc(\"3 33.33333 *\")"
   ]
  },
  {
   "cell_type": "code",
   "execution_count": 41,
   "id": "6f2dffd7",
   "metadata": {
    "slideshow": {
     "slide_type": "-"
    }
   },
   "outputs": [
    {
     "data": {
      "text/plain": [
       "30.000000"
      ]
     },
     "execution_count": 41,
     "metadata": {},
     "output_type": "execute_result"
    }
   ],
   "source": [
    "calc(\"3 1 2 + + 5 *\")"
   ]
  },
  {
   "cell_type": "code",
   "execution_count": 42,
   "id": "608b71f0",
   "metadata": {},
   "outputs": [
    {
     "data": {
      "text/plain": [
       "20.000000"
      ]
     },
     "execution_count": 42,
     "metadata": {},
     "output_type": "execute_result"
    }
   ],
   "source": [
    "calc(\"60 3 /\")"
   ]
  },
  {
   "cell_type": "code",
   "execution_count": 43,
   "id": "ba40de57",
   "metadata": {},
   "outputs": [
    {
     "data": {
      "text/plain": [
       "3.0000000"
      ]
     },
     "execution_count": 43,
     "metadata": {},
     "output_type": "execute_result"
    }
   ],
   "source": [
    "calc(\"3 1 1 + * 1 1 + /\")"
   ]
  },
  {
   "cell_type": "markdown",
   "id": "5995f852",
   "metadata": {
    "slideshow": {
     "slide_type": "slide"
    }
   },
   "source": [
    "## Key Ideas\n",
    "\n",
    "- `stack` and `queue`\n",
    "- `priority_queue`\n",
    "- `deque`\n",
    "- Performance \n",
    "- Stacks in action\n",
    "\n",
    "### Further practice\n",
    "\n",
    "- Implement the `stack` and `queue` interfaces with a `list`\n",
    "- Write a program that uses a stack to determine whether an expression has balanced parentheses\n",
    "  - e.g. `(()abc(dafda(afdasf)dasdf)aadsf)` vs `(()(())`\n",
    "- Write your own profiling code to test other use-cases of `vector`, `list`, and `deque`"
   ]
  }
 ],
 "metadata": {
  "celltoolbar": "Slideshow",
  "kernelspec": {
   "display_name": "C++11",
   "language": "C++11",
   "name": "xcpp11"
  },
  "language_info": {
   "codemirror_mode": "text/x-c++src",
   "file_extension": ".cpp",
   "mimetype": "text/x-c++src",
   "name": "c++",
   "version": "11"
  }
 },
 "nbformat": 4,
 "nbformat_minor": 5
}
