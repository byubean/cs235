{
 "cells": [
  {
   "cell_type": "markdown",
   "id": "436d13ad",
   "metadata": {
    "slideshow": {
     "slide_type": "slide"
    }
   },
   "source": [
    "# Single Linked Lists"
   ]
  },
  {
   "cell_type": "markdown",
   "id": "3ea0f194",
   "metadata": {
    "slideshow": {
     "slide_type": "slide"
    }
   },
   "source": [
    "```\n",
    "       |-----------|   |--------------|\n",
    "head-->| \"foo\" | ----->| \"bar\" | NULL |\n",
    "       |-----------|   |--------------|\n",
    "```"
   ]
  },
  {
   "cell_type": "markdown",
   "id": "4f3e83fb",
   "metadata": {
    "slideshow": {
     "slide_type": "skip"
    }
   },
   "source": [
    "**TODO**\n",
    "\n",
    "- explain basic design of a \"linked\" data structure\n",
    "  - nodes, pointers to nodes\n",
    "  - Wrapper class with root/head node"
   ]
  },
  {
   "cell_type": "markdown",
   "id": "8e8f646a",
   "metadata": {
    "slideshow": {
     "slide_type": "slide"
    }
   },
   "source": [
    "- Write some code!\n",
    "  - `size`\n",
    "  - `is_empty`\n",
    "  - `push_back`\n",
    "  - `front`\n",
    "  - `contains`\n",
    "  - `to_string`\n",
    "  - `pop_front`\n",
    "  - `at`\n",
    "  "
   ]
  },
  {
   "cell_type": "code",
   "execution_count": null,
   "id": "a1f7b1df",
   "metadata": {
    "slideshow": {
     "slide_type": "skip"
    }
   },
   "outputs": [],
   "source": [
    "#include <string>\n",
    "#include <iostream>\n",
    "#include <sstream>\n",
    "#include <cassert>\n",
    "using namespace std;"
   ]
  },
  {
   "cell_type": "code",
   "execution_count": null,
   "id": "875b56ea",
   "metadata": {
    "slideshow": {
     "slide_type": "skip"
    }
   },
   "outputs": [],
   "source": [
    "template<class T>\n",
    "class SLList {\n",
    "private:\n",
    "    struct Node {\n",
    "        T value;\n",
    "        Node* next;\n",
    "        Node(T const& value, Node* next)\n",
    "            : value(value), next(next) {}\n",
    "    };\n",
    "\n",
    "    Node* head;\n",
    "    int _size;\n",
    "\n",
    "    Node* find_tail() {\n",
    "        Node* node = head;\n",
    "        while (node != nullptr && node->next != nullptr) {\n",
    "            node=node->next;\n",
    "        }\n",
    "        return node;\n",
    "    }\n",
    "\n",
    "public:\n",
    "    SLList(): head(nullptr), _size(0) { }\n",
    "\n",
    "    int size() const {\n",
    "        return _size;\n",
    "    }\n",
    "\n",
    "    bool is_empty() const {\n",
    "        return _size == 0;\n",
    "    }\n",
    "\n",
    "    T& front() {\n",
    "        // Yes, this may explode if the list is empty\n",
    "        return head->value;\n",
    "    }\n",
    "\n",
    "    void push_back(T item) {\n",
    "        Node* new_node = new Node(item, nullptr);\n",
    "\n",
    "        Node* tail = find_tail();\n",
    "        if (tail == nullptr) {\n",
    "            head = new_node;\n",
    "        } else {\n",
    "            tail->next = new_node;\n",
    "        }\n",
    "        _size++;\n",
    "    }\n",
    "\n",
    "    void pop_front() {\n",
    "        if (head == nullptr) {\n",
    "            return;\n",
    "        } else {\n",
    "            Node* next = head->next;\n",
    "            delete head;\n",
    "            head = next;\n",
    "            _size--;\n",
    "        }\n",
    "    }\n",
    "\n",
    "    string to_string() const {\n",
    "        stringstream out;\n",
    "        Node* node = head;\n",
    "        while (node != nullptr) {\n",
    "            out << node->value;\n",
    "            if (node->next != nullptr) {\n",
    "                out << \" \";\n",
    "            }\n",
    "            node = node->next;\n",
    "        }\n",
    "        return out.str();\n",
    "    }\n",
    "\n",
    "    bool contains(T const& value) const {\n",
    "        Node* node = head;\n",
    "        while (node != nullptr) {\n",
    "            if (node->value == value) {\n",
    "                return true;\n",
    "            }\n",
    "            node = node->next;\n",
    "        }\n",
    "        return false;\n",
    "    }\n",
    "\n",
    "    T get(int index) const {\n",
    "        int pos = 0;\n",
    "        Node* node = head;\n",
    "        while (node != nullptr && pos != index) {\n",
    "            node = node->next;\n",
    "            pos++;\n",
    "        }\n",
    "        // Yes, this will cause trouble if size < index\n",
    "        return node->value;\n",
    "    }\n",
    "\n",
    "    void set(int const index, T const& value) {\n",
    "        int pos = 0;\n",
    "        Node* node = head;\n",
    "        while (node != nullptr && pos != index) {\n",
    "            node = node->next;\n",
    "            pos++;\n",
    "        }\n",
    "        node->value = value;\n",
    "    }\n",
    "};"
   ]
  },
  {
   "cell_type": "code",
   "execution_count": null,
   "id": "e97b385e",
   "metadata": {
    "slideshow": {
     "slide_type": "skip"
    }
   },
   "outputs": [],
   "source": [
    "template<class T>\n",
    "void test(const string& message, const T& value, const T& expected) {\n",
    "    cout << message << endl;\n",
    "    cout << \"Expecting: \" << expected << \" | \";\n",
    "    cout << \"Observed: \" << value;\n",
    "    assert (value == expected);\n",
    "    cout << \" ✅\" << endl << endl;\n",
    "}    "
   ]
  },
  {
   "cell_type": "code",
   "execution_count": 1,
   "id": "7c1189b2",
   "metadata": {
    "slideshow": {
     "slide_type": "skip"
    }
   },
   "outputs": [
    {
     "name": "stderr",
     "output_type": "stream",
     "text": [
      "input_line_7:2:5: error: use of undeclared identifier 'cout'\n",
      "    cout << \"Testing my linked lists\" << endl;\n",
      "    ^\n",
      "input_line_7:2:42: error: use of undeclared identifier 'endl'; did you mean 'std::endl'?\n",
      "    cout << \"Testing my linked lists\" << endl;\n",
      "                                         ^~~~\n",
      "                                         std::endl\n",
      "/opt/conda/bin/../lib/gcc/../../aarch64-conda-linux-gnu/include/c++/9.4.0/ostream:599:5: note: 'std::endl' declared here\n",
      "    endl(basic_ostream<_CharT, _Traits>& __os)\n",
      "    ^\n",
      "input_line_7:3:5: error: use of undeclared identifier 'SLList'\n",
      "    SLList<string> my_list;\n",
      "    ^\n",
      "input_line_7:3:12: error: use of undeclared identifier 'string'; did you mean 'stdin'?\n",
      "    SLList<string> my_list;\n",
      "           ^~~~~~\n",
      "           stdin\n",
      "/opt/conda/aarch64-conda-linux-gnu/sysroot/usr/include/stdio.h:168:25: note: 'stdin' declared here\n",
      "extern struct _IO_FILE *stdin;          /* Standard input stream.  */\n",
      "                        ^\n",
      "input_line_7:3:20: error: use of undeclared identifier 'my_list'\n",
      "    SLList<string> my_list;\n",
      "                   ^\n",
      "input_line_7:4:5: error: use of undeclared identifier 'cout'\n",
      "    cout << \"Test is_empty and size on brand-new list\" << endl;\n",
      "    ^\n",
      "input_line_7:4:59: error: use of undeclared identifier 'endl'; did you mean 'std::endl'?\n",
      "    cout << \"Test is_empty and size on brand-new list\" << endl;\n",
      "                                                          ^~~~\n",
      "                                                          std::endl\n",
      "/opt/conda/bin/../lib/gcc/../../aarch64-conda-linux-gnu/include/c++/9.4.0/ostream:599:5: note: 'std::endl' declared here\n",
      "    endl(basic_ostream<_CharT, _Traits>& __os)\n",
      "    ^\n",
      "input_line_7:5:20: error: use of undeclared identifier 'my_list'\n",
      "    test(\"size()\", my_list.size(), 0);\n",
      "                   ^\n",
      "input_line_7:6:24: error: use of undeclared identifier 'my_list'\n",
      "    test(\"is_empty()\", my_list.is_empty(), true);\n",
      "                       ^\n",
      "input_line_7:7:5: error: use of undeclared identifier 'cout'\n",
      "    cout << \"Testing push_back and to_string\" << endl;\n",
      "    ^\n",
      "input_line_7:7:50: error: use of undeclared identifier 'endl'; did you mean 'std::endl'?\n",
      "    cout << \"Testing push_back and to_string\" << endl;\n",
      "                                                 ^~~~\n",
      "                                                 std::endl\n",
      "/opt/conda/bin/../lib/gcc/../../aarch64-conda-linux-gnu/include/c++/9.4.0/ostream:599:5: note: 'std::endl' declared here\n",
      "    endl(basic_ostream<_CharT, _Traits>& __os)\n",
      "    ^\n",
      "input_line_7:8:5: error: use of undeclared identifier 'my_list'\n",
      "    my_list.push_back(\"foo\");\n",
      "    ^\n",
      "input_line_7:9:5: error: use of undeclared identifier 'my_list'\n",
      "    my_list.push_back(\"bar\");\n",
      "    ^\n",
      "input_line_7:10:47: error: unknown type name 'string'; did you mean 'std::string'?\n",
      "    test(\"to_string()\", my_list.to_string(), (string)\"foo bar\");\n",
      "                                              ^~~~~~\n",
      "                                              std::string\n",
      "/opt/conda/bin/../lib/gcc/../../aarch64-conda-linux-gnu/include/c++/9.4.0/bits/stringfwd.h:79:33: note: 'std::string' declared here\n",
      "  typedef basic_string<char>    string;   \n",
      "                                ^\n",
      "input_line_7:10:25: error: use of undeclared identifier 'my_list'\n",
      "    test(\"to_string()\", my_list.to_string(), (string)\"foo bar\");\n",
      "                        ^\n",
      "input_line_7:11:5: error: use of undeclared identifier 'cout'\n",
      "    cout << \"Testing is_empty and size on populated list\" << endl;\n",
      "    ^\n",
      "input_line_7:11:62: error: use of undeclared identifier 'endl'; did you mean 'std::endl'?\n",
      "    cout << \"Testing is_empty and size on populated list\" << endl;\n",
      "                                                             ^~~~\n",
      "                                                             std::endl\n",
      "/opt/conda/bin/../lib/gcc/../../aarch64-conda-linux-gnu/include/c++/9.4.0/ostream:599:5: note: 'std::endl' declared here\n",
      "    endl(basic_ostream<_CharT, _Traits>& __os)\n",
      "    ^\n",
      "input_line_7:12:20: error: use of undeclared identifier 'my_list'\n",
      "    test(\"size()\", my_list.size(), 2);\n",
      "                   ^\n",
      "input_line_7:13:24: error: use of undeclared identifier 'my_list'\n",
      "    test(\"is_empty()\", my_list.is_empty(), false);\n",
      "                       ^\n",
      "fatal error: too many errors emitted, stopping now [-ferror-limit=]\n"
     ]
    },
    {
     "ename": "Interpreter Error",
     "evalue": "",
     "output_type": "error",
     "traceback": [
      "Interpreter Error: "
     ]
    }
   ],
   "source": [
    "int main() {\n",
    "    cout << \"Testing my linked lists\" << endl;\n",
    "    SLList<string> my_list;\n",
    "\n",
    "    cout << \"Test is_empty and size on brand-new list\" << endl;\n",
    "    test(\"size()\", my_list.size(), 0);\n",
    "    test(\"is_empty()\", my_list.is_empty(), true);\n",
    "\n",
    "    cout << \"Testing push_back and to_string\" << endl;\n",
    "    my_list.push_back(\"foo\");\n",
    "    my_list.push_back(\"bar\");\n",
    "    test(\"to_string()\", my_list.to_string(), (string)\"foo bar\");\n",
    "\n",
    "    cout << \"Testing is_empty and size on populated list\" << endl;\n",
    "    test(\"size()\", my_list.size(), 2);\n",
    "    test(\"is_empty()\", my_list.is_empty(), false);\n",
    "\n",
    "    cout << \"Testing contains()\" << endl;\n",
    "    test(\"contains(\\\"bar\\\")\", my_list.contains(\"bar\"), true);\n",
    "    test(\"contains(\\\"quux\\\")\", my_list.contains(\"quux\"), false);\n",
    "\n",
    "    cout << \"Testing get()\" << endl;\n",
    "    test(\"get(0)\", my_list.get(0), (string)\"foo\");\n",
    "    test(\"get(1)\", my_list.get(1), (string)\"bar\");\n",
    "\n",
    "    cout << \"Testing set()\" << endl;\n",
    "    cout << \"set(1, \\\"baz\\\")\" << endl;\n",
    "    my_list.set(1, \"baz\");\n",
    "    test(\"get(1)\", my_list.get(1), (string)\"baz\");\n",
    "\n",
    "    cout << \"Testing front and pop_front\" << endl;\n",
    "    test(\"front()\", my_list.front(), (string)\"foo\");\n",
    "\n",
    "    cout << \"pop_front()\" << endl;\n",
    "    my_list.pop_front();\n",
    "    test(\"size()\", my_list.size(), 1);\n",
    "    test(\"is_empty()\", my_list.is_empty(), false);\n",
    "    test(\"front()\", my_list.front(), (string)\"baz\");\n",
    "\n",
    "    cout << \"pop_front()\" << endl;\n",
    "    my_list.pop_front();\n",
    "    test(\"size()\", my_list.size(), 0);\n",
    "    test(\"is_empty()\", my_list.is_empty(), true);\n",
    "\n",
    "    return 0;\n",
    "}"
   ]
  },
  {
   "cell_type": "code",
   "execution_count": null,
   "id": "631ca4c5",
   "metadata": {
    "slideshow": {
     "slide_type": "skip"
    }
   },
   "outputs": [],
   "source": [
    "main()"
   ]
  }
 ],
 "metadata": {
  "celltoolbar": "Slideshow",
  "kernelspec": {
   "display_name": "C++11",
   "language": "C++11",
   "name": "xcpp11"
  },
  "language_info": {
   "codemirror_mode": "text/x-c++src",
   "file_extension": ".cpp",
   "mimetype": "text/x-c++src",
   "name": "c++",
   "version": "11"
  }
 },
 "nbformat": 4,
 "nbformat_minor": 5
}
