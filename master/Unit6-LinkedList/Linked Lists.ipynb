{
 "cells": [
  {
   "cell_type": "markdown",
   "id": "d634b10a",
   "metadata": {
    "slideshow": {
     "slide_type": "slide"
    }
   },
   "source": [
    "# Linked Lists"
   ]
  },
  {
   "cell_type": "markdown",
   "id": "9d4c9769",
   "metadata": {
    "slideshow": {
     "slide_type": "slide"
    }
   },
   "source": [
    "## Single-linked Lists\n",
    "```\n",
    "       |-----------|   |--------------|\n",
    "head-->| \"foo\" | ----->| \"bar\" | NULL |\n",
    "       |-----------|   |--------------|\n",
    "```"
   ]
  },
  {
   "cell_type": "markdown",
   "id": "9ec38aa7",
   "metadata": {
    "slideshow": {
     "slide_type": "slide"
    }
   },
   "source": [
    "- Live programming\n",
    "  - `size`\n",
    "  - `is_empty`\n",
    "  - `push_back`\n",
    "  - `front`\n",
    "  - `contains`\n",
    "  - `to_string`\n",
    "  - `pop_front`\n",
    "  - `get`\n",
    "  - `set`\n",
    "  "
   ]
  },
  {
   "cell_type": "markdown",
   "id": "9e4b2928",
   "metadata": {
    "slideshow": {
     "slide_type": "-"
    }
   },
   "source": [
    "- start with tests\n",
    "- `test` function\n",
    "- valgrind\n",
    "- makefile test"
   ]
  },
  {
   "cell_type": "code",
   "execution_count": 4,
   "id": "083d8554",
   "metadata": {
    "slideshow": {
     "slide_type": "slide"
    }
   },
   "outputs": [],
   "source": [
    "#include <string>\n",
    "#include <iostream>\n",
    "#include <sstream>\n",
    "#include <cassert>\n",
    "using namespace std;"
   ]
  },
  {
   "cell_type": "code",
   "execution_count": 5,
   "id": "04f75a8f",
   "metadata": {},
   "outputs": [],
   "source": [
    "template<class T>\n",
    "class SLList {\n",
    "private:\n",
    "    struct Node {\n",
    "        T value;\n",
    "        Node* next;\n",
    "        Node(T const& value, Node* next)\n",
    "            : value(value), next(next) {}\n",
    "    };\n",
    "\n",
    "    Node* head;\n",
    "    int _size;\n",
    "\n",
    "    Node* find_tail() {\n",
    "        Node* node = head;\n",
    "        while (node != nullptr && node->next != nullptr) {\n",
    "            node=node->next;\n",
    "        }\n",
    "        return node;\n",
    "    }\n",
    "\n",
    "public:\n",
    "    SLList(): head(nullptr), _size(0) { }\n",
    "\n",
    "    int size() const {\n",
    "        return _size;\n",
    "    }\n",
    "\n",
    "    bool is_empty() const {\n",
    "        return _size == 0;\n",
    "    }\n",
    "\n",
    "    T& front() {\n",
    "        // Yes, this may explode if the list is empty\n",
    "        return head->value;\n",
    "    }\n",
    "\n",
    "    void push_back(T item) {\n",
    "        Node* new_node = new Node(item, nullptr);\n",
    "\n",
    "        Node* tail = find_tail();\n",
    "        if (tail == nullptr) {\n",
    "            head = new_node;\n",
    "        } else {\n",
    "            tail->next = new_node;\n",
    "        }\n",
    "        _size++;\n",
    "    }\n",
    "\n",
    "    void pop_front() {\n",
    "        if (head == nullptr) {\n",
    "            return;\n",
    "        } else {\n",
    "            Node* next = head->next;\n",
    "            delete head;\n",
    "            head = next;\n",
    "            _size--;\n",
    "        }\n",
    "    }\n",
    "\n",
    "    string to_string() const {\n",
    "        stringstream out;\n",
    "        Node* node = head;\n",
    "        while (node != nullptr) {\n",
    "            out << node->value;\n",
    "            if (node->next != nullptr) {\n",
    "                out << \" \";\n",
    "            }\n",
    "            node = node->next;\n",
    "        }\n",
    "        return out.str();\n",
    "    }\n",
    "\n",
    "    bool contains(T const& value) const {\n",
    "        Node* node = head;\n",
    "        while (node != nullptr) {\n",
    "            if (node->value == value) {\n",
    "                return true;\n",
    "            }\n",
    "            node = node->next;\n",
    "        }\n",
    "        return false;\n",
    "    }\n",
    "\n",
    "    T get(int index) const {\n",
    "        int pos = 0;\n",
    "        Node* node = head;\n",
    "        while (node != nullptr && pos != index) {\n",
    "            node = node->next;\n",
    "            pos++;\n",
    "        }\n",
    "        // Yes, this will cause trouble if size < index\n",
    "        return node->value;\n",
    "    }\n",
    "\n",
    "    void set(int const index, T const& value) {\n",
    "        int pos = 0;\n",
    "        Node* node = head;\n",
    "        while (node != nullptr && pos != index) {\n",
    "            node = node->next;\n",
    "            pos++;\n",
    "        }\n",
    "        node->value = value;\n",
    "    }\n",
    "};"
   ]
  },
  {
   "cell_type": "code",
   "execution_count": 13,
   "id": "ddb7d37a",
   "metadata": {},
   "outputs": [],
   "source": [
    "template<class T>\n",
    "void test(string const& message, T const& value, T const& expected) {\n",
    "    cout << message << endl;\n",
    "    cout << \"Expecting: \" << expected << \" | \";\n",
    "    cout << \"Observed: \" << value;\n",
    "    assert (value == expected);\n",
    "    cout << \" ✅\" << endl << endl;\n",
    "}    "
   ]
  },
  {
   "cell_type": "code",
   "execution_count": 14,
   "id": "4283e026",
   "metadata": {},
   "outputs": [],
   "source": [
    "int main() {\n",
    "    cout << \"Testing my linked lists\" << endl;\n",
    "    SLList<string> my_list;\n",
    "\n",
    "    cout << \"Test is_empty and size on brand-new list\" << endl;\n",
    "    test(\"size()\", my_list.size(), 0);\n",
    "    test(\"is_empty()\", my_list.is_empty(), true);\n",
    "\n",
    "    cout << \"Testing push_back and to_string\" << endl;\n",
    "    my_list.push_back(\"foo\");\n",
    "    my_list.push_back(\"bar\");\n",
    "    test(\"to_string()\", my_list.to_string(), (string)\"foo bar\");\n",
    "\n",
    "    cout << \"Testing is_empty and size on populated list\" << endl;\n",
    "    test(\"size()\", my_list.size(), 2);\n",
    "    test(\"is_empty()\", my_list.is_empty(), false);\n",
    "\n",
    "    cout << \"Testing contains()\" << endl;\n",
    "    test(\"contains(\\\"bar\\\")\", my_list.contains(\"bar\"), true);\n",
    "    test(\"contains(\\\"quux\\\")\", my_list.contains(\"quux\"), false);\n",
    "\n",
    "    cout << \"Testing get()\" << endl;\n",
    "    test(\"get(0)\", my_list.get(0), (string)\"foo\");\n",
    "    test(\"get(1)\", my_list.get(1), (string)\"bar\");\n",
    "\n",
    "    cout << \"Testing set()\" << endl;\n",
    "    cout << \"set(1, \\\"baz\\\")\" << endl;\n",
    "    my_list.set(1, \"baz\");\n",
    "    test(\"get(1)\", my_list.get(1), (string)\"baz\");\n",
    "\n",
    "    cout << \"Testing front and pop_front\" << endl;\n",
    "    test(\"front()\", my_list.front(), (string)\"foo\");\n",
    "\n",
    "    cout << \"pop_front()\" << endl;\n",
    "    my_list.pop_front();\n",
    "    test(\"size()\", my_list.size(), 1);\n",
    "    test(\"is_empty()\", my_list.is_empty(), false);\n",
    "    test(\"front()\", my_list.front(), (string)\"baz\");\n",
    "\n",
    "    cout << \"pop_front()\" << endl;\n",
    "    my_list.pop_front();\n",
    "    test(\"size()\", my_list.size(), 0);\n",
    "    test(\"is_empty()\", my_list.is_empty(), true);\n",
    "\n",
    "    return 0;\n",
    "}"
   ]
  },
  {
   "cell_type": "code",
   "execution_count": 15,
   "id": "42a0b302",
   "metadata": {},
   "outputs": [
    {
     "name": "stdout",
     "output_type": "stream",
     "text": [
      "Testing my linked lists\n",
      "Test is_empty and size on brand-new list\n",
      "size()\n",
      "Expecting: 0 | Observed: 0 ✅\n",
      "\n",
      "is_empty()\n",
      "Expecting: 1 | Observed: 1 ✅\n",
      "\n",
      "Testing push_back and to_string\n",
      "to_string()\n",
      "Expecting: foo bar | Observed: foo bar ✅\n",
      "\n",
      "Testing is_empty and size on populated list\n",
      "size()\n",
      "Expecting: 2 | Observed: 2 ✅\n",
      "\n",
      "is_empty()\n",
      "Expecting: 0 | Observed: 0 ✅\n",
      "\n",
      "Testing contains()\n",
      "contains(\"bar\")\n",
      "Expecting: 1 | Observed: 1 ✅\n",
      "\n",
      "contains(\"quux\")\n",
      "Expecting: 0 | Observed: 0 ✅\n",
      "\n",
      "Testing get()\n",
      "get(0)\n",
      "Expecting: foo | Observed: foo ✅\n",
      "\n",
      "get(1)\n",
      "Expecting: bar | Observed: bar ✅\n",
      "\n",
      "Testing set()\n",
      "set(1, \"baz\")\n",
      "get(1)\n",
      "Expecting: baz | Observed: baz ✅\n",
      "\n",
      "Testing front and pop_front\n",
      "front()\n",
      "Expecting: foo | Observed: foo ✅\n",
      "\n",
      "pop_front()\n",
      "size()\n",
      "Expecting: 1 | Observed: 1 ✅\n",
      "\n",
      "is_empty()\n",
      "Expecting: 0 | Observed: 0 ✅\n",
      "\n",
      "front()\n",
      "Expecting: baz | Observed: baz ✅\n",
      "\n",
      "pop_front()\n",
      "size()\n",
      "Expecting: 0 | Observed: 0 ✅\n",
      "\n",
      "is_empty()\n",
      "Expecting: 1 | Observed: 1 ✅\n",
      "\n"
     ]
    },
    {
     "data": {
      "text/plain": [
       "0"
      ]
     },
     "execution_count": 15,
     "metadata": {},
     "output_type": "execute_result"
    }
   ],
   "source": [
    "main()"
   ]
  }
 ],
 "metadata": {
  "celltoolbar": "Slideshow",
  "kernelspec": {
   "display_name": "C++11",
   "language": "C++11",
   "name": "xcpp11"
  }
 },
 "nbformat": 4,
 "nbformat_minor": 5
}
