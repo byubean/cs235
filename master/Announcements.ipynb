{
 "cells": [
  {
   "cell_type": "markdown",
   "id": "c5ac9875",
   "metadata": {
    "slideshow": {
     "slide_type": "skip"
    }
   },
   "source": [
    "# Announcements"
   ]
  },
  {
   "cell_type": "markdown",
   "id": "8e749879",
   "metadata": {
    "slideshow": {
     "slide_type": "slide"
    }
   },
   "source": [
    "- 🙏🏻\n",
    "- PLEASE continue to wear masks (correctly) indoors\n",
    "- PLEASE get vaccinated \n",
    "\n",
    "- Linux tip-of-the-day\n",
    "\n",
    "- Lab 3 due today\n",
    "  - No autograder for this one - we'll pass it off in class (or meet with a TA after)\n",
    "\n",
    "- Lab 4 assigned today\n",
    "  - PLEASE be sure to use the latest instructions!\n",
    "  - If you started this lab already, you may need to re-download the start files. Use the link in Canvas.\n",
    "  \n",
    "- Reading Quiz\n",
    "  - Due dates: sometimes these are due Monday night, sometimes they are due Thursday night.\n",
    "  - Please take the mid-semester survey. More free points!"
   ]
  },
  {
   "cell_type": "markdown",
   "id": "8f582b7f",
   "metadata": {},
   "source": [
    "O(1) = O(yeah)\n",
    "\n",
    "O(log n) = O(nice)\n",
    "\n",
    "O(n) = O(k)\n",
    "\n",
    "O(n²) = O(my)\n",
    "\n",
    "O(2ⁿ) = O(no)\n",
    "\n",
    "O(n!) = O(no not that!)\n",
    "\n",
    "O(n!*n) = O(rly?)"
   ]
  },
  {
   "cell_type": "code",
   "execution_count": null,
   "id": "fd51ac0f",
   "metadata": {},
   "outputs": [],
   "source": []
  }
 ],
 "metadata": {
  "celltoolbar": "Slideshow",
  "kernelspec": {
   "display_name": "C++11",
   "language": "C++11",
   "name": "xcpp11"
  },
  "language_info": {
   "codemirror_mode": "text/x-c++src",
   "file_extension": ".cpp",
   "mimetype": "text/x-c++src",
   "name": "c++",
   "version": "11"
  }
 },
 "nbformat": 4,
 "nbformat_minor": 5
}
