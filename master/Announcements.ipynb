{
 "cells": [
  {
   "cell_type": "markdown",
   "id": "c5ac9875",
   "metadata": {
    "slideshow": {
     "slide_type": "skip"
    }
   },
   "source": [
    "# Announcements"
   ]
  },
  {
   "cell_type": "markdown",
   "id": "8e749879",
   "metadata": {
    "slideshow": {
     "slide_type": "slide"
    }
   },
   "source": [
    "- 🙏🏻\n",
    "\n",
    "- PLEASE get vaccinated \n",
    "\n",
    "- Lab 9 due today\n",
    "\n",
    "- Linux tip-of-the-day\n",
    "- Bring paper and pencil to class!\n",
    "- Reading Quizes"
   ]
  },
  {
   "cell_type": "markdown",
   "id": "2b8ecf59",
   "metadata": {},
   "source": [
    "#### Job Opening for Programmers on Campus\n",
    "\n",
    "**Job Title**  \n",
    "OIT Student Computer Programmer\n",
    "\n",
    "\n",
    "**Job ID**  \n",
    "108686\n",
    "\n",
    "https://hrms.byu.edu/psp/ps/EMPLOYEE/HRMS/c/HRS_HRAM_EMP.HRS_APP_SCHJOB.GBL?Page=HRS_APP_JBPST&Action=U&FOCUS=Employee&SiteId=50&JobOpeningId=108686&PostingSeq=1\n",
    "\n",
    "<img src=\"../../../Downloads/qrcode_hrms.byu.edu.png\" />"
   ]
  },
  {
   "cell_type": "code",
   "execution_count": null,
   "id": "063c2917",
   "metadata": {},
   "outputs": [],
   "source": []
  }
 ],
 "metadata": {
  "celltoolbar": "Slideshow",
  "kernelspec": {
   "display_name": "C++11",
   "language": "C++11",
   "name": "xcpp11"
  },
  "language_info": {
   "codemirror_mode": "text/x-c++src",
   "file_extension": ".cpp",
   "mimetype": "text/x-c++src",
   "name": "c++",
   "version": "11"
  }
 },
 "nbformat": 4,
 "nbformat_minor": 5
}
