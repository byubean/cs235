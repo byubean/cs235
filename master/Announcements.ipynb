{
 "cells": [
  {
   "cell_type": "markdown",
   "id": "c5ac9875",
   "metadata": {
    "slideshow": {
     "slide_type": "skip"
    }
   },
   "source": [
    "# Announcements"
   ]
  },
  {
   "cell_type": "markdown",
   "id": "8e749879",
   "metadata": {
    "slideshow": {
     "slide_type": "slide"
    }
   },
   "source": [
    "- 🙏🏻\n",
    "- PLEASE continue to wear masks (correctly) indoors 😷\n",
    "\n",
    "- PLEASE get vaccinated \n",
    "\n",
    "- TA Help Queue Etiquette\n",
    "  - When you leave the queue, take yourself off the queue!\n",
    "  - 10 minutes per student limit, especially when the queue is long\n",
    "  - Ask questions on discord\n",
    "  - Get started early! Don't wait until the day before to do the lab...\n",
    "  - Watch the chat in case the TA that will help you is remote\n",
    "  - Try google search! Search the discord chat! \n",
    "\n",
    "- Linux tip-of-the-day\n",
    "\n",
    "- Bring paper and pencil to class!\n",
    "\n",
    "- Review lab format (file1.txt, main.cpp, etc.)\n",
    "\n",
    "- Midterm assigned today - check the deadline in Canvas.\n",
    "\n",
    "- Reading Quizes"
   ]
  },
  {
   "cell_type": "code",
   "execution_count": null,
   "id": "2d5da474",
   "metadata": {},
   "outputs": [],
   "source": []
  }
 ],
 "metadata": {
  "celltoolbar": "Slideshow",
  "kernelspec": {
   "display_name": "C++11",
   "language": "C++11",
   "name": "xcpp11"
  },
  "language_info": {
   "codemirror_mode": "text/x-c++src",
   "file_extension": ".cpp",
   "mimetype": "text/x-c++src",
   "name": "c++",
   "version": "11"
  }
 },
 "nbformat": 4,
 "nbformat_minor": 5
}
