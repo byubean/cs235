{
 "cells": [
  {
   "cell_type": "markdown",
   "id": "04a5ba1e",
   "metadata": {},
   "source": [
    "# Announcements"
   ]
  },
  {
   "cell_type": "markdown",
   "id": "0d96d033",
   "metadata": {},
   "source": [
    "- 🙏🏻\n",
    "- PLEASE continue to wear masks (correctly) indoors\n",
    "- PLEASE get vaccinated \n",
    "- Linux tip-of-the-day\n",
    "\n",
    "- Lab 1 due today!\n",
    "  - 15 minutes\n",
    "- Stacks, queues, priority queues\n",
    "  - 10 minutes each\n",
    "- Using stacks\n",
    "  - remainder\n",
    "\n",
    "- Lab 2 assigned today, due next Thursday\n",
    "- Reading Quiz"
   ]
  },
  {
   "cell_type": "markdown",
   "id": "bdddc3ab",
   "metadata": {},
   "source": [
    "Next time: demo STDIN to a C++ app using unix pipes"
   ]
  }
 ],
 "metadata": {
  "kernelspec": {
   "display_name": "C++11",
   "language": "C++11",
   "name": "xcpp11"
  },
  "language_info": {
   "codemirror_mode": "text/x-c++src",
   "file_extension": ".cpp",
   "mimetype": "text/x-c++src",
   "name": "c++",
   "version": "11"
  }
 },
 "nbformat": 4,
 "nbformat_minor": 5
}
