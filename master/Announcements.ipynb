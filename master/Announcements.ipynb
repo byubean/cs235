{
 "cells": [
  {
   "cell_type": "markdown",
   "id": "c5ac9875",
   "metadata": {
    "slideshow": {
     "slide_type": "skip"
    }
   },
   "source": [
    "# Announcements"
   ]
  },
  {
   "cell_type": "markdown",
   "id": "8e749879",
   "metadata": {
    "slideshow": {
     "slide_type": "slide"
    }
   },
   "source": [
    "- 🙏🏻\n",
    "\n",
    "- PLEASE get vaccinated \n",
    "\n",
    "- Lab 7 due Thursday\n",
    "\n",
    "- Linux tip-of-the-day\n",
    "- Bring paper and pencil to class!\n",
    "- Reading Quizes"
   ]
  },
  {
   "cell_type": "markdown",
   "id": "23328cef",
   "metadata": {},
   "source": [
    "- Friend class vs nested classes: why?\n",
    "  - vs setters and getters\n",
    "  - A: All about access control\n",
    "  - BST guidance: don't worry about using the NodeInterface methods.\n",
    "    - Just access the `left` and `right` children directly via nested class or friend class"
   ]
  }
 ],
 "metadata": {
  "celltoolbar": "Slideshow",
  "kernelspec": {
   "display_name": "C++11",
   "language": "C++11",
   "name": "xcpp11"
  },
  "language_info": {
   "codemirror_mode": "text/x-c++src",
   "file_extension": ".cpp",
   "mimetype": "text/x-c++src",
   "name": "c++",
   "version": "11"
  }
 },
 "nbformat": 4,
 "nbformat_minor": 5
}
