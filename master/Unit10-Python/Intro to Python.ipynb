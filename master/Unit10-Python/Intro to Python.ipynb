{
 "cells": [
  {
   "cell_type": "markdown",
   "id": "b36b2e88",
   "metadata": {},
   "source": [
    "# Python 🐍"
   ]
  },
  {
   "cell_type": "markdown",
   "id": "56263d38",
   "metadata": {},
   "source": [
    "- Getting started\n",
    "  - Version of python (use 3.9)\n",
    "  - Environment manager\n",
    "    - pip env\n",
    "    - conda\n",
    "- IDE/Editor\n",
    "  - PyCharm by Jetbrains\n",
    "  - VS Code with Python extension\n",
    "  - Jupyter Notebook\n",
    "  - Repl.it\n",
    "- Recommend\n",
    "  - Install PyCharm"
   ]
  },
  {
   "cell_type": "markdown",
   "id": "9f8e693c",
   "metadata": {},
   "source": [
    "## Day 1\n",
    "\n",
    "- Getting started\n",
    "- Hello world\n",
    "- Interpreted language vs compiled language\n",
    "  - How to run a python script\n",
    "- Syntax\n",
    "  - variables (no types!)\n",
    "  - functions\n",
    "  - for/while loops\n",
    "  - if-elif-else\n",
    "  - iteration\n",
    "    - strings, range\n",
    "- Lists, dicts, tuples\n",
    "- Classes\n",
    "\n",
    "## Day 2\n",
    "- File IO\n",
    "- Unpacking\n",
    "- Generators\n",
    "- Comprehensions\n",
    "- Advanced iteration\n",
    "  - zip, enumerate\n",
    "- Decorators"
   ]
  },
  {
   "cell_type": "code",
   "execution_count": null,
   "id": "f151b5c6",
   "metadata": {},
   "outputs": [],
   "source": []
  }
 ],
 "metadata": {
  "kernelspec": {
   "display_name": "Python 3 (ipykernel)",
   "language": "python",
   "name": "python3"
  },
  "language_info": {
   "codemirror_mode": {
    "name": "ipython",
    "version": 3
   },
   "file_extension": ".py",
   "mimetype": "text/x-python",
   "name": "python",
   "nbconvert_exporter": "python",
   "pygments_lexer": "ipython3",
   "version": "3.9.7"
  }
 },
 "nbformat": 4,
 "nbformat_minor": 5
}
