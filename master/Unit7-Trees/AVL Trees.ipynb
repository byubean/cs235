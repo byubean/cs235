{
 "cells": [
  {
   "cell_type": "markdown",
   "id": "a6f4f386",
   "metadata": {
    "slideshow": {
     "slide_type": "slide"
    }
   },
   "source": [
    "# AVL Trees\n",
    "\n",
    "_Named after the inventors **A**delson-**V**elsky and **L**andis_"
   ]
  },
  {
   "cell_type": "markdown",
   "id": "05a255dd",
   "metadata": {
    "slideshow": {
     "slide_type": "skip"
    }
   },
   "source": [
    "- Example of imbalance\n",
    "  - 1..9\n",
    "  - 1, 9, 2, 8, 3, 7, 4, 6, 5\n",
    "- In order to maintain $O(\\log n)$, we need to ensure that the difference in height between two children is less than 2\n",
    "  - Examples of balance and imbalance"
   ]
  },
  {
   "cell_type": "markdown",
   "id": "a80a08da",
   "metadata": {
    "slideshow": {
     "slide_type": "slide"
    }
   },
   "source": [
    "## BST Performance Review\n",
    "\n",
    "- The $O(\\log n)$ performance of a BST depends on the balance of the tree\n",
    "- When the difference in the number of children on either side of a node gets large, the performance degrades."
   ]
  },
  {
   "cell_type": "code",
   "execution_count": 8,
   "id": "83bdfac8",
   "metadata": {
    "slideshow": {
     "slide_type": "skip"
    }
   },
   "outputs": [
    {
     "name": "stdout",
     "output_type": "stream",
     "text": [
      "Overwriting linear.txt\n"
     ]
    }
   ],
   "source": [
    "%%file linear.txt\n",
    "1 < 2\n",
    "2 < 3\n",
    "3 < 4\n",
    "4 < 5\n",
    "5 < 6\n",
    "6 < 7"
   ]
  },
  {
   "cell_type": "code",
   "execution_count": 9,
   "id": "8811a3ed",
   "metadata": {
    "slideshow": {
     "slide_type": "skip"
    }
   },
   "outputs": [],
   "source": [
    "!python /data/projects/btrees/btrees.py linear.txt"
   ]
  },
  {
   "cell_type": "markdown",
   "id": "31e5d91e",
   "metadata": {
    "slideshow": {
     "slide_type": "slide"
    }
   },
   "source": [
    "## Examples of imbalance"
   ]
  },
  {
   "cell_type": "markdown",
   "id": "3a355f0b",
   "metadata": {
    "slideshow": {
     "slide_type": "fragment"
    }
   },
   "source": [
    "<img src=\"linear.png?2\" />"
   ]
  },
  {
   "cell_type": "code",
   "execution_count": 10,
   "id": "b1fe2403",
   "metadata": {},
   "outputs": [
    {
     "name": "stdout",
     "output_type": "stream",
     "text": [
      "Writing spiral.txt\n"
     ]
    }
   ],
   "source": [
    "%%file spiral.txt\n",
    "1 < 7\n",
    "7 > 2\n",
    "2 < 6\n",
    "6 > 3\n",
    "3 < 5\n",
    "5 > 4"
   ]
  },
  {
   "cell_type": "code",
   "execution_count": 11,
   "id": "d4e0273a",
   "metadata": {},
   "outputs": [],
   "source": [
    "!python /data/projects/btrees/btrees.py spiral.txt"
   ]
  },
  {
   "cell_type": "markdown",
   "id": "c5849f5e",
   "metadata": {
    "slideshow": {
     "slide_type": "fragment"
    }
   },
   "source": [
    "<img src=\"spiral.png?2\" />"
   ]
  },
  {
   "cell_type": "markdown",
   "id": "9ede0ac6",
   "metadata": {},
   "source": [
    "## Defining Balance\n",
    "\n",
    "We'll define \"balance\" to mean that the difference in height between the children of a node is always less than 2.\n",
    "\n",
    "We can score the balance of a node with $height(right) - height(left)$"
   ]
  },
  {
   "cell_type": "markdown",
   "id": "105f11fc",
   "metadata": {
    "slideshow": {
     "slide_type": "fragment"
    }
   },
   "source": [
    "<img src=\"spiral.png?2\" />"
   ]
  },
  {
   "cell_type": "markdown",
   "id": "933079e1",
   "metadata": {},
   "source": [
    "What is the balance of node 3?\n",
    "\n",
    "$height(5) - height(nullptr) = 1 - (-1) = 2$\n",
    "\n",
    "What is the balance of node 7?\n",
    "\n",
    "$height(nullptr) - height(2) = (-1) - 4 = -5$"
   ]
  },
  {
   "cell_type": "code",
   "execution_count": 14,
   "id": "3c928cf3",
   "metadata": {},
   "outputs": [
    {
     "name": "stdout",
     "output_type": "stream",
     "text": [
      "Overwriting imbalanced.txt\n"
     ]
    }
   ],
   "source": [
    "%%file imbalanced.txt\n",
    "H > E\n",
    "H < T\n",
    "T < W\n",
    "T > S\n",
    "W < X\n",
    "X < Y\n",
    "Y < Z\n",
    "W > M\n",
    "M > L\n",
    "M < P\n",
    "P < Q\n",
    "\n",
    "E > C\n",
    "C > B\n",
    "C < D\n",
    "B > A\n"
   ]
  },
  {
   "cell_type": "code",
   "execution_count": 15,
   "id": "927c31fa",
   "metadata": {},
   "outputs": [
    {
     "name": "stdout",
     "output_type": "stream",
     "text": [
      "Invalid line: \n",
      "\n",
      "Invalid line: \n",
      "\n"
     ]
    }
   ],
   "source": [
    "!python /data/projects/btrees/btrees.py imbalanced.txt"
   ]
  },
  {
   "cell_type": "markdown",
   "id": "5144dcde",
   "metadata": {
    "slideshow": {
     "slide_type": "slide"
    }
   },
   "source": [
    "<img src=\"imbalanced.png?1\" />"
   ]
  },
  {
   "cell_type": "markdown",
   "id": "7f240ca7",
   "metadata": {},
   "source": [
    "Work with a partner:\n",
    "\n",
    "\n",
    "What is the balance of **C**, **E**, **W**, and **T**?"
   ]
  },
  {
   "cell_type": "markdown",
   "id": "952ef598",
   "metadata": {
    "slideshow": {
     "slide_type": "fragment"
    }
   },
   "source": [
    "- What is the balance of C?\n",
    "  - $height(D) - height(B) = 0 - 1 = -1$\n",
    "  \n",
    "  \n",
    "- What is the balance of E?\n",
    "  - $height(nullptr) - height(C) = (-1) - 2 = -3$\n",
    "  \n",
    "  \n",
    "- What is the balance of W?\n",
    "  - $height(X) - height(M) = 2 - 2 = 0$\n",
    "  \n",
    "  \n",
    "- What is the blance of T?\n",
    "  - $height(W) - height(S) = 3 - 0 = 3$"
   ]
  },
  {
   "cell_type": "markdown",
   "id": "fbe1c84d",
   "metadata": {
    "slideshow": {
     "slide_type": "slide"
    }
   },
   "source": [
    "## Rebalance"
   ]
  },
  {
   "cell_type": "markdown",
   "id": "879c6193",
   "metadata": {},
   "source": [
    "### Left-Left and Right-Right\n",
    "\n",
    "Remember, the balance of a node is $height(right) - height(left)$.\n",
    "\n",
    "\n",
    "When you have a node with negative balance <= -2 (i.e. a heavy left branch) whose left node also has negative balance, we have a **left-left** imbalance.\n",
    "\n",
    "When you have a node with positive balance >= 2 (i.e. a heavy right branch) whose right node also has positive balance, we have a **right-right** imbalance.\n",
    "\n",
    "These two cases are symmetrically and are handled with the same strategy."
   ]
  },
  {
   "cell_type": "markdown",
   "id": "36b9e672",
   "metadata": {
    "slideshow": {
     "slide_type": "slide"
    }
   },
   "source": [
    "Let's add B, A, and D to an empty AVL tree:"
   ]
  },
  {
   "cell_type": "code",
   "execution_count": 75,
   "id": "403c145c",
   "metadata": {
    "slideshow": {
     "slide_type": "skip"
    }
   },
   "outputs": [
    {
     "name": "stdout",
     "output_type": "stream",
     "text": [
      "Writing abd.txt\n"
     ]
    }
   ],
   "source": [
    "%%file abd.txt\n",
    "B > A\n",
    "B < D\n",
    "B [label=<B <br/><font point-size=\"10\">(h:1, b:0)</font>>]\n",
    "A [label=<A <br/><font point-size=\"10\">(h:0, b:0)</font>>]\n",
    "D [label=<D <br/><font point-size=\"10\">(h:0, b:0)</font>>]"
   ]
  },
  {
   "cell_type": "code",
   "execution_count": 76,
   "id": "c7b611ad",
   "metadata": {
    "slideshow": {
     "slide_type": "skip"
    }
   },
   "outputs": [],
   "source": [
    "!python /data/projects/btrees/btrees.py --w-scale 0.7 abd.txt"
   ]
  },
  {
   "cell_type": "markdown",
   "id": "eb4b5ee6",
   "metadata": {},
   "source": [
    "<img src=\"abd.png?1\" />"
   ]
  },
  {
   "cell_type": "markdown",
   "id": "e00cb5c9",
   "metadata": {
    "slideshow": {
     "slide_type": "slide"
    }
   },
   "source": [
    "Now let's insert C and E:"
   ]
  },
  {
   "cell_type": "code",
   "execution_count": 83,
   "id": "676eb193",
   "metadata": {
    "slideshow": {
     "slide_type": "skip"
    }
   },
   "outputs": [
    {
     "name": "stdout",
     "output_type": "stream",
     "text": [
      "Overwriting abdce.txt\n"
     ]
    }
   ],
   "source": [
    "%%file abdce.txt\n",
    "B > A\n",
    "B < D\n",
    "B [label=<B <br/><font point-size=\"10\">(h:<font color=\"green\">2</font>, b:<font color=\"green\">1</font>)</font>>]\n",
    "A [label=<A <br/><font point-size=\"10\">(h:0, b:0)</font>>]\n",
    "D [label=<D <br/><font point-size=\"10\">(h:<font color=\"green\">1</font>, b:0)</font>>]\n",
    "\n",
    "D > C\n",
    "D < E\n",
    "C [label=<C <br/><font point-size=\"10\">(h:0, b:0)</font>>]\n",
    "E [label=<E <br/><font point-size=\"10\">(h:0, b:0)</font>>]\n"
   ]
  },
  {
   "cell_type": "code",
   "execution_count": 84,
   "id": "5b72384b",
   "metadata": {
    "slideshow": {
     "slide_type": "skip"
    }
   },
   "outputs": [],
   "source": [
    "!python /data/projects/btrees/btrees.py --w-scale 0.7 abdce.txt"
   ]
  },
  {
   "cell_type": "markdown",
   "id": "92a6eae1",
   "metadata": {},
   "source": [
    "<img src=\"abdce.png?2\"/>"
   ]
  },
  {
   "cell_type": "markdown",
   "id": "b2d3c0cf",
   "metadata": {
    "slideshow": {
     "slide_type": "slide"
    }
   },
   "source": [
    "And now for the punchline!\n",
    "\n",
    "Let's insert F into our tree:"
   ]
  },
  {
   "cell_type": "code",
   "execution_count": 85,
   "id": "ed80737f",
   "metadata": {
    "slideshow": {
     "slide_type": "skip"
    }
   },
   "outputs": [
    {
     "name": "stdout",
     "output_type": "stream",
     "text": [
      "Overwriting abdcef.txt\n"
     ]
    }
   ],
   "source": [
    "%%file abdcef.txt\n",
    "B > A\n",
    "B < D\n",
    "B [label=<B <br/><font point-size=\"10\">(h:<font color=\"green\">3</font>, b:<font color=\"red\">2</font>)</font>>]\n",
    "A [label=<A <br/><font point-size=\"10\">(h:0, b:0)</font>>]\n",
    "D [label=<D <br/><font point-size=\"10\">(h:<font color=\"green\">2</font>, b:<font color=\"green\">1</font>)</font>>]\n",
    "\n",
    "D > C\n",
    "D < E\n",
    "C [label=<C <br/><font point-size=\"10\">(h:0, b:0)</font>>]\n",
    "E [label=<E <br/><font point-size=\"10\">(h:<font color=\"green\">1</font>, b:<font color=\"green\">1</font>)</font>>]\n",
    "\n",
    "E < F\n",
    "F [label=<F <br/><font point-size=\"10\">(h:0, b:0)</font>>]\n"
   ]
  },
  {
   "cell_type": "code",
   "execution_count": 86,
   "id": "4778fd21",
   "metadata": {
    "slideshow": {
     "slide_type": "skip"
    }
   },
   "outputs": [],
   "source": [
    "!python /data/projects/btrees/btrees.py --w-scale 0.7 abdcef.txt"
   ]
  },
  {
   "cell_type": "markdown",
   "id": "816c87a8",
   "metadata": {},
   "source": [
    "<img src=\"abdcef.png?2\" />"
   ]
  },
  {
   "cell_type": "markdown",
   "id": "2436ecab",
   "metadata": {
    "slideshow": {
     "slide_type": "fragment"
    }
   },
   "source": [
    "Time for a rebalance!"
   ]
  },
  {
   "cell_type": "markdown",
   "id": "8218c567",
   "metadata": {
    "slideshow": {
     "slide_type": "slide"
    }
   },
   "source": [
    "- B has balance >= 2, meaning it is heavy on the right, so we check the right child\n",
    "- D has balance > 0, meaning it is also heavy on the right\n",
    "- So we have **right-right**"
   ]
  },
  {
   "cell_type": "markdown",
   "id": "6244fd89",
   "metadata": {
    "slideshow": {
     "slide_type": "slide"
    }
   },
   "source": [
    "To solve a **right-right** imbalance, we do the following:\n",
    "\n",
    "- B.right will point to D.left (i.e. C)\n",
    "- D.left will point to B\n",
    "- D becomes the new (local) root"
   ]
  },
  {
   "cell_type": "code",
   "execution_count": 93,
   "id": "909e9ab1",
   "metadata": {
    "slideshow": {
     "slide_type": "skip"
    }
   },
   "outputs": [
    {
     "name": "stdout",
     "output_type": "stream",
     "text": [
      "Overwriting abdcef_pre.txt\n"
     ]
    }
   ],
   "source": [
    "%%file abdcef_pre.txt\n",
    "B > A\n",
    "B < D\n",
    "B [label=<B <br/><font point-size=\"10\">(h:<font color=\"green\">3</font>, b:<font color=\"red\">2</font>)</font>>]\n",
    "A [label=<A <br/><font point-size=\"10\">(h:0, b:0)</font>>]\n",
    "D [color=\"blue\" label=<D <br/><font point-size=\"10\">(h:<font color=\"green\">2</font>, b:<font color=\"green\">1</font>)</font>>]\n",
    "\n",
    "D > C\n",
    "D < E\n",
    "C [label=<C <br/><font point-size=\"10\">(h:0, b:0)</font>>]\n",
    "E [label=<E <br/><font point-size=\"10\">(h:<font color=\"green\">1</font>, b:<font color=\"green\">1</font>)</font>>]\n",
    "\n",
    "E < F\n",
    "F [label=<F <br/><font point-size=\"10\">(h:0, b:0)</font>>]\n",
    "\n",
    "B -> C [color=\"blue\" style=\"dotted\"]\n",
    "D -> B [color=\"blue\" style=\"dotted\"]\n"
   ]
  },
  {
   "cell_type": "code",
   "execution_count": 94,
   "id": "e2fb562a",
   "metadata": {
    "slideshow": {
     "slide_type": "skip"
    }
   },
   "outputs": [],
   "source": [
    "!python /data/projects/btrees/btrees.py --w-scale 0.7 abdcef_pre.txt"
   ]
  },
  {
   "cell_type": "markdown",
   "id": "d2868958",
   "metadata": {
    "slideshow": {
     "slide_type": "fragment"
    }
   },
   "source": [
    "<img src=\"abdcef_pre.png?3\"/>"
   ]
  },
  {
   "cell_type": "code",
   "execution_count": 95,
   "id": "259b47d5",
   "metadata": {
    "slideshow": {
     "slide_type": "skip"
    }
   },
   "outputs": [
    {
     "name": "stdout",
     "output_type": "stream",
     "text": [
      "Writing abdcef_rebal.txt\n"
     ]
    }
   ],
   "source": [
    "%%file abdcef_rebal.txt\n",
    "D < E\n",
    "E < F\n",
    "D > B [color=\"green\"]\n",
    "B > A\n",
    "B < C [color=\"green\"]\n",
    "\n",
    "D [color=\"green\" label=<D <br/><font point-size=\"10\">(h:2, b:<font color=\"green\">0</font>)</font>>]\n",
    "\n",
    "B [label=<B <br/><font point-size=\"10\">(h:<font color=\"green\">1</font>, b:<font color=\"green\">0</font>)</font>>]\n",
    "A [label=<A <br/><font point-size=\"10\">(h:0, b:0)</font>>]\n",
    "\n",
    "C [label=<C <br/><font point-size=\"10\">(h:0, b:0)</font>>]\n",
    "E [label=<E <br/><font point-size=\"10\">(h:1, b:1)</font>>]\n",
    "\n",
    "F [label=<F <br/><font point-size=\"10\">(h:0, b:0)</font>>]\n"
   ]
  },
  {
   "cell_type": "code",
   "execution_count": 96,
   "id": "be1916b0",
   "metadata": {
    "slideshow": {
     "slide_type": "skip"
    }
   },
   "outputs": [],
   "source": [
    "!python /data/projects/btrees/btrees.py --w-scale 0.7 abdcef_rebal.txt"
   ]
  },
  {
   "cell_type": "markdown",
   "id": "d2029ee3",
   "metadata": {
    "slideshow": {
     "slide_type": "fragment"
    }
   },
   "source": [
    "<img src=\"abdcef_rebal.png\"/>"
   ]
  },
  {
   "cell_type": "code",
   "execution_count": null,
   "id": "273e9576",
   "metadata": {},
   "outputs": [],
   "source": []
  }
 ],
 "metadata": {
  "celltoolbar": "Slideshow",
  "kernelspec": {
   "display_name": "C++11",
   "language": "C++11",
   "name": "xcpp11"
  },
  "language_info": {
   "codemirror_mode": "text/x-c++src",
   "file_extension": ".cpp",
   "mimetype": "text/x-c++src",
   "name": "c++",
   "version": "11"
  }
 },
 "nbformat": 4,
 "nbformat_minor": 5
}
