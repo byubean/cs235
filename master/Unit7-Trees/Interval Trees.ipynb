{
 "cells": [
  {
   "cell_type": "markdown",
   "id": "28c6af24",
   "metadata": {},
   "source": [
    "# Interval Trees\n",
    "\n",
    "https://en.wikipedia.org/wiki/Interval_tree"
   ]
  },
  {
   "cell_type": "code",
   "execution_count": null,
   "id": "9cbf538f",
   "metadata": {},
   "outputs": [],
   "source": []
  }
 ],
 "metadata": {
  "kernelspec": {
   "display_name": "C++11",
   "language": "C++11",
   "name": "xcpp11"
  },
  "language_info": {
   "codemirror_mode": "text/x-c++src",
   "file_extension": ".cpp",
   "mimetype": "text/x-c++src",
   "name": "c++",
   "version": "11"
  }
 },
 "nbformat": 4,
 "nbformat_minor": 5
}
